{
 "cells": [
  {
   "cell_type": "markdown",
   "metadata": {},
   "source": [
    "# Modelo estatístico de previsão de chuva"
   ]
  },
  {
   "cell_type": "markdown",
   "metadata": {},
   "source": [
    "**Sala: 2A**\n",
    "\n",
    "**Grupo:**\n",
    "> Breno Marti\n",
    "\n",
    "> Diogo Cintra\n",
    "\n",
    "> João Pedro Chacon Ruiz\n",
    "\n",
    "> Luiz Felipe Valente"
   ]
  },
  {
   "cell_type": "markdown",
   "metadata": {},
   "source": [
    "___\n",
    "## • Imports"
   ]
  },
  {
   "cell_type": "markdown",
   "metadata": {},
   "source": [
    "Importando as devidas funções para que se possa fazer a análise e filtragem dos dados, bem como a implementação do modelo de regrassão multipla."
   ]
  },
  {
   "cell_type": "code",
   "execution_count": null,
   "metadata": {},
   "outputs": [],
   "source": [
    "#Importando as bibliotecas\n",
    "%matplotlib inline\n",
    "import pandas as pd\n",
    "import matplotlib.pyplot as plt\n",
    "import os\n",
    "from numpy import arange\n",
    "from numpy import percentile\n",
    "import numpy as np\n",
    "from pandas import DataFrame\n",
    "from scipy.stats import probplot\n",
    "import statsmodels.api as sm"
   ]
  },
  {
   "cell_type": "markdown",
   "metadata": {},
   "source": [
    "## • Início da análise exploratória"
   ]
  },
  {
   "cell_type": "markdown",
   "metadata": {},
   "source": [
    "Antes que se possa partir para a emplementação de qualquer modelo de previsão é necessário, primeiramente,  que se entenda como os dados se comportam e, caso preciso, manipulá-los, de forma a facilitar a construção do modelo, mas sem comprometer seus conteúdos."
   ]
  },
  {
   "cell_type": "code",
   "execution_count": null,
   "metadata": {
    "scrolled": true
   },
   "outputs": [],
   "source": [
    "dados1 = pd.read_excel('macapa.xlsx')\n",
    "dados1.head();"
   ]
  },
  {
   "cell_type": "code",
   "execution_count": null,
   "metadata": {},
   "outputs": [],
   "source": [
    "datas = dados1.data\n",
    "horas = dados1.hora"
   ]
  },
  {
   "cell_type": "code",
   "execution_count": null,
   "metadata": {},
   "outputs": [],
   "source": [
    "concat = []\n",
    "for e in range(len(datas)):\n",
    "    #concat.append(datas[e] + ',' + horas[e])\n",
    "    d = datas[e]\n",
    "    d = d.replace(hour=horas[e], minute=0, second=0)\n",
    "    concat.append(d)\n",
    "    \n",
    "#print(concat)\n",
    "dia_hora = pd.DataFrame(concat)"
   ]
  },
  {
   "cell_type": "markdown",
   "metadata": {},
   "source": [
    "Rodar apenas uma vez a o código abaixo"
   ]
  },
  {
   "cell_type": "code",
   "execution_count": null,
   "metadata": {},
   "outputs": [],
   "source": [
    "dados1.insert(0,'time', dia_hora, True);\n",
    "dados_2 = dados1.drop(['data', 'hora'], axis=1)\n",
    "dados2 = dados1.drop(['data', 'hora'], axis=1)\n",
    "dados_3 = dados_2.set_index(\"time\")\n",
    "dados_4 = dados_3.dropna();\n",
    "dados3 = dados2.dropna();"
   ]
  },
  {
   "cell_type": "code",
   "execution_count": null,
   "metadata": {},
   "outputs": [],
   "source": [
    "dados3.head()"
   ]
  },
  {
   "cell_type": "code",
   "execution_count": null,
   "metadata": {},
   "outputs": [],
   "source": [
    "dados_4.head()"
   ]
  },
  {
   "cell_type": "markdown",
   "metadata": {},
   "source": [
    "## Definindo as variáveis que vamos estudar "
   ]
  },
  {
   "cell_type": "markdown",
   "metadata": {},
   "source": [
    "A partir de estudos e leitura de papeis sobre o tema, as seguintes variáveis foram, repetidamente, dadas como as mais relevantes: temperatura, umidade, pressão atmosférica e velociadade do vento. Com base nessas pesquisas, estas mesmas foram tomadas como variáveis independentes do modelo de regressão linear múltipla."
   ]
  },
  {
   "cell_type": "code",
   "execution_count": null,
   "metadata": {},
   "outputs": [],
   "source": [
    "dados_4.precipitacao = dados_4.precipitacao.replace('////', 0.0)"
   ]
  },
  {
   "cell_type": "code",
   "execution_count": null,
   "metadata": {},
   "outputs": [],
   "source": [
    "dados_4 = dados_4[['temp_inst','pressao','umid_inst','precipitacao','vento_vel']].astype('float')"
   ]
  },
  {
   "cell_type": "code",
   "execution_count": null,
   "metadata": {
    "scrolled": true
   },
   "outputs": [],
   "source": [
    "#dados_5 = dados_4.astype(float)\n",
    "dados_log = np.log(dados_4[['temp_inst','pressao','umid_inst','precipitacao','vento_vel']])\n",
    "\n",
    "dados4 = dados3.transpose()\n",
    "dados5 = dados4.loc[['time','temp_inst', 'pressao','umid_inst', 'precipitacao','vento_vel']]\n",
    "dados6 = dados5.transpose()\n",
    "dados6 = dados6.sort_values(by='time')\n",
    "dados6 = dados6.reset_index()\n",
    "del dados6['index']\n",
    "d = dados6.dropna()"
   ]
  },
  {
   "cell_type": "code",
   "execution_count": null,
   "metadata": {},
   "outputs": [],
   "source": [
    "data = []\n",
    "hora = []\n",
    "\n",
    "for coisas in d.time.astype(str):\n",
    "    teste = coisas.split()\n",
    "    data.append(teste[0])\n",
    "    horas = teste[1]\n",
    "    hora.append(horas[0:2])"
   ]
  },
  {
   "cell_type": "code",
   "execution_count": null,
   "metadata": {},
   "outputs": [],
   "source": [
    "final = []\n",
    "\n",
    "anterior = data[0]\n",
    "a=0\n",
    "day = 0\n",
    "for dia in data:\n",
    "    if a < 3167:\n",
    "        if data[a+1] == anterior:\n",
    "            final.append(day)\n",
    "        else:\n",
    "            final.append(day)\n",
    "            day += 1\n",
    "            anterior = data[a+1]\n",
    "    a += 1\n",
    "final.append(250)"
   ]
  },
  {
   "cell_type": "code",
   "execution_count": null,
   "metadata": {},
   "outputs": [],
   "source": [
    "hora = pd.Series(hora).astype(int) \n",
    "final = pd.Series(final).astype(int)"
   ]
  },
  {
   "cell_type": "code",
   "execution_count": null,
   "metadata": {},
   "outputs": [],
   "source": [
    "d['horas'] = hora\n",
    "d['dias'] = final"
   ]
  },
  {
   "cell_type": "markdown",
   "metadata": {},
   "source": [
    "## Criando as colunas de seno e de cosseno tanto das horas quanto dos dias para dar ao modelo a ideia de que são variáveis cíclicas"
   ]
  },
  {
   "cell_type": "markdown",
   "metadata": {},
   "source": [
    "Estas variáveis foram criadas para representar a sazonalidade nos períodos de chuva, a fim de aumentar a precisão do modelo, que agora será capaz de distinguir as diferentes estações do ano."
   ]
  },
  {
   "cell_type": "code",
   "execution_count": null,
   "metadata": {},
   "outputs": [],
   "source": [
    "d['hora_seno'] = np.sin(2*np.pi*hora/24)\n",
    "d['hora_cosseno'] = np.cos(2*np.pi*hora/24)"
   ]
  },
  {
   "cell_type": "code",
   "execution_count": null,
   "metadata": {
    "scrolled": true
   },
   "outputs": [],
   "source": [
    "d['dia_seno'] = np.sin(2*np.pi*final/365.25)\n",
    "d['dia_cosseno'] = np.cos(2*np.pi*final/365.25)\n",
    "d.head()"
   ]
  },
  {
   "cell_type": "markdown",
   "metadata": {},
   "source": [
    "___\n",
    "## Analisando os dias que tiveram chuva"
   ]
  },
  {
   "cell_type": "markdown",
   "metadata": {},
   "source": [
    "### Análise de correlação entre variáveis independentes"
   ]
  },
  {
   "cell_type": "markdown",
   "metadata": {},
   "source": [
    "Uma grande correlação entre variáveis independentes comprometem a análise por serem redundantes entre sí, impedindo que o algoritmo atribua valores relevantes às mesmas variáveis"
   ]
  },
  {
   "cell_type": "markdown",
   "metadata": {},
   "source": [
    "#### Scatter Plots com Log"
   ]
  },
  {
   "cell_type": "code",
   "execution_count": null,
   "metadata": {},
   "outputs": [],
   "source": [
    "dados_log_com_chuva = dados_log[dados_log['precipitacao']>0]\n",
    "dados_log_com_chuva.head();"
   ]
  },
  {
   "cell_type": "code",
   "execution_count": null,
   "metadata": {},
   "outputs": [],
   "source": [
    "temperatura1_log = dados_log_com_chuva['temp_inst']\n",
    "pressao1_log = dados_log_com_chuva['pressao']\n",
    "umidade1_log = dados_log_com_chuva['umid_inst']\n",
    "precipitacao1_log = dados_log_com_chuva['precipitacao']"
   ]
  },
  {
   "cell_type": "code",
   "execution_count": null,
   "metadata": {},
   "outputs": [],
   "source": [
    "fig, axs = plt.subplots(1, 3)\n",
    "fig.set_size_inches(20, 5) \n",
    "axs[0].scatter(temperatura1_log,pressao1_log, alpha=0.4);\n",
    "axs[0].set_title('Temperatura x Pressao');\n",
    "axs[1].scatter(temperatura1_log,umidade1_log, alpha=0.4);\n",
    "axs[1].set_title('Temperatura x Umidade');\n",
    "axs[2].scatter(pressao1_log,umidade1_log, alpha=0.4);\n",
    "axs[2].set_title('Pressao x Umidade');"
   ]
  },
  {
   "cell_type": "markdown",
   "metadata": {},
   "source": [
    "### Análise sem log"
   ]
  },
  {
   "cell_type": "markdown",
   "metadata": {},
   "source": [
    "Novamente, se trata de uma análise a fim de selecionar variáveis independentes que de fato contribuam com o modelo"
   ]
  },
  {
   "cell_type": "markdown",
   "metadata": {},
   "source": [
    "#### Scatter Plots sem Log"
   ]
  },
  {
   "cell_type": "code",
   "execution_count": null,
   "metadata": {},
   "outputs": [],
   "source": [
    "dados7 = dados_4.reset_index()\n",
    "dados_com_chuva = dados7[dados7['precipitacao'].astype(float)>0]\n",
    "dados_com_chuva.head();"
   ]
  },
  {
   "cell_type": "code",
   "execution_count": null,
   "metadata": {},
   "outputs": [],
   "source": [
    "tempo1 = dados_com_chuva['time']\n",
    "temperatura1 = dados_com_chuva['temp_inst']\n",
    "pressao1 = dados_com_chuva['pressao']\n",
    "umidade1 = dados_com_chuva['umid_inst']\n",
    "precipitacao1 = dados_com_chuva['precipitacao']\n",
    "\n",
    "temperatura1 = temperatura1.astype(float)\n",
    "umidade1 = umidade1.astype(float)\n",
    "pressao1 = pressao1.astype(float)\n",
    "precipitacao1 = precipitacao1.astype(float)\n",
    "\n",
    "temperatura1_log = temperatura1_log.astype(float)\n",
    "umidade1_log = umidade1_log.astype(float)\n",
    "pressao1_log = pressao1_log.astype(float)\n",
    "precipitacao1_log = precipitacao1_log.astype(float)"
   ]
  },
  {
   "cell_type": "code",
   "execution_count": null,
   "metadata": {
    "scrolled": false
   },
   "outputs": [],
   "source": [
    "fig, axs = plt.subplots(1, 3)\n",
    "fig.set_size_inches(25, 7) \n",
    "axs[0].scatter(temperatura1,pressao1, alpha=0.3);\n",
    "axs[0].set_title('Temperatura x Pressao');\n",
    "axs[1].scatter(temperatura1,umidade1, alpha=0.3);\n",
    "axs[1].set_title('Temperatura x Umidade');\n",
    "axs[2].scatter(pressao1,umidade1, alpha=0.3);\n",
    "axs[2].set_title('Pressao x Umidade');"
   ]
  },
  {
   "cell_type": "markdown",
   "metadata": {},
   "source": [
    "### Correlação entre as variáveis independentes"
   ]
  },
  {
   "cell_type": "markdown",
   "metadata": {},
   "source": [
    "Cálculo do valor númerico das correlações entre as variáveis independentes"
   ]
  },
  {
   "cell_type": "markdown",
   "metadata": {},
   "source": [
    "> Sem uso de log"
   ]
  },
  {
   "cell_type": "code",
   "execution_count": null,
   "metadata": {},
   "outputs": [],
   "source": [
    "print('Correlação entre temperatura e pressão:', temperatura1.corr(pressao1))\n",
    "print('Correlação entre temperatura e umidade:', temperatura1.corr(umidade1))\n",
    "print('Correlação entre pressão e umidade:',pressao1.corr(umidade1))"
   ]
  },
  {
   "cell_type": "markdown",
   "metadata": {},
   "source": [
    "> Com uso de log"
   ]
  },
  {
   "cell_type": "code",
   "execution_count": null,
   "metadata": {},
   "outputs": [],
   "source": [
    "print('Correlação entre temperatura e pressão:', np.log10(temperatura1).corr(pressao1))\n",
    "print('Correlação entre temperatura e umidade:', np.log10(temperatura1).corr(umidade1))\n",
    "print('Correlação entre pressão e umidade:',np.log10(pressao1).corr(umidade1))"
   ]
  },
  {
   "cell_type": "markdown",
   "metadata": {},
   "source": [
    "O uso de logaritmos nos valores das variáveis ajuda, em certos casos, a mostrar correlações que antes não eram percebidas dado a sua natureza"
   ]
  },
  {
   "cell_type": "markdown",
   "metadata": {},
   "source": [
    "### Correlação entre as variáveis independentes e a variável dependente"
   ]
  },
  {
   "cell_type": "markdown",
   "metadata": {},
   "source": [
    "Este cálculo é crucial para que se perceba quais variáveis podem, de fato contribuir para o modelo. Essa possível contribuição depende da correlação entre as variáveis independentes escolhidas e a variável dependente a ser calculada"
   ]
  },
  {
   "cell_type": "markdown",
   "metadata": {},
   "source": [
    "**Scatter plot das variáveis independentes x dependente com logaritmo, a fim de visualizar possíveis correlações**"
   ]
  },
  {
   "cell_type": "code",
   "execution_count": null,
   "metadata": {},
   "outputs": [],
   "source": [
    "fig, axs = plt.subplots(1, 3)\n",
    "fig.set_size_inches(25, 7) \n",
    "axs[0].scatter(temperatura1,np.log10(precipitacao1), alpha=0.3);\n",
    "axs[0].set_title('Temperatura x Precipitação');\n",
    "axs[1].scatter(umidade1,np.log10(precipitacao1), alpha=0.3);\n",
    "axs[1].set_title('Umidade x Precipitação');\n",
    "axs[2].scatter(pressao1,np.log10(precipitacao1), alpha=0.3);\n",
    "axs[2].set_title('Pressão x Precipitação');"
   ]
  },
  {
   "cell_type": "markdown",
   "metadata": {},
   "source": [
    "> Cálculo sem usar o logaritmo"
   ]
  },
  {
   "cell_type": "code",
   "execution_count": null,
   "metadata": {},
   "outputs": [],
   "source": [
    "print('Correlação entre precipitação e pressão:',(precipitacao1).corr(pressao1))\n",
    "print('Correlação entre precipitação e umidade:',(precipitacao1).corr(umidade1))\n",
    "print('Correlação entre precipitação e umidade:',(precipitacao1).corr(temperatura1))"
   ]
  },
  {
   "cell_type": "markdown",
   "metadata": {},
   "source": [
    "> Cálculo usando o logaritmo"
   ]
  },
  {
   "cell_type": "code",
   "execution_count": null,
   "metadata": {
    "scrolled": true
   },
   "outputs": [],
   "source": [
    "print('Correlação entre precipitação e pressão:', np.log10(precipitacao1).corr(pressao1))\n",
    "print('Correlação entre precipitação e umidade:', np.log10(precipitacao1).corr(umidade1))\n",
    "print('Correlação entre precipitação e umidade:',np.log10(precipitacao1).corr(temperatura1))"
   ]
  },
  {
   "cell_type": "markdown",
   "metadata": {},
   "source": [
    "## Plot de tabelas OLS"
   ]
  },
  {
   "cell_type": "markdown",
   "metadata": {},
   "source": [
    "**As tabelas OLS são usadas para que se possa ter uma noção de como os dados se comportam e como se dão cetos parâmetros relevântes para a análise**"
   ]
  },
  {
   "cell_type": "markdown",
   "metadata": {},
   "source": [
    "**Tabela da precipitação em função da umidade com log:**"
   ]
  },
  {
   "cell_type": "code",
   "execution_count": null,
   "metadata": {
    "scrolled": false
   },
   "outputs": [],
   "source": [
    "model = sm.OLS(np.log10(precipitacao1),sm.add_constant(umidade1))\n",
    "results = model.fit()\n",
    "results.summary()"
   ]
  },
  {
   "cell_type": "markdown",
   "metadata": {},
   "source": [
    "**Tabela da precipitação em função da umidade sem log:**"
   ]
  },
  {
   "cell_type": "code",
   "execution_count": null,
   "metadata": {},
   "outputs": [],
   "source": [
    "model = sm.OLS(precipitacao1,sm.add_constant(umidade1))\n",
    "results = model.fit()\n",
    "results.summary()"
   ]
  },
  {
   "cell_type": "markdown",
   "metadata": {},
   "source": [
    "**Tabela da precipitação em função da temperatura sem log:**"
   ]
  },
  {
   "cell_type": "code",
   "execution_count": null,
   "metadata": {},
   "outputs": [],
   "source": [
    "model = sm.OLS(precipitacao1,sm.add_constant(temperatura1))\n",
    "results = model.fit()\n",
    "results.summary()"
   ]
  },
  {
   "cell_type": "markdown",
   "metadata": {},
   "source": [
    "___\n",
    "## Analisando os dias que não tiveram chuvas"
   ]
  },
  {
   "cell_type": "markdown",
   "metadata": {},
   "source": [
    "### Análise com log"
   ]
  },
  {
   "cell_type": "code",
   "execution_count": null,
   "metadata": {},
   "outputs": [],
   "source": [
    "dados_log_sem_chuva = dados_log[dados_log['precipitacao']==0]\n",
    "dados_log_sem_chuva.head();"
   ]
  },
  {
   "cell_type": "code",
   "execution_count": null,
   "metadata": {},
   "outputs": [],
   "source": [
    "temperatura2_log = dados_log_com_chuva['temp_inst']\n",
    "pressao2_log = dados_log_com_chuva['pressao']\n",
    "umidade2_log = dados_log_com_chuva['umid_inst']\n",
    "precipitacao2_log = dados_log_com_chuva['precipitacao']"
   ]
  },
  {
   "cell_type": "code",
   "execution_count": null,
   "metadata": {
    "scrolled": true
   },
   "outputs": [],
   "source": [
    "fig, axs = plt.subplots(1, 3)\n",
    "fig.set_size_inches(20, 5) \n",
    "axs[0].scatter(temperatura2_log,pressao2_log, alpha=0.3);\n",
    "axs[0].set_title('Temperatura x Pressao');\n",
    "axs[1].scatter(temperatura2_log,umidade2_log, alpha=0.3);\n",
    "axs[1].set_title('Temperatura x Umidade');\n",
    "axs[2].scatter(pressao2_log,umidade2_log, alpha=0.3);\n",
    "axs[2].set_title('Pressao x Umidade');"
   ]
  },
  {
   "cell_type": "markdown",
   "metadata": {},
   "source": [
    "### Análise sem log"
   ]
  },
  {
   "cell_type": "code",
   "execution_count": null,
   "metadata": {},
   "outputs": [],
   "source": [
    "dados_sem_chuva = dados7[dados7['precipitacao']==0]\n",
    "dados_sem_chuva.head();"
   ]
  },
  {
   "cell_type": "code",
   "execution_count": null,
   "metadata": {},
   "outputs": [],
   "source": [
    "tempo2 = dados_sem_chuva['time']\n",
    "temperatura2 = dados_sem_chuva['temp_inst']\n",
    "pressao2 = dados_sem_chuva['pressao']\n",
    "umidade2 = dados_sem_chuva['umid_inst']\n",
    "precipitacao2 = dados_sem_chuva['precipitacao']"
   ]
  },
  {
   "cell_type": "code",
   "execution_count": null,
   "metadata": {
    "scrolled": false
   },
   "outputs": [],
   "source": [
    "fig, axs = plt.subplots(1, 3)\n",
    "fig.set_size_inches(20, 5) \n",
    "axs[0].scatter(temperatura2,pressao2, alpha=0.2);\n",
    "axs[0].set_title('Temperatura x Pressão');\n",
    "axs[1].scatter(temperatura2,umidade2, alpha=0.2);\n",
    "axs[1].set_title('Temperatura x Umidade');\n",
    "axs[2].scatter(pressao2,umidade2, alpha=0.2);\n",
    "axs[2].set_title('Pressão x Umidade');"
   ]
  },
  {
   "cell_type": "markdown",
   "metadata": {},
   "source": [
    "**Valores de correlação entre as variáveis independentes**"
   ]
  },
  {
   "cell_type": "code",
   "execution_count": null,
   "metadata": {},
   "outputs": [],
   "source": [
    "temperatura2 = temperatura2.astype(float)\n",
    "umidade2 = umidade2.astype(float)\n",
    "pressao2 = pressao2.astype(float)\n",
    "print('Correlação entre temperatura e pressão:', temperatura2.corr(pressao2))\n",
    "print('Correlação entre temperatura e umidade:', temperatura2.corr(umidade2))\n",
    "print('Correlação entre pressão e umidade:',pressao2.corr(umidade2))"
   ]
  },
  {
   "cell_type": "markdown",
   "metadata": {},
   "source": [
    "____\n",
    "\n",
    "## Organização de DataFrames"
   ]
  },
  {
   "cell_type": "markdown",
   "metadata": {},
   "source": [
    "> Estes são feitos a fim de possibilitar a análise do evento a partir dos dados advindos das horas que o precedem e do instante em sí"
   ]
  },
  {
   "cell_type": "code",
   "execution_count": null,
   "metadata": {},
   "outputs": [],
   "source": [
    "dados6 = d.set_index('time')\n",
    "dados7 = dados6[['temp_inst','pressao','umid_inst','precipitacao','vento_vel']]"
   ]
  },
  {
   "cell_type": "code",
   "execution_count": null,
   "metadata": {},
   "outputs": [],
   "source": [
    "dados7.precipitacao = dados7.precipitacao.replace('////', 0.0)"
   ]
  },
  {
   "cell_type": "code",
   "execution_count": null,
   "metadata": {},
   "outputs": [],
   "source": [
    "D = dados7.astype(float)\n",
    "D.head()"
   ]
  },
  {
   "cell_type": "code",
   "execution_count": null,
   "metadata": {},
   "outputs": [],
   "source": [
    "t = [] #hora de chuva\n",
    "t1 = [] #uma hora anterior\n",
    "t2 = [] #duas horas anteriores\n",
    "t3 = [] #tres horas anteriores\n",
    "t4 = [] #quatro horas anteriores\n",
    "\n",
    "for e in range(len(D)):\n",
    "    \n",
    "    if D['precipitacao'][e]>0 and D['precipitacao'][e-1]==0 and D['precipitacao'][e-2]==0 and D['precipitacao'][e-3]==0 and D['precipitacao'][e-4]==0:\n",
    "        t.append(D.iloc[e])\n",
    "        t1.append(D.iloc[e-1])\n",
    "        t2.append(D.iloc[e-2])\n",
    "        t3.append(D.iloc[e-3])\n",
    "        t4.append(D.iloc[e-4])\n",
    "\n",
    "# Guardando as listas como DataFrames\n",
    "T = pd.DataFrame(t)\n",
    "T1 = pd.DataFrame(t1)\n",
    "T2 = pd.DataFrame(t2)\n",
    "T3 = pd.DataFrame(t3)\n",
    "T4 = pd.DataFrame(t4)\n",
    "\n",
    "# Renomeando as colunas de todos estes DataFrames -  0 Horas\n",
    "T.rename(columns={'temp_inst':'temperatura_t'}, inplace=True)\n",
    "T.rename(columns={'pressao':'pressao_t'}, inplace=True)\n",
    "T.rename(columns={'umid_inst':'umidade_t'}, inplace=True)\n",
    "T.rename(columns={'precipitacao':'precipitacao_t'}, inplace=True)\n",
    "T.rename(columns={'vento_vel':'vento_t'}, inplace=True)\n",
    "T[['temperatura_t', 'pressao_t', 'umidade_t','precipitacao_t','vento_t']].astype(float);\n",
    "\n",
    "# Renomeando as colunas de todos estes DataFrames -  1 Hora atrás\n",
    "T1.rename(columns={'temp_inst':'temperatura_t1'}, inplace=True)\n",
    "T1.rename(columns={'pressao':'pressao_t1'}, inplace=True)\n",
    "T1.rename(columns={'umid_inst':'umidade_t1'}, inplace=True)\n",
    "T1.rename(columns={'precipitacao':'precipitacao_t1'}, inplace=True)\n",
    "T1.rename(columns={'vento_vel':'vento_t1'}, inplace=True)\n",
    "T1[['temperatura_t1', 'pressao_t1', 'umidade_t1','precipitacao_t1','vento_t1']].astype(float);\n",
    "\n",
    "# Renomeando as colunas de todos estes DataFrames -  2 Horas atrás\n",
    "T2.rename(columns={'temp_inst':'temperatura_t2'}, inplace=True)\n",
    "T2.rename(columns={'pressao':'pressao_t2'}, inplace=True)\n",
    "T2.rename(columns={'umid_inst':'umidade_t2'}, inplace=True)\n",
    "T2.rename(columns={'precipitacao':'precipitacao_t2'}, inplace=True)\n",
    "T2.rename(columns={'vento_vel':'vento_t2'}, inplace=True)\n",
    "T2[['temperatura_t2', 'pressao_t2', 'umidade_t2','precipitacao_t2','vento_t2']].astype(float);\n",
    "\n",
    "# Renomeando as colunas de todos estes DataFrames -  3 Horas atrás\n",
    "T3.rename(columns={'temp_inst':'temperatura_t3'}, inplace=True)\n",
    "T3.rename(columns={'pressao':'pressao_t3'}, inplace=True)\n",
    "T3.rename(columns={'umid_inst':'umidade_t3'}, inplace=True)\n",
    "T3.rename(columns={'precipitacao':'precipitacao_t3'}, inplace=True)\n",
    "T3.rename(columns={'vento_vel':'vento_t3'}, inplace=True)\n",
    "T3[['temperatura_t3', 'pressao_t3', 'umidade_t3','precipitacao_t3','vento_t3']].astype(float);\n",
    "\n",
    "# Renomeando as colunas de todos estes DataFrames -  4 Horas atrás\n",
    "T4.rename(columns={'temp_inst':'temperatura_t4'}, inplace=True)\n",
    "T4.rename(columns={'pressao':'pressao_t4'}, inplace=True)\n",
    "T4.rename(columns={'umid_inst':'umidade_t4'}, inplace=True)\n",
    "T4.rename(columns={'precipitacao':'precipitacao_t4'}, inplace=True)\n",
    "T4.rename(columns={'vento_vel':'vento_t4'}, inplace=True)\n",
    "T4[['temperatura_t4', 'pressao_t4', 'umidade_t4','precipitacao_t4','vento_t4']].astype(float);"
   ]
  },
  {
   "cell_type": "markdown",
   "metadata": {},
   "source": [
    "# Observação\n",
    "\n",
    "### É crucial explicitar que, desta forma, o modelo fará a previsão da quantidade de chuva dado os valores  passados e dado o fato de que haverá uma chuva no fim da janela analisada. Isso significa que ele não prevê a chuva em um cenário geral, mas somente nos casos em que se sabe que uma chuva irá cair ou já esteja caindo."
   ]
  },
  {
   "cell_type": "markdown",
   "metadata": {},
   "source": [
    "## Selecionando a variação das variáveis"
   ]
  },
  {
   "cell_type": "markdown",
   "metadata": {},
   "source": [
    "É válido que se preste devida atenção à variação nas variáveis além de seus valores em sí. Um exemplo desta mudança na forma de análise explica como uma temperatura baixa no verâo, provavelmente causada por uma frente fria, geralmente acompanha chuva, enquanto temperaturas baixas no inverno não fornecem um indicativo tão convincente. Na mesma lógica, uma queda ou aumento na pressão significam muito mais que seus valores por se só."
   ]
  },
  {
   "cell_type": "code",
   "execution_count": null,
   "metadata": {},
   "outputs": [],
   "source": [
    "temp = []\n",
    "umid = []\n",
    "pres = []\n",
    "vel = []\n",
    "preci = []\n",
    "\n",
    "for e in range(len(T)):\n",
    "    \n",
    "    temp.append(abs((T['temperatura_t'][e])-(T3['temperatura_t3'][e])))\n",
    "    umid.append(abs((T['umidade_t'][e])-(T3['umidade_t3'][e])))\n",
    "    pres.append(T3['pressao_t3'][e])\n",
    "    vel.append(T3['vento_t3'][e])\n",
    "    preci.append(T['precipitacao_t'][e])    \n",
    "       \n",
    "Temp = pd.DataFrame(temp)\n",
    "Umid = pd.DataFrame(umid)\n",
    "Pres = pd.DataFrame(pres)\n",
    "Vel = pd.DataFrame(vel)\n",
    "Preci = pd.DataFrame(preci)\n",
    "\n",
    "Temp.rename(columns={0:'temperatura_t'}, inplace=True)\n",
    "Umid.rename(columns={0:'umidade_t'}, inplace=True)\n",
    "Pres.rename(columns={0:'pressao_t'}, inplace=True)\n",
    "Vel.rename(columns={0:'vento_t'}, inplace=True)\n",
    "Preci.rename(columns={0:'precipitacao_t'}, inplace=True)\n",
    "precipita = Preci['precipitacao_t'].astype(float)\n",
    "\n",
    "a = Temp.join(Umid)\n",
    "b = Vel.join(Pres)\n",
    "c = b.join(precipita)\n",
    "variacao = a.join(c)\n",
    "variacao.dropna();"
   ]
  },
  {
   "cell_type": "markdown",
   "metadata": {},
   "source": [
    "### Correlação entre a variação das VI (variáveis independentes) e a VD (variável dependente)"
   ]
  },
  {
   "cell_type": "code",
   "execution_count": null,
   "metadata": {},
   "outputs": [],
   "source": [
    "np.log10(variacao['precipitacao_t']).corr((variacao['umidade_t']))"
   ]
  },
  {
   "cell_type": "code",
   "execution_count": null,
   "metadata": {},
   "outputs": [],
   "source": [
    "np.log10(variacao['precipitacao_t']).corr((variacao['temperatura_t']))"
   ]
  },
  {
   "cell_type": "code",
   "execution_count": null,
   "metadata": {},
   "outputs": [],
   "source": [
    "np.log10(variacao['precipitacao_t']).corr((variacao['pressao_t']))"
   ]
  },
  {
   "cell_type": "code",
   "execution_count": null,
   "metadata": {},
   "outputs": [],
   "source": [
    "np.log10(variacao['precipitacao_t']).corr((variacao['vento_t']))"
   ]
  },
  {
   "cell_type": "markdown",
   "metadata": {},
   "source": [
    " A partir das análises feitas nessas células pode-se concluir que os dados das variáveis independentes possuem uma correlação muito baixa com a variável dependente."
   ]
  },
  {
   "cell_type": "markdown",
   "metadata": {},
   "source": [
    "____\n",
    "## Realizando as regressões"
   ]
  },
  {
   "cell_type": "code",
   "execution_count": null,
   "metadata": {},
   "outputs": [],
   "source": [
    "### Função utilitária para fazer a regressão com constante adicionada\n",
    "def regress(X,Y):\n",
    "    X_cp = sm.add_constant(X)\n",
    "    model = sm.OLS(Y,X_cp)\n",
    "    results = model.fit()\n",
    "    return results"
   ]
  },
  {
   "cell_type": "code",
   "execution_count": null,
   "metadata": {},
   "outputs": [],
   "source": [
    "Y = variacao['precipitacao_t']\n",
    "X3 = variacao[['temperatura_t', 'pressao_t', 'umidade_t','vento_t']]"
   ]
  },
  {
   "cell_type": "code",
   "execution_count": null,
   "metadata": {
    "scrolled": false
   },
   "outputs": [],
   "source": [
    "results1 = regress(X3.values, Y.values)\n",
    "results1.summary()"
   ]
  },
  {
   "cell_type": "code",
   "execution_count": null,
   "metadata": {},
   "outputs": [],
   "source": [
    "from sklearn.model_selection import train_test_split \n",
    "from sklearn.linear_model import LinearRegression\n",
    "from sklearn import metrics"
   ]
  },
  {
   "cell_type": "code",
   "execution_count": null,
   "metadata": {},
   "outputs": [],
   "source": [
    "X_train, X_test, y_train, y_test = train_test_split(X3.values, Y.values, test_size=0.2, random_state=0)"
   ]
  },
  {
   "cell_type": "code",
   "execution_count": null,
   "metadata": {
    "scrolled": false
   },
   "outputs": [],
   "source": [
    "results2 = regress(X_train, y_train)\n",
    "results2.summary()"
   ]
  },
  {
   "cell_type": "markdown",
   "metadata": {},
   "source": [
    "**Regressão usando Regressão Linear Múltipla**"
   ]
  },
  {
   "cell_type": "code",
   "execution_count": null,
   "metadata": {},
   "outputs": [],
   "source": [
    "regressor = LinearRegression()  \n",
    "regressor.fit(X_train, y_train)\n",
    "y_pred = regressor.predict(X_test)\n",
    "df = pd.DataFrame({'Actual': y_test, 'Predicted': y_pred})"
   ]
  },
  {
   "cell_type": "code",
   "execution_count": null,
   "metadata": {},
   "outputs": [],
   "source": [
    "#Montando um comparador a fim de visualizar a competência do modelo\n",
    "p = 0\n",
    "while p < len(df['Predicted']):\n",
    "    if df['Predicted'][p] < 0:\n",
    "        df['Predicted'][p] = 0\n",
    "    \n",
    "    p += 1\n",
    "    \n",
    "df.head(5)"
   ]
  },
  {
   "cell_type": "code",
   "execution_count": null,
   "metadata": {
    "scrolled": true
   },
   "outputs": [],
   "source": [
    "lista_actual = list(df['Actual'])\n",
    "lista_predicted = list(df['Predicted'])\n",
    "\n",
    "erros = []\n",
    "k = 0\n",
    "while k < len(lista_actual):\n",
    "    erros.append(abs(lista_actual[k] - lista_predicted[k]))\n",
    "    k += 1\n",
    "    \n",
    "print('O erro médio é:',np.mean(erros))\n",
    "print('O desvio padrão do erro é:', np.std(erros))"
   ]
  },
  {
   "cell_type": "code",
   "execution_count": null,
   "metadata": {},
   "outputs": [],
   "source": [
    "a = np.arange(0,24,1)\n",
    "plt.plot(a, df['Actual'], 'bo')\n",
    "plt.plot(a, df['Predicted'], 'ro')\n",
    "plt.title('Comparaçao dos valores previstos com os reais')\n",
    "plt.ylabel('Número de mm de chuva')\n",
    "plt.grid(True)\n",
    "plt.show()"
   ]
  },
  {
   "cell_type": "code",
   "execution_count": null,
   "metadata": {
    "scrolled": true
   },
   "outputs": [],
   "source": [
    "df.iloc[:20,:].plot(kind='bar', color=('blue', 'red'), legend=True );\n",
    "plt.title('Comparaçao dos valores previstos com os reais')\n",
    "plt.ylabel('Número de mm de chuva')\n",
    "plt.grid(True)"
   ]
  },
  {
   "cell_type": "markdown",
   "metadata": {},
   "source": [
    "**Regressão usando Random Forrest Regressor**"
   ]
  },
  {
   "cell_type": "code",
   "execution_count": null,
   "metadata": {},
   "outputs": [],
   "source": [
    "from sklearn.ensemble import RandomForestRegressor\n",
    "\n",
    "# Setando 100 árvores de decisão\n",
    "rf = RandomForestRegressor(n_estimators = 100, random_state = 42)\n",
    "\n",
    "# Treinando o modelo\n",
    "rf.fit(X_train, y_train);"
   ]
  },
  {
   "cell_type": "code",
   "execution_count": null,
   "metadata": {},
   "outputs": [],
   "source": [
    "# Fazendo as predições\n",
    "predictions = rf.predict(X_test)"
   ]
  },
  {
   "cell_type": "code",
   "execution_count": null,
   "metadata": {},
   "outputs": [],
   "source": [
    "df2 = pd.DataFrame({'Actual': y_test, 'Predicted': predictions})"
   ]
  },
  {
   "cell_type": "code",
   "execution_count": null,
   "metadata": {},
   "outputs": [],
   "source": [
    "p = 0\n",
    "while p < len(df2['Predicted']):\n",
    "    if df2['Predicted'][p] < 0:\n",
    "        df2['Predicted'][p] = 0\n",
    "    \n",
    "    p += 1"
   ]
  },
  {
   "cell_type": "code",
   "execution_count": null,
   "metadata": {},
   "outputs": [],
   "source": [
    "df2.head(10);"
   ]
  },
  {
   "cell_type": "code",
   "execution_count": null,
   "metadata": {},
   "outputs": [],
   "source": [
    "lista_actual2 = list(df2['Actual'])\n",
    "lista_predicted2 = list(df2['Predicted'])\n",
    "\n",
    "erros2 = []\n",
    "k = 0\n",
    "while k < len(lista_actual2):\n",
    "    erros2.append(abs(lista_actual2[k] - lista_predicted2[k]))\n",
    "    k += 1\n",
    "    \n",
    "print('O erro médio é:',np.mean(erros2))\n",
    "print('O desvio padrão do erro é:', np.std(erros2))"
   ]
  },
  {
   "cell_type": "code",
   "execution_count": null,
   "metadata": {},
   "outputs": [],
   "source": [
    "plt.plot(a, df2['Actual'], 'bo')\n",
    "plt.plot(a, df2['Predicted'], 'ro')\n",
    "plt.title('Comparaçao dos valores previstos com os reais')\n",
    "plt.ylabel('Número de mm de chuva')\n",
    "plt.grid(True)\n",
    "plt.show()"
   ]
  },
  {
   "cell_type": "code",
   "execution_count": null,
   "metadata": {},
   "outputs": [],
   "source": [
    "df2.iloc[:20,:].plot(kind='bar', color=('blue', 'red'), legend=True );\n",
    "plt.title('Comparaçao dos valores previstos com os reais')\n",
    "plt.ylabel('Número de mm de chuva')\n",
    "plt.grid(True)"
   ]
  },
  {
   "cell_type": "markdown",
   "metadata": {},
   "source": [
    "# Conclusões"
   ]
  },
  {
   "cell_type": "markdown",
   "metadata": {},
   "source": [
    "O objetivo principal do projeto é de usar dados de tempos anteriores para prever a quantidade de chuva que cairá no futuro. Para isso, um modelo de regressão linear múltipla foi escolhido para ser usado. Porém, antes que fizéssemos qualquer tipo de previsão, foi necessário que se \"limpasse\" os dados, filtrando e manipulando-os de forma a fazê-los, de maneira honesta, se comportarem de um modo mais adequado para o uso na regressão.\n",
    "\n",
    "Foi nesta fase de manipulação dos dados em que se encontrou indícios de problemas que vieram a comprometer o modelo preditivo. As correlações entre as variáveis independentes escolhidas, Temperatura, Pressão e Umidade, e a variável dependente, de precipitação, se mostraram muito baixas. Esse fato implica na  dificuldade de se prever este fenômeno, dado que os dados tidos como mais valiosos, empiricamente, apresentaram correlações muito baixas, ou seja, não descrevem com qualidade o comportamento da variável a ser analisada.\n",
    "\n",
    "Isso tudo resultou em previsões de baixíssima precisão por parte do modelo de regressão múltipla que, na prática, não valeriam de nada. Com valores de R quadrado em torno de 0.086, as previsões passaram longe dos valores reais.\n",
    "\n",
    "Tentativas foram feitas para que se aumentasse a correlação entre os dados e a precipitação, porém, sem sucesso. Depois de tudo isso, teve-se como hipótese que o DataSet se mostrava anormal, talvez por medições de má qualidade ou, mais provavelmente, por um comportamento mais extremo dos dados (são muito escassos os dias de chuva, o que compromete a previsão). \n",
    "\n",
    "Tendo tudo isto em vista, entende-se como razoável a troca de DataSet por um que tenha um comportamento mais balanceado na questão de chuva e seca. E assim foi feito nas análises que se encontram no Notebook da Análise final, de São Paulo."
   ]
  }
 ],
 "metadata": {
  "kernelspec": {
   "display_name": "Python 3",
   "language": "python",
   "name": "python3"
  },
  "language_info": {
   "codemirror_mode": {
    "name": "ipython",
    "version": 3
   },
   "file_extension": ".py",
   "mimetype": "text/x-python",
   "name": "python",
   "nbconvert_exporter": "python",
   "pygments_lexer": "ipython3",
   "version": "3.7.3"
  }
 },
 "nbformat": 4,
 "nbformat_minor": 2
}
