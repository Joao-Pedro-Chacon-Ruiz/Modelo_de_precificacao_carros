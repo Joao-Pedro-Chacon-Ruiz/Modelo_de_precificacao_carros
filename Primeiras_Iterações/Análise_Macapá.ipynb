{
 "cells": [
  {
   "cell_type": "markdown",
   "metadata": {},
   "source": [
    "# Modelo estatístico de previsão de chuva"
   ]
  },
  {
   "cell_type": "markdown",
   "metadata": {},
   "source": [
    "**Sala: 2A**\n",
    "\n",
    "**Grupo:**\n",
    "> Breno Marti\n",
    "\n",
    "> Diogo Cintra\n",
    "\n",
    "> João Pedro Chacon Ruiz\n",
    "\n",
    "> Luiz Felipe Valente"
   ]
  },
  {
   "cell_type": "markdown",
   "metadata": {},
   "source": [
    "___\n",
    "## • Imports"
   ]
  },
  {
   "cell_type": "markdown",
   "metadata": {},
   "source": [
    "Importando as devidas funções para que se possa fazer a análise e filtragem dos dados, bem como a implementação do modelo de regrassão multipla."
   ]
  },
  {
   "cell_type": "code",
   "execution_count": 23,
   "metadata": {},
   "outputs": [],
   "source": [
    "#Importando as bibliotecas\n",
    "%matplotlib inline\n",
    "import pandas as pd\n",
    "import matplotlib.pyplot as plt\n",
    "import os\n",
    "from numpy import arange\n",
    "from numpy import percentile\n",
    "import numpy as np\n",
    "from pandas import DataFrame\n",
    "from scipy.stats import probplot\n",
    "import statsmodels.api as sm"
   ]
  },
  {
   "cell_type": "markdown",
   "metadata": {},
   "source": [
    "## • Início da análise exploratória"
   ]
  },
  {
   "cell_type": "markdown",
   "metadata": {},
   "source": [
    "Antes que se possa partir para a emplementação de qualquer modelo de previsão é necessário, primeiramente,  que se entenda como os dados se comportam e, caso preciso, manipulá-los, de forma a facilitar a construção do modelo, mas sem comprometer seus conteúdos."
   ]
  },
  {
   "cell_type": "code",
   "execution_count": 24,
   "metadata": {
    "scrolled": true
   },
   "outputs": [],
   "source": [
    "dados1 = pd.read_excel('macapa.xlsx')\n",
    "dados1.head();"
   ]
  },
  {
   "cell_type": "code",
   "execution_count": 25,
   "metadata": {},
   "outputs": [],
   "source": [
    "datas = dados1.data\n",
    "horas = dados1.hora"
   ]
  },
  {
   "cell_type": "code",
   "execution_count": 26,
   "metadata": {},
   "outputs": [],
   "source": [
    "concat = []\n",
    "for e in range(len(datas)):\n",
    "    #concat.append(datas[e] + ',' + horas[e])\n",
    "    d = datas[e]\n",
    "    d = d.replace(hour=horas[e], minute=0, second=0)\n",
    "    concat.append(d)\n",
    "    \n",
    "#print(concat)\n",
    "dia_hora = pd.DataFrame(concat)"
   ]
  },
  {
   "cell_type": "markdown",
   "metadata": {},
   "source": [
    "Rodar apenas uma vez a o código abaixo"
   ]
  },
  {
   "cell_type": "code",
   "execution_count": 27,
   "metadata": {},
   "outputs": [],
   "source": [
    "dados1.insert(0,'time', dia_hora, True);\n",
    "dados_2 = dados1.drop(['data', 'hora'], axis=1)\n",
    "dados2 = dados1.drop(['data', 'hora'], axis=1)\n",
    "dados_3 = dados_2.set_index(\"time\")\n",
    "dados_4 = dados_3.dropna();\n",
    "dados3 = dados2.dropna();"
   ]
  },
  {
   "cell_type": "code",
   "execution_count": 28,
   "metadata": {},
   "outputs": [
    {
     "data": {
      "text/html": [
       "<div>\n",
       "<style scoped>\n",
       "    .dataframe tbody tr th:only-of-type {\n",
       "        vertical-align: middle;\n",
       "    }\n",
       "\n",
       "    .dataframe tbody tr th {\n",
       "        vertical-align: top;\n",
       "    }\n",
       "\n",
       "    .dataframe thead th {\n",
       "        text-align: right;\n",
       "    }\n",
       "</style>\n",
       "<table border=\"1\" class=\"dataframe\">\n",
       "  <thead>\n",
       "    <tr style=\"text-align: right;\">\n",
       "      <th></th>\n",
       "      <th>time</th>\n",
       "      <th>codigo_estacao</th>\n",
       "      <th>temp_inst</th>\n",
       "      <th>temp_max</th>\n",
       "      <th>temp_min</th>\n",
       "      <th>umid_inst</th>\n",
       "      <th>umid_max</th>\n",
       "      <th>umid_min</th>\n",
       "      <th>pto_orvalho_inst</th>\n",
       "      <th>pto_orvalho_max</th>\n",
       "      <th>pto_orvalho_min</th>\n",
       "      <th>pressao</th>\n",
       "      <th>pressao_max</th>\n",
       "      <th>pressao_min</th>\n",
       "      <th>vento_direcao</th>\n",
       "      <th>vento_vel</th>\n",
       "      <th>vento_rajada</th>\n",
       "      <th>radiacao</th>\n",
       "      <th>precipitacao</th>\n",
       "    </tr>\n",
       "  </thead>\n",
       "  <tbody>\n",
       "    <tr>\n",
       "      <th>2</th>\n",
       "      <td>2019-01-29 19:00:00</td>\n",
       "      <td>A249</td>\n",
       "      <td>32.0</td>\n",
       "      <td>32.4</td>\n",
       "      <td>31.4</td>\n",
       "      <td>56</td>\n",
       "      <td>58.0</td>\n",
       "      <td>55.0</td>\n",
       "      <td>22.3</td>\n",
       "      <td>22.8</td>\n",
       "      <td>21.7</td>\n",
       "      <td>1007.0</td>\n",
       "      <td>1007.7</td>\n",
       "      <td>1007.0</td>\n",
       "      <td>3.9</td>\n",
       "      <td>213.0</td>\n",
       "      <td>8.6</td>\n",
       "      <td>2444.0</td>\n",
       "      <td>0.0</td>\n",
       "    </tr>\n",
       "    <tr>\n",
       "      <th>4</th>\n",
       "      <td>2019-01-30 19:00:00</td>\n",
       "      <td>A249</td>\n",
       "      <td>31.0</td>\n",
       "      <td>31.8</td>\n",
       "      <td>30.1</td>\n",
       "      <td>62</td>\n",
       "      <td>65.0</td>\n",
       "      <td>46.0</td>\n",
       "      <td>22.8</td>\n",
       "      <td>22.9</td>\n",
       "      <td>18.1</td>\n",
       "      <td>1007.6</td>\n",
       "      <td>1008.0</td>\n",
       "      <td>1007.5</td>\n",
       "      <td>3.8</td>\n",
       "      <td>208.0</td>\n",
       "      <td>7.3</td>\n",
       "      <td>2291.0</td>\n",
       "      <td>0.0</td>\n",
       "    </tr>\n",
       "    <tr>\n",
       "      <th>6</th>\n",
       "      <td>2019-02-08 18:00:00</td>\n",
       "      <td>A249</td>\n",
       "      <td>24.6</td>\n",
       "      <td>24.8</td>\n",
       "      <td>24.1</td>\n",
       "      <td>93</td>\n",
       "      <td>93.0</td>\n",
       "      <td>93.0</td>\n",
       "      <td>23.5</td>\n",
       "      <td>23.7</td>\n",
       "      <td>22.9</td>\n",
       "      <td>1007.6</td>\n",
       "      <td>1008.7</td>\n",
       "      <td>1007.6</td>\n",
       "      <td>0.8</td>\n",
       "      <td>143.0</td>\n",
       "      <td>3.0</td>\n",
       "      <td>481.7</td>\n",
       "      <td>1.0</td>\n",
       "    </tr>\n",
       "    <tr>\n",
       "      <th>7</th>\n",
       "      <td>2019-02-08 22:00:00</td>\n",
       "      <td>A249</td>\n",
       "      <td>25.3</td>\n",
       "      <td>25.7</td>\n",
       "      <td>25.3</td>\n",
       "      <td>91</td>\n",
       "      <td>91.0</td>\n",
       "      <td>89.0</td>\n",
       "      <td>23.8</td>\n",
       "      <td>23.8</td>\n",
       "      <td>23.7</td>\n",
       "      <td>1006.7</td>\n",
       "      <td>1006.7</td>\n",
       "      <td>1006.6</td>\n",
       "      <td>0.4</td>\n",
       "      <td>150.0</td>\n",
       "      <td>1.8</td>\n",
       "      <td>45.8</td>\n",
       "      <td>0.0</td>\n",
       "    </tr>\n",
       "    <tr>\n",
       "      <th>8</th>\n",
       "      <td>2019-02-08 17:00:00</td>\n",
       "      <td>A249</td>\n",
       "      <td>24.1</td>\n",
       "      <td>24.5</td>\n",
       "      <td>24.0</td>\n",
       "      <td>93</td>\n",
       "      <td>93.0</td>\n",
       "      <td>93.0</td>\n",
       "      <td>22.9</td>\n",
       "      <td>23.3</td>\n",
       "      <td>22.8</td>\n",
       "      <td>1008.7</td>\n",
       "      <td>1009.6</td>\n",
       "      <td>1008.7</td>\n",
       "      <td>1.3</td>\n",
       "      <td>193.0</td>\n",
       "      <td>5.0</td>\n",
       "      <td>384.3</td>\n",
       "      <td>2.4</td>\n",
       "    </tr>\n",
       "  </tbody>\n",
       "</table>\n",
       "</div>"
      ],
      "text/plain": [
       "                 time codigo_estacao  temp_inst  temp_max  temp_min  \\\n",
       "2 2019-01-29 19:00:00           A249       32.0      32.4      31.4   \n",
       "4 2019-01-30 19:00:00           A249       31.0      31.8      30.1   \n",
       "6 2019-02-08 18:00:00           A249       24.6      24.8      24.1   \n",
       "7 2019-02-08 22:00:00           A249       25.3      25.7      25.3   \n",
       "8 2019-02-08 17:00:00           A249       24.1      24.5      24.0   \n",
       "\n",
       "   umid_inst  umid_max  umid_min  pto_orvalho_inst  pto_orvalho_max  \\\n",
       "2         56      58.0      55.0              22.3             22.8   \n",
       "4         62      65.0      46.0              22.8             22.9   \n",
       "6         93      93.0      93.0              23.5             23.7   \n",
       "7         91      91.0      89.0              23.8             23.8   \n",
       "8         93      93.0      93.0              22.9             23.3   \n",
       "\n",
       "   pto_orvalho_min  pressao  pressao_max  pressao_min  vento_direcao  \\\n",
       "2             21.7   1007.0       1007.7       1007.0            3.9   \n",
       "4             18.1   1007.6       1008.0       1007.5            3.8   \n",
       "6             22.9   1007.6       1008.7       1007.6            0.8   \n",
       "7             23.7   1006.7       1006.7       1006.6            0.4   \n",
       "8             22.8   1008.7       1009.6       1008.7            1.3   \n",
       "\n",
       "   vento_vel  vento_rajada  radiacao precipitacao  \n",
       "2      213.0           8.6    2444.0          0.0  \n",
       "4      208.0           7.3    2291.0          0.0  \n",
       "6      143.0           3.0     481.7          1.0  \n",
       "7      150.0           1.8      45.8          0.0  \n",
       "8      193.0           5.0     384.3          2.4  "
      ]
     },
     "execution_count": 28,
     "metadata": {},
     "output_type": "execute_result"
    }
   ],
   "source": [
    "dados3.head()"
   ]
  },
  {
   "cell_type": "code",
   "execution_count": 29,
   "metadata": {},
   "outputs": [
    {
     "data": {
      "text/html": [
       "<div>\n",
       "<style scoped>\n",
       "    .dataframe tbody tr th:only-of-type {\n",
       "        vertical-align: middle;\n",
       "    }\n",
       "\n",
       "    .dataframe tbody tr th {\n",
       "        vertical-align: top;\n",
       "    }\n",
       "\n",
       "    .dataframe thead th {\n",
       "        text-align: right;\n",
       "    }\n",
       "</style>\n",
       "<table border=\"1\" class=\"dataframe\">\n",
       "  <thead>\n",
       "    <tr style=\"text-align: right;\">\n",
       "      <th></th>\n",
       "      <th>codigo_estacao</th>\n",
       "      <th>temp_inst</th>\n",
       "      <th>temp_max</th>\n",
       "      <th>temp_min</th>\n",
       "      <th>umid_inst</th>\n",
       "      <th>umid_max</th>\n",
       "      <th>umid_min</th>\n",
       "      <th>pto_orvalho_inst</th>\n",
       "      <th>pto_orvalho_max</th>\n",
       "      <th>pto_orvalho_min</th>\n",
       "      <th>pressao</th>\n",
       "      <th>pressao_max</th>\n",
       "      <th>pressao_min</th>\n",
       "      <th>vento_direcao</th>\n",
       "      <th>vento_vel</th>\n",
       "      <th>vento_rajada</th>\n",
       "      <th>radiacao</th>\n",
       "      <th>precipitacao</th>\n",
       "    </tr>\n",
       "    <tr>\n",
       "      <th>time</th>\n",
       "      <th></th>\n",
       "      <th></th>\n",
       "      <th></th>\n",
       "      <th></th>\n",
       "      <th></th>\n",
       "      <th></th>\n",
       "      <th></th>\n",
       "      <th></th>\n",
       "      <th></th>\n",
       "      <th></th>\n",
       "      <th></th>\n",
       "      <th></th>\n",
       "      <th></th>\n",
       "      <th></th>\n",
       "      <th></th>\n",
       "      <th></th>\n",
       "      <th></th>\n",
       "      <th></th>\n",
       "    </tr>\n",
       "  </thead>\n",
       "  <tbody>\n",
       "    <tr>\n",
       "      <th>2019-01-29 19:00:00</th>\n",
       "      <td>A249</td>\n",
       "      <td>32.0</td>\n",
       "      <td>32.4</td>\n",
       "      <td>31.4</td>\n",
       "      <td>56</td>\n",
       "      <td>58.0</td>\n",
       "      <td>55.0</td>\n",
       "      <td>22.3</td>\n",
       "      <td>22.8</td>\n",
       "      <td>21.7</td>\n",
       "      <td>1007.0</td>\n",
       "      <td>1007.7</td>\n",
       "      <td>1007.0</td>\n",
       "      <td>3.9</td>\n",
       "      <td>213.0</td>\n",
       "      <td>8.6</td>\n",
       "      <td>2444.0</td>\n",
       "      <td>0.0</td>\n",
       "    </tr>\n",
       "    <tr>\n",
       "      <th>2019-01-30 19:00:00</th>\n",
       "      <td>A249</td>\n",
       "      <td>31.0</td>\n",
       "      <td>31.8</td>\n",
       "      <td>30.1</td>\n",
       "      <td>62</td>\n",
       "      <td>65.0</td>\n",
       "      <td>46.0</td>\n",
       "      <td>22.8</td>\n",
       "      <td>22.9</td>\n",
       "      <td>18.1</td>\n",
       "      <td>1007.6</td>\n",
       "      <td>1008.0</td>\n",
       "      <td>1007.5</td>\n",
       "      <td>3.8</td>\n",
       "      <td>208.0</td>\n",
       "      <td>7.3</td>\n",
       "      <td>2291.0</td>\n",
       "      <td>0.0</td>\n",
       "    </tr>\n",
       "    <tr>\n",
       "      <th>2019-02-08 18:00:00</th>\n",
       "      <td>A249</td>\n",
       "      <td>24.6</td>\n",
       "      <td>24.8</td>\n",
       "      <td>24.1</td>\n",
       "      <td>93</td>\n",
       "      <td>93.0</td>\n",
       "      <td>93.0</td>\n",
       "      <td>23.5</td>\n",
       "      <td>23.7</td>\n",
       "      <td>22.9</td>\n",
       "      <td>1007.6</td>\n",
       "      <td>1008.7</td>\n",
       "      <td>1007.6</td>\n",
       "      <td>0.8</td>\n",
       "      <td>143.0</td>\n",
       "      <td>3.0</td>\n",
       "      <td>481.7</td>\n",
       "      <td>1.0</td>\n",
       "    </tr>\n",
       "    <tr>\n",
       "      <th>2019-02-08 22:00:00</th>\n",
       "      <td>A249</td>\n",
       "      <td>25.3</td>\n",
       "      <td>25.7</td>\n",
       "      <td>25.3</td>\n",
       "      <td>91</td>\n",
       "      <td>91.0</td>\n",
       "      <td>89.0</td>\n",
       "      <td>23.8</td>\n",
       "      <td>23.8</td>\n",
       "      <td>23.7</td>\n",
       "      <td>1006.7</td>\n",
       "      <td>1006.7</td>\n",
       "      <td>1006.6</td>\n",
       "      <td>0.4</td>\n",
       "      <td>150.0</td>\n",
       "      <td>1.8</td>\n",
       "      <td>45.8</td>\n",
       "      <td>0.0</td>\n",
       "    </tr>\n",
       "    <tr>\n",
       "      <th>2019-02-08 17:00:00</th>\n",
       "      <td>A249</td>\n",
       "      <td>24.1</td>\n",
       "      <td>24.5</td>\n",
       "      <td>24.0</td>\n",
       "      <td>93</td>\n",
       "      <td>93.0</td>\n",
       "      <td>93.0</td>\n",
       "      <td>22.9</td>\n",
       "      <td>23.3</td>\n",
       "      <td>22.8</td>\n",
       "      <td>1008.7</td>\n",
       "      <td>1009.6</td>\n",
       "      <td>1008.7</td>\n",
       "      <td>1.3</td>\n",
       "      <td>193.0</td>\n",
       "      <td>5.0</td>\n",
       "      <td>384.3</td>\n",
       "      <td>2.4</td>\n",
       "    </tr>\n",
       "  </tbody>\n",
       "</table>\n",
       "</div>"
      ],
      "text/plain": [
       "                    codigo_estacao  temp_inst  temp_max  temp_min  umid_inst  \\\n",
       "time                                                                           \n",
       "2019-01-29 19:00:00           A249       32.0      32.4      31.4         56   \n",
       "2019-01-30 19:00:00           A249       31.0      31.8      30.1         62   \n",
       "2019-02-08 18:00:00           A249       24.6      24.8      24.1         93   \n",
       "2019-02-08 22:00:00           A249       25.3      25.7      25.3         91   \n",
       "2019-02-08 17:00:00           A249       24.1      24.5      24.0         93   \n",
       "\n",
       "                     umid_max  umid_min  pto_orvalho_inst  pto_orvalho_max  \\\n",
       "time                                                                         \n",
       "2019-01-29 19:00:00      58.0      55.0              22.3             22.8   \n",
       "2019-01-30 19:00:00      65.0      46.0              22.8             22.9   \n",
       "2019-02-08 18:00:00      93.0      93.0              23.5             23.7   \n",
       "2019-02-08 22:00:00      91.0      89.0              23.8             23.8   \n",
       "2019-02-08 17:00:00      93.0      93.0              22.9             23.3   \n",
       "\n",
       "                     pto_orvalho_min  pressao  pressao_max  pressao_min  \\\n",
       "time                                                                      \n",
       "2019-01-29 19:00:00             21.7   1007.0       1007.7       1007.0   \n",
       "2019-01-30 19:00:00             18.1   1007.6       1008.0       1007.5   \n",
       "2019-02-08 18:00:00             22.9   1007.6       1008.7       1007.6   \n",
       "2019-02-08 22:00:00             23.7   1006.7       1006.7       1006.6   \n",
       "2019-02-08 17:00:00             22.8   1008.7       1009.6       1008.7   \n",
       "\n",
       "                     vento_direcao  vento_vel  vento_rajada  radiacao  \\\n",
       "time                                                                    \n",
       "2019-01-29 19:00:00            3.9      213.0           8.6    2444.0   \n",
       "2019-01-30 19:00:00            3.8      208.0           7.3    2291.0   \n",
       "2019-02-08 18:00:00            0.8      143.0           3.0     481.7   \n",
       "2019-02-08 22:00:00            0.4      150.0           1.8      45.8   \n",
       "2019-02-08 17:00:00            1.3      193.0           5.0     384.3   \n",
       "\n",
       "                    precipitacao  \n",
       "time                              \n",
       "2019-01-29 19:00:00          0.0  \n",
       "2019-01-30 19:00:00          0.0  \n",
       "2019-02-08 18:00:00          1.0  \n",
       "2019-02-08 22:00:00          0.0  \n",
       "2019-02-08 17:00:00          2.4  "
      ]
     },
     "execution_count": 29,
     "metadata": {},
     "output_type": "execute_result"
    }
   ],
   "source": [
    "dados_4.head()"
   ]
  },
  {
   "cell_type": "markdown",
   "metadata": {},
   "source": [
    "## Definindo as variáveis que vamos estudar "
   ]
  },
  {
   "cell_type": "markdown",
   "metadata": {},
   "source": [
    "A partir de estudos e leitura de papeis sobre o tema, as seguintes variáveis foram, repetidamente, dadas como as mais relevantes: temperatura, umidade, pressão atmosférica e velociadade do vento. Com base nessas pesquisas, estas mesmas foram tomadas como variáveis independentes do modelo de regressão linear múltipla."
   ]
  },
  {
   "cell_type": "code",
   "execution_count": 30,
   "metadata": {},
   "outputs": [
    {
     "name": "stderr",
     "output_type": "stream",
     "text": [
      "/Users/joaopedrochacon/anaconda3/lib/python3.7/site-packages/pandas/core/generic.py:5096: SettingWithCopyWarning: \n",
      "A value is trying to be set on a copy of a slice from a DataFrame.\n",
      "Try using .loc[row_indexer,col_indexer] = value instead\n",
      "\n",
      "See the caveats in the documentation: http://pandas.pydata.org/pandas-docs/stable/indexing.html#indexing-view-versus-copy\n",
      "  self[name] = value\n"
     ]
    }
   ],
   "source": [
    "dados_4.precipitacao = dados_4.precipitacao.replace('////', 0.0)"
   ]
  },
  {
   "cell_type": "code",
   "execution_count": 31,
   "metadata": {},
   "outputs": [],
   "source": [
    "dados_4 = dados_4[['temp_inst','pressao','umid_inst','precipitacao','vento_vel']].astype('float')"
   ]
  },
  {
   "cell_type": "code",
   "execution_count": 78,
   "metadata": {
    "scrolled": true
   },
   "outputs": [
    {
     "name": "stderr",
     "output_type": "stream",
     "text": [
      "/Users/joaopedrochacon/anaconda3/lib/python3.7/site-packages/ipykernel_launcher.py:2: RuntimeWarning: divide by zero encountered in log\n",
      "  \n"
     ]
    }
   ],
   "source": [
    "#dados_5 = dados_4.astype(float)\n",
    "dados_log = np.log(dados_4[['temp_inst','pressao','umid_inst','precipitacao','vento_vel']])\n",
    "\n",
    "dados4 = dados3.transpose()\n",
    "dados5 = dados4.loc[['time','temp_inst', 'pressao','umid_inst', 'precipitacao','vento_vel']]\n",
    "dados6 = dados5.transpose()\n",
    "dados6 = dados6.sort_values(by='time')\n",
    "dados6 = dados6.reset_index()\n",
    "del dados6['index']\n",
    "d = dados6.dropna()"
   ]
  },
  {
   "cell_type": "code",
   "execution_count": 79,
   "metadata": {},
   "outputs": [],
   "source": [
    "data = []\n",
    "hora = []\n",
    "\n",
    "for coisas in d.time.astype(str):\n",
    "    teste = coisas.split()\n",
    "    data.append(teste[0])\n",
    "    horas = teste[1]\n",
    "    hora.append(horas[0:2])"
   ]
  },
  {
   "cell_type": "code",
   "execution_count": 80,
   "metadata": {},
   "outputs": [
    {
     "data": {
      "text/plain": [
       "3168"
      ]
     },
     "execution_count": 80,
     "metadata": {},
     "output_type": "execute_result"
    }
   ],
   "source": [
    "len(data)"
   ]
  },
  {
   "cell_type": "code",
   "execution_count": 81,
   "metadata": {},
   "outputs": [],
   "source": [
    "final = []\n",
    "\n",
    "anterior = data[0]\n",
    "a=0\n",
    "day = 0\n",
    "for dia in data:\n",
    "    if a < 3167:\n",
    "        if data[a+1] == anterior:\n",
    "            final.append(day)\n",
    "        else:\n",
    "            final.append(day)\n",
    "            day += 1\n",
    "            anterior = data[a+1]\n",
    "    a += 1\n",
    "final.append(250)"
   ]
  },
  {
   "cell_type": "code",
   "execution_count": 82,
   "metadata": {},
   "outputs": [],
   "source": [
    "hora = pd.Series(hora).astype(int) \n",
    "final = pd.Series(final).astype(int)"
   ]
  },
  {
   "cell_type": "code",
   "execution_count": 83,
   "metadata": {},
   "outputs": [],
   "source": [
    "d['horas'] = hora\n",
    "d['dias'] = final"
   ]
  },
  {
   "cell_type": "markdown",
   "metadata": {},
   "source": [
    "## Criando as colunas de seno e de cosseno tanto das horas quanto dos dias para dar ao modelo a ideia de que são variáveis cíclicas"
   ]
  },
  {
   "cell_type": "markdown",
   "metadata": {},
   "source": [
    "Estas variáveis foram criadas para representar a sazonalidade nos períodos de chuva, a fim de aumentar a precisão do modelo, que agora será capaz de distinguir as diferentes estações do ano."
   ]
  },
  {
   "cell_type": "code",
   "execution_count": 84,
   "metadata": {},
   "outputs": [],
   "source": [
    "d['hora_seno'] = np.sin(2*np.pi*hora/24)\n",
    "d['hora_cosseno'] = np.cos(2*np.pi*hora/24)"
   ]
  },
  {
   "cell_type": "code",
   "execution_count": 85,
   "metadata": {
    "scrolled": true
   },
   "outputs": [
    {
     "data": {
      "text/html": [
       "<div>\n",
       "<style scoped>\n",
       "    .dataframe tbody tr th:only-of-type {\n",
       "        vertical-align: middle;\n",
       "    }\n",
       "\n",
       "    .dataframe tbody tr th {\n",
       "        vertical-align: top;\n",
       "    }\n",
       "\n",
       "    .dataframe thead th {\n",
       "        text-align: right;\n",
       "    }\n",
       "</style>\n",
       "<table border=\"1\" class=\"dataframe\">\n",
       "  <thead>\n",
       "    <tr style=\"text-align: right;\">\n",
       "      <th></th>\n",
       "      <th>time</th>\n",
       "      <th>temp_inst</th>\n",
       "      <th>pressao</th>\n",
       "      <th>umid_inst</th>\n",
       "      <th>precipitacao</th>\n",
       "      <th>vento_vel</th>\n",
       "      <th>horas</th>\n",
       "      <th>dias</th>\n",
       "      <th>hora_seno</th>\n",
       "      <th>hora_cosseno</th>\n",
       "      <th>dia_seno</th>\n",
       "      <th>dia_cosseno</th>\n",
       "    </tr>\n",
       "  </thead>\n",
       "  <tbody>\n",
       "    <tr>\n",
       "      <th>0</th>\n",
       "      <td>2019-01-29 19:00:00</td>\n",
       "      <td>32</td>\n",
       "      <td>1007</td>\n",
       "      <td>56</td>\n",
       "      <td>0.0</td>\n",
       "      <td>213</td>\n",
       "      <td>19</td>\n",
       "      <td>0</td>\n",
       "      <td>-0.965926</td>\n",
       "      <td>0.258819</td>\n",
       "      <td>0.000000</td>\n",
       "      <td>1.000000</td>\n",
       "    </tr>\n",
       "    <tr>\n",
       "      <th>1</th>\n",
       "      <td>2019-01-30 19:00:00</td>\n",
       "      <td>31</td>\n",
       "      <td>1007.6</td>\n",
       "      <td>62</td>\n",
       "      <td>0.0</td>\n",
       "      <td>208</td>\n",
       "      <td>19</td>\n",
       "      <td>1</td>\n",
       "      <td>-0.965926</td>\n",
       "      <td>0.258819</td>\n",
       "      <td>0.017202</td>\n",
       "      <td>0.999852</td>\n",
       "    </tr>\n",
       "    <tr>\n",
       "      <th>2</th>\n",
       "      <td>2019-02-08 15:00:00</td>\n",
       "      <td>24.6</td>\n",
       "      <td>1010.2</td>\n",
       "      <td>93</td>\n",
       "      <td>0.8</td>\n",
       "      <td>203</td>\n",
       "      <td>15</td>\n",
       "      <td>2</td>\n",
       "      <td>-0.707107</td>\n",
       "      <td>-0.707107</td>\n",
       "      <td>0.034398</td>\n",
       "      <td>0.999408</td>\n",
       "    </tr>\n",
       "    <tr>\n",
       "      <th>3</th>\n",
       "      <td>2019-02-08 16:00:00</td>\n",
       "      <td>24.4</td>\n",
       "      <td>1009.6</td>\n",
       "      <td>93</td>\n",
       "      <td>3.2</td>\n",
       "      <td>190</td>\n",
       "      <td>16</td>\n",
       "      <td>2</td>\n",
       "      <td>-0.866025</td>\n",
       "      <td>-0.500000</td>\n",
       "      <td>0.034398</td>\n",
       "      <td>0.999408</td>\n",
       "    </tr>\n",
       "    <tr>\n",
       "      <th>4</th>\n",
       "      <td>2019-02-08 17:00:00</td>\n",
       "      <td>24.1</td>\n",
       "      <td>1008.7</td>\n",
       "      <td>93</td>\n",
       "      <td>2.4</td>\n",
       "      <td>193</td>\n",
       "      <td>17</td>\n",
       "      <td>2</td>\n",
       "      <td>-0.965926</td>\n",
       "      <td>-0.258819</td>\n",
       "      <td>0.034398</td>\n",
       "      <td>0.999408</td>\n",
       "    </tr>\n",
       "  </tbody>\n",
       "</table>\n",
       "</div>"
      ],
      "text/plain": [
       "                  time temp_inst pressao umid_inst precipitacao vento_vel  \\\n",
       "0  2019-01-29 19:00:00        32    1007        56          0.0       213   \n",
       "1  2019-01-30 19:00:00        31  1007.6        62          0.0       208   \n",
       "2  2019-02-08 15:00:00      24.6  1010.2        93          0.8       203   \n",
       "3  2019-02-08 16:00:00      24.4  1009.6        93          3.2       190   \n",
       "4  2019-02-08 17:00:00      24.1  1008.7        93          2.4       193   \n",
       "\n",
       "   horas  dias  hora_seno  hora_cosseno  dia_seno  dia_cosseno  \n",
       "0     19     0  -0.965926      0.258819  0.000000     1.000000  \n",
       "1     19     1  -0.965926      0.258819  0.017202     0.999852  \n",
       "2     15     2  -0.707107     -0.707107  0.034398     0.999408  \n",
       "3     16     2  -0.866025     -0.500000  0.034398     0.999408  \n",
       "4     17     2  -0.965926     -0.258819  0.034398     0.999408  "
      ]
     },
     "execution_count": 85,
     "metadata": {},
     "output_type": "execute_result"
    }
   ],
   "source": [
    "d['dia_seno'] = np.sin(2*np.pi*final/365.25)\n",
    "d['dia_cosseno'] = np.cos(2*np.pi*final/365.25)\n",
    "d.head()"
   ]
  },
  {
   "cell_type": "markdown",
   "metadata": {},
   "source": [
    "## Organização de DataFrames"
   ]
  },
  {
   "cell_type": "markdown",
   "metadata": {},
   "source": [
    "> Estes são feitos a fim de possibilitar a análise do evento a partir dos dados advindos das horas que o precedem e do instante em sí"
   ]
  },
  {
   "cell_type": "code",
   "execution_count": 86,
   "metadata": {},
   "outputs": [],
   "source": [
    "dados6 = d.set_index('time')\n",
    "dados7 = dados6[['temp_inst','pressao','umid_inst','precipitacao','vento_vel']]"
   ]
  },
  {
   "cell_type": "code",
   "execution_count": 87,
   "metadata": {},
   "outputs": [
    {
     "name": "stderr",
     "output_type": "stream",
     "text": [
      "/Users/joaopedrochacon/anaconda3/lib/python3.7/site-packages/pandas/core/generic.py:5096: SettingWithCopyWarning: \n",
      "A value is trying to be set on a copy of a slice from a DataFrame.\n",
      "Try using .loc[row_indexer,col_indexer] = value instead\n",
      "\n",
      "See the caveats in the documentation: http://pandas.pydata.org/pandas-docs/stable/indexing.html#indexing-view-versus-copy\n",
      "  self[name] = value\n"
     ]
    }
   ],
   "source": [
    "dados7.precipitacao = dados7.precipitacao.replace('////', 0.0)"
   ]
  },
  {
   "cell_type": "code",
   "execution_count": 88,
   "metadata": {},
   "outputs": [
    {
     "data": {
      "text/html": [
       "<div>\n",
       "<style scoped>\n",
       "    .dataframe tbody tr th:only-of-type {\n",
       "        vertical-align: middle;\n",
       "    }\n",
       "\n",
       "    .dataframe tbody tr th {\n",
       "        vertical-align: top;\n",
       "    }\n",
       "\n",
       "    .dataframe thead th {\n",
       "        text-align: right;\n",
       "    }\n",
       "</style>\n",
       "<table border=\"1\" class=\"dataframe\">\n",
       "  <thead>\n",
       "    <tr style=\"text-align: right;\">\n",
       "      <th></th>\n",
       "      <th>temp_inst</th>\n",
       "      <th>pressao</th>\n",
       "      <th>umid_inst</th>\n",
       "      <th>precipitacao</th>\n",
       "      <th>vento_vel</th>\n",
       "    </tr>\n",
       "    <tr>\n",
       "      <th>time</th>\n",
       "      <th></th>\n",
       "      <th></th>\n",
       "      <th></th>\n",
       "      <th></th>\n",
       "      <th></th>\n",
       "    </tr>\n",
       "  </thead>\n",
       "  <tbody>\n",
       "    <tr>\n",
       "      <th>2019-01-29 19:00:00</th>\n",
       "      <td>32.0</td>\n",
       "      <td>1007.0</td>\n",
       "      <td>56.0</td>\n",
       "      <td>0.0</td>\n",
       "      <td>213.0</td>\n",
       "    </tr>\n",
       "    <tr>\n",
       "      <th>2019-01-30 19:00:00</th>\n",
       "      <td>31.0</td>\n",
       "      <td>1007.6</td>\n",
       "      <td>62.0</td>\n",
       "      <td>0.0</td>\n",
       "      <td>208.0</td>\n",
       "    </tr>\n",
       "    <tr>\n",
       "      <th>2019-02-08 15:00:00</th>\n",
       "      <td>24.6</td>\n",
       "      <td>1010.2</td>\n",
       "      <td>93.0</td>\n",
       "      <td>0.8</td>\n",
       "      <td>203.0</td>\n",
       "    </tr>\n",
       "    <tr>\n",
       "      <th>2019-02-08 16:00:00</th>\n",
       "      <td>24.4</td>\n",
       "      <td>1009.6</td>\n",
       "      <td>93.0</td>\n",
       "      <td>3.2</td>\n",
       "      <td>190.0</td>\n",
       "    </tr>\n",
       "    <tr>\n",
       "      <th>2019-02-08 17:00:00</th>\n",
       "      <td>24.1</td>\n",
       "      <td>1008.7</td>\n",
       "      <td>93.0</td>\n",
       "      <td>2.4</td>\n",
       "      <td>193.0</td>\n",
       "    </tr>\n",
       "  </tbody>\n",
       "</table>\n",
       "</div>"
      ],
      "text/plain": [
       "                     temp_inst  pressao  umid_inst  precipitacao  vento_vel\n",
       "time                                                                       \n",
       "2019-01-29 19:00:00       32.0   1007.0       56.0           0.0      213.0\n",
       "2019-01-30 19:00:00       31.0   1007.6       62.0           0.0      208.0\n",
       "2019-02-08 15:00:00       24.6   1010.2       93.0           0.8      203.0\n",
       "2019-02-08 16:00:00       24.4   1009.6       93.0           3.2      190.0\n",
       "2019-02-08 17:00:00       24.1   1008.7       93.0           2.4      193.0"
      ]
     },
     "execution_count": 88,
     "metadata": {},
     "output_type": "execute_result"
    }
   ],
   "source": [
    "D = dados7.astype(float)\n",
    "D.head()"
   ]
  },
  {
   "cell_type": "code",
   "execution_count": 89,
   "metadata": {},
   "outputs": [],
   "source": [
    "t = [] #hora de chuva\n",
    "t1 = [] #uma hora anterior\n",
    "t2 = [] #duas horas anteriores\n",
    "t3 = [] #tres horas anteriores\n",
    "t4 = [] #quatro horas anteriores\n",
    "\n",
    "for e in range(len(D)):\n",
    "    \n",
    "    if D['precipitacao'][e]>0 and D['precipitacao'][e-1]==0 and D['precipitacao'][e-2]==0 and D['precipitacao'][e-3]==0 and D['precipitacao'][e-4]==0:\n",
    "        t.append(D.iloc[e])\n",
    "        t1.append(D.iloc[e-1])\n",
    "        t2.append(D.iloc[e-2])\n",
    "        t3.append(D.iloc[e-3])\n",
    "        t4.append(D.iloc[e-4])\n",
    "\n",
    "# Guardando as listas como DataFrames\n",
    "T = pd.DataFrame(t)\n",
    "T1 = pd.DataFrame(t1)\n",
    "T2 = pd.DataFrame(t2)\n",
    "T3 = pd.DataFrame(t3)\n",
    "T4 = pd.DataFrame(t4)\n",
    "\n",
    "# Renomeando as colunas de todos estes DataFrames -  0 Horas\n",
    "T.rename(columns={'temp_inst':'temperatura_t'}, inplace=True)\n",
    "T.rename(columns={'pressao':'pressao_t'}, inplace=True)\n",
    "T.rename(columns={'umid_inst':'umidade_t'}, inplace=True)\n",
    "T.rename(columns={'precipitacao':'precipitacao_t'}, inplace=True)\n",
    "T.rename(columns={'vento_vel':'vento_t'}, inplace=True)\n",
    "T[['temperatura_t', 'pressao_t', 'umidade_t','precipitacao_t','vento_t']].astype(float);\n",
    "\n",
    "# Renomeando as colunas de todos estes DataFrames -  1 Hora atrás\n",
    "T1.rename(columns={'temp_inst':'temperatura_t1'}, inplace=True)\n",
    "T1.rename(columns={'pressao':'pressao_t1'}, inplace=True)\n",
    "T1.rename(columns={'umid_inst':'umidade_t1'}, inplace=True)\n",
    "T1.rename(columns={'precipitacao':'precipitacao_t1'}, inplace=True)\n",
    "T1.rename(columns={'vento_vel':'vento_t1'}, inplace=True)\n",
    "T1[['temperatura_t1', 'pressao_t1', 'umidade_t1','precipitacao_t1','vento_t1']].astype(float);\n",
    "\n",
    "# Renomeando as colunas de todos estes DataFrames -  2 Horas atrás\n",
    "T2.rename(columns={'temp_inst':'temperatura_t2'}, inplace=True)\n",
    "T2.rename(columns={'pressao':'pressao_t2'}, inplace=True)\n",
    "T2.rename(columns={'umid_inst':'umidade_t2'}, inplace=True)\n",
    "T2.rename(columns={'precipitacao':'precipitacao_t2'}, inplace=True)\n",
    "T2.rename(columns={'vento_vel':'vento_t2'}, inplace=True)\n",
    "T2[['temperatura_t2', 'pressao_t2', 'umidade_t2','precipitacao_t2','vento_t2']].astype(float);\n",
    "\n",
    "# Renomeando as colunas de todos estes DataFrames -  3 Horas atrás\n",
    "T3.rename(columns={'temp_inst':'temperatura_t3'}, inplace=True)\n",
    "T3.rename(columns={'pressao':'pressao_t3'}, inplace=True)\n",
    "T3.rename(columns={'umid_inst':'umidade_t3'}, inplace=True)\n",
    "T3.rename(columns={'precipitacao':'precipitacao_t3'}, inplace=True)\n",
    "T3.rename(columns={'vento_vel':'vento_t3'}, inplace=True)\n",
    "T3[['temperatura_t3', 'pressao_t3', 'umidade_t3','precipitacao_t3','vento_t3']].astype(float);\n",
    "\n",
    "# Renomeando as colunas de todos estes DataFrames -  4 Horas atrás\n",
    "T4.rename(columns={'temp_inst':'temperatura_t4'}, inplace=True)\n",
    "T4.rename(columns={'pressao':'pressao_t4'}, inplace=True)\n",
    "T4.rename(columns={'umid_inst':'umidade_t4'}, inplace=True)\n",
    "T4.rename(columns={'precipitacao':'precipitacao_t4'}, inplace=True)\n",
    "T4.rename(columns={'vento_vel':'vento_t4'}, inplace=True)\n",
    "T4[['temperatura_t4', 'pressao_t4', 'umidade_t4','precipitacao_t4','vento_t4']].astype(float);"
   ]
  },
  {
   "cell_type": "markdown",
   "metadata": {},
   "source": [
    "# Observação\n",
    "\n",
    "### É crucial explicitar que, desta forma, o modelo fará a previsão da quantidade de chuva dado os valores  passados e dado o fato de que haverá uma chuva no fim da janela analisada. Isso significa que ele não prevê a chuva em um cenário geral, mas somente nos casos em que se sabe que uma chuva irá cair ou já esteja caindo."
   ]
  },
  {
   "cell_type": "markdown",
   "metadata": {},
   "source": [
    "## Selecionando a variação das variáveis"
   ]
  },
  {
   "cell_type": "markdown",
   "metadata": {},
   "source": [
    "É válido que se preste devida atenção à variação nas variáveis além de seus valores em sí. Um exemplo desta mudança na forma de análise explica como uma temperatura baixa no verâo, provavelmente causada por uma frente fria, geralmente acompanha chuva, enquanto temperaturas baixas no inverno não fornecem um indicativo tão convincente. Na mesma lógica, uma queda ou aumento na pressão significam muito mais que seus valores por se só."
   ]
  },
  {
   "cell_type": "code",
   "execution_count": 90,
   "metadata": {},
   "outputs": [],
   "source": [
    "temp = []\n",
    "umid = []\n",
    "pres = []\n",
    "vel = []\n",
    "preci = []\n",
    "\n",
    "for e in range(len(T)):\n",
    "    \n",
    "    temp.append(abs((T['temperatura_t'][e])-(T3['temperatura_t3'][e])))\n",
    "    umid.append(abs((T['umidade_t'][e])-(T3['umidade_t3'][e])))\n",
    "    pres.append(T3['pressao_t3'][e])\n",
    "    vel.append(T3['vento_t3'][e])\n",
    "    preci.append(T['precipitacao_t'][e])    \n",
    "       \n",
    "Temp = pd.DataFrame(temp)\n",
    "Umid = pd.DataFrame(umid)\n",
    "Pres = pd.DataFrame(pres)\n",
    "Vel = pd.DataFrame(vel)\n",
    "Preci = pd.DataFrame(preci)\n",
    "\n",
    "Temp.rename(columns={0:'temperatura_t'}, inplace=True)\n",
    "Umid.rename(columns={0:'umidade_t'}, inplace=True)\n",
    "Pres.rename(columns={0:'pressao_t'}, inplace=True)\n",
    "Vel.rename(columns={0:'vento_t'}, inplace=True)\n",
    "Preci.rename(columns={0:'precipitacao_t'}, inplace=True)\n",
    "precipita = Preci['precipitacao_t'].astype(float)\n",
    "\n",
    "a = Temp.join(Umid)\n",
    "b = Vel.join(Pres)\n",
    "c = b.join(precipita)\n",
    "variacao = a.join(c)\n",
    "variacao.dropna();"
   ]
  },
  {
   "cell_type": "markdown",
   "metadata": {},
   "source": [
    "#### Correlação entre a variação das VI (variáveis independentes) e a VD (variável dependente)"
   ]
  },
  {
   "cell_type": "code",
   "execution_count": 91,
   "metadata": {},
   "outputs": [
    {
     "data": {
      "text/plain": [
       "0.24453112611206845"
      ]
     },
     "execution_count": 91,
     "metadata": {},
     "output_type": "execute_result"
    }
   ],
   "source": [
    "np.log10(variacao['precipitacao_t']).corr((variacao['umidade_t']))"
   ]
  },
  {
   "cell_type": "code",
   "execution_count": 92,
   "metadata": {},
   "outputs": [
    {
     "data": {
      "text/plain": [
       "0.2716273533567429"
      ]
     },
     "execution_count": 92,
     "metadata": {},
     "output_type": "execute_result"
    }
   ],
   "source": [
    "np.log10(variacao['precipitacao_t']).corr((variacao['temperatura_t']))"
   ]
  },
  {
   "cell_type": "code",
   "execution_count": 93,
   "metadata": {},
   "outputs": [
    {
     "data": {
      "text/plain": [
       "0.050820720192216125"
      ]
     },
     "execution_count": 93,
     "metadata": {},
     "output_type": "execute_result"
    }
   ],
   "source": [
    "np.log10(variacao['precipitacao_t']).corr((variacao['pressao_t']))"
   ]
  },
  {
   "cell_type": "code",
   "execution_count": 94,
   "metadata": {},
   "outputs": [
    {
     "data": {
      "text/plain": [
       "-0.022304725729274288"
      ]
     },
     "execution_count": 94,
     "metadata": {},
     "output_type": "execute_result"
    }
   ],
   "source": [
    "np.log10(variacao['precipitacao_t']).corr((variacao['vento_t']))"
   ]
  },
  {
   "cell_type": "markdown",
   "metadata": {},
   "source": [
    "### Análise para que se possa escolher a melhor hora a ser usada para que se faça a previsão"
   ]
  },
  {
   "cell_type": "markdown",
   "metadata": {},
   "source": [
    "Obs: o valor de t é referente ao tempo no qual os dados foram obtidos em relação ao horário de precipitação; \n",
    "\n",
    "t, t1, t2, t3, t4 representam 0, 1, 2, 3 e 4 horas atrás, respectivamente"
   ]
  },
  {
   "cell_type": "markdown",
   "metadata": {},
   "source": [
    "> Correlação entre os dados de umidade nas horas anteriores com os dados de precipitação"
   ]
  },
  {
   "cell_type": "code",
   "execution_count": 95,
   "metadata": {
    "scrolled": true
   },
   "outputs": [
    {
     "name": "stdout",
     "output_type": "stream",
     "text": [
      "Correlação entre precipitação e umidade na hora exata: 0.4266262462667984\n"
     ]
    }
   ],
   "source": [
    "print('Correlação entre precipitação e umidade na hora exata:',np.log10(T['precipitacao_t']).corr(T['umidade_t']))"
   ]
  },
  {
   "cell_type": "code",
   "execution_count": 96,
   "metadata": {},
   "outputs": [
    {
     "name": "stdout",
     "output_type": "stream",
     "text": [
      "Correlação entre precipitação e umidade uma hora antes: nan\n"
     ]
    }
   ],
   "source": [
    "print('Correlação entre precipitação e umidade uma hora antes:',np.log10(T['precipitacao_t']).corr(T1['umidade_t1']))"
   ]
  },
  {
   "cell_type": "code",
   "execution_count": 97,
   "metadata": {
    "scrolled": true
   },
   "outputs": [
    {
     "name": "stdout",
     "output_type": "stream",
     "text": [
      "Correlação entre precipitação e umidade duas horas antes: nan\n"
     ]
    }
   ],
   "source": [
    "print('Correlação entre precipitação e umidade duas horas antes:',np.log10(T['precipitacao_t']).corr(T2['umidade_t2']))"
   ]
  },
  {
   "cell_type": "code",
   "execution_count": 98,
   "metadata": {},
   "outputs": [
    {
     "name": "stdout",
     "output_type": "stream",
     "text": [
      "Correlação entre precipitação e umidade três horas antes: nan\n"
     ]
    }
   ],
   "source": [
    "print('Correlação entre precipitação e umidade três horas antes:',np.log10(T['precipitacao_t']).corr(T3['umidade_t3']))"
   ]
  },
  {
   "cell_type": "code",
   "execution_count": 99,
   "metadata": {
    "scrolled": true
   },
   "outputs": [
    {
     "name": "stdout",
     "output_type": "stream",
     "text": [
      "Correlação entre precipitação e umidade quatro horas antes: nan\n"
     ]
    }
   ],
   "source": [
    "print('Correlação entre precipitação e umidade quatro horas antes:',np.log10(T['precipitacao_t']).corr(T4['umidade_t4']))"
   ]
  },
  {
   "cell_type": "markdown",
   "metadata": {},
   "source": [
    "> Correlação entre os dados de temperatura nas horas anteriores com os dados de precipitação"
   ]
  },
  {
   "cell_type": "code",
   "execution_count": 100,
   "metadata": {
    "scrolled": true
   },
   "outputs": [
    {
     "name": "stdout",
     "output_type": "stream",
     "text": [
      "Correlação entre precipitação e temperatura na hora exata: -0.3955921574076909\n"
     ]
    }
   ],
   "source": [
    "print('Correlação entre precipitação e temperatura na hora exata:',np.log10(T['precipitacao_t']).corr(T['temperatura_t']))"
   ]
  },
  {
   "cell_type": "code",
   "execution_count": 101,
   "metadata": {},
   "outputs": [
    {
     "name": "stdout",
     "output_type": "stream",
     "text": [
      "Correlação entre precipitação e temperatura uma hora antes: nan\n"
     ]
    }
   ],
   "source": [
    "print('Correlação entre precipitação e temperatura uma hora antes:',np.log10(T['precipitacao_t']).corr(T1['temperatura_t1']))"
   ]
  },
  {
   "cell_type": "code",
   "execution_count": 102,
   "metadata": {},
   "outputs": [
    {
     "name": "stdout",
     "output_type": "stream",
     "text": [
      "Correlação entre precipitação e temperatura duas horas antes: nan\n"
     ]
    }
   ],
   "source": [
    "print('Correlação entre precipitação e temperatura duas horas antes:',np.log10(T['precipitacao_t']).corr(T2['temperatura_t2']))"
   ]
  },
  {
   "cell_type": "code",
   "execution_count": 103,
   "metadata": {
    "scrolled": true
   },
   "outputs": [
    {
     "name": "stdout",
     "output_type": "stream",
     "text": [
      "Correlação entre precipitação e temperatura três horas antes: nan\n"
     ]
    }
   ],
   "source": [
    "print('Correlação entre precipitação e temperatura três horas antes:',np.log10(T['precipitacao_t']).corr(T3['temperatura_t3']))"
   ]
  },
  {
   "cell_type": "code",
   "execution_count": 104,
   "metadata": {},
   "outputs": [
    {
     "name": "stdout",
     "output_type": "stream",
     "text": [
      "Correlação entre precipitação e temperatura quatro horas antes: nan\n"
     ]
    }
   ],
   "source": [
    "print('Correlação entre precipitação e temperatura quatro horas antes:',np.log10(T['precipitacao_t']).corr(T4['temperatura_t4']))"
   ]
  },
  {
   "cell_type": "markdown",
   "metadata": {},
   "source": [
    "> Correlação entre os dados de pressão atmosférica nas horas anteriores com os dados de precipitação"
   ]
  },
  {
   "cell_type": "code",
   "execution_count": 105,
   "metadata": {},
   "outputs": [
    {
     "name": "stdout",
     "output_type": "stream",
     "text": [
      "Correlação entre precipitação e pressão atmosférica na hora exata: 0.02184955680145\n"
     ]
    }
   ],
   "source": [
    "print('Correlação entre precipitação e pressão atmosférica na hora exata:',np.log10(T['precipitacao_t']).corr(T['pressao_t']))"
   ]
  },
  {
   "cell_type": "code",
   "execution_count": 106,
   "metadata": {},
   "outputs": [
    {
     "name": "stdout",
     "output_type": "stream",
     "text": [
      "Correlação entre precipitação e pressão atmosférica uma hora antes: nan\n"
     ]
    }
   ],
   "source": [
    "print('Correlação entre precipitação e pressão atmosférica uma hora antes:',np.log10(T['precipitacao_t']).corr(T1['pressao_t1']))"
   ]
  },
  {
   "cell_type": "code",
   "execution_count": 107,
   "metadata": {},
   "outputs": [
    {
     "name": "stdout",
     "output_type": "stream",
     "text": [
      "Correlação entre precipitação e pressão atmosférica duas horas antes: nan\n"
     ]
    }
   ],
   "source": [
    "print('Correlação entre precipitação e pressão atmosférica duas horas antes:',np.log10(T['precipitacao_t']).corr(T2['pressao_t2']))"
   ]
  },
  {
   "cell_type": "code",
   "execution_count": 108,
   "metadata": {},
   "outputs": [
    {
     "name": "stdout",
     "output_type": "stream",
     "text": [
      "Correlação entre precipitação e pressão atmosférica três horas antes: nan\n"
     ]
    }
   ],
   "source": [
    "print('Correlação entre precipitação e pressão atmosférica três horas antes:',np.log10(T['precipitacao_t']).corr(T3['pressao_t3']))"
   ]
  },
  {
   "cell_type": "code",
   "execution_count": 109,
   "metadata": {
    "scrolled": true
   },
   "outputs": [
    {
     "name": "stdout",
     "output_type": "stream",
     "text": [
      "Correlação entre precipitação e pressão atmosférica quatro horas antes: nan\n"
     ]
    }
   ],
   "source": [
    "print('Correlação entre precipitação e pressão atmosférica quatro horas antes:',np.log10(T['precipitacao_t']).corr(T4['pressao_t4']))"
   ]
  },
  {
   "cell_type": "markdown",
   "metadata": {},
   "source": [
    "> Correlação entre os dados de velocidade do vento nas horas anteriores com os dados de precipitação"
   ]
  },
  {
   "cell_type": "code",
   "execution_count": 110,
   "metadata": {},
   "outputs": [
    {
     "name": "stdout",
     "output_type": "stream",
     "text": [
      "Correlação entre pressão e velocidade do vento na hora exata: 0.030962837547650533\n"
     ]
    }
   ],
   "source": [
    "print('Correlação entre pressão e velocidade do vento na hora exata:',np.log10((T['precipitacao_t'])).corr(T['vento_t']))"
   ]
  },
  {
   "cell_type": "code",
   "execution_count": 111,
   "metadata": {},
   "outputs": [
    {
     "name": "stdout",
     "output_type": "stream",
     "text": [
      "Correlação entre pressão e velocidade do vento uma hora antes: nan\n"
     ]
    }
   ],
   "source": [
    "print('Correlação entre pressão e velocidade do vento uma hora antes:',np.log10((T['precipitacao_t'])).corr(T1['vento_t1']))"
   ]
  },
  {
   "cell_type": "code",
   "execution_count": 112,
   "metadata": {},
   "outputs": [
    {
     "name": "stdout",
     "output_type": "stream",
     "text": [
      "Correlação entre pressão e velocidade do vento duas horas antes: nan\n"
     ]
    }
   ],
   "source": [
    "print('Correlação entre pressão e velocidade do vento duas horas antes:',np.log10((T['precipitacao_t'])).corr(T2['vento_t2']))"
   ]
  },
  {
   "cell_type": "code",
   "execution_count": 113,
   "metadata": {},
   "outputs": [
    {
     "name": "stdout",
     "output_type": "stream",
     "text": [
      "Correlação entre pressão e velocidade do vento três horas antes: nan\n"
     ]
    }
   ],
   "source": [
    "print('Correlação entre pressão e velocidade do vento três horas antes:',np.log10((T['precipitacao_t'])).corr(T3['vento_t3']))"
   ]
  },
  {
   "cell_type": "code",
   "execution_count": 114,
   "metadata": {
    "scrolled": true
   },
   "outputs": [
    {
     "name": "stdout",
     "output_type": "stream",
     "text": [
      "Correlação entre pressão e velocidade do vento quatro horas antes: nan\n"
     ]
    }
   ],
   "source": [
    "print('Correlação entre pressão e velocidade do vento quatro horas antes:',np.log10((T['precipitacao_t'])).corr(T4['vento_t4']))"
   ]
  },
  {
   "cell_type": "markdown",
   "metadata": {},
   "source": [
    " A partir das análises feitas nessas células pode-se concluir que a hora t3, ou seja, 3 horas antes do ocorrido, mostra uma correlação consistentemente maior que as outras faixas de tempo"
   ]
  },
  {
   "cell_type": "markdown",
   "metadata": {},
   "source": [
    "___\n",
    "## Analisando os dias que tiveram chuvas"
   ]
  },
  {
   "cell_type": "markdown",
   "metadata": {},
   "source": [
    "### Análise com log"
   ]
  },
  {
   "cell_type": "code",
   "execution_count": 115,
   "metadata": {},
   "outputs": [
    {
     "data": {
      "text/html": [
       "<div>\n",
       "<style scoped>\n",
       "    .dataframe tbody tr th:only-of-type {\n",
       "        vertical-align: middle;\n",
       "    }\n",
       "\n",
       "    .dataframe tbody tr th {\n",
       "        vertical-align: top;\n",
       "    }\n",
       "\n",
       "    .dataframe thead th {\n",
       "        text-align: right;\n",
       "    }\n",
       "</style>\n",
       "<table border=\"1\" class=\"dataframe\">\n",
       "  <thead>\n",
       "    <tr style=\"text-align: right;\">\n",
       "      <th></th>\n",
       "      <th>temp_inst</th>\n",
       "      <th>pressao</th>\n",
       "      <th>umid_inst</th>\n",
       "      <th>precipitacao</th>\n",
       "      <th>vento_vel</th>\n",
       "    </tr>\n",
       "    <tr>\n",
       "      <th>time</th>\n",
       "      <th></th>\n",
       "      <th></th>\n",
       "      <th></th>\n",
       "      <th></th>\n",
       "      <th></th>\n",
       "    </tr>\n",
       "  </thead>\n",
       "  <tbody>\n",
       "    <tr>\n",
       "      <th>2019-02-08 17:00:00</th>\n",
       "      <td>3.182212</td>\n",
       "      <td>6.916418</td>\n",
       "      <td>4.532599</td>\n",
       "      <td>0.875469</td>\n",
       "      <td>5.262690</td>\n",
       "    </tr>\n",
       "    <tr>\n",
       "      <th>2019-02-08 16:00:00</th>\n",
       "      <td>3.194583</td>\n",
       "      <td>6.917309</td>\n",
       "      <td>4.532599</td>\n",
       "      <td>1.163151</td>\n",
       "      <td>5.247024</td>\n",
       "    </tr>\n",
       "    <tr>\n",
       "      <th>2019-02-09 15:00:00</th>\n",
       "      <td>3.226844</td>\n",
       "      <td>6.917508</td>\n",
       "      <td>4.532599</td>\n",
       "      <td>0.955511</td>\n",
       "      <td>4.983607</td>\n",
       "    </tr>\n",
       "    <tr>\n",
       "      <th>2019-02-09 14:00:00</th>\n",
       "      <td>3.206803</td>\n",
       "      <td>6.918003</td>\n",
       "      <td>4.532599</td>\n",
       "      <td>0.875469</td>\n",
       "      <td>5.214936</td>\n",
       "    </tr>\n",
       "    <tr>\n",
       "      <th>2019-02-09 13:00:00</th>\n",
       "      <td>3.210844</td>\n",
       "      <td>6.917706</td>\n",
       "      <td>4.532599</td>\n",
       "      <td>1.223775</td>\n",
       "      <td>5.204007</td>\n",
       "    </tr>\n",
       "  </tbody>\n",
       "</table>\n",
       "</div>"
      ],
      "text/plain": [
       "                     temp_inst   pressao  umid_inst  precipitacao  vento_vel\n",
       "time                                                                        \n",
       "2019-02-08 17:00:00   3.182212  6.916418   4.532599      0.875469   5.262690\n",
       "2019-02-08 16:00:00   3.194583  6.917309   4.532599      1.163151   5.247024\n",
       "2019-02-09 15:00:00   3.226844  6.917508   4.532599      0.955511   4.983607\n",
       "2019-02-09 14:00:00   3.206803  6.918003   4.532599      0.875469   5.214936\n",
       "2019-02-09 13:00:00   3.210844  6.917706   4.532599      1.223775   5.204007"
      ]
     },
     "execution_count": 115,
     "metadata": {},
     "output_type": "execute_result"
    }
   ],
   "source": [
    "dados_log_com_chuva = dados_log[dados_log['precipitacao']>0]\n",
    "dados_log_com_chuva.head()"
   ]
  },
  {
   "cell_type": "code",
   "execution_count": 116,
   "metadata": {},
   "outputs": [],
   "source": [
    "temperatura1_log = dados_log_com_chuva['temp_inst']\n",
    "pressao1_log = dados_log_com_chuva['pressao']\n",
    "umidade1_log = dados_log_com_chuva['umid_inst']\n",
    "precipitacao1_log = dados_log_com_chuva['precipitacao']"
   ]
  },
  {
   "cell_type": "markdown",
   "metadata": {},
   "source": [
    "### Análise de correlação entre variáveis independentes"
   ]
  },
  {
   "cell_type": "markdown",
   "metadata": {},
   "source": [
    "Uma grande correlação entre variáveis independentes comprometem a análise por serem redundantes entre sí, impedindo que o algoritmo atribua valores relevantes às mesmas variáveis"
   ]
  },
  {
   "cell_type": "markdown",
   "metadata": {},
   "source": [
    "Scatter plots a fim de facilitar a visualização da correlação entre as variáveis"
   ]
  },
  {
   "cell_type": "code",
   "execution_count": 117,
   "metadata": {},
   "outputs": [
    {
     "data": {
      "image/png": "[encoded data removed]",
      "text/plain": [
       "<Figure size 1440x360 with 3 Axes>"
      ]
     },
     "metadata": {
      "needs_background": "light"
     },
     "output_type": "display_data"
    }
   ],
   "source": [
    "fig, axs = plt.subplots(1, 3)\n",
    "fig.set_size_inches(20, 5) \n",
    "axs[0].scatter(temperatura1_log,pressao1_log, alpha=0.4);\n",
    "axs[0].set_title('Temperatura x Pressao');\n",
    "axs[1].scatter(temperatura1_log,umidade1_log, alpha=0.4);\n",
    "axs[1].set_title('Temperatura x Umidade');\n",
    "axs[2].scatter(pressao1_log,umidade1_log, alpha=0.4);\n",
    "axs[2].set_title('Pressao x Umidade');"
   ]
  },
  {
   "cell_type": "markdown",
   "metadata": {},
   "source": [
    "### Análise sem log"
   ]
  },
  {
   "cell_type": "markdown",
   "metadata": {},
   "source": [
    "Novamente, se trata de uma análise a fim de selecionar variáveis independentes que de fato contribuam com o modelo"
   ]
  },
  {
   "cell_type": "code",
   "execution_count": 118,
   "metadata": {},
   "outputs": [
    {
     "data": {
      "text/html": [
       "<div>\n",
       "<style scoped>\n",
       "    .dataframe tbody tr th:only-of-type {\n",
       "        vertical-align: middle;\n",
       "    }\n",
       "\n",
       "    .dataframe tbody tr th {\n",
       "        vertical-align: top;\n",
       "    }\n",
       "\n",
       "    .dataframe thead th {\n",
       "        text-align: right;\n",
       "    }\n",
       "</style>\n",
       "<table border=\"1\" class=\"dataframe\">\n",
       "  <thead>\n",
       "    <tr style=\"text-align: right;\">\n",
       "      <th></th>\n",
       "      <th>time</th>\n",
       "      <th>temp_inst</th>\n",
       "      <th>pressao</th>\n",
       "      <th>umid_inst</th>\n",
       "      <th>precipitacao</th>\n",
       "      <th>vento_vel</th>\n",
       "    </tr>\n",
       "  </thead>\n",
       "  <tbody>\n",
       "    <tr>\n",
       "      <th>2</th>\n",
       "      <td>2019-02-08 15:00:00</td>\n",
       "      <td>24.6</td>\n",
       "      <td>1010.2</td>\n",
       "      <td>93</td>\n",
       "      <td>0.8</td>\n",
       "      <td>203</td>\n",
       "    </tr>\n",
       "    <tr>\n",
       "      <th>3</th>\n",
       "      <td>2019-02-08 16:00:00</td>\n",
       "      <td>24.4</td>\n",
       "      <td>1009.6</td>\n",
       "      <td>93</td>\n",
       "      <td>3.2</td>\n",
       "      <td>190</td>\n",
       "    </tr>\n",
       "    <tr>\n",
       "      <th>4</th>\n",
       "      <td>2019-02-08 17:00:00</td>\n",
       "      <td>24.1</td>\n",
       "      <td>1008.7</td>\n",
       "      <td>93</td>\n",
       "      <td>2.4</td>\n",
       "      <td>193</td>\n",
       "    </tr>\n",
       "    <tr>\n",
       "      <th>5</th>\n",
       "      <td>2019-02-08 18:00:00</td>\n",
       "      <td>24.6</td>\n",
       "      <td>1007.6</td>\n",
       "      <td>93</td>\n",
       "      <td>1.0</td>\n",
       "      <td>143</td>\n",
       "    </tr>\n",
       "    <tr>\n",
       "      <th>13</th>\n",
       "      <td>2019-02-09 13:00:00</td>\n",
       "      <td>24.8</td>\n",
       "      <td>1010</td>\n",
       "      <td>93</td>\n",
       "      <td>3.4</td>\n",
       "      <td>182</td>\n",
       "    </tr>\n",
       "  </tbody>\n",
       "</table>\n",
       "</div>"
      ],
      "text/plain": [
       "                  time temp_inst pressao umid_inst precipitacao vento_vel\n",
       "2  2019-02-08 15:00:00      24.6  1010.2        93          0.8       203\n",
       "3  2019-02-08 16:00:00      24.4  1009.6        93          3.2       190\n",
       "4  2019-02-08 17:00:00      24.1  1008.7        93          2.4       193\n",
       "5  2019-02-08 18:00:00      24.6  1007.6        93          1.0       143\n",
       "13 2019-02-09 13:00:00      24.8    1010        93          3.4       182"
      ]
     },
     "execution_count": 118,
     "metadata": {},
     "output_type": "execute_result"
    }
   ],
   "source": [
    "dados7 = dados7.reset_index()\n",
    "dados_com_chuva = dados7[dados7['precipitacao'].astype(float)>0]\n",
    "dados_com_chuva.head()"
   ]
  },
  {
   "cell_type": "code",
   "execution_count": 119,
   "metadata": {},
   "outputs": [],
   "source": [
    "tempo1 = dados_com_chuva['time']\n",
    "temperatura1 = dados_com_chuva['temp_inst']\n",
    "pressao1 = dados_com_chuva['pressao']\n",
    "umidade1 = dados_com_chuva['umid_inst']\n",
    "precipitacao1 = dados_com_chuva['precipitacao']\n",
    "\n",
    "temperatura1 = temperatura1.astype(float)\n",
    "umidade1 = umidade1.astype(float)\n",
    "pressao1 = pressao1.astype(float)\n",
    "precipitacao1 = precipitacao1.astype(float)\n",
    "\n",
    "temperatura1_log = temperatura1_log.astype(float)\n",
    "umidade1_log = umidade1_log.astype(float)\n",
    "pressao1_log = pressao1_log.astype(float)\n",
    "precipitacao1_log = precipitacao1_log.astype(float)"
   ]
  },
  {
   "cell_type": "markdown",
   "metadata": {},
   "source": [
    "Scatter plots das variáveis independentes, que passam uma imagem visual da correlação entre elas"
   ]
  },
  {
   "cell_type": "code",
   "execution_count": 183,
   "metadata": {
    "scrolled": false
   },
   "outputs": [
    {
     "data": {
      "image/png": "[encoded data removed]",
      "text/plain": [
       "<Figure size 1800x504 with 3 Axes>"
      ]
     },
     "metadata": {
      "needs_background": "light"
     },
     "output_type": "display_data"
    }
   ],
   "source": [
    "fig, axs = plt.subplots(1, 3)\n",
    "fig.set_size_inches(25, 7) \n",
    "axs[0].scatter(temperatura1,pressao1, alpha=0.3);\n",
    "axs[0].set_title('Temperatura x Pressao');\n",
    "axs[1].scatter(temperatura1,umidade1, alpha=0.3);\n",
    "axs[1].set_title('Temperatura x Umidade');\n",
    "axs[2].scatter(pressao1,umidade1, alpha=0.3);\n",
    "axs[2].set_title('Pressao x Umidade');"
   ]
  },
  {
   "cell_type": "markdown",
   "metadata": {},
   "source": [
    "### Correlação entre as variáveis independentes"
   ]
  },
  {
   "cell_type": "markdown",
   "metadata": {},
   "source": [
    "Cálculo do valor númerico das correlações entre as variáveis independentes"
   ]
  },
  {
   "cell_type": "markdown",
   "metadata": {},
   "source": [
    "> Sem uso de log"
   ]
  },
  {
   "cell_type": "code",
   "execution_count": 121,
   "metadata": {},
   "outputs": [
    {
     "name": "stdout",
     "output_type": "stream",
     "text": [
      "Correlação entre temperatura e pressão: -0.23549984017938178\n",
      "Correlação entre temperatura e umidade: -0.8449678271003968\n",
      "Correlação entre pressão e umidade: 0.16198840360542682\n"
     ]
    }
   ],
   "source": [
    "print('Correlação entre temperatura e pressão:', temperatura1.corr(pressao1))\n",
    "print('Correlação entre temperatura e umidade:', temperatura1.corr(umidade1))\n",
    "print('Correlação entre pressão e umidade:',pressao1.corr(umidade1))"
   ]
  },
  {
   "cell_type": "markdown",
   "metadata": {},
   "source": [
    "> Com uso de log"
   ]
  },
  {
   "cell_type": "code",
   "execution_count": 122,
   "metadata": {},
   "outputs": [
    {
     "name": "stdout",
     "output_type": "stream",
     "text": [
      "Correlação entre temperatura e pressão: -0.24089658479603426\n",
      "Correlação entre temperatura e umidade: -0.8358342152650253\n",
      "Correlação entre pressão e umidade: 0.16203262500892351\n"
     ]
    }
   ],
   "source": [
    "print('Correlação entre temperatura e pressão:', np.log10(temperatura1).corr(pressao1))\n",
    "print('Correlação entre temperatura e umidade:', np.log10(temperatura1).corr(umidade1))\n",
    "print('Correlação entre pressão e umidade:',np.log10(pressao1).corr(umidade1))"
   ]
  },
  {
   "cell_type": "markdown",
   "metadata": {},
   "source": [
    "O uso de logaritmos nos valores das variáveis ajuda, em certos casos, a mostrar correlações que antes não eram percebidas dado a sua natureza"
   ]
  },
  {
   "cell_type": "markdown",
   "metadata": {},
   "source": [
    "Scatter plot das variáveis independentes x dependentes com logaritmo, a fim de visualizar possíveis correlações "
   ]
  },
  {
   "cell_type": "code",
   "execution_count": 123,
   "metadata": {},
   "outputs": [
    {
     "data": {
      "image/png": "[encoded data removed]",
      "text/plain": [
       "<Figure size 1800x504 with 3 Axes>"
      ]
     },
     "metadata": {
      "needs_background": "light"
     },
     "output_type": "display_data"
    }
   ],
   "source": [
    "fig, axs = plt.subplots(1, 3)\n",
    "fig.set_size_inches(25, 7) \n",
    "axs[0].scatter(temperatura1,np.log10(precipitacao1), alpha=0.3);\n",
    "axs[0].set_title('Temperatura x Precipitação');\n",
    "axs[1].scatter(umidade1,np.log10(precipitacao1), alpha=0.3);\n",
    "axs[1].set_title('Umidade x Precipitação');\n",
    "axs[2].scatter(pressao1,np.log10(precipitacao1), alpha=0.3);\n",
    "axs[2].set_title('Pressão x Precipitação');"
   ]
  },
  {
   "cell_type": "markdown",
   "metadata": {},
   "source": [
    "### Correlação entre as variáveis independentes e a variável dependente"
   ]
  },
  {
   "cell_type": "markdown",
   "metadata": {},
   "source": [
    "Este cálculo é crucial para que se perceba quais variáveis podem, de fato contribuir para o modelo. Essa possível contribuição depende da correlação entre as variáveis independentes escolhidas e a variável dependente a ser calculada"
   ]
  },
  {
   "cell_type": "markdown",
   "metadata": {},
   "source": [
    "> Cálculo sem usar o logaritmo"
   ]
  },
  {
   "cell_type": "code",
   "execution_count": 124,
   "metadata": {},
   "outputs": [
    {
     "name": "stdout",
     "output_type": "stream",
     "text": [
      "Correlação entre precipitação e pressão: 0.07173739558690949\n",
      "Correlação entre precipitação e umidade: 0.2668909440242693\n",
      "Correlação entre precipitação e umidade: -0.3404714001582595\n"
     ]
    }
   ],
   "source": [
    "print('Correlação entre precipitação e pressão:',(precipitacao1).corr(pressao1))\n",
    "print('Correlação entre precipitação e umidade:',(precipitacao1).corr(umidade1))\n",
    "print('Correlação entre precipitação e umidade:',(precipitacao1).corr(temperatura1))"
   ]
  },
  {
   "cell_type": "markdown",
   "metadata": {},
   "source": [
    "> Cálculo usando o logaritmo"
   ]
  },
  {
   "cell_type": "code",
   "execution_count": 125,
   "metadata": {
    "scrolled": true
   },
   "outputs": [
    {
     "name": "stdout",
     "output_type": "stream",
     "text": [
      "Correlação entre precipitação e pressão: 0.025288786872702054\n",
      "Correlação entre precipitação e umidade: 0.3710590857351418\n",
      "Correlação entre precipitação e umidade: -0.395696050836482\n"
     ]
    }
   ],
   "source": [
    "print('Correlação entre precipitação e pressão:', np.log10(precipitacao1).corr(pressao1))\n",
    "print('Correlação entre precipitação e umidade:', np.log10(precipitacao1).corr(umidade1))\n",
    "print('Correlação entre precipitação e umidade:',np.log10(precipitacao1).corr(temperatura1))"
   ]
  },
  {
   "cell_type": "markdown",
   "metadata": {},
   "source": [
    "## Plot de tabelas OLS"
   ]
  },
  {
   "cell_type": "markdown",
   "metadata": {},
   "source": [
    "As tabelas OLS são usadas para que se possa ter uma noção de como os dados se comportam e como se dão cetos parâmetros relevântes para a análise"
   ]
  },
  {
   "cell_type": "code",
   "execution_count": 126,
   "metadata": {},
   "outputs": [
    {
     "name": "stderr",
     "output_type": "stream",
     "text": [
      "/Users/joaopedrochacon/anaconda3/lib/python3.7/site-packages/numpy/core/fromnumeric.py:2389: FutureWarning: Method .ptp is deprecated and will be removed in a future version. Use numpy.ptp instead.\n",
      "  return ptp(axis=axis, out=out, **kwargs)\n"
     ]
    },
    {
     "data": {
      "text/html": [
       "<table class=\"simpletable\">\n",
       "<caption>OLS Regression Results</caption>\n",
       "<tr>\n",
       "  <th>Dep. Variable:</th>      <td>precipitacao</td>   <th>  R-squared:         </th> <td>   0.138</td>\n",
       "</tr>\n",
       "<tr>\n",
       "  <th>Model:</th>                   <td>OLS</td>       <th>  Adj. R-squared:    </th> <td>   0.135</td>\n",
       "</tr>\n",
       "<tr>\n",
       "  <th>Method:</th>             <td>Least Squares</td>  <th>  F-statistic:       </th> <td>   59.56</td>\n",
       "</tr>\n",
       "<tr>\n",
       "  <th>Date:</th>             <td>Tue, 19 Nov 2019</td> <th>  Prob (F-statistic):</th> <td>1.10e-13</td>\n",
       "</tr>\n",
       "<tr>\n",
       "  <th>Time:</th>                 <td>16:21:06</td>     <th>  Log-Likelihood:    </th> <td> -320.32</td>\n",
       "</tr>\n",
       "<tr>\n",
       "  <th>No. Observations:</th>      <td>   375</td>      <th>  AIC:               </th> <td>   644.6</td>\n",
       "</tr>\n",
       "<tr>\n",
       "  <th>Df Residuals:</th>          <td>   373</td>      <th>  BIC:               </th> <td>   652.5</td>\n",
       "</tr>\n",
       "<tr>\n",
       "  <th>Df Model:</th>              <td>     1</td>      <th>                     </th>     <td> </td>   \n",
       "</tr>\n",
       "<tr>\n",
       "  <th>Covariance Type:</th>      <td>nonrobust</td>    <th>                     </th>     <td> </td>   \n",
       "</tr>\n",
       "</table>\n",
       "<table class=\"simpletable\">\n",
       "<tr>\n",
       "      <td></td>         <th>coef</th>     <th>std err</th>      <th>t</th>      <th>P>|t|</th>  <th>[0.025</th>    <th>0.975]</th>  \n",
       "</tr>\n",
       "<tr>\n",
       "  <th>const</th>     <td>   -3.4092</td> <td>    0.451</td> <td>   -7.560</td> <td> 0.000</td> <td>   -4.296</td> <td>   -2.522</td>\n",
       "</tr>\n",
       "<tr>\n",
       "  <th>umid_inst</th> <td>    0.0388</td> <td>    0.005</td> <td>    7.717</td> <td> 0.000</td> <td>    0.029</td> <td>    0.049</td>\n",
       "</tr>\n",
       "</table>\n",
       "<table class=\"simpletable\">\n",
       "<tr>\n",
       "  <th>Omnibus:</th>       <td>25.847</td> <th>  Durbin-Watson:     </th> <td>   1.620</td>\n",
       "</tr>\n",
       "<tr>\n",
       "  <th>Prob(Omnibus):</th> <td> 0.000</td> <th>  Jarque-Bera (JB):  </th> <td>  12.227</td>\n",
       "</tr>\n",
       "<tr>\n",
       "  <th>Skew:</th>          <td> 0.235</td> <th>  Prob(JB):          </th> <td> 0.00221</td>\n",
       "</tr>\n",
       "<tr>\n",
       "  <th>Kurtosis:</th>      <td> 2.251</td> <th>  Cond. No.          </th> <td>1.37e+03</td>\n",
       "</tr>\n",
       "</table><br/><br/>Warnings:<br/>[1] Standard Errors assume that the covariance matrix of the errors is correctly specified.<br/>[2] The condition number is large, 1.37e+03. This might indicate that there are<br/>strong multicollinearity or other numerical problems."
      ],
      "text/plain": [
       "<class 'statsmodels.iolib.summary.Summary'>\n",
       "\"\"\"\n",
       "                            OLS Regression Results                            \n",
       "==============================================================================\n",
       "Dep. Variable:           precipitacao   R-squared:                       0.138\n",
       "Model:                            OLS   Adj. R-squared:                  0.135\n",
       "Method:                 Least Squares   F-statistic:                     59.56\n",
       "Date:                Tue, 19 Nov 2019   Prob (F-statistic):           1.10e-13\n",
       "Time:                        16:21:06   Log-Likelihood:                -320.32\n",
       "No. Observations:                 375   AIC:                             644.6\n",
       "Df Residuals:                     373   BIC:                             652.5\n",
       "Df Model:                           1                                         \n",
       "Covariance Type:            nonrobust                                         \n",
       "==============================================================================\n",
       "                 coef    std err          t      P>|t|      [0.025      0.975]\n",
       "------------------------------------------------------------------------------\n",
       "const         -3.4092      0.451     -7.560      0.000      -4.296      -2.522\n",
       "umid_inst      0.0388      0.005      7.717      0.000       0.029       0.049\n",
       "==============================================================================\n",
       "Omnibus:                       25.847   Durbin-Watson:                   1.620\n",
       "Prob(Omnibus):                  0.000   Jarque-Bera (JB):               12.227\n",
       "Skew:                           0.235   Prob(JB):                      0.00221\n",
       "Kurtosis:                       2.251   Cond. No.                     1.37e+03\n",
       "==============================================================================\n",
       "\n",
       "Warnings:\n",
       "[1] Standard Errors assume that the covariance matrix of the errors is correctly specified.\n",
       "[2] The condition number is large, 1.37e+03. This might indicate that there are\n",
       "strong multicollinearity or other numerical problems.\n",
       "\"\"\""
      ]
     },
     "execution_count": 126,
     "metadata": {},
     "output_type": "execute_result"
    }
   ],
   "source": [
    "model = sm.OLS(np.log10(precipitacao1),sm.add_constant(umidade1))\n",
    "results = model.fit()\n",
    "results.summary()"
   ]
  },
  {
   "cell_type": "code",
   "execution_count": 127,
   "metadata": {},
   "outputs": [
    {
     "data": {
      "text/html": [
       "<table class=\"simpletable\">\n",
       "<caption>OLS Regression Results</caption>\n",
       "<tr>\n",
       "  <th>Dep. Variable:</th>      <td>precipitacao</td>   <th>  R-squared:         </th> <td>   0.071</td>\n",
       "</tr>\n",
       "<tr>\n",
       "  <th>Model:</th>                   <td>OLS</td>       <th>  Adj. R-squared:    </th> <td>   0.069</td>\n",
       "</tr>\n",
       "<tr>\n",
       "  <th>Method:</th>             <td>Least Squares</td>  <th>  F-statistic:       </th> <td>   28.61</td>\n",
       "</tr>\n",
       "<tr>\n",
       "  <th>Date:</th>             <td>Tue, 19 Nov 2019</td> <th>  Prob (F-statistic):</th> <td>1.55e-07</td>\n",
       "</tr>\n",
       "<tr>\n",
       "  <th>Time:</th>                 <td>16:21:07</td>     <th>  Log-Likelihood:    </th> <td> -1194.2</td>\n",
       "</tr>\n",
       "<tr>\n",
       "  <th>No. Observations:</th>      <td>   375</td>      <th>  AIC:               </th> <td>   2392.</td>\n",
       "</tr>\n",
       "<tr>\n",
       "  <th>Df Residuals:</th>          <td>   373</td>      <th>  BIC:               </th> <td>   2400.</td>\n",
       "</tr>\n",
       "<tr>\n",
       "  <th>Df Model:</th>              <td>     1</td>      <th>                     </th>     <td> </td>   \n",
       "</tr>\n",
       "<tr>\n",
       "  <th>Covariance Type:</th>      <td>nonrobust</td>    <th>                     </th>     <td> </td>   \n",
       "</tr>\n",
       "</table>\n",
       "<table class=\"simpletable\">\n",
       "<tr>\n",
       "      <td></td>         <th>coef</th>     <th>std err</th>      <th>t</th>      <th>P>|t|</th>  <th>[0.025</th>    <th>0.975]</th>  \n",
       "</tr>\n",
       "<tr>\n",
       "  <th>const</th>     <td>  -21.5130</td> <td>    4.637</td> <td>   -4.640</td> <td> 0.000</td> <td>  -30.630</td> <td>  -12.395</td>\n",
       "</tr>\n",
       "<tr>\n",
       "  <th>umid_inst</th> <td>    0.2765</td> <td>    0.052</td> <td>    5.349</td> <td> 0.000</td> <td>    0.175</td> <td>    0.378</td>\n",
       "</tr>\n",
       "</table>\n",
       "<table class=\"simpletable\">\n",
       "<tr>\n",
       "  <th>Omnibus:</th>       <td>381.230</td> <th>  Durbin-Watson:     </th> <td>   1.712</td> \n",
       "</tr>\n",
       "<tr>\n",
       "  <th>Prob(Omnibus):</th> <td> 0.000</td>  <th>  Jarque-Bera (JB):  </th> <td>14008.460</td>\n",
       "</tr>\n",
       "<tr>\n",
       "  <th>Skew:</th>          <td> 4.420</td>  <th>  Prob(JB):          </th> <td>    0.00</td> \n",
       "</tr>\n",
       "<tr>\n",
       "  <th>Kurtosis:</th>      <td>31.607</td>  <th>  Cond. No.          </th> <td>1.37e+03</td> \n",
       "</tr>\n",
       "</table><br/><br/>Warnings:<br/>[1] Standard Errors assume that the covariance matrix of the errors is correctly specified.<br/>[2] The condition number is large, 1.37e+03. This might indicate that there are<br/>strong multicollinearity or other numerical problems."
      ],
      "text/plain": [
       "<class 'statsmodels.iolib.summary.Summary'>\n",
       "\"\"\"\n",
       "                            OLS Regression Results                            \n",
       "==============================================================================\n",
       "Dep. Variable:           precipitacao   R-squared:                       0.071\n",
       "Model:                            OLS   Adj. R-squared:                  0.069\n",
       "Method:                 Least Squares   F-statistic:                     28.61\n",
       "Date:                Tue, 19 Nov 2019   Prob (F-statistic):           1.55e-07\n",
       "Time:                        16:21:07   Log-Likelihood:                -1194.2\n",
       "No. Observations:                 375   AIC:                             2392.\n",
       "Df Residuals:                     373   BIC:                             2400.\n",
       "Df Model:                           1                                         \n",
       "Covariance Type:            nonrobust                                         \n",
       "==============================================================================\n",
       "                 coef    std err          t      P>|t|      [0.025      0.975]\n",
       "------------------------------------------------------------------------------\n",
       "const        -21.5130      4.637     -4.640      0.000     -30.630     -12.395\n",
       "umid_inst      0.2765      0.052      5.349      0.000       0.175       0.378\n",
       "==============================================================================\n",
       "Omnibus:                      381.230   Durbin-Watson:                   1.712\n",
       "Prob(Omnibus):                  0.000   Jarque-Bera (JB):            14008.460\n",
       "Skew:                           4.420   Prob(JB):                         0.00\n",
       "Kurtosis:                      31.607   Cond. No.                     1.37e+03\n",
       "==============================================================================\n",
       "\n",
       "Warnings:\n",
       "[1] Standard Errors assume that the covariance matrix of the errors is correctly specified.\n",
       "[2] The condition number is large, 1.37e+03. This might indicate that there are\n",
       "strong multicollinearity or other numerical problems.\n",
       "\"\"\""
      ]
     },
     "execution_count": 127,
     "metadata": {},
     "output_type": "execute_result"
    }
   ],
   "source": [
    "model = sm.OLS(precipitacao1,sm.add_constant(umidade1))\n",
    "results = model.fit()\n",
    "results.summary()"
   ]
  },
  {
   "cell_type": "code",
   "execution_count": 128,
   "metadata": {},
   "outputs": [
    {
     "data": {
      "text/html": [
       "<table class=\"simpletable\">\n",
       "<caption>OLS Regression Results</caption>\n",
       "<tr>\n",
       "  <th>Dep. Variable:</th>      <td>precipitacao</td>   <th>  R-squared:         </th> <td>   0.116</td>\n",
       "</tr>\n",
       "<tr>\n",
       "  <th>Model:</th>                   <td>OLS</td>       <th>  Adj. R-squared:    </th> <td>   0.114</td>\n",
       "</tr>\n",
       "<tr>\n",
       "  <th>Method:</th>             <td>Least Squares</td>  <th>  F-statistic:       </th> <td>   48.91</td>\n",
       "</tr>\n",
       "<tr>\n",
       "  <th>Date:</th>             <td>Tue, 19 Nov 2019</td> <th>  Prob (F-statistic):</th> <td>1.25e-11</td>\n",
       "</tr>\n",
       "<tr>\n",
       "  <th>Time:</th>                 <td>16:21:07</td>     <th>  Log-Likelihood:    </th> <td> -1185.0</td>\n",
       "</tr>\n",
       "<tr>\n",
       "  <th>No. Observations:</th>      <td>   375</td>      <th>  AIC:               </th> <td>   2374.</td>\n",
       "</tr>\n",
       "<tr>\n",
       "  <th>Df Residuals:</th>          <td>   373</td>      <th>  BIC:               </th> <td>   2382.</td>\n",
       "</tr>\n",
       "<tr>\n",
       "  <th>Df Model:</th>              <td>     1</td>      <th>                     </th>     <td> </td>   \n",
       "</tr>\n",
       "<tr>\n",
       "  <th>Covariance Type:</th>      <td>nonrobust</td>    <th>                     </th>     <td> </td>   \n",
       "</tr>\n",
       "</table>\n",
       "<table class=\"simpletable\">\n",
       "<tr>\n",
       "      <td></td>         <th>coef</th>     <th>std err</th>      <th>t</th>      <th>P>|t|</th>  <th>[0.025</th>    <th>0.975]</th>  \n",
       "</tr>\n",
       "<tr>\n",
       "  <th>const</th>     <td>   38.7996</td> <td>    5.094</td> <td>    7.617</td> <td> 0.000</td> <td>   28.783</td> <td>   48.816</td>\n",
       "</tr>\n",
       "<tr>\n",
       "  <th>temp_inst</th> <td>   -1.4032</td> <td>    0.201</td> <td>   -6.993</td> <td> 0.000</td> <td>   -1.798</td> <td>   -1.009</td>\n",
       "</tr>\n",
       "</table>\n",
       "<table class=\"simpletable\">\n",
       "<tr>\n",
       "  <th>Omnibus:</th>       <td>360.020</td> <th>  Durbin-Watson:     </th> <td>   1.760</td> \n",
       "</tr>\n",
       "<tr>\n",
       "  <th>Prob(Omnibus):</th> <td> 0.000</td>  <th>  Jarque-Bera (JB):  </th> <td>11225.551</td>\n",
       "</tr>\n",
       "<tr>\n",
       "  <th>Skew:</th>          <td> 4.092</td>  <th>  Prob(JB):          </th> <td>    0.00</td> \n",
       "</tr>\n",
       "<tr>\n",
       "  <th>Kurtosis:</th>      <td>28.523</td>  <th>  Cond. No.          </th> <td>    439.</td> \n",
       "</tr>\n",
       "</table><br/><br/>Warnings:<br/>[1] Standard Errors assume that the covariance matrix of the errors is correctly specified."
      ],
      "text/plain": [
       "<class 'statsmodels.iolib.summary.Summary'>\n",
       "\"\"\"\n",
       "                            OLS Regression Results                            \n",
       "==============================================================================\n",
       "Dep. Variable:           precipitacao   R-squared:                       0.116\n",
       "Model:                            OLS   Adj. R-squared:                  0.114\n",
       "Method:                 Least Squares   F-statistic:                     48.91\n",
       "Date:                Tue, 19 Nov 2019   Prob (F-statistic):           1.25e-11\n",
       "Time:                        16:21:07   Log-Likelihood:                -1185.0\n",
       "No. Observations:                 375   AIC:                             2374.\n",
       "Df Residuals:                     373   BIC:                             2382.\n",
       "Df Model:                           1                                         \n",
       "Covariance Type:            nonrobust                                         \n",
       "==============================================================================\n",
       "                 coef    std err          t      P>|t|      [0.025      0.975]\n",
       "------------------------------------------------------------------------------\n",
       "const         38.7996      5.094      7.617      0.000      28.783      48.816\n",
       "temp_inst     -1.4032      0.201     -6.993      0.000      -1.798      -1.009\n",
       "==============================================================================\n",
       "Omnibus:                      360.020   Durbin-Watson:                   1.760\n",
       "Prob(Omnibus):                  0.000   Jarque-Bera (JB):            11225.551\n",
       "Skew:                           4.092   Prob(JB):                         0.00\n",
       "Kurtosis:                      28.523   Cond. No.                         439.\n",
       "==============================================================================\n",
       "\n",
       "Warnings:\n",
       "[1] Standard Errors assume that the covariance matrix of the errors is correctly specified.\n",
       "\"\"\""
      ]
     },
     "execution_count": 128,
     "metadata": {},
     "output_type": "execute_result"
    }
   ],
   "source": [
    "model = sm.OLS(precipitacao1,sm.add_constant(temperatura1))\n",
    "results = model.fit()\n",
    "results.summary()"
   ]
  },
  {
   "cell_type": "markdown",
   "metadata": {},
   "source": [
    "___\n",
    "## Analisando os dias que não tiveram chuvas"
   ]
  },
  {
   "cell_type": "markdown",
   "metadata": {},
   "source": [
    "##### Análise com log"
   ]
  },
  {
   "cell_type": "code",
   "execution_count": 129,
   "metadata": {},
   "outputs": [
    {
     "data": {
      "text/html": [
       "<div>\n",
       "<style scoped>\n",
       "    .dataframe tbody tr th:only-of-type {\n",
       "        vertical-align: middle;\n",
       "    }\n",
       "\n",
       "    .dataframe tbody tr th {\n",
       "        vertical-align: top;\n",
       "    }\n",
       "\n",
       "    .dataframe thead th {\n",
       "        text-align: right;\n",
       "    }\n",
       "</style>\n",
       "<table border=\"1\" class=\"dataframe\">\n",
       "  <thead>\n",
       "    <tr style=\"text-align: right;\">\n",
       "      <th></th>\n",
       "      <th>temp_inst</th>\n",
       "      <th>pressao</th>\n",
       "      <th>umid_inst</th>\n",
       "      <th>precipitacao</th>\n",
       "      <th>vento_vel</th>\n",
       "    </tr>\n",
       "    <tr>\n",
       "      <th>time</th>\n",
       "      <th></th>\n",
       "      <th></th>\n",
       "      <th></th>\n",
       "      <th></th>\n",
       "      <th></th>\n",
       "    </tr>\n",
       "  </thead>\n",
       "  <tbody>\n",
       "    <tr>\n",
       "      <th>2019-02-08 18:00:00</th>\n",
       "      <td>3.202746</td>\n",
       "      <td>6.915327</td>\n",
       "      <td>4.532599</td>\n",
       "      <td>0.0</td>\n",
       "      <td>4.962845</td>\n",
       "    </tr>\n",
       "    <tr>\n",
       "      <th>2019-03-02 18:00:00</th>\n",
       "      <td>3.258097</td>\n",
       "      <td>6.918299</td>\n",
       "      <td>4.488636</td>\n",
       "      <td>0.0</td>\n",
       "      <td>5.231109</td>\n",
       "    </tr>\n",
       "    <tr>\n",
       "      <th>2019-03-02 19:00:00</th>\n",
       "      <td>3.198673</td>\n",
       "      <td>6.918201</td>\n",
       "      <td>4.510860</td>\n",
       "      <td>0.0</td>\n",
       "      <td>5.176150</td>\n",
       "    </tr>\n",
       "    <tr>\n",
       "      <th>2019-03-10 16:00:00</th>\n",
       "      <td>3.238678</td>\n",
       "      <td>6.917805</td>\n",
       "      <td>4.442651</td>\n",
       "      <td>0.0</td>\n",
       "      <td>5.262690</td>\n",
       "    </tr>\n",
       "    <tr>\n",
       "      <th>2019-04-03 11:00:00</th>\n",
       "      <td>3.198673</td>\n",
       "      <td>6.918992</td>\n",
       "      <td>4.553877</td>\n",
       "      <td>0.0</td>\n",
       "      <td>5.099866</td>\n",
       "    </tr>\n",
       "  </tbody>\n",
       "</table>\n",
       "</div>"
      ],
      "text/plain": [
       "                     temp_inst   pressao  umid_inst  precipitacao  vento_vel\n",
       "time                                                                        \n",
       "2019-02-08 18:00:00   3.202746  6.915327   4.532599           0.0   4.962845\n",
       "2019-03-02 18:00:00   3.258097  6.918299   4.488636           0.0   5.231109\n",
       "2019-03-02 19:00:00   3.198673  6.918201   4.510860           0.0   5.176150\n",
       "2019-03-10 16:00:00   3.238678  6.917805   4.442651           0.0   5.262690\n",
       "2019-04-03 11:00:00   3.198673  6.918992   4.553877           0.0   5.099866"
      ]
     },
     "execution_count": 129,
     "metadata": {},
     "output_type": "execute_result"
    }
   ],
   "source": [
    "dados_log_sem_chuva = dados_log[dados_log['precipitacao']==0]\n",
    "dados_log_sem_chuva.head()"
   ]
  },
  {
   "cell_type": "code",
   "execution_count": 130,
   "metadata": {},
   "outputs": [],
   "source": [
    "temperatura2_log = dados_log_com_chuva['temp_inst']\n",
    "pressao2_log = dados_log_com_chuva['pressao']\n",
    "umidade2_log = dados_log_com_chuva['umid_inst']\n",
    "precipitacao2_log = dados_log_com_chuva['precipitacao']"
   ]
  },
  {
   "cell_type": "code",
   "execution_count": 182,
   "metadata": {},
   "outputs": [
    {
     "data": {
      "image/png": "[encoded data removed]",
      "text/plain": [
       "<Figure size 1440x360 with 3 Axes>"
      ]
     },
     "metadata": {
      "needs_background": "light"
     },
     "output_type": "display_data"
    }
   ],
   "source": [
    "fig, axs = plt.subplots(1, 3)\n",
    "fig.set_size_inches(20, 5) \n",
    "axs[0].scatter(temperatura2_log,pressao2_log, alpha=0.3);\n",
    "axs[0].set_title('Temperatura x Pressao');\n",
    "axs[1].scatter(temperatura2_log,umidade2_log, alpha=0.3);\n",
    "axs[1].set_title('Temperatura x Umidade');\n",
    "axs[2].scatter(pressao2_log,umidade2_log, alpha=0.3);\n",
    "axs[2].set_title('Pressao x Umidade');"
   ]
  },
  {
   "cell_type": "markdown",
   "metadata": {},
   "source": [
    "##### Análise sem log"
   ]
  },
  {
   "cell_type": "code",
   "execution_count": 135,
   "metadata": {},
   "outputs": [
    {
     "data": {
      "text/html": [
       "<div>\n",
       "<style scoped>\n",
       "    .dataframe tbody tr th:only-of-type {\n",
       "        vertical-align: middle;\n",
       "    }\n",
       "\n",
       "    .dataframe tbody tr th {\n",
       "        vertical-align: top;\n",
       "    }\n",
       "\n",
       "    .dataframe thead th {\n",
       "        text-align: right;\n",
       "    }\n",
       "</style>\n",
       "<table border=\"1\" class=\"dataframe\">\n",
       "  <thead>\n",
       "    <tr style=\"text-align: right;\">\n",
       "      <th></th>\n",
       "      <th>time</th>\n",
       "      <th>temp_inst</th>\n",
       "      <th>pressao</th>\n",
       "      <th>umid_inst</th>\n",
       "      <th>precipitacao</th>\n",
       "      <th>vento_vel</th>\n",
       "    </tr>\n",
       "  </thead>\n",
       "  <tbody>\n",
       "    <tr>\n",
       "      <th>2526</th>\n",
       "      <td>2019-10-01 10:00:00</td>\n",
       "      <td>24.7</td>\n",
       "      <td>1007.8</td>\n",
       "      <td>92</td>\n",
       "      <td>0</td>\n",
       "      <td>353</td>\n",
       "    </tr>\n",
       "    <tr>\n",
       "      <th>2527</th>\n",
       "      <td>2019-10-01 11:00:00</td>\n",
       "      <td>28</td>\n",
       "      <td>1008.5</td>\n",
       "      <td>78</td>\n",
       "      <td>0</td>\n",
       "      <td>35</td>\n",
       "    </tr>\n",
       "    <tr>\n",
       "      <th>2528</th>\n",
       "      <td>2019-10-01 12:00:00</td>\n",
       "      <td>30</td>\n",
       "      <td>1009.1</td>\n",
       "      <td>68</td>\n",
       "      <td>0</td>\n",
       "      <td>63</td>\n",
       "    </tr>\n",
       "    <tr>\n",
       "      <th>2529</th>\n",
       "      <td>2019-10-01 13:00:00</td>\n",
       "      <td>30.8</td>\n",
       "      <td>1009.7</td>\n",
       "      <td>65</td>\n",
       "      <td>0</td>\n",
       "      <td>64</td>\n",
       "    </tr>\n",
       "    <tr>\n",
       "      <th>2530</th>\n",
       "      <td>2019-10-01 14:00:00</td>\n",
       "      <td>31.5</td>\n",
       "      <td>1009.8</td>\n",
       "      <td>55</td>\n",
       "      <td>0</td>\n",
       "      <td>93</td>\n",
       "    </tr>\n",
       "  </tbody>\n",
       "</table>\n",
       "</div>"
      ],
      "text/plain": [
       "                    time temp_inst pressao umid_inst precipitacao vento_vel\n",
       "2526 2019-10-01 10:00:00      24.7  1007.8        92            0       353\n",
       "2527 2019-10-01 11:00:00        28  1008.5        78            0        35\n",
       "2528 2019-10-01 12:00:00        30  1009.1        68            0        63\n",
       "2529 2019-10-01 13:00:00      30.8  1009.7        65            0        64\n",
       "2530 2019-10-01 14:00:00      31.5  1009.8        55            0        93"
      ]
     },
     "execution_count": 135,
     "metadata": {},
     "output_type": "execute_result"
    }
   ],
   "source": [
    "dados_sem_chuva = dados7[dados7['precipitacao']==0]\n",
    "dados_sem_chuva.head()"
   ]
  },
  {
   "cell_type": "code",
   "execution_count": 136,
   "metadata": {},
   "outputs": [],
   "source": [
    "tempo2 = dados_sem_chuva['time']\n",
    "temperatura2 = dados_sem_chuva['temp_inst']\n",
    "pressao2 = dados_sem_chuva['pressao']\n",
    "umidade2 = dados_sem_chuva['umid_inst']\n",
    "precipitacao2 = dados_sem_chuva['precipitacao']"
   ]
  },
  {
   "cell_type": "code",
   "execution_count": 181,
   "metadata": {
    "scrolled": false
   },
   "outputs": [
    {
     "data": {
      "image/png": "[encoded data removed]",
      "text/plain": [
       "<Figure size 1440x360 with 3 Axes>"
      ]
     },
     "metadata": {
      "needs_background": "light"
     },
     "output_type": "display_data"
    }
   ],
   "source": [
    "fig, axs = plt.subplots(1, 3)\n",
    "fig.set_size_inches(20, 5) \n",
    "axs[0].scatter(temperatura2,pressao2, alpha=0.2);\n",
    "axs[0].set_title('Temperatura x Pressão');\n",
    "axs[1].scatter(temperatura2,umidade2, alpha=0.2);\n",
    "axs[1].set_title('Temperatura x Umidade');\n",
    "axs[2].scatter(pressao2,umidade2, alpha=0.2);\n",
    "axs[2].set_title('Pressão x Umidade');"
   ]
  },
  {
   "cell_type": "markdown",
   "metadata": {},
   "source": [
    "***Valores de correlação entre as variáveis***"
   ]
  },
  {
   "cell_type": "code",
   "execution_count": 138,
   "metadata": {},
   "outputs": [
    {
     "name": "stdout",
     "output_type": "stream",
     "text": [
      "Correlação entre temperatura e pressão: -0.23088202988357032\n",
      "Correlação entre temperatura e umidade: -0.9590109967695862\n",
      "Correlação entre pressão e umidade: 0.32779248975521075\n"
     ]
    }
   ],
   "source": [
    "temperatura2 = temperatura2.astype(float)\n",
    "umidade2 = umidade2.astype(float)\n",
    "pressao2 = pressao2.astype(float)\n",
    "print('Correlação entre temperatura e pressão:', temperatura2.corr(pressao2))\n",
    "print('Correlação entre temperatura e umidade:', temperatura2.corr(umidade2))\n",
    "print('Correlação entre pressão e umidade:',pressao2.corr(umidade2))"
   ]
  },
  {
   "cell_type": "markdown",
   "metadata": {},
   "source": [
    "## Esclarecendo a mudança de DataSet"
   ]
  },
  {
   "cell_type": "markdown",
   "metadata": {},
   "source": [
    "Com os dados anteriores, mesmo após muitas manipulações e iterações, as correlações das variáveis independentes com a variável dependente eram muito baixas. A partir dos estudos feitos, era certeza que temperatura, pressão, umidade e velocidade do vento tinham impacto no regime de chuvas, logo, a nossa escolha de variáveis independentes não estava equivocada."
   ]
  },
  {
   "cell_type": "markdown",
   "metadata": {},
   "source": [
    "Sabendo disso, foi feito um esforço para que se compreendesse o motivo do comportamento incoerente do nosso DataSet em comparação com as pesquisas feitas anteriormente. Ao fim, chegou-se à hipótese de que a própria estação de coleta de dados poderia ser um problema, dado que as mesmas se encontravam em cidades não tão relevantes dentro do país."
   ]
  },
  {
   "cell_type": "markdown",
   "metadata": {},
   "source": [
    "Dessa forma, para tentar solucionar o problema, uma estação em São Paulo, a maior e mais importante cidade do Brasil foi selecionada, com base na ideia de que sua relevância significaria dados de maior qualidade quando comparados com os anteriores. O resultado desta troca foi satisfátorio, dado como as correlações das variáveis independentes com a variável dependente aumentaram consideravelmente, tanto numéricamente por meio do cálculo ca correlação quanto visualmente, por meio dos Scatter Plots realizados "
   ]
  },
  {
   "cell_type": "markdown",
   "metadata": {},
   "source": [
    "____\n",
    "## Realizando as regressões"
   ]
  },
  {
   "cell_type": "code",
   "execution_count": 139,
   "metadata": {},
   "outputs": [],
   "source": [
    "### Função utilitária para fazer a regressão com constante adicionada\n",
    "def regress(X,Y):\n",
    "    X_cp = sm.add_constant(X)\n",
    "    model = sm.OLS(Y,X_cp)\n",
    "    results = model.fit()\n",
    "    return results"
   ]
  },
  {
   "cell_type": "code",
   "execution_count": 140,
   "metadata": {},
   "outputs": [],
   "source": [
    "Y = variacao['precipitacao_t']\n",
    "X3 = variacao[['temperatura_t', 'pressao_t', 'umidade_t','vento_t']]"
   ]
  },
  {
   "cell_type": "code",
   "execution_count": 141,
   "metadata": {
    "scrolled": false
   },
   "outputs": [
    {
     "data": {
      "text/html": [
       "<table class=\"simpletable\">\n",
       "<caption>OLS Regression Results</caption>\n",
       "<tr>\n",
       "  <th>Dep. Variable:</th>            <td>y</td>        <th>  R-squared:         </th> <td>   0.083</td>\n",
       "</tr>\n",
       "<tr>\n",
       "  <th>Model:</th>                   <td>OLS</td>       <th>  Adj. R-squared:    </th> <td>   0.050</td>\n",
       "</tr>\n",
       "<tr>\n",
       "  <th>Method:</th>             <td>Least Squares</td>  <th>  F-statistic:       </th> <td>   2.524</td>\n",
       "</tr>\n",
       "<tr>\n",
       "  <th>Date:</th>             <td>Tue, 19 Nov 2019</td> <th>  Prob (F-statistic):</th>  <td>0.0449</td> \n",
       "</tr>\n",
       "<tr>\n",
       "  <th>Time:</th>                 <td>16:21:30</td>     <th>  Log-Likelihood:    </th> <td> -355.78</td>\n",
       "</tr>\n",
       "<tr>\n",
       "  <th>No. Observations:</th>      <td>   116</td>      <th>  AIC:               </th> <td>   721.6</td>\n",
       "</tr>\n",
       "<tr>\n",
       "  <th>Df Residuals:</th>          <td>   111</td>      <th>  BIC:               </th> <td>   735.3</td>\n",
       "</tr>\n",
       "<tr>\n",
       "  <th>Df Model:</th>              <td>     4</td>      <th>                     </th>     <td> </td>   \n",
       "</tr>\n",
       "<tr>\n",
       "  <th>Covariance Type:</th>      <td>nonrobust</td>    <th>                     </th>     <td> </td>   \n",
       "</tr>\n",
       "</table>\n",
       "<table class=\"simpletable\">\n",
       "<tr>\n",
       "    <td></td>       <th>coef</th>     <th>std err</th>      <th>t</th>      <th>P>|t|</th>  <th>[0.025</th>    <th>0.975]</th>  \n",
       "</tr>\n",
       "<tr>\n",
       "  <th>const</th> <td> -178.1848</td> <td>  257.122</td> <td>   -0.693</td> <td> 0.490</td> <td> -687.690</td> <td>  331.320</td>\n",
       "</tr>\n",
       "<tr>\n",
       "  <th>x1</th>    <td>    0.6035</td> <td>    0.581</td> <td>    1.039</td> <td> 0.301</td> <td>   -0.548</td> <td>    1.755</td>\n",
       "</tr>\n",
       "<tr>\n",
       "  <th>x2</th>    <td>    0.1767</td> <td>    0.254</td> <td>    0.695</td> <td> 0.488</td> <td>   -0.327</td> <td>    0.680</td>\n",
       "</tr>\n",
       "<tr>\n",
       "  <th>x3</th>    <td>    0.0738</td> <td>    0.128</td> <td>    0.575</td> <td> 0.566</td> <td>   -0.180</td> <td>    0.328</td>\n",
       "</tr>\n",
       "<tr>\n",
       "  <th>x4</th>    <td>   -0.0052</td> <td>    0.010</td> <td>   -0.521</td> <td> 0.603</td> <td>   -0.025</td> <td>    0.015</td>\n",
       "</tr>\n",
       "</table>\n",
       "<table class=\"simpletable\">\n",
       "<tr>\n",
       "  <th>Omnibus:</th>       <td>182.013</td> <th>  Durbin-Watson:     </th> <td>   2.068</td> \n",
       "</tr>\n",
       "<tr>\n",
       "  <th>Prob(Omnibus):</th> <td> 0.000</td>  <th>  Jarque-Bera (JB):  </th> <td>12116.524</td>\n",
       "</tr>\n",
       "<tr>\n",
       "  <th>Skew:</th>          <td> 6.129</td>  <th>  Prob(JB):          </th> <td>    0.00</td> \n",
       "</tr>\n",
       "<tr>\n",
       "  <th>Kurtosis:</th>      <td>51.545</td>  <th>  Cond. No.          </th> <td>5.35e+05</td> \n",
       "</tr>\n",
       "</table><br/><br/>Warnings:<br/>[1] Standard Errors assume that the covariance matrix of the errors is correctly specified.<br/>[2] The condition number is large, 5.35e+05. This might indicate that there are<br/>strong multicollinearity or other numerical problems."
      ],
      "text/plain": [
       "<class 'statsmodels.iolib.summary.Summary'>\n",
       "\"\"\"\n",
       "                            OLS Regression Results                            \n",
       "==============================================================================\n",
       "Dep. Variable:                      y   R-squared:                       0.083\n",
       "Model:                            OLS   Adj. R-squared:                  0.050\n",
       "Method:                 Least Squares   F-statistic:                     2.524\n",
       "Date:                Tue, 19 Nov 2019   Prob (F-statistic):             0.0449\n",
       "Time:                        16:21:30   Log-Likelihood:                -355.78\n",
       "No. Observations:                 116   AIC:                             721.6\n",
       "Df Residuals:                     111   BIC:                             735.3\n",
       "Df Model:                           4                                         \n",
       "Covariance Type:            nonrobust                                         \n",
       "==============================================================================\n",
       "                 coef    std err          t      P>|t|      [0.025      0.975]\n",
       "------------------------------------------------------------------------------\n",
       "const       -178.1848    257.122     -0.693      0.490    -687.690     331.320\n",
       "x1             0.6035      0.581      1.039      0.301      -0.548       1.755\n",
       "x2             0.1767      0.254      0.695      0.488      -0.327       0.680\n",
       "x3             0.0738      0.128      0.575      0.566      -0.180       0.328\n",
       "x4            -0.0052      0.010     -0.521      0.603      -0.025       0.015\n",
       "==============================================================================\n",
       "Omnibus:                      182.013   Durbin-Watson:                   2.068\n",
       "Prob(Omnibus):                  0.000   Jarque-Bera (JB):            12116.524\n",
       "Skew:                           6.129   Prob(JB):                         0.00\n",
       "Kurtosis:                      51.545   Cond. No.                     5.35e+05\n",
       "==============================================================================\n",
       "\n",
       "Warnings:\n",
       "[1] Standard Errors assume that the covariance matrix of the errors is correctly specified.\n",
       "[2] The condition number is large, 5.35e+05. This might indicate that there are\n",
       "strong multicollinearity or other numerical problems.\n",
       "\"\"\""
      ]
     },
     "execution_count": 141,
     "metadata": {},
     "output_type": "execute_result"
    }
   ],
   "source": [
    "results1 = regress(X3.values, Y.values)\n",
    "results1.summary()"
   ]
  },
  {
   "cell_type": "code",
   "execution_count": 142,
   "metadata": {},
   "outputs": [],
   "source": [
    "from sklearn.model_selection import train_test_split \n",
    "from sklearn.linear_model import LinearRegression\n",
    "from sklearn import metrics"
   ]
  },
  {
   "cell_type": "code",
   "execution_count": 143,
   "metadata": {},
   "outputs": [],
   "source": [
    "X_train, X_test, y_train, y_test = train_test_split(X3.values, Y.values, test_size=0.2, random_state=0)"
   ]
  },
  {
   "cell_type": "code",
   "execution_count": 144,
   "metadata": {
    "scrolled": false
   },
   "outputs": [
    {
     "data": {
      "text/html": [
       "<table class=\"simpletable\">\n",
       "<caption>OLS Regression Results</caption>\n",
       "<tr>\n",
       "  <th>Dep. Variable:</th>            <td>y</td>        <th>  R-squared:         </th> <td>   0.086</td>\n",
       "</tr>\n",
       "<tr>\n",
       "  <th>Model:</th>                   <td>OLS</td>       <th>  Adj. R-squared:    </th> <td>   0.044</td>\n",
       "</tr>\n",
       "<tr>\n",
       "  <th>Method:</th>             <td>Least Squares</td>  <th>  F-statistic:       </th> <td>   2.049</td>\n",
       "</tr>\n",
       "<tr>\n",
       "  <th>Date:</th>             <td>Tue, 19 Nov 2019</td> <th>  Prob (F-statistic):</th>  <td>0.0945</td> \n",
       "</tr>\n",
       "<tr>\n",
       "  <th>Time:</th>                 <td>16:21:30</td>     <th>  Log-Likelihood:    </th> <td> -290.31</td>\n",
       "</tr>\n",
       "<tr>\n",
       "  <th>No. Observations:</th>      <td>    92</td>      <th>  AIC:               </th> <td>   590.6</td>\n",
       "</tr>\n",
       "<tr>\n",
       "  <th>Df Residuals:</th>          <td>    87</td>      <th>  BIC:               </th> <td>   603.2</td>\n",
       "</tr>\n",
       "<tr>\n",
       "  <th>Df Model:</th>              <td>     4</td>      <th>                     </th>     <td> </td>   \n",
       "</tr>\n",
       "<tr>\n",
       "  <th>Covariance Type:</th>      <td>nonrobust</td>    <th>                     </th>     <td> </td>   \n",
       "</tr>\n",
       "</table>\n",
       "<table class=\"simpletable\">\n",
       "<tr>\n",
       "    <td></td>       <th>coef</th>     <th>std err</th>      <th>t</th>      <th>P>|t|</th>  <th>[0.025</th>    <th>0.975]</th>  \n",
       "</tr>\n",
       "<tr>\n",
       "  <th>const</th> <td> -233.2477</td> <td>  320.563</td> <td>   -0.728</td> <td> 0.469</td> <td> -870.401</td> <td>  403.906</td>\n",
       "</tr>\n",
       "<tr>\n",
       "  <th>x1</th>    <td>    0.6726</td> <td>    0.745</td> <td>    0.903</td> <td> 0.369</td> <td>   -0.808</td> <td>    2.154</td>\n",
       "</tr>\n",
       "<tr>\n",
       "  <th>x2</th>    <td>    0.2311</td> <td>    0.317</td> <td>    0.729</td> <td> 0.468</td> <td>   -0.399</td> <td>    0.861</td>\n",
       "</tr>\n",
       "<tr>\n",
       "  <th>x3</th>    <td>    0.0819</td> <td>    0.162</td> <td>    0.506</td> <td> 0.614</td> <td>   -0.240</td> <td>    0.404</td>\n",
       "</tr>\n",
       "<tr>\n",
       "  <th>x4</th>    <td>   -0.0057</td> <td>    0.012</td> <td>   -0.458</td> <td> 0.648</td> <td>   -0.030</td> <td>    0.019</td>\n",
       "</tr>\n",
       "</table>\n",
       "<table class=\"simpletable\">\n",
       "<tr>\n",
       "  <th>Omnibus:</th>       <td>146.321</td> <th>  Durbin-Watson:     </th> <td>   2.320</td>\n",
       "</tr>\n",
       "<tr>\n",
       "  <th>Prob(Omnibus):</th> <td> 0.000</td>  <th>  Jarque-Bera (JB):  </th> <td>6837.529</td>\n",
       "</tr>\n",
       "<tr>\n",
       "  <th>Skew:</th>          <td> 5.696</td>  <th>  Prob(JB):          </th> <td>    0.00</td>\n",
       "</tr>\n",
       "<tr>\n",
       "  <th>Kurtosis:</th>      <td>43.668</td>  <th>  Cond. No.          </th> <td>5.41e+05</td>\n",
       "</tr>\n",
       "</table><br/><br/>Warnings:<br/>[1] Standard Errors assume that the covariance matrix of the errors is correctly specified.<br/>[2] The condition number is large, 5.41e+05. This might indicate that there are<br/>strong multicollinearity or other numerical problems."
      ],
      "text/plain": [
       "<class 'statsmodels.iolib.summary.Summary'>\n",
       "\"\"\"\n",
       "                            OLS Regression Results                            \n",
       "==============================================================================\n",
       "Dep. Variable:                      y   R-squared:                       0.086\n",
       "Model:                            OLS   Adj. R-squared:                  0.044\n",
       "Method:                 Least Squares   F-statistic:                     2.049\n",
       "Date:                Tue, 19 Nov 2019   Prob (F-statistic):             0.0945\n",
       "Time:                        16:21:30   Log-Likelihood:                -290.31\n",
       "No. Observations:                  92   AIC:                             590.6\n",
       "Df Residuals:                      87   BIC:                             603.2\n",
       "Df Model:                           4                                         \n",
       "Covariance Type:            nonrobust                                         \n",
       "==============================================================================\n",
       "                 coef    std err          t      P>|t|      [0.025      0.975]\n",
       "------------------------------------------------------------------------------\n",
       "const       -233.2477    320.563     -0.728      0.469    -870.401     403.906\n",
       "x1             0.6726      0.745      0.903      0.369      -0.808       2.154\n",
       "x2             0.2311      0.317      0.729      0.468      -0.399       0.861\n",
       "x3             0.0819      0.162      0.506      0.614      -0.240       0.404\n",
       "x4            -0.0057      0.012     -0.458      0.648      -0.030       0.019\n",
       "==============================================================================\n",
       "Omnibus:                      146.321   Durbin-Watson:                   2.320\n",
       "Prob(Omnibus):                  0.000   Jarque-Bera (JB):             6837.529\n",
       "Skew:                           5.696   Prob(JB):                         0.00\n",
       "Kurtosis:                      43.668   Cond. No.                     5.41e+05\n",
       "==============================================================================\n",
       "\n",
       "Warnings:\n",
       "[1] Standard Errors assume that the covariance matrix of the errors is correctly specified.\n",
       "[2] The condition number is large, 5.41e+05. This might indicate that there are\n",
       "strong multicollinearity or other numerical problems.\n",
       "\"\"\""
      ]
     },
     "execution_count": 144,
     "metadata": {},
     "output_type": "execute_result"
    }
   ],
   "source": [
    "results2 = regress(X_train, y_train)\n",
    "results2.summary()"
   ]
  },
  {
   "cell_type": "markdown",
   "metadata": {},
   "source": [
    "**Regressão usando Regressão Linear Múltipla**"
   ]
  },
  {
   "cell_type": "code",
   "execution_count": 145,
   "metadata": {},
   "outputs": [],
   "source": [
    "regressor = LinearRegression()  \n",
    "regressor.fit(X_train, y_train)\n",
    "y_pred = regressor.predict(X_test)\n",
    "df = pd.DataFrame({'Actual': y_test, 'Predicted': y_pred})"
   ]
  },
  {
   "cell_type": "code",
   "execution_count": 146,
   "metadata": {},
   "outputs": [],
   "source": [
    "p = 0\n",
    "while p < len(df['Predicted']):\n",
    "    if df['Predicted'][p] < 0:\n",
    "        df['Predicted'][p] = 0\n",
    "    \n",
    "    p += 1"
   ]
  },
  {
   "cell_type": "code",
   "execution_count": 147,
   "metadata": {},
   "outputs": [],
   "source": [
    "df.head(10);"
   ]
  },
  {
   "cell_type": "code",
   "execution_count": 148,
   "metadata": {
    "scrolled": true
   },
   "outputs": [
    {
     "name": "stdout",
     "output_type": "stream",
     "text": [
      "O erro médio é: 1.9204691779944965\n",
      "O desvio padrão do erro é: 1.8703408773127406\n"
     ]
    }
   ],
   "source": [
    "lista_actual = list(df['Actual'])\n",
    "lista_predicted = list(df['Predicted'])\n",
    "\n",
    "erros = []\n",
    "k = 0\n",
    "while k < len(lista_actual):\n",
    "    erros.append(abs(lista_actual[k] - lista_predicted[k]))\n",
    "    k += 1\n",
    "    \n",
    "print('O erro médio é:',np.mean(erros))\n",
    "print('O desvio padrão do erro é:', np.std(erros))"
   ]
  },
  {
   "cell_type": "code",
   "execution_count": 177,
   "metadata": {},
   "outputs": [
    {
     "data": {
      "image/png": "[encoded data removed]",
      "text/plain": [
       "<Figure size 432x288 with 1 Axes>"
      ]
     },
     "metadata": {
      "needs_background": "light"
     },
     "output_type": "display_data"
    }
   ],
   "source": [
    "a = np.arange(0,24,1)\n",
    "plt.plot(a, df['Actual'], 'bo')\n",
    "plt.plot(a, df['Predicted'], 'ro')\n",
    "plt.title('Comparaçao dos valores previstos com os reais')\n",
    "plt.ylabel('Número de mm de chuva')\n",
    "plt.grid(True)\n",
    "plt.show()"
   ]
  },
  {
   "cell_type": "code",
   "execution_count": 175,
   "metadata": {
    "scrolled": true
   },
   "outputs": [
    {
     "data": {
      "image/png": "[encoded data removed]",
      "text/plain": [
       "<Figure size 432x288 with 1 Axes>"
      ]
     },
     "metadata": {
      "needs_background": "light"
     },
     "output_type": "display_data"
    }
   ],
   "source": [
    "df.iloc[:20,:].plot(kind='bar', color=('blue', 'red'), legend=True );\n",
    "plt.title('Comparaçao dos valores previstos com os reais')\n",
    "plt.ylabel('Número de mm de chuva')\n",
    "plt.grid(True)"
   ]
  },
  {
   "cell_type": "markdown",
   "metadata": {},
   "source": [
    "**Regressão usando Random Forrest Regressor**"
   ]
  },
  {
   "cell_type": "code",
   "execution_count": 160,
   "metadata": {},
   "outputs": [],
   "source": [
    "from sklearn.ensemble import RandomForestRegressor\n",
    "\n",
    "# Setando 100 árvores de decisão\n",
    "rf = RandomForestRegressor(n_estimators = 100, random_state = 42)\n",
    "\n",
    "# Treinando o modelo\n",
    "rf.fit(X_train, y_train);"
   ]
  },
  {
   "cell_type": "code",
   "execution_count": 161,
   "metadata": {},
   "outputs": [],
   "source": [
    "# Fazendo as predições\n",
    "predictions = rf.predict(X_test)"
   ]
  },
  {
   "cell_type": "code",
   "execution_count": 162,
   "metadata": {},
   "outputs": [],
   "source": [
    "df2 = pd.DataFrame({'Actual': y_test, 'Predicted': predictions})"
   ]
  },
  {
   "cell_type": "code",
   "execution_count": 163,
   "metadata": {},
   "outputs": [],
   "source": [
    "p = 0\n",
    "while p < len(df2['Predicted']):\n",
    "    if df2['Predicted'][p] < 0:\n",
    "        df2['Predicted'][p] = 0\n",
    "    \n",
    "    p += 1"
   ]
  },
  {
   "cell_type": "code",
   "execution_count": 164,
   "metadata": {},
   "outputs": [],
   "source": [
    "df2.head(10);"
   ]
  },
  {
   "cell_type": "code",
   "execution_count": 165,
   "metadata": {},
   "outputs": [
    {
     "name": "stdout",
     "output_type": "stream",
     "text": [
      "O erro médio é: 2.1599999999999997\n",
      "O desvio padrão do erro é: 2.1427705585681975\n"
     ]
    }
   ],
   "source": [
    "lista_actual2 = list(df2['Actual'])\n",
    "lista_predicted2 = list(df2['Predicted'])\n",
    "\n",
    "erros2 = []\n",
    "k = 0\n",
    "while k < len(lista_actual2):\n",
    "    erros2.append(abs(lista_actual2[k] - lista_predicted2[k]))\n",
    "    k += 1\n",
    "    \n",
    "print('O erro médio é:',np.mean(erros2))\n",
    "print('O desvio padrão do erro é:', np.std(erros2))"
   ]
  },
  {
   "cell_type": "code",
   "execution_count": 173,
   "metadata": {},
   "outputs": [
    {
     "data": {
      "image/png": "[encoded data removed]",
      "text/plain": [
       "<Figure size 432x288 with 1 Axes>"
      ]
     },
     "metadata": {
      "needs_background": "light"
     },
     "output_type": "display_data"
    }
   ],
   "source": [
    "plt.plot(a, df2['Actual'], 'bo')\n",
    "plt.plot(a, df2['Predicted'], 'ro')\n",
    "plt.title('Comparaçao dos valores previstos com os reais')\n",
    "plt.ylabel('Número de mm de chuva')\n",
    "plt.grid(True)\n",
    "plt.show()"
   ]
  },
  {
   "cell_type": "code",
   "execution_count": 169,
   "metadata": {},
   "outputs": [
    {
     "data": {
      "image/png": "[encoded data removed]",
      "text/plain": [
       "<Figure size 432x288 with 1 Axes>"
      ]
     },
     "metadata": {
      "needs_background": "light"
     },
     "output_type": "display_data"
    }
   ],
   "source": [
    "df2.iloc[:20,:].plot(kind='bar', color=('blue', 'red'), legend=True );\n",
    "plt.title('Comparaçao dos valores previstos com os reais')\n",
    "plt.ylabel('Número de mm de chuva')\n",
    "plt.grid(True)"
   ]
  },
  {
   "cell_type": "code",
   "execution_count": null,
   "metadata": {},
   "outputs": [],
   "source": []
  }
 ],
 "metadata": {
  "kernelspec": {
   "display_name": "Python 3",
   "language": "python",
   "name": "python3"
  },
  "language_info": {
   "codemirror_mode": {
    "name": "ipython",
    "version": 3
   },
   "file_extension": ".py",
   "mimetype": "text/x-python",
   "name": "python",
   "nbconvert_exporter": "python",
   "pygments_lexer": "ipython3",
   "version": "3.7.3"
  }
 },
 "nbformat": 4,
 "nbformat_minor": 2
}
