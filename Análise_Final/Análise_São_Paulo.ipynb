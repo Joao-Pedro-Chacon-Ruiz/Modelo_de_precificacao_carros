{
 "cells": [
  {
   "cell_type": "markdown",
   "metadata": {},
   "source": [
    "# Modelo estatístico de previsão de chuva"
   ]
  },
  {
   "cell_type": "markdown",
   "metadata": {},
   "source": [
    "**Sala: 2A**\n",
    "\n",
    "**Grupo:**\n",
    "> Breno Marti\n",
    "\n",
    "> Diogo Cintra\n",
    "\n",
    "> João Pedro Chacon Ruiz\n",
    "\n",
    "> Luiz Felipe Valente"
   ]
  },
  {
   "cell_type": "markdown",
   "metadata": {},
   "source": [
    "___\n",
    "## • Imports"
   ]
  },
  {
   "cell_type": "markdown",
   "metadata": {},
   "source": [
    "Importando as devidas funções para que se possa fazer a análise e filtragem dos dados, bem como a implementação do modelo de regrassão multipla."
   ]
  },
  {
   "cell_type": "code",
   "execution_count": null,
   "metadata": {},
   "outputs": [],
   "source": [
    "#Importando as bibliotecas\n",
    "%matplotlib inline\n",
    "import pandas as pd\n",
    "import matplotlib.pyplot as plt\n",
    "import os\n",
    "from numpy import arange\n",
    "from numpy import percentile\n",
    "import numpy as np\n",
    "from pandas import DataFrame\n",
    "from scipy.stats import probplot\n",
    "import statsmodels.api as sm"
   ]
  },
  {
   "cell_type": "markdown",
   "metadata": {},
   "source": [
    "## • Início da análise exploratória"
   ]
  },
  {
   "cell_type": "markdown",
   "metadata": {},
   "source": [
    "Antes que se possa partir para a emplementação de qualquer modelo de previsão é necessário, primeiramente,  que se entenda como os dados se comportam e, caso preciso, manipulá-los, de forma a facilitar a construção do modelo, mas sem comprometer seus conteúdos."
   ]
  },
  {
   "cell_type": "code",
   "execution_count": null,
   "metadata": {
    "scrolled": true
   },
   "outputs": [],
   "source": [
    "dados1 = pd.read_excel('sao_paulo.xlsx')\n",
    "dados1.head();"
   ]
  },
  {
   "cell_type": "code",
   "execution_count": null,
   "metadata": {},
   "outputs": [],
   "source": [
    "datas = dados1.data\n",
    "horas = dados1.hora"
   ]
  },
  {
   "cell_type": "code",
   "execution_count": null,
   "metadata": {},
   "outputs": [],
   "source": [
    "concat = []\n",
    "for e in range(len(datas)):\n",
    "    #concat.append(datas[e] + ',' + horas[e])\n",
    "    d = datas[e]\n",
    "    d = d.replace(hour=horas[e], minute=0, second=0)\n",
    "    concat.append(d)\n",
    "    \n",
    "#print(concat)\n",
    "dia_hora = pd.DataFrame(concat)"
   ]
  },
  {
   "cell_type": "code",
   "execution_count": null,
   "metadata": {},
   "outputs": [],
   "source": [
    "dados1.insert(0,'time', dia_hora, True);"
   ]
  },
  {
   "cell_type": "code",
   "execution_count": null,
   "metadata": {},
   "outputs": [],
   "source": [
    "dados_2 = dados1.drop(['data', 'hora'], axis=1)\n",
    "dados_3 = dados_2.set_index(\"time\")\n",
    "\n",
    "dados2 = dados1.drop(['data', 'hora'], axis=1)\n",
    "dados2.dropna();"
   ]
  },
  {
   "cell_type": "markdown",
   "metadata": {},
   "source": [
    "## Definindo as variáveis que vamos estudar "
   ]
  },
  {
   "cell_type": "markdown",
   "metadata": {},
   "source": [
    "A partir de estudos e leitura de papeis sobre o tema, as seguintes variáveis foram, repetidamente, dadas como as mais relevantes: temperatura, umidade, pressão atmosférica e velociadade do vento. Com base nessas pesquisas, estas mesmas foram tomadas como variáveis independentes do modelo de regressão linear múltipla."
   ]
  },
  {
   "cell_type": "code",
   "execution_count": null,
   "metadata": {
    "scrolled": true
   },
   "outputs": [],
   "source": [
    "dados_log = np.log(dados_3[['temp_inst','pressao','umid_inst','precipitacao','vento_vel']])\n",
    "\n",
    "dados3 = dados2.transpose()\n",
    "dados4 = dados3.loc[['time','temp_inst', 'pressao','umid_inst', 'precipitacao','vento_vel']]\n",
    "dados5 = dados4.transpose()\n",
    "dados5 = dados5.sort_values(by='time')\n",
    "dados5 = dados5.reset_index()\n",
    "del dados5['index']\n",
    "d = dados5.dropna()"
   ]
  },
  {
   "cell_type": "code",
   "execution_count": null,
   "metadata": {},
   "outputs": [],
   "source": [
    "data = []\n",
    "hora = []\n",
    "\n",
    "for coisas in d.time.astype(str):\n",
    "    teste = coisas.split()\n",
    "    data.append(teste[0])\n",
    "    horas = teste[1]\n",
    "    hora.append(horas[0:2])"
   ]
  },
  {
   "cell_type": "code",
   "execution_count": null,
   "metadata": {},
   "outputs": [],
   "source": [
    "final = []\n",
    "\n",
    "anterior = data[0]\n",
    "a=0\n",
    "day = 0\n",
    "for dia in data:\n",
    "    if a < 8744:\n",
    "        if data[a+1] == anterior:\n",
    "            final.append(day)\n",
    "        else:\n",
    "            final.append(day)\n",
    "            day += 1\n",
    "            anterior = data[a+1]\n",
    "    a += 1\n",
    "final.append(364)"
   ]
  },
  {
   "cell_type": "code",
   "execution_count": null,
   "metadata": {},
   "outputs": [],
   "source": [
    "hora = pd.Series(hora).astype(int) \n",
    "final = pd.Series(final).astype(int)"
   ]
  },
  {
   "cell_type": "code",
   "execution_count": null,
   "metadata": {},
   "outputs": [],
   "source": [
    "d['horas'] = hora\n",
    "d['dias'] = final"
   ]
  },
  {
   "cell_type": "markdown",
   "metadata": {},
   "source": [
    "## Criando as colunas de seno e de cosseno tanto das horas quanto dos dias para dar ao modelo a ideia de que são variáveis cíclicas"
   ]
  },
  {
   "cell_type": "markdown",
   "metadata": {},
   "source": [
    "Estas variáveis foram criadas para representar a sazonalidade nos períodos de chuva, a fim de aumentar a precisão do modelo, que agora será capaz de distinguir as diferentes estações do ano."
   ]
  },
  {
   "cell_type": "code",
   "execution_count": null,
   "metadata": {},
   "outputs": [],
   "source": [
    "d['hora_seno'] = np.sin(2*np.pi*hora/24)\n",
    "d['hora_cosseno'] = np.cos(2*np.pi*hora/24)"
   ]
  },
  {
   "cell_type": "code",
   "execution_count": null,
   "metadata": {
    "scrolled": true
   },
   "outputs": [],
   "source": [
    "d['dia_seno'] = np.sin(2*np.pi*final/365.25)\n",
    "d['dia_cosseno'] = np.cos(2*np.pi*final/365.25)\n",
    "d.head()"
   ]
  },
  {
   "cell_type": "markdown",
   "metadata": {},
   "source": [
    "___\n",
    "## Analisando os dias que tiveram chuvas"
   ]
  },
  {
   "cell_type": "markdown",
   "metadata": {},
   "source": [
    "### Análise de correlação entre variáveis independentes"
   ]
  },
  {
   "cell_type": "markdown",
   "metadata": {},
   "source": [
    "Uma grande correlação entre variáveis independentes comprometem a análise por serem redundantes entre sí, impedindo que o algoritmo atribua valores relevantes às mesmas variáveis"
   ]
  },
  {
   "cell_type": "markdown",
   "metadata": {},
   "source": [
    "### Análise com log"
   ]
  },
  {
   "cell_type": "markdown",
   "metadata": {},
   "source": [
    "#### Scatter Plots com Log"
   ]
  },
  {
   "cell_type": "code",
   "execution_count": null,
   "metadata": {},
   "outputs": [],
   "source": [
    "dados_log_com_chuva = dados_log[dados_log['precipitacao']>0]\n",
    "dados_log_com_chuva.head();"
   ]
  },
  {
   "cell_type": "code",
   "execution_count": null,
   "metadata": {},
   "outputs": [],
   "source": [
    "temperatura1_log = dados_log_com_chuva['temp_inst']\n",
    "pressao1_log = dados_log_com_chuva['pressao']\n",
    "umidade1_log = dados_log_com_chuva['umid_inst']\n",
    "precipitacao1_log = dados_log_com_chuva['precipitacao']"
   ]
  },
  {
   "cell_type": "code",
   "execution_count": null,
   "metadata": {},
   "outputs": [],
   "source": [
    "fig, axs = plt.subplots(1, 3)\n",
    "fig.set_size_inches(20, 5) \n",
    "axs[0].scatter(temperatura1_log,pressao1_log, alpha=0.4);\n",
    "axs[0].set_title('Temperatura x Pressao');\n",
    "axs[1].scatter(temperatura1_log,umidade1_log, alpha=0.4);\n",
    "axs[1].set_title('Temperatura x Umidade');\n",
    "axs[2].scatter(pressao1_log,umidade1_log, alpha=0.4);\n",
    "axs[2].set_title('Pressao x Umidade');"
   ]
  },
  {
   "cell_type": "markdown",
   "metadata": {},
   "source": [
    "### Análise sem log"
   ]
  },
  {
   "cell_type": "markdown",
   "metadata": {},
   "source": [
    "Novamente, se trata de uma análise a fim de selecionar variáveis independentes que de fato contribuam com o modelo"
   ]
  },
  {
   "cell_type": "markdown",
   "metadata": {},
   "source": [
    "#### Scatter Plots sem Log"
   ]
  },
  {
   "cell_type": "code",
   "execution_count": null,
   "metadata": {},
   "outputs": [],
   "source": [
    "dados_com_chuva = dados5[dados5['precipitacao']>0]\n",
    "dados_com_chuva.head();"
   ]
  },
  {
   "cell_type": "code",
   "execution_count": null,
   "metadata": {},
   "outputs": [],
   "source": [
    "tempo1 = dados_com_chuva['time']\n",
    "temperatura1 = dados_com_chuva['temp_inst']\n",
    "pressao1 = dados_com_chuva['pressao']\n",
    "umidade1 = dados_com_chuva['umid_inst']\n",
    "precipitacao1 = dados_com_chuva['precipitacao']\n",
    "\n",
    "temperatura1 = temperatura1.astype(float)\n",
    "umidade1 = umidade1.astype(float)\n",
    "pressao1 = pressao1.astype(float)\n",
    "precipitacao1 = precipitacao1.astype(float)\n",
    "\n",
    "temperatura1_log = temperatura1_log.astype(float)\n",
    "umidade1_log = umidade1_log.astype(float)\n",
    "pressao1_log = pressao1_log.astype(float)\n",
    "precipitacao1_log = precipitacao1_log.astype(float)"
   ]
  },
  {
   "cell_type": "code",
   "execution_count": null,
   "metadata": {},
   "outputs": [],
   "source": [
    "fig, axs = plt.subplots(1, 3)\n",
    "fig.set_size_inches(25, 7) \n",
    "axs[0].scatter(temperatura1,pressao1, alpha=0.2);\n",
    "axs[0].set_title('Temperatura x Pressao');\n",
    "axs[1].scatter(temperatura1,umidade1, alpha=0.2);\n",
    "axs[1].set_title('Temperatura x Umidade');\n",
    "axs[2].scatter(pressao1,umidade1, alpha=0.2);\n",
    "axs[2].set_title('Pressao x Umidade');"
   ]
  },
  {
   "cell_type": "markdown",
   "metadata": {},
   "source": [
    "### Correlação entre as variáveis independentes"
   ]
  },
  {
   "cell_type": "markdown",
   "metadata": {},
   "source": [
    "Cálculo do valor númerico das correlações entre as variáveis independentes"
   ]
  },
  {
   "cell_type": "markdown",
   "metadata": {},
   "source": [
    "> Sem uso de log"
   ]
  },
  {
   "cell_type": "code",
   "execution_count": null,
   "metadata": {},
   "outputs": [],
   "source": [
    "print('Correlação entre temperatura e pressão:', temperatura1.corr(pressao1))\n",
    "print('Correlação entre temperatura e umidade:', temperatura1.corr(umidade1))\n",
    "print('Correlação entre pressão e umidade:',pressao1.corr(umidade1))"
   ]
  },
  {
   "cell_type": "markdown",
   "metadata": {},
   "source": [
    "> Com uso de log"
   ]
  },
  {
   "cell_type": "code",
   "execution_count": null,
   "metadata": {},
   "outputs": [],
   "source": [
    "print('Correlação entre temperatura e pressão:', np.log10(temperatura1).corr(pressao1))\n",
    "print('Correlação entre temperatura e umidade:', np.log10(temperatura1).corr(umidade1))\n",
    "print('Correlação entre pressão e umidade:',np.log10(pressao1).corr(umidade1))"
   ]
  },
  {
   "cell_type": "markdown",
   "metadata": {},
   "source": [
    "O uso de logaritmos nos valores das variáveis ajuda, em certos casos, a mostrar correlações que antes não eram percebidas dado a sua natureza"
   ]
  },
  {
   "cell_type": "markdown",
   "metadata": {},
   "source": [
    "### Correlação entre as variáveis independentes e a variável dependente"
   ]
  },
  {
   "cell_type": "markdown",
   "metadata": {},
   "source": [
    "Este cálculo é crucial para que se perceba quais variáveis podem, de fato contribuir para o modelo. Essa possível contribuição depende da correlação entre as variáveis independentes escolhidas e a variável dependente a ser calculada"
   ]
  },
  {
   "cell_type": "markdown",
   "metadata": {},
   "source": [
    "**Scatter plot das variáveis independentes x dependentes com logaritmo, a fim de visualizar possíveis correlações**"
   ]
  },
  {
   "cell_type": "code",
   "execution_count": null,
   "metadata": {},
   "outputs": [],
   "source": [
    "fig, axs = plt.subplots(1, 3)\n",
    "fig.set_size_inches(25, 7) \n",
    "axs[0].scatter(temperatura1,np.log10(precipitacao1), alpha=0.3);\n",
    "axs[0].set_title('Temperatura x Precipitação');\n",
    "axs[1].scatter(umidade1,np.log10(precipitacao1), alpha=0.3);\n",
    "axs[1].set_title('Umidade x Precipitação');\n",
    "axs[2].scatter(pressao1,np.log10(precipitacao1), alpha=0.3);\n",
    "axs[2].set_title('Pressão x Precipitação');"
   ]
  },
  {
   "cell_type": "markdown",
   "metadata": {},
   "source": [
    "> Cálculo sem usar o logaritmo"
   ]
  },
  {
   "cell_type": "code",
   "execution_count": null,
   "metadata": {},
   "outputs": [],
   "source": [
    "print('Correlação entre precipitação e pressão:',(precipitacao1).corr(pressao1))\n",
    "print('Correlação entre precipitação e umidade:',(precipitacao1).corr(umidade1))\n",
    "print('Correlação entre precipitação e temperatura:',(precipitacao1).corr(temperatura1))"
   ]
  },
  {
   "cell_type": "markdown",
   "metadata": {},
   "source": [
    "> Cálculo usando o logaritmo"
   ]
  },
  {
   "cell_type": "code",
   "execution_count": null,
   "metadata": {
    "scrolled": true
   },
   "outputs": [],
   "source": [
    "print('Correlação entre precipitação e pressão:', np.log10(precipitacao1).corr(pressao1))\n",
    "print('Correlação entre precipitação e umidade:', np.log10(precipitacao1).corr(umidade1))\n",
    "print('Correlação entre precipitação e temperatura:',np.log10(precipitacao1).corr(temperatura1))"
   ]
  },
  {
   "cell_type": "markdown",
   "metadata": {},
   "source": [
    "## Plot de tabelas OLS"
   ]
  },
  {
   "cell_type": "markdown",
   "metadata": {},
   "source": [
    "As tabelas OLS são usadas para que se possa ter uma noção de como os dados se comportam e como se dão cetos parâmetros relevântes para a análise"
   ]
  },
  {
   "cell_type": "code",
   "execution_count": null,
   "metadata": {},
   "outputs": [],
   "source": [
    "model = sm.OLS(np.log10(precipitacao1),sm.add_constant(umidade1))\n",
    "results = model.fit()\n",
    "results.summary()"
   ]
  },
  {
   "cell_type": "code",
   "execution_count": null,
   "metadata": {},
   "outputs": [],
   "source": [
    "model = sm.OLS(precipitacao1,sm.add_constant(umidade1))\n",
    "results = model.fit()\n",
    "results.summary()"
   ]
  },
  {
   "cell_type": "code",
   "execution_count": null,
   "metadata": {},
   "outputs": [],
   "source": [
    "model = sm.OLS(precipitacao1,sm.add_constant(temperatura1))\n",
    "results = model.fit()\n",
    "results.summary()"
   ]
  },
  {
   "cell_type": "markdown",
   "metadata": {},
   "source": [
    "___\n",
    "## Analisando os dias que não tiveram chuvas"
   ]
  },
  {
   "cell_type": "markdown",
   "metadata": {},
   "source": [
    "### Análise com log"
   ]
  },
  {
   "cell_type": "code",
   "execution_count": null,
   "metadata": {},
   "outputs": [],
   "source": [
    "dados_log_sem_chuva = dados_log[dados_log['precipitacao']==0]\n",
    "dados_log_sem_chuva.head();"
   ]
  },
  {
   "cell_type": "code",
   "execution_count": null,
   "metadata": {},
   "outputs": [],
   "source": [
    "temperatura2_log = dados_log_com_chuva['temp_inst']\n",
    "pressao2_log = dados_log_com_chuva['pressao']\n",
    "umidade2_log = dados_log_com_chuva['umid_inst']\n",
    "precipitacao2_log = dados_log_com_chuva['precipitacao']"
   ]
  },
  {
   "cell_type": "code",
   "execution_count": null,
   "metadata": {},
   "outputs": [],
   "source": [
    "fig, axs = plt.subplots(1, 3)\n",
    "fig.set_size_inches(20, 5) \n",
    "axs[0].scatter(temperatura2_log,pressao2_log, alpha=0.2);\n",
    "axs[0].set_title('Temperatura x Pressao');\n",
    "axs[1].scatter(temperatura2_log,umidade2_log, alpha=0.2);\n",
    "axs[1].set_title('Temperatura x Umidade');\n",
    "axs[2].scatter(pressao2_log,umidade2_log, alpha=0.2);\n",
    "axs[2].set_title('Pressao x Umidade');"
   ]
  },
  {
   "cell_type": "markdown",
   "metadata": {},
   "source": [
    "### Análise sem log"
   ]
  },
  {
   "cell_type": "code",
   "execution_count": null,
   "metadata": {},
   "outputs": [],
   "source": [
    "dados_sem_chuva = dados5[dados5['precipitacao']==0]\n",
    "dados_sem_chuva.head();"
   ]
  },
  {
   "cell_type": "code",
   "execution_count": null,
   "metadata": {},
   "outputs": [],
   "source": [
    "tempo2 = dados_sem_chuva['time']\n",
    "temperatura2 = dados_sem_chuva['temp_inst']\n",
    "pressao2 = dados_sem_chuva['pressao']\n",
    "umidade2 = dados_sem_chuva['umid_inst']\n",
    "precipitacao2 = dados_sem_chuva['precipitacao']"
   ]
  },
  {
   "cell_type": "code",
   "execution_count": null,
   "metadata": {
    "scrolled": false
   },
   "outputs": [],
   "source": [
    "fig, axs = plt.subplots(1, 3)\n",
    "fig.set_size_inches(20, 5) \n",
    "axs[0].scatter(temperatura2,pressao2, alpha=0.1);\n",
    "axs[0].set_title('Temperatura x Pressão');\n",
    "axs[1].scatter(temperatura2,umidade2, alpha=0.1);\n",
    "axs[1].set_title('Temperatura x Umidade');\n",
    "axs[2].scatter(pressao2,umidade2, alpha=0.1);\n",
    "axs[2].set_title('Pressão x Umidade');"
   ]
  },
  {
   "cell_type": "markdown",
   "metadata": {},
   "source": [
    "**Valores de correlação entre as variáveis**"
   ]
  },
  {
   "cell_type": "code",
   "execution_count": null,
   "metadata": {},
   "outputs": [],
   "source": [
    "temperatura2 = temperatura2.astype(float)\n",
    "umidade2 = umidade2.astype(float)\n",
    "pressao2 = pressao2.astype(float)\n",
    "print('Correlação entre temperatura e pressão:', temperatura2.corr(pressao2))\n",
    "print('Correlação entre temperatura e umidade:', temperatura2.corr(umidade2))\n",
    "print('Correlação entre pressão e umidade:',pressao2.corr(umidade2))"
   ]
  },
  {
   "cell_type": "markdown",
   "metadata": {},
   "source": [
    "___"
   ]
  },
  {
   "cell_type": "markdown",
   "metadata": {},
   "source": [
    "## Esclarecendo a mudança de DataSet"
   ]
  },
  {
   "cell_type": "markdown",
   "metadata": {},
   "source": [
    "Com os dados anteriores, mesmo após muitas manipulações e iterações, as correlações das variáveis independentes com a variável dependente eram muito baixas. A partir dos estudos feitos, era certeza que temperatura, pressão, umidade e velocidade do vento tinham impacto no regime de chuvas, logo, a nossa escolha de variáveis independentes não estava equivocada."
   ]
  },
  {
   "cell_type": "markdown",
   "metadata": {},
   "source": [
    "Sabendo disso, foi feito um esforço para que se compreendesse o motivo do comportamento incoerente do nosso DataSet em comparação com as pesquisas feitas anteriormente. Ao fim, chegou-se à hipótese de que a própria estação de coleta de dados poderia ser um problema, dado que as mesmas se encontravam em cidades cuja infraestrutura não era de alta qualidade."
   ]
  },
  {
   "cell_type": "markdown",
   "metadata": {},
   "source": [
    "Dessa forma, para tentar solucionar o problema, uma estação em São Paulo, a maior e mais importante cidade do Brasil foi selecionada, com base na ideia de que sua relevância significaria dados de maior qualidade quando comparados com os anteriores. O resultado desta troca foi satisfátorio, dado como as correlações das variáveis independentes com a variável dependente aumentaram consideravelmente, tanto numéricamente por meio do cálculo da correlação quanto visualmente, por meio dos Scatter Plots realizados "
   ]
  },
  {
   "cell_type": "markdown",
   "metadata": {},
   "source": [
    "___"
   ]
  },
  {
   "cell_type": "code",
   "execution_count": null,
   "metadata": {},
   "outputs": [],
   "source": [
    "dados6 = d.set_index('time')\n",
    "dados7 = dados6[['temp_inst','pressao','umid_inst','precipitacao','vento_vel']]\n",
    "D = dados7.astype(float)\n",
    "D.head();"
   ]
  },
  {
   "cell_type": "code",
   "execution_count": null,
   "metadata": {},
   "outputs": [],
   "source": [
    "D['hora'] = D.index.hour\n",
    "D['mes'] = D.index.month\n",
    "D.head()"
   ]
  },
  {
   "cell_type": "code",
   "execution_count": null,
   "metadata": {},
   "outputs": [],
   "source": [
    "t = [] #hora de chuva\n",
    "t1 = [] #uma hora anterior\n",
    "t2 = [] #duas horas anteriores\n",
    "t3 = [] #tres horas anteriores\n",
    "t4 = [] #quatro horas anteriores\n",
    "t5 = [] #cinco horas anteriores\n",
    "t6 = [] #seis horas anteriores\n",
    "t7 = [] #sete horas anteriores\n",
    "t8 = [] #oito horas anteriores\n",
    "t9 = [] #nove horas anteriores\n",
    "t10 = [] #dez horas anteriores\n",
    "t11 = [] #onze horas anteriores\n",
    "t12 = [] #doze horas anteriores\n",
    "\n",
    "\n",
    "for e in range(len(D)):\n",
    "    \n",
    "    if D['precipitacao'][e]>0:\n",
    "        t.append(D.iloc[e])\n",
    "        t1.append(D.iloc[e-1])\n",
    "        t2.append(D.iloc[e-2])\n",
    "        t3.append(D.iloc[e-3])\n",
    "        t4.append(D.iloc[e-4])\n",
    "        t5.append(D.iloc[e-5]) \n",
    "        t6.append(D.iloc[e-6]) \n",
    "        t7.append(D.iloc[e-7]) \n",
    "        t8.append(D.iloc[e-8]) \n",
    "        t9.append(D.iloc[e-9]) \n",
    "        t10.append(D.iloc[e-10])\n",
    "        t11.append(D.iloc[e-11]) \n",
    "        t12.append(D.iloc[e-12])       \n",
    "\n",
    "# Guardando as listas como DataFrames\n",
    "T = pd.DataFrame(t)\n",
    "T1 = pd.DataFrame(t1)\n",
    "T2 = pd.DataFrame(t2)\n",
    "T3 = pd.DataFrame(t3)\n",
    "T4 = pd.DataFrame(t4)\n",
    "T5 = pd.DataFrame(t5)\n",
    "T6 = pd.DataFrame(t6)\n",
    "T7 = pd.DataFrame(t7)\n",
    "T8 = pd.DataFrame(t8)\n",
    "T9 = pd.DataFrame(t9)\n",
    "T10 = pd.DataFrame(t10)\n",
    "T11 = pd.DataFrame(t11)\n",
    "T12 = pd.DataFrame(t12)\n",
    "\n",
    "# Renomeando as colunas de todos estes DataFrames -  0 Horas\n",
    "T.rename(columns={'temp_inst':'temperatura_t'}, inplace=True)\n",
    "T.rename(columns={'pressao':'pressao_t'}, inplace=True)\n",
    "T.rename(columns={'umid_inst':'umidade_t'}, inplace=True)\n",
    "T.rename(columns={'precipitacao':'precipitacao_t'}, inplace=True)\n",
    "T.rename(columns={'vento_vel':'vento_t'}, inplace=True)\n",
    "T[['temperatura_t', 'pressao_t', 'umidade_t','precipitacao_t','vento_t']].astype(float);\n",
    "\n",
    "# Renomeando as colunas de todos estes DataFrames -  1 Hora atrás\n",
    "T1.rename(columns={'temp_inst':'temperatura_t1'}, inplace=True)\n",
    "T1.rename(columns={'pressao':'pressao_t1'}, inplace=True)\n",
    "T1.rename(columns={'umid_inst':'umidade_t1'}, inplace=True)\n",
    "T1.rename(columns={'precipitacao':'precipitacao_t1'}, inplace=True)\n",
    "T1.rename(columns={'vento_vel':'vento_t1'}, inplace=True)\n",
    "T1[['temperatura_t1', 'pressao_t1', 'umidade_t1','precipitacao_t1','vento_t1']].astype(float);\n",
    "\n",
    "# Renomeando as colunas de todos estes DataFrames -  2 Horas atrás\n",
    "T2.rename(columns={'temp_inst':'temperatura_t2'}, inplace=True)\n",
    "T2.rename(columns={'pressao':'pressao_t2'}, inplace=True)\n",
    "T2.rename(columns={'umid_inst':'umidade_t2'}, inplace=True)\n",
    "T2.rename(columns={'precipitacao':'precipitacao_t2'}, inplace=True)\n",
    "T2.rename(columns={'vento_vel':'vento_t2'}, inplace=True)\n",
    "T2[['temperatura_t2', 'pressao_t2', 'umidade_t2','precipitacao_t2','vento_t2']].astype(float);\n",
    "\n",
    "# Renomeando as colunas de todos estes DataFrames -  3 Horas atrás\n",
    "T3.rename(columns={'temp_inst':'temperatura_t3'}, inplace=True)\n",
    "T3.rename(columns={'pressao':'pressao_t3'}, inplace=True)\n",
    "T3.rename(columns={'umid_inst':'umidade_t3'}, inplace=True)\n",
    "T3.rename(columns={'precipitacao':'precipitacao_t3'}, inplace=True)\n",
    "T3.rename(columns={'vento_vel':'vento_t3'}, inplace=True)\n",
    "T3[['temperatura_t3', 'pressao_t3', 'umidade_t3','precipitacao_t3','vento_t3']].astype(float);\n",
    "\n",
    "# Renomeando as colunas de todos estes DataFrames -  4 Horas atrás\n",
    "T4.rename(columns={'temp_inst':'temperatura_t4'}, inplace=True)\n",
    "T4.rename(columns={'pressao':'pressao_t4'}, inplace=True)\n",
    "T4.rename(columns={'umid_inst':'umidade_t4'}, inplace=True)\n",
    "T4.rename(columns={'precipitacao':'precipitacao_t4'}, inplace=True)\n",
    "T4.rename(columns={'vento_vel':'vento_t4'}, inplace=True)\n",
    "T4[['temperatura_t4', 'pressao_t4', 'umidade_t4','precipitacao_t4','vento_t4']].astype(float);"
   ]
  },
  {
   "cell_type": "markdown",
   "metadata": {},
   "source": [
    "## Selecionando a variação das variáveis"
   ]
  },
  {
   "cell_type": "markdown",
   "metadata": {},
   "source": [
    "É válido que se preste devida atenção à variação nas variáveis além de seus valores em sí. Um exemplo desta mudança na forma de análise explica como uma temperatura baixa no verâo, provavelmente causada por uma frente fria, geralmente acompanha chuva, enquanto temperaturas baixas no inverno não fornecem um indicativo tão convincente. Na mesma lógica, uma queda ou aumento na pressão significam muito mais que seus valores por se só."
   ]
  },
  {
   "cell_type": "code",
   "execution_count": null,
   "metadata": {},
   "outputs": [],
   "source": [
    "temp = []\n",
    "umid = []\n",
    "pres = []\n",
    "vel = []\n",
    "preci = []\n",
    "\n",
    "for e in range(len(T)):\n",
    "    \n",
    "    temp.append(abs((T['temperatura_t'][e])-(T3['temperatura_t3'][e])))\n",
    "    umid.append(abs((T['umidade_t'][e])-(T3['umidade_t3'][e])))\n",
    "    pres.append(T3['pressao_t3'][e])\n",
    "    vel.append(T3['vento_t3'][e])\n",
    "    preci.append(T['precipitacao_t'][e])    \n",
    "       \n",
    "Temp = pd.DataFrame(temp)\n",
    "Umid = pd.DataFrame(umid)\n",
    "Pres = pd.DataFrame(pres)\n",
    "Vel = pd.DataFrame(vel)\n",
    "Preci = pd.DataFrame(preci)\n",
    "\n",
    "Temp.rename(columns={0:'temperatura_t'}, inplace=True)\n",
    "Umid.rename(columns={0:'umidade_t'}, inplace=True)\n",
    "Pres.rename(columns={0:'pressao_t'}, inplace=True)\n",
    "Vel.rename(columns={0:'vento_t'}, inplace=True)\n",
    "Preci.rename(columns={0:'precipitacao_t'}, inplace=True)\n",
    "precipita = Preci['precipitacao_t'].astype(float)\n",
    "\n",
    "a = Temp.join(Umid)\n",
    "b = Vel.join(Pres)\n",
    "c = b.join(precipita)\n",
    "variacao = a.join(c)\n",
    "variacao.dropna();"
   ]
  },
  {
   "cell_type": "markdown",
   "metadata": {},
   "source": [
    "#### Correlação entre a variação das VI (variáveis independentes) e a VD (variável dependente)"
   ]
  },
  {
   "cell_type": "code",
   "execution_count": null,
   "metadata": {},
   "outputs": [],
   "source": [
    "np.log10(variacao['precipitacao_t']).corr((variacao['umidade_t']))"
   ]
  },
  {
   "cell_type": "code",
   "execution_count": null,
   "metadata": {},
   "outputs": [],
   "source": [
    "np.log10(variacao['precipitacao_t']).corr((variacao['temperatura_t']))"
   ]
  },
  {
   "cell_type": "code",
   "execution_count": null,
   "metadata": {},
   "outputs": [],
   "source": [
    "np.log10(variacao['precipitacao_t']).corr((variacao['pressao_t']))"
   ]
  },
  {
   "cell_type": "code",
   "execution_count": null,
   "metadata": {
    "scrolled": true
   },
   "outputs": [],
   "source": [
    "np.log10(variacao['precipitacao_t']).corr((variacao['vento_t']))"
   ]
  },
  {
   "cell_type": "markdown",
   "metadata": {},
   "source": [
    "### Análise para que se possa escolher a melhor hora a ser usada para que se faça a previsão"
   ]
  },
  {
   "cell_type": "markdown",
   "metadata": {},
   "source": [
    "Obs: o valor de t é referente ao tempo no qual os dados foram obtidos em relação ao horário de precipitação; \n",
    "\n",
    "t, t1, t2, t3, t4 representam 0, 1, 2, 3 e 4 horas atrás, respectivamente"
   ]
  },
  {
   "cell_type": "markdown",
   "metadata": {},
   "source": [
    "> Correlação entre os dados de umidade nas horas anteriores com os dados de precipitação"
   ]
  },
  {
   "cell_type": "code",
   "execution_count": null,
   "metadata": {
    "scrolled": true
   },
   "outputs": [],
   "source": [
    "print('Correlação entre precipitação e umidade na hora exata:',np.log10(T['precipitacao_t']).corr(T['umidade_t']))"
   ]
  },
  {
   "cell_type": "code",
   "execution_count": null,
   "metadata": {},
   "outputs": [],
   "source": [
    "print('Correlação entre precipitação e umidade uma hora antes:',np.log10(T['precipitacao_t']).corr(T1['umidade_t1']))"
   ]
  },
  {
   "cell_type": "code",
   "execution_count": null,
   "metadata": {
    "scrolled": true
   },
   "outputs": [],
   "source": [
    "print('Correlação entre precipitação e umidade duas horas antes:',np.log10(T['precipitacao_t']).corr(T2['umidade_t2']))"
   ]
  },
  {
   "cell_type": "code",
   "execution_count": null,
   "metadata": {},
   "outputs": [],
   "source": [
    "print('Correlação entre precipitação e umidade três horas antes:',np.log10(T['precipitacao_t']).corr(T3['umidade_t3']))"
   ]
  },
  {
   "cell_type": "code",
   "execution_count": null,
   "metadata": {
    "scrolled": true
   },
   "outputs": [],
   "source": [
    "print('Correlação entre precipitação e umidade quatro horas antes:',np.log10(T['precipitacao_t']).corr(T4['umidade_t4']))"
   ]
  },
  {
   "cell_type": "markdown",
   "metadata": {},
   "source": [
    "> Correlação entre os dados de temperatura nas horas anteriores com os dados de precipitação"
   ]
  },
  {
   "cell_type": "code",
   "execution_count": null,
   "metadata": {
    "scrolled": true
   },
   "outputs": [],
   "source": [
    "print('Correlação entre precipitação e temperatura na hora exata:',np.log10(T['precipitacao_t']).corr(T['temperatura_t']))"
   ]
  },
  {
   "cell_type": "code",
   "execution_count": null,
   "metadata": {},
   "outputs": [],
   "source": [
    "print('Correlação entre precipitação e temperatura uma hora antes:',np.log10(T['precipitacao_t']).corr(T1['temperatura_t1']))"
   ]
  },
  {
   "cell_type": "code",
   "execution_count": null,
   "metadata": {},
   "outputs": [],
   "source": [
    "print('Correlação entre precipitação e temperatura duas horas antes:',np.log10(T['precipitacao_t']).corr(T2['temperatura_t2']))"
   ]
  },
  {
   "cell_type": "code",
   "execution_count": null,
   "metadata": {
    "scrolled": true
   },
   "outputs": [],
   "source": [
    "print('Correlação entre precipitação e temperatura três horas antes:',np.log10(T['precipitacao_t']).corr(T3['temperatura_t3']))"
   ]
  },
  {
   "cell_type": "code",
   "execution_count": null,
   "metadata": {},
   "outputs": [],
   "source": [
    "print('Correlação entre precipitação e temperatura quatro horas antes:',np.log10(T['precipitacao_t']).corr(T4['temperatura_t4']))"
   ]
  },
  {
   "cell_type": "markdown",
   "metadata": {},
   "source": [
    "> Correlação entre os dados de pressão atmosférica nas horas anteriores com os dados de precipitação"
   ]
  },
  {
   "cell_type": "code",
   "execution_count": null,
   "metadata": {},
   "outputs": [],
   "source": [
    "print('Correlação entre precipitação e pressão atmosférica na hora exata:',np.log10(T['precipitacao_t']).corr(T['pressao_t']))"
   ]
  },
  {
   "cell_type": "code",
   "execution_count": null,
   "metadata": {},
   "outputs": [],
   "source": [
    "print('Correlação entre precipitação e pressão atmosférica uma hora antes:',np.log10(T['precipitacao_t']).corr(T1['pressao_t1']))"
   ]
  },
  {
   "cell_type": "code",
   "execution_count": null,
   "metadata": {},
   "outputs": [],
   "source": [
    "print('Correlação entre precipitação e pressão atmosférica duas horas antes:',np.log10(T['precipitacao_t']).corr(T2['pressao_t2']))"
   ]
  },
  {
   "cell_type": "code",
   "execution_count": null,
   "metadata": {},
   "outputs": [],
   "source": [
    "print('Correlação entre precipitação e pressão atmosférica três horas antes:',np.log10(T['precipitacao_t']).corr(T3['pressao_t3']))"
   ]
  },
  {
   "cell_type": "code",
   "execution_count": null,
   "metadata": {
    "scrolled": true
   },
   "outputs": [],
   "source": [
    "print('Correlação entre precipitação e pressão atmosférica quatro horas antes:',np.log10(T['precipitacao_t']).corr(T4['pressao_t4']))"
   ]
  },
  {
   "cell_type": "markdown",
   "metadata": {},
   "source": [
    "> Correlação entre os dados de velocidade do vento nas horas anteriores com os dados de precipitação"
   ]
  },
  {
   "cell_type": "code",
   "execution_count": null,
   "metadata": {},
   "outputs": [],
   "source": [
    "print('Correlação entre pressão e velocidade do vento na hora exata:',np.log10((T['precipitacao_t'])).corr(T['vento_t']))"
   ]
  },
  {
   "cell_type": "code",
   "execution_count": null,
   "metadata": {},
   "outputs": [],
   "source": [
    "print('Correlação entre pressão e velocidade do vento uma hora antes:',np.log10((T['precipitacao_t'])).corr(T1['vento_t1']))"
   ]
  },
  {
   "cell_type": "code",
   "execution_count": null,
   "metadata": {},
   "outputs": [],
   "source": [
    "print('Correlação entre pressão e velocidade do vento duas horas antes:',np.log10((T['precipitacao_t'])).corr(T2['vento_t2']))"
   ]
  },
  {
   "cell_type": "code",
   "execution_count": null,
   "metadata": {},
   "outputs": [],
   "source": [
    "print('Correlação entre pressão e velocidade do vento três horas antes:',np.log10((T['precipitacao_t'])).corr(T3['vento_t3']))"
   ]
  },
  {
   "cell_type": "code",
   "execution_count": null,
   "metadata": {
    "scrolled": true
   },
   "outputs": [],
   "source": [
    "print('Correlação entre pressão e velocidade do vento quatro horas antes:',np.log10((T['precipitacao_t'])).corr(T4['vento_t4']))"
   ]
  },
  {
   "cell_type": "markdown",
   "metadata": {},
   "source": [
    "___\n",
    "# Fazendo as Regressões"
   ]
  },
  {
   "cell_type": "markdown",
   "metadata": {},
   "source": [
    "## Criando as funções necessárias e divindo o Dataset"
   ]
  },
  {
   "cell_type": "markdown",
   "metadata": {},
   "source": [
    "### OBS: Mudança na filtragem dos dados. \n",
    "\n",
    "#### Após conversarmos com o professor, mudamos nossa maneira de selecionar os dados pela forma usada na célula abaixo, cujo código foi criado com o professor."
   ]
  },
  {
   "cell_type": "code",
   "execution_count": null,
   "metadata": {},
   "outputs": [],
   "source": [
    "## Código fornecido pelo professor.\n",
    "def gera_janela(D, n):\n",
    "    D_aux = D.drop('precipitacao', axis=1)\n",
    "    c_orig = D_aux.columns\n",
    "    X_orig = D_aux.values\n",
    "    y_orig = D['precipitacao'].values\n",
    "    \n",
    "    col_names = ['{}_0'.format(c) for c in c_orig]\n",
    "    X = X_orig[n:, :]    \n",
    "    X_old = X\n",
    "    for i in range(1,n):\n",
    "        col_names += ['{}_{}'.format(c, i) for c in c_orig]\n",
    "        X_new = X_orig[(n-i):(-i), :]\n",
    "        X = np.concatenate((X, (X_new - X_old)), axis=1)\n",
    "        \n",
    "    X = pd.DataFrame(X, columns=col_names)\n",
    "    y = y_orig[n:]\n",
    "    \n",
    "    return X, y\n",
    "        \n",
    "\n",
    "X, y = gera_janela(D[['pressao','hora', 'mes', 'precipitacao']], 12)"
   ]
  },
  {
   "cell_type": "code",
   "execution_count": null,
   "metadata": {},
   "outputs": [],
   "source": [
    "### Função utilitária para fazer a regressão com constante adicionada\n",
    "def regress(X,Y):\n",
    "    X_cp = sm.add_constant(X)\n",
    "    model = sm.OLS(Y,X_cp)\n",
    "    results = model.fit()\n",
    "    return results"
   ]
  },
  {
   "cell_type": "code",
   "execution_count": null,
   "metadata": {},
   "outputs": [],
   "source": [
    "from sklearn.model_selection import train_test_split\n",
    "X_train, X_test, y_train, y_test = train_test_split(X, y, test_size=0.2)"
   ]
  },
  {
   "cell_type": "markdown",
   "metadata": {},
   "source": [
    "### Regressão usando Regressão Linear Múltipla"
   ]
  },
  {
   "cell_type": "code",
   "execution_count": null,
   "metadata": {
    "scrolled": true
   },
   "outputs": [],
   "source": [
    "results1 = regress(X, y)\n",
    "results1.summary()"
   ]
  },
  {
   "cell_type": "code",
   "execution_count": null,
   "metadata": {},
   "outputs": [],
   "source": [
    "from sklearn.linear_model import LinearRegression\n",
    "from sklearn import metrics\n",
    "\n",
    "regressor = LinearRegression()  \n",
    "regressor.fit(X_train, y_train)\n",
    "y_pred = regressor.predict(X_test)\n",
    "df = pd.DataFrame({'Actual': y_test, 'Predicted': y_pred})"
   ]
  },
  {
   "cell_type": "code",
   "execution_count": null,
   "metadata": {},
   "outputs": [],
   "source": [
    "p = 0\n",
    "while p < len(df['Predicted']):\n",
    "    if df['Predicted'][p] < 0:\n",
    "        df['Predicted'][p] = 0\n",
    "    \n",
    "    p += 1"
   ]
  },
  {
   "cell_type": "code",
   "execution_count": null,
   "metadata": {},
   "outputs": [],
   "source": [
    "df.head(5)"
   ]
  },
  {
   "cell_type": "code",
   "execution_count": null,
   "metadata": {},
   "outputs": [],
   "source": [
    "lista_actual = list(df['Actual'])\n",
    "lista_predicted = list(df['Predicted'])\n",
    "\n",
    "erros = []\n",
    "k = 0\n",
    "while k < len(lista_actual):\n",
    "    erros.append(abs(lista_actual[k] - lista_predicted[k]))\n",
    "    k += 1\n",
    "    \n",
    "print('O erro médio é:',np.mean(erros))\n",
    "print('O desvio padrão do erro é:', np.std(erros))"
   ]
  },
  {
   "cell_type": "code",
   "execution_count": null,
   "metadata": {},
   "outputs": [],
   "source": [
    "a = np.arange(0,1748,1)\n",
    "plt.plot(a, df['Actual'], 'bo')\n",
    "plt.plot(a, df['Predicted'], 'ro')\n",
    "plt.grid(True)\n",
    "plt.show()"
   ]
  },
  {
   "cell_type": "code",
   "execution_count": null,
   "metadata": {},
   "outputs": [],
   "source": [
    "df.iloc[:20,:].plot(kind='bar', color=('blue', 'red'), legend=True )\n",
    "plt.grid(True)"
   ]
  },
  {
   "cell_type": "markdown",
   "metadata": {},
   "source": [
    "### Regressão usando Random Forrest Regressor"
   ]
  },
  {
   "cell_type": "code",
   "execution_count": null,
   "metadata": {},
   "outputs": [],
   "source": [
    "from sklearn.ensemble import RandomForestRegressor\n",
    "\n",
    "# Setando 100 árvores de decisão\n",
    "rf = RandomForestRegressor(n_estimators = 100, random_state = 42)\n",
    "\n",
    "# Treinando o modelo\n",
    "rf.fit(X_train, y_train);"
   ]
  },
  {
   "cell_type": "code",
   "execution_count": null,
   "metadata": {},
   "outputs": [],
   "source": [
    "# Fazendo as predições\n",
    "predictions = rf.predict(X_test)"
   ]
  },
  {
   "cell_type": "code",
   "execution_count": null,
   "metadata": {},
   "outputs": [],
   "source": [
    "df2 = pd.DataFrame({'Actual': y_test, 'Predicted': predictions})"
   ]
  },
  {
   "cell_type": "code",
   "execution_count": null,
   "metadata": {},
   "outputs": [],
   "source": [
    "p = 0\n",
    "while p < len(df2['Predicted']):\n",
    "    if df2['Predicted'][p] < 0:\n",
    "        df2['Predicted'][p] = 0\n",
    "    \n",
    "    p += 1"
   ]
  },
  {
   "cell_type": "code",
   "execution_count": null,
   "metadata": {},
   "outputs": [],
   "source": [
    "df2.head(5)"
   ]
  },
  {
   "cell_type": "code",
   "execution_count": null,
   "metadata": {},
   "outputs": [],
   "source": [
    "lista_actual2 = list(df2['Actual'])\n",
    "lista_predicted2 = list(df2['Predicted'])\n",
    "\n",
    "erros2 = []\n",
    "k = 0\n",
    "while k < len(lista_actual2):\n",
    "    erros2.append(abs(lista_actual2[k] - lista_predicted2[k]))\n",
    "    k += 1\n",
    "    \n",
    "print('O erro médio é:',np.mean(erros2))\n",
    "print('O desvio padrão do erro é:', np.std(erros2))"
   ]
  },
  {
   "cell_type": "code",
   "execution_count": null,
   "metadata": {},
   "outputs": [],
   "source": [
    "a = np.arange(0,1748,1)\n",
    "plt.plot(a, df2['Actual'], 'bo')\n",
    "plt.plot(a, df2['Predicted'], 'ro')\n",
    "plt.grid(True)\n",
    "plt.show()"
   ]
  },
  {
   "cell_type": "code",
   "execution_count": null,
   "metadata": {
    "scrolled": true
   },
   "outputs": [],
   "source": [
    "df2.iloc[:20,:].plot(kind='bar', color=('blue', 'red'), legend=True );\n",
    "plt.grid(True)"
   ]
  },
  {
   "cell_type": "code",
   "execution_count": null,
   "metadata": {},
   "outputs": [],
   "source": [
    "from sklearn.metrics import mean_squared_error\n",
    "y_pred = rf.predict(X_test)\n",
    "print('Erro médio: {}'.format(np.sqrt(mean_squared_error(y_test, y_pred))))"
   ]
  },
  {
   "cell_type": "code",
   "execution_count": null,
   "metadata": {},
   "outputs": [],
   "source": [
    "from bokeh.io import output_notebook, show\n",
    "from bokeh.plotting import figure\n",
    "\n",
    "output_notebook()"
   ]
  },
  {
   "cell_type": "code",
   "execution_count": null,
   "metadata": {},
   "outputs": [],
   "source": [
    "def plota_histograma(x, bins=20, title='Histograma'):\n",
    "    hist, edges = np.histogram(x, density=True, bins=bins)\n",
    "    p = figure(title=title, background_fill_color=\"#fafafa\")\n",
    "    p.quad(top=hist, bottom=0, left=edges[:-1], right=edges[1:], fill_color=\"navy\", line_color=\"white\", alpha=0.5)\n",
    "    show(p)"
   ]
  },
  {
   "cell_type": "code",
   "execution_count": null,
   "metadata": {},
   "outputs": [],
   "source": [
    "plota_histograma(y_pred)"
   ]
  },
  {
   "cell_type": "code",
   "execution_count": null,
   "metadata": {
    "scrolled": false
   },
   "outputs": [],
   "source": [
    "plota_histograma(y_test)"
   ]
  },
  {
   "cell_type": "code",
   "execution_count": null,
   "metadata": {
    "scrolled": false
   },
   "outputs": [],
   "source": [
    "plota_histograma((y_pred - y_test))"
   ]
  }
 ],
 "metadata": {
  "kernelspec": {
   "display_name": "Python 3",
   "language": "python",
   "name": "python3"
  },
  "language_info": {
   "codemirror_mode": {
    "name": "ipython",
    "version": 3
   },
   "file_extension": ".py",
   "mimetype": "text/x-python",
   "name": "python",
   "nbconvert_exporter": "python",
   "pygments_lexer": "ipython3",
   "version": "3.7.3"
  }
 },
 "nbformat": 4,
 "nbformat_minor": 2
}
