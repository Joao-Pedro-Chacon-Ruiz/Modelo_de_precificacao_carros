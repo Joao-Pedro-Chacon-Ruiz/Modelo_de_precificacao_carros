{
 "cells": [
  {
   "cell_type": "markdown",
   "metadata": {},
   "source": [
    "# Modelo estatístico de previsão de chuva"
   ]
  },
  {
   "cell_type": "markdown",
   "metadata": {},
   "source": [
    "**Sala: 2A**\n",
    "\n",
    "**Grupo:**\n",
    "> Breno Marti\n",
    "\n",
    "> Diogo Cintra\n",
    "\n",
    "> João Pedro Chacon Ruiz\n",
    "\n",
    "> Luiz Felipe Valente"
   ]
  },
  {
   "cell_type": "markdown",
   "metadata": {},
   "source": [
    "___\n",
    "## • Imports"
   ]
  },
  {
   "cell_type": "markdown",
   "metadata": {},
   "source": [
    "Importando as devidas funções para que se possa fazer a análise e filtragem dos dados, bem como a implementação do modelo de regrassão multipla."
   ]
  },
  {
   "cell_type": "code",
   "execution_count": 1,
   "metadata": {},
   "outputs": [],
   "source": [
    "#Importando as bibliotecas\n",
    "%matplotlib inline\n",
    "import pandas as pd\n",
    "import matplotlib.pyplot as plt\n",
    "import os\n",
    "from numpy import arange\n",
    "from numpy import percentile\n",
    "import numpy as np\n",
    "from pandas import DataFrame\n",
    "from scipy.stats import probplot\n",
    "import statsmodels.api as sm"
   ]
  },
  {
   "cell_type": "markdown",
   "metadata": {},
   "source": [
    "## • Início da análise exploratória"
   ]
  },
  {
   "cell_type": "markdown",
   "metadata": {},
   "source": [
    "Antes que se possa partir para a emplementação de qualquer modelo de previsão é necessário, primeiramente,  que se entenda como os dados se comportam e, caso preciso, manipulá-los, de forma a facilitar a construção do modelo, mas sem comprometer seus conteúdos."
   ]
  },
  {
   "cell_type": "code",
   "execution_count": 2,
   "metadata": {
    "scrolled": true
   },
   "outputs": [],
   "source": [
    "dados1 = pd.read_excel('sao_paulo.xlsx')\n",
    "dados1.head();"
   ]
  },
  {
   "cell_type": "code",
   "execution_count": 3,
   "metadata": {},
   "outputs": [],
   "source": [
    "datas = dados1.data\n",
    "horas = dados1.hora"
   ]
  },
  {
   "cell_type": "code",
   "execution_count": 4,
   "metadata": {},
   "outputs": [],
   "source": [
    "concat = []\n",
    "for e in range(len(datas)):\n",
    "    #concat.append(datas[e] + ',' + horas[e])\n",
    "    d = datas[e]\n",
    "    d = d.replace(hour=horas[e], minute=0, second=0)\n",
    "    concat.append(d)\n",
    "    \n",
    "#print(concat)\n",
    "dia_hora = pd.DataFrame(concat)"
   ]
  },
  {
   "cell_type": "code",
   "execution_count": 5,
   "metadata": {},
   "outputs": [],
   "source": [
    "dados1.insert(0,'time', dia_hora, True);"
   ]
  },
  {
   "cell_type": "code",
   "execution_count": 6,
   "metadata": {},
   "outputs": [],
   "source": [
    "dados_2 = dados1.drop(['data', 'hora'], axis=1)\n",
    "dados_3 = dados_2.set_index(\"time\")\n",
    "\n",
    "dados2 = dados1.drop(['data', 'hora'], axis=1)\n",
    "dados2.dropna();"
   ]
  },
  {
   "cell_type": "markdown",
   "metadata": {},
   "source": [
    "## Definindo as variáveis que vamos estudar "
   ]
  },
  {
   "cell_type": "markdown",
   "metadata": {},
   "source": [
    "A partir de estudos e leitura de papeis sobre o tema, as seguintes variáveis foram, repetidamente, dadas como as mais relevantes: temperatura, umidade, pressão atmosférica e velociadade do vento. Com base nessas pesquisas, estas mesmas foram tomadas como variáveis independentes do modelo de regressão linear múltipla."
   ]
  },
  {
   "cell_type": "code",
   "execution_count": 7,
   "metadata": {
    "scrolled": true
   },
   "outputs": [],
   "source": [
    "dados_log = np.log(dados_3[['temp_inst','pressao','umid_inst','precipitacao','vento_vel']])\n",
    "\n",
    "dados3 = dados2.transpose()\n",
    "dados4 = dados3.loc[['time','temp_inst', 'pressao','umid_inst', 'precipitacao','vento_vel']]\n",
    "dados5 = dados4.transpose()\n",
    "dados5 = dados5.sort_values(by='time')\n",
    "dados5 = dados5.reset_index()\n",
    "del dados5['index']\n",
    "d = dados5.dropna()"
   ]
  },
  {
   "cell_type": "code",
   "execution_count": 8,
   "metadata": {},
   "outputs": [],
   "source": [
    "data = []\n",
    "hora = []\n",
    "\n",
    "for coisas in d.time.astype(str):\n",
    "    teste = coisas.split()\n",
    "    data.append(teste[0])\n",
    "    horas = teste[1]\n",
    "    hora.append(horas[0:2])"
   ]
  },
  {
   "cell_type": "code",
   "execution_count": 9,
   "metadata": {},
   "outputs": [],
   "source": [
    "final = []\n",
    "\n",
    "anterior = data[0]\n",
    "a=0\n",
    "day = 0\n",
    "for dia in data:\n",
    "    if a < 8744:\n",
    "        if data[a+1] == anterior:\n",
    "            final.append(day)\n",
    "        else:\n",
    "            final.append(day)\n",
    "            day += 1\n",
    "            anterior = data[a+1]\n",
    "    a += 1\n",
    "final.append(364)"
   ]
  },
  {
   "cell_type": "code",
   "execution_count": 10,
   "metadata": {},
   "outputs": [],
   "source": [
    "hora = pd.Series(hora).astype(int) \n",
    "final = pd.Series(final).astype(int)"
   ]
  },
  {
   "cell_type": "code",
   "execution_count": 11,
   "metadata": {},
   "outputs": [
    {
     "name": "stderr",
     "output_type": "stream",
     "text": [
      "C:\\Users\\diogo\\Anaconda3\\lib\\site-packages\\ipykernel_launcher.py:1: SettingWithCopyWarning: \n",
      "A value is trying to be set on a copy of a slice from a DataFrame.\n",
      "Try using .loc[row_indexer,col_indexer] = value instead\n",
      "\n",
      "See the caveats in the documentation: http://pandas.pydata.org/pandas-docs/stable/indexing.html#indexing-view-versus-copy\n",
      "  \"\"\"Entry point for launching an IPython kernel.\n",
      "C:\\Users\\diogo\\Anaconda3\\lib\\site-packages\\ipykernel_launcher.py:2: SettingWithCopyWarning: \n",
      "A value is trying to be set on a copy of a slice from a DataFrame.\n",
      "Try using .loc[row_indexer,col_indexer] = value instead\n",
      "\n",
      "See the caveats in the documentation: http://pandas.pydata.org/pandas-docs/stable/indexing.html#indexing-view-versus-copy\n",
      "  \n"
     ]
    }
   ],
   "source": [
    "d['horas'] = hora\n",
    "d['dias'] = final"
   ]
  },
  {
   "cell_type": "markdown",
   "metadata": {},
   "source": [
    "## Criando as colunas de seno e de cosseno tanto das horas quanto dos dias para dar ao modelo a ideia de que são variáveis cíclicas"
   ]
  },
  {
   "cell_type": "markdown",
   "metadata": {},
   "source": [
    "Estas variáveis foram criadas para representar a sazonalidade nos períodos de chuva, a fim de aumentar a precisão do modelo, que agora será capaz de distinguir as diferentes estações do ano."
   ]
  },
  {
   "cell_type": "code",
   "execution_count": 12,
   "metadata": {},
   "outputs": [
    {
     "name": "stderr",
     "output_type": "stream",
     "text": [
      "C:\\Users\\diogo\\Anaconda3\\lib\\site-packages\\ipykernel_launcher.py:1: SettingWithCopyWarning: \n",
      "A value is trying to be set on a copy of a slice from a DataFrame.\n",
      "Try using .loc[row_indexer,col_indexer] = value instead\n",
      "\n",
      "See the caveats in the documentation: http://pandas.pydata.org/pandas-docs/stable/indexing.html#indexing-view-versus-copy\n",
      "  \"\"\"Entry point for launching an IPython kernel.\n",
      "C:\\Users\\diogo\\Anaconda3\\lib\\site-packages\\ipykernel_launcher.py:2: SettingWithCopyWarning: \n",
      "A value is trying to be set on a copy of a slice from a DataFrame.\n",
      "Try using .loc[row_indexer,col_indexer] = value instead\n",
      "\n",
      "See the caveats in the documentation: http://pandas.pydata.org/pandas-docs/stable/indexing.html#indexing-view-versus-copy\n",
      "  \n"
     ]
    }
   ],
   "source": [
    "d['hora_seno'] = np.sin(2*np.pi*hora/24)\n",
    "d['hora_cosseno'] = np.cos(2*np.pi*hora/24)"
   ]
  },
  {
   "cell_type": "code",
   "execution_count": 13,
   "metadata": {
    "scrolled": true
   },
   "outputs": [
    {
     "name": "stderr",
     "output_type": "stream",
     "text": [
      "C:\\Users\\diogo\\Anaconda3\\lib\\site-packages\\ipykernel_launcher.py:1: SettingWithCopyWarning: \n",
      "A value is trying to be set on a copy of a slice from a DataFrame.\n",
      "Try using .loc[row_indexer,col_indexer] = value instead\n",
      "\n",
      "See the caveats in the documentation: http://pandas.pydata.org/pandas-docs/stable/indexing.html#indexing-view-versus-copy\n",
      "  \"\"\"Entry point for launching an IPython kernel.\n",
      "C:\\Users\\diogo\\Anaconda3\\lib\\site-packages\\ipykernel_launcher.py:2: SettingWithCopyWarning: \n",
      "A value is trying to be set on a copy of a slice from a DataFrame.\n",
      "Try using .loc[row_indexer,col_indexer] = value instead\n",
      "\n",
      "See the caveats in the documentation: http://pandas.pydata.org/pandas-docs/stable/indexing.html#indexing-view-versus-copy\n",
      "  \n"
     ]
    },
    {
     "data": {
      "text/html": [
       "<div>\n",
       "<style scoped>\n",
       "    .dataframe tbody tr th:only-of-type {\n",
       "        vertical-align: middle;\n",
       "    }\n",
       "\n",
       "    .dataframe tbody tr th {\n",
       "        vertical-align: top;\n",
       "    }\n",
       "\n",
       "    .dataframe thead th {\n",
       "        text-align: right;\n",
       "    }\n",
       "</style>\n",
       "<table border=\"1\" class=\"dataframe\">\n",
       "  <thead>\n",
       "    <tr style=\"text-align: right;\">\n",
       "      <th></th>\n",
       "      <th>time</th>\n",
       "      <th>temp_inst</th>\n",
       "      <th>pressao</th>\n",
       "      <th>umid_inst</th>\n",
       "      <th>precipitacao</th>\n",
       "      <th>vento_vel</th>\n",
       "      <th>horas</th>\n",
       "      <th>dias</th>\n",
       "      <th>hora_seno</th>\n",
       "      <th>hora_cosseno</th>\n",
       "      <th>dia_seno</th>\n",
       "      <th>dia_cosseno</th>\n",
       "    </tr>\n",
       "  </thead>\n",
       "  <tbody>\n",
       "    <tr>\n",
       "      <th>0</th>\n",
       "      <td>2018-11-18 00:00:00</td>\n",
       "      <td>17.7</td>\n",
       "      <td>928.7</td>\n",
       "      <td>94</td>\n",
       "      <td>0</td>\n",
       "      <td>116</td>\n",
       "      <td>0.0</td>\n",
       "      <td>0.0</td>\n",
       "      <td>0.000000</td>\n",
       "      <td>1.000000</td>\n",
       "      <td>0.0</td>\n",
       "      <td>1.0</td>\n",
       "    </tr>\n",
       "    <tr>\n",
       "      <th>1</th>\n",
       "      <td>2018-11-18 01:00:00</td>\n",
       "      <td>17.5</td>\n",
       "      <td>928.6</td>\n",
       "      <td>94</td>\n",
       "      <td>0</td>\n",
       "      <td>120</td>\n",
       "      <td>1.0</td>\n",
       "      <td>0.0</td>\n",
       "      <td>0.258819</td>\n",
       "      <td>0.965926</td>\n",
       "      <td>0.0</td>\n",
       "      <td>1.0</td>\n",
       "    </tr>\n",
       "    <tr>\n",
       "      <th>2</th>\n",
       "      <td>2018-11-18 02:00:00</td>\n",
       "      <td>17.2</td>\n",
       "      <td>928</td>\n",
       "      <td>96</td>\n",
       "      <td>0</td>\n",
       "      <td>134</td>\n",
       "      <td>2.0</td>\n",
       "      <td>0.0</td>\n",
       "      <td>0.500000</td>\n",
       "      <td>0.866025</td>\n",
       "      <td>0.0</td>\n",
       "      <td>1.0</td>\n",
       "    </tr>\n",
       "    <tr>\n",
       "      <th>3</th>\n",
       "      <td>2018-11-18 03:00:00</td>\n",
       "      <td>18.5</td>\n",
       "      <td>927.5</td>\n",
       "      <td>93</td>\n",
       "      <td>0</td>\n",
       "      <td>34</td>\n",
       "      <td>3.0</td>\n",
       "      <td>0.0</td>\n",
       "      <td>0.707107</td>\n",
       "      <td>0.707107</td>\n",
       "      <td>0.0</td>\n",
       "      <td>1.0</td>\n",
       "    </tr>\n",
       "    <tr>\n",
       "      <th>4</th>\n",
       "      <td>2018-11-18 04:00:00</td>\n",
       "      <td>19.8</td>\n",
       "      <td>926.4</td>\n",
       "      <td>87</td>\n",
       "      <td>0</td>\n",
       "      <td>354</td>\n",
       "      <td>4.0</td>\n",
       "      <td>0.0</td>\n",
       "      <td>0.866025</td>\n",
       "      <td>0.500000</td>\n",
       "      <td>0.0</td>\n",
       "      <td>1.0</td>\n",
       "    </tr>\n",
       "  </tbody>\n",
       "</table>\n",
       "</div>"
      ],
      "text/plain": [
       "                  time temp_inst pressao umid_inst precipitacao vento_vel  \\\n",
       "0  2018-11-18 00:00:00      17.7   928.7        94            0       116   \n",
       "1  2018-11-18 01:00:00      17.5   928.6        94            0       120   \n",
       "2  2018-11-18 02:00:00      17.2     928        96            0       134   \n",
       "3  2018-11-18 03:00:00      18.5   927.5        93            0        34   \n",
       "4  2018-11-18 04:00:00      19.8   926.4        87            0       354   \n",
       "\n",
       "   horas  dias  hora_seno  hora_cosseno  dia_seno  dia_cosseno  \n",
       "0    0.0   0.0   0.000000      1.000000       0.0          1.0  \n",
       "1    1.0   0.0   0.258819      0.965926       0.0          1.0  \n",
       "2    2.0   0.0   0.500000      0.866025       0.0          1.0  \n",
       "3    3.0   0.0   0.707107      0.707107       0.0          1.0  \n",
       "4    4.0   0.0   0.866025      0.500000       0.0          1.0  "
      ]
     },
     "execution_count": 13,
     "metadata": {},
     "output_type": "execute_result"
    }
   ],
   "source": [
    "d['dia_seno'] = np.sin(2*np.pi*final/365.25)\n",
    "d['dia_cosseno'] = np.cos(2*np.pi*final/365.25)\n",
    "d.head()"
   ]
  },
  {
   "cell_type": "markdown",
   "metadata": {},
   "source": [
    "___\n",
    "## Analisando os dias que tiveram chuvas"
   ]
  },
  {
   "cell_type": "markdown",
   "metadata": {},
   "source": [
    "### Análise com log"
   ]
  },
  {
   "cell_type": "code",
   "execution_count": 14,
   "metadata": {},
   "outputs": [
    {
     "data": {
      "text/html": [
       "<div>\n",
       "<style scoped>\n",
       "    .dataframe tbody tr th:only-of-type {\n",
       "        vertical-align: middle;\n",
       "    }\n",
       "\n",
       "    .dataframe tbody tr th {\n",
       "        vertical-align: top;\n",
       "    }\n",
       "\n",
       "    .dataframe thead th {\n",
       "        text-align: right;\n",
       "    }\n",
       "</style>\n",
       "<table border=\"1\" class=\"dataframe\">\n",
       "  <thead>\n",
       "    <tr style=\"text-align: right;\">\n",
       "      <th></th>\n",
       "      <th>temp_inst</th>\n",
       "      <th>pressao</th>\n",
       "      <th>umid_inst</th>\n",
       "      <th>precipitacao</th>\n",
       "      <th>vento_vel</th>\n",
       "    </tr>\n",
       "    <tr>\n",
       "      <th>time</th>\n",
       "      <th></th>\n",
       "      <th></th>\n",
       "      <th></th>\n",
       "      <th></th>\n",
       "      <th></th>\n",
       "    </tr>\n",
       "  </thead>\n",
       "  <tbody>\n",
       "    <tr>\n",
       "      <th>2018-11-18 22:00:00</th>\n",
       "      <td>3.077312</td>\n",
       "      <td>6.829145</td>\n",
       "      <td>4.543295</td>\n",
       "      <td>0.336472</td>\n",
       "      <td>5.707110</td>\n",
       "    </tr>\n",
       "    <tr>\n",
       "      <th>2018-11-19 02:00:00</th>\n",
       "      <td>2.856470</td>\n",
       "      <td>6.831954</td>\n",
       "      <td>4.543295</td>\n",
       "      <td>0.587787</td>\n",
       "      <td>5.129899</td>\n",
       "    </tr>\n",
       "    <tr>\n",
       "      <th>2018-11-19 19:00:00</th>\n",
       "      <td>2.714695</td>\n",
       "      <td>6.833355</td>\n",
       "      <td>4.543295</td>\n",
       "      <td>0.182322</td>\n",
       "      <td>5.023881</td>\n",
       "    </tr>\n",
       "    <tr>\n",
       "      <th>2018-11-19 00:00:00</th>\n",
       "      <td>2.867899</td>\n",
       "      <td>6.831738</td>\n",
       "      <td>4.543295</td>\n",
       "      <td>2.128232</td>\n",
       "      <td>5.393628</td>\n",
       "    </tr>\n",
       "    <tr>\n",
       "      <th>2018-11-19 07:00:00</th>\n",
       "      <td>2.833213</td>\n",
       "      <td>6.830010</td>\n",
       "      <td>4.564348</td>\n",
       "      <td>0.470004</td>\n",
       "      <td>5.141664</td>\n",
       "    </tr>\n",
       "  </tbody>\n",
       "</table>\n",
       "</div>"
      ],
      "text/plain": [
       "                     temp_inst   pressao  umid_inst  precipitacao  vento_vel\n",
       "time                                                                        \n",
       "2018-11-18 22:00:00   3.077312  6.829145   4.543295      0.336472   5.707110\n",
       "2018-11-19 02:00:00   2.856470  6.831954   4.543295      0.587787   5.129899\n",
       "2018-11-19 19:00:00   2.714695  6.833355   4.543295      0.182322   5.023881\n",
       "2018-11-19 00:00:00   2.867899  6.831738   4.543295      2.128232   5.393628\n",
       "2018-11-19 07:00:00   2.833213  6.830010   4.564348      0.470004   5.141664"
      ]
     },
     "execution_count": 14,
     "metadata": {},
     "output_type": "execute_result"
    }
   ],
   "source": [
    "dados_log_com_chuva = dados_log[dados_log['precipitacao']>0]\n",
    "dados_log_com_chuva.head()"
   ]
  },
  {
   "cell_type": "code",
   "execution_count": 15,
   "metadata": {},
   "outputs": [],
   "source": [
    "temperatura1_log = dados_log_com_chuva['temp_inst']\n",
    "pressao1_log = dados_log_com_chuva['pressao']\n",
    "umidade1_log = dados_log_com_chuva['umid_inst']\n",
    "precipitacao1_log = dados_log_com_chuva['precipitacao']"
   ]
  },
  {
   "cell_type": "markdown",
   "metadata": {},
   "source": [
    "### Análise de correlação entre variáveis independentes"
   ]
  },
  {
   "cell_type": "markdown",
   "metadata": {},
   "source": [
    "Uma grande correlação entre variáveis independentes comprometem a análise por serem redundantes entre sí, impedindo que o algoritmo atribua valores relevantes às mesmas variáveis"
   ]
  },
  {
   "cell_type": "markdown",
   "metadata": {},
   "source": [
    "Scatter plots a fim de facilitar a visualização da correlação entre as variáveis"
   ]
  },
  {
   "cell_type": "code",
   "execution_count": 16,
   "metadata": {},
   "outputs": [
    {
     "data": {
      "image/png": "[encoded data removed]",
      "text/plain": [
       "<Figure size 1440x360 with 3 Axes>"
      ]
     },
     "metadata": {
      "needs_background": "light"
     },
     "output_type": "display_data"
    }
   ],
   "source": [
    "fig, axs = plt.subplots(1, 3)\n",
    "fig.set_size_inches(20, 5) \n",
    "axs[0].scatter(temperatura1_log,pressao1_log, alpha=0.4);\n",
    "axs[0].set_title('Temperatura x Pressao');\n",
    "axs[1].scatter(temperatura1_log,umidade1_log, alpha=0.4);\n",
    "axs[1].set_title('Temperatura x Umidade');\n",
    "axs[2].scatter(pressao1_log,umidade1_log, alpha=0.4);\n",
    "axs[2].set_title('Pressao x Umidade');"
   ]
  },
  {
   "cell_type": "markdown",
   "metadata": {},
   "source": [
    "### Análise sem log"
   ]
  },
  {
   "cell_type": "markdown",
   "metadata": {},
   "source": [
    "Novamente, se trata de uma análise a fim de selecionar variáveis independentes que de fato contribuam com o modelo"
   ]
  },
  {
   "cell_type": "code",
   "execution_count": 17,
   "metadata": {},
   "outputs": [
    {
     "data": {
      "text/html": [
       "<div>\n",
       "<style scoped>\n",
       "    .dataframe tbody tr th:only-of-type {\n",
       "        vertical-align: middle;\n",
       "    }\n",
       "\n",
       "    .dataframe tbody tr th {\n",
       "        vertical-align: top;\n",
       "    }\n",
       "\n",
       "    .dataframe thead th {\n",
       "        text-align: right;\n",
       "    }\n",
       "</style>\n",
       "<table border=\"1\" class=\"dataframe\">\n",
       "  <thead>\n",
       "    <tr style=\"text-align: right;\">\n",
       "      <th></th>\n",
       "      <th>time</th>\n",
       "      <th>temp_inst</th>\n",
       "      <th>pressao</th>\n",
       "      <th>umid_inst</th>\n",
       "      <th>precipitacao</th>\n",
       "      <th>vento_vel</th>\n",
       "    </tr>\n",
       "  </thead>\n",
       "  <tbody>\n",
       "    <tr>\n",
       "      <th>22</th>\n",
       "      <td>2018-11-18 22:00:00</td>\n",
       "      <td>21.7</td>\n",
       "      <td>924.4</td>\n",
       "      <td>94</td>\n",
       "      <td>1.4</td>\n",
       "      <td>301</td>\n",
       "    </tr>\n",
       "    <tr>\n",
       "      <th>23</th>\n",
       "      <td>2018-11-18 23:00:00</td>\n",
       "      <td>22</td>\n",
       "      <td>925.4</td>\n",
       "      <td>95</td>\n",
       "      <td>0.4</td>\n",
       "      <td>200</td>\n",
       "    </tr>\n",
       "    <tr>\n",
       "      <th>24</th>\n",
       "      <td>2018-11-19 00:00:00</td>\n",
       "      <td>17.6</td>\n",
       "      <td>926.8</td>\n",
       "      <td>94</td>\n",
       "      <td>8.4</td>\n",
       "      <td>220</td>\n",
       "    </tr>\n",
       "    <tr>\n",
       "      <th>25</th>\n",
       "      <td>2018-11-19 01:00:00</td>\n",
       "      <td>17.5</td>\n",
       "      <td>927.2</td>\n",
       "      <td>95</td>\n",
       "      <td>6.8</td>\n",
       "      <td>157</td>\n",
       "    </tr>\n",
       "    <tr>\n",
       "      <th>26</th>\n",
       "      <td>2018-11-19 02:00:00</td>\n",
       "      <td>17.4</td>\n",
       "      <td>927</td>\n",
       "      <td>94</td>\n",
       "      <td>1.8</td>\n",
       "      <td>169</td>\n",
       "    </tr>\n",
       "  </tbody>\n",
       "</table>\n",
       "</div>"
      ],
      "text/plain": [
       "                   time temp_inst pressao umid_inst precipitacao vento_vel\n",
       "22  2018-11-18 22:00:00      21.7   924.4        94          1.4       301\n",
       "23  2018-11-18 23:00:00        22   925.4        95          0.4       200\n",
       "24  2018-11-19 00:00:00      17.6   926.8        94          8.4       220\n",
       "25  2018-11-19 01:00:00      17.5   927.2        95          6.8       157\n",
       "26  2018-11-19 02:00:00      17.4     927        94          1.8       169"
      ]
     },
     "execution_count": 17,
     "metadata": {},
     "output_type": "execute_result"
    }
   ],
   "source": [
    "dados_com_chuva = dados5[dados5['precipitacao']>0]\n",
    "dados_com_chuva.head()"
   ]
  },
  {
   "cell_type": "code",
   "execution_count": 18,
   "metadata": {},
   "outputs": [],
   "source": [
    "tempo1 = dados_com_chuva['time']\n",
    "temperatura1 = dados_com_chuva['temp_inst']\n",
    "pressao1 = dados_com_chuva['pressao']\n",
    "umidade1 = dados_com_chuva['umid_inst']\n",
    "precipitacao1 = dados_com_chuva['precipitacao']\n",
    "\n",
    "temperatura1 = temperatura1.astype(float)\n",
    "umidade1 = umidade1.astype(float)\n",
    "pressao1 = pressao1.astype(float)\n",
    "precipitacao1 = precipitacao1.astype(float)\n",
    "\n",
    "temperatura1_log = temperatura1_log.astype(float)\n",
    "umidade1_log = umidade1_log.astype(float)\n",
    "pressao1_log = pressao1_log.astype(float)\n",
    "precipitacao1_log = precipitacao1_log.astype(float)"
   ]
  },
  {
   "cell_type": "markdown",
   "metadata": {},
   "source": [
    "Scatter plots das variáveis independentes, que passam uma imagem visual da correlação entre elas"
   ]
  },
  {
   "cell_type": "code",
   "execution_count": 19,
   "metadata": {},
   "outputs": [
    {
     "data": {
      "image/png": "[encoded data removed]",
      "text/plain": [
       "<Figure size 1800x504 with 3 Axes>"
      ]
     },
     "metadata": {
      "needs_background": "light"
     },
     "output_type": "display_data"
    }
   ],
   "source": [
    "fig, axs = plt.subplots(1, 3)\n",
    "fig.set_size_inches(25, 7) \n",
    "axs[0].scatter(temperatura1,pressao1, alpha=0.2);\n",
    "axs[0].set_title('Temperatura x Pressao');\n",
    "axs[1].scatter(temperatura1,umidade1, alpha=0.2);\n",
    "axs[1].set_title('Temperatura x Umidade');\n",
    "axs[2].scatter(pressao1,umidade1, alpha=0.2);\n",
    "axs[2].set_title('Pressao x Umidade');"
   ]
  },
  {
   "cell_type": "markdown",
   "metadata": {},
   "source": [
    "### Correlação entre as variáveis independentes"
   ]
  },
  {
   "cell_type": "markdown",
   "metadata": {},
   "source": [
    "Cálculo do valor númerico das correlações entre as variáveis independentes"
   ]
  },
  {
   "cell_type": "markdown",
   "metadata": {},
   "source": [
    "> Sem uso de log"
   ]
  },
  {
   "cell_type": "code",
   "execution_count": 20,
   "metadata": {},
   "outputs": [
    {
     "name": "stdout",
     "output_type": "stream",
     "text": [
      "Correlação entre temperatura e pressão: -0.5488528251274664\n",
      "Correlação entre temperatura e umidade: -0.3464574364736255\n",
      "Correlação entre pressão e umidade: 0.03197843875839696\n"
     ]
    }
   ],
   "source": [
    "print('Correlação entre temperatura e pressão:', temperatura1.corr(pressao1))\n",
    "print('Correlação entre temperatura e umidade:', temperatura1.corr(umidade1))\n",
    "print('Correlação entre pressão e umidade:',pressao1.corr(umidade1))"
   ]
  },
  {
   "cell_type": "markdown",
   "metadata": {},
   "source": [
    "> Com uso de log"
   ]
  },
  {
   "cell_type": "code",
   "execution_count": 21,
   "metadata": {},
   "outputs": [
    {
     "name": "stdout",
     "output_type": "stream",
     "text": [
      "Correlação entre temperatura e pressão: -0.5721111786077637\n",
      "Correlação entre temperatura e umidade: -0.28976593886799085\n",
      "Correlação entre pressão e umidade: 0.03208389615743958\n"
     ]
    }
   ],
   "source": [
    "print('Correlação entre temperatura e pressão:', np.log10(temperatura1).corr(pressao1))\n",
    "print('Correlação entre temperatura e umidade:', np.log10(temperatura1).corr(umidade1))\n",
    "print('Correlação entre pressão e umidade:',np.log10(pressao1).corr(umidade1))"
   ]
  },
  {
   "cell_type": "markdown",
   "metadata": {},
   "source": [
    "O uso de logaritmos nos valores das variáveis ajuda, em certos casos, a mostrar correlações que antes não eram percebidas dado a sua natureza"
   ]
  },
  {
   "cell_type": "markdown",
   "metadata": {},
   "source": [
    "Scatter plot das variáveis independentes x dependentes com logaritmo, a fim de visualizar possíveis correlações "
   ]
  },
  {
   "cell_type": "code",
   "execution_count": 22,
   "metadata": {},
   "outputs": [
    {
     "data": {
      "image/png": "[encoded data removed]",
      "text/plain": [
       "<Figure size 1800x504 with 3 Axes>"
      ]
     },
     "metadata": {
      "needs_background": "light"
     },
     "output_type": "display_data"
    }
   ],
   "source": [
    "fig, axs = plt.subplots(1, 3)\n",
    "fig.set_size_inches(25, 7) \n",
    "axs[0].scatter(temperatura1,np.log10(precipitacao1), alpha=0.3);\n",
    "axs[0].set_title('Temperatura x Precipitação');\n",
    "axs[1].scatter(umidade1,np.log10(precipitacao1), alpha=0.3);\n",
    "axs[1].set_title('Umidade x Precipitação');\n",
    "axs[2].scatter(pressao1,np.log10(precipitacao1), alpha=0.3);\n",
    "axs[2].set_title('Pressão x Precipitação');"
   ]
  },
  {
   "cell_type": "markdown",
   "metadata": {},
   "source": [
    "### Correlação entre as variáveis independentes e a variável dependente"
   ]
  },
  {
   "cell_type": "markdown",
   "metadata": {},
   "source": [
    "Este cálculo é crucial para que se perceba quais variáveis podem, de fato contribuir para o modelo. Essa possível contribuição depende da correlação entre as variáveis independentes escolhidas e a variável dependente a ser calculada"
   ]
  },
  {
   "cell_type": "markdown",
   "metadata": {},
   "source": [
    "> Cálculo sem usar o logaritmo"
   ]
  },
  {
   "cell_type": "code",
   "execution_count": 23,
   "metadata": {},
   "outputs": [
    {
     "name": "stdout",
     "output_type": "stream",
     "text": [
      "Correlação entre precipitação e pressão: -0.16590337399187374\n",
      "Correlação entre precipitação e umidade: 0.13346501296565053\n",
      "Correlação entre precipitação e umidade: 0.12463014239076822\n"
     ]
    }
   ],
   "source": [
    "print('Correlação entre precipitação e pressão:',(precipitacao1).corr(pressao1))\n",
    "print('Correlação entre precipitação e umidade:',(precipitacao1).corr(umidade1))\n",
    "print('Correlação entre precipitação e umidade:',(precipitacao1).corr(temperatura1))"
   ]
  },
  {
   "cell_type": "markdown",
   "metadata": {},
   "source": [
    "> Cálculo usando o logaritmo"
   ]
  },
  {
   "cell_type": "code",
   "execution_count": 24,
   "metadata": {
    "scrolled": true
   },
   "outputs": [
    {
     "name": "stdout",
     "output_type": "stream",
     "text": [
      "Correlação entre precipitação e pressão: -0.2602460154313453\n",
      "Correlação entre precipitação e umidade: 0.2526373920276481\n",
      "Correlação entre precipitação e umidade: 0.13454309530266464\n"
     ]
    }
   ],
   "source": [
    "print('Correlação entre precipitação e pressão:', np.log10(precipitacao1).corr(pressao1))\n",
    "print('Correlação entre precipitação e umidade:', np.log10(precipitacao1).corr(umidade1))\n",
    "print('Correlação entre precipitação e umidade:',np.log10(precipitacao1).corr(temperatura1))"
   ]
  },
  {
   "cell_type": "markdown",
   "metadata": {},
   "source": [
    "## Plot de tabelas OLS"
   ]
  },
  {
   "cell_type": "markdown",
   "metadata": {},
   "source": [
    "As tabelas OLS são usadas para que se possa ter uma noção de como os dados se comportam e como se dão cetos parâmetros relevântes para a análise"
   ]
  },
  {
   "cell_type": "code",
   "execution_count": 25,
   "metadata": {},
   "outputs": [
    {
     "data": {
      "text/html": [
       "<table class=\"simpletable\">\n",
       "<caption>OLS Regression Results</caption>\n",
       "<tr>\n",
       "  <th>Dep. Variable:</th>      <td>precipitacao</td>   <th>  R-squared:         </th> <td>   0.064</td>\n",
       "</tr>\n",
       "<tr>\n",
       "  <th>Model:</th>                   <td>OLS</td>       <th>  Adj. R-squared:    </th> <td>   0.063</td>\n",
       "</tr>\n",
       "<tr>\n",
       "  <th>Method:</th>             <td>Least Squares</td>  <th>  F-statistic:       </th> <td>   57.06</td>\n",
       "</tr>\n",
       "<tr>\n",
       "  <th>Date:</th>             <td>Tue, 19 Nov 2019</td> <th>  Prob (F-statistic):</th> <td>1.11e-13</td>\n",
       "</tr>\n",
       "<tr>\n",
       "  <th>Time:</th>                 <td>15:49:21</td>     <th>  Log-Likelihood:    </th> <td> -728.23</td>\n",
       "</tr>\n",
       "<tr>\n",
       "  <th>No. Observations:</th>      <td>   839</td>      <th>  AIC:               </th> <td>   1460.</td>\n",
       "</tr>\n",
       "<tr>\n",
       "  <th>Df Residuals:</th>          <td>   837</td>      <th>  BIC:               </th> <td>   1470.</td>\n",
       "</tr>\n",
       "<tr>\n",
       "  <th>Df Model:</th>              <td>     1</td>      <th>                     </th>     <td> </td>   \n",
       "</tr>\n",
       "<tr>\n",
       "  <th>Covariance Type:</th>      <td>nonrobust</td>    <th>                     </th>     <td> </td>   \n",
       "</tr>\n",
       "</table>\n",
       "<table class=\"simpletable\">\n",
       "<tr>\n",
       "      <td></td>         <th>coef</th>     <th>std err</th>      <th>t</th>      <th>P>|t|</th>  <th>[0.025</th>    <th>0.975]</th>  \n",
       "</tr>\n",
       "<tr>\n",
       "  <th>const</th>     <td>   -2.6851</td> <td>    0.345</td> <td>   -7.789</td> <td> 0.000</td> <td>   -3.362</td> <td>   -2.008</td>\n",
       "</tr>\n",
       "<tr>\n",
       "  <th>umid_inst</th> <td>    0.0278</td> <td>    0.004</td> <td>    7.554</td> <td> 0.000</td> <td>    0.021</td> <td>    0.035</td>\n",
       "</tr>\n",
       "</table>\n",
       "<table class=\"simpletable\">\n",
       "<tr>\n",
       "  <th>Omnibus:</th>       <td>68.672</td> <th>  Durbin-Watson:     </th> <td>   1.248</td>\n",
       "</tr>\n",
       "<tr>\n",
       "  <th>Prob(Omnibus):</th> <td> 0.000</td> <th>  Jarque-Bera (JB):  </th> <td>  56.697</td>\n",
       "</tr>\n",
       "<tr>\n",
       "  <th>Skew:</th>          <td> 0.552</td> <th>  Prob(JB):          </th> <td>4.88e-13</td>\n",
       "</tr>\n",
       "<tr>\n",
       "  <th>Kurtosis:</th>      <td> 2.367</td> <th>  Cond. No.          </th> <td>1.62e+03</td>\n",
       "</tr>\n",
       "</table><br/><br/>Warnings:<br/>[1] Standard Errors assume that the covariance matrix of the errors is correctly specified.<br/>[2] The condition number is large, 1.62e+03. This might indicate that there are<br/>strong multicollinearity or other numerical problems."
      ],
      "text/plain": [
       "<class 'statsmodels.iolib.summary.Summary'>\n",
       "\"\"\"\n",
       "                            OLS Regression Results                            \n",
       "==============================================================================\n",
       "Dep. Variable:           precipitacao   R-squared:                       0.064\n",
       "Model:                            OLS   Adj. R-squared:                  0.063\n",
       "Method:                 Least Squares   F-statistic:                     57.06\n",
       "Date:                Tue, 19 Nov 2019   Prob (F-statistic):           1.11e-13\n",
       "Time:                        15:49:21   Log-Likelihood:                -728.23\n",
       "No. Observations:                 839   AIC:                             1460.\n",
       "Df Residuals:                     837   BIC:                             1470.\n",
       "Df Model:                           1                                         \n",
       "Covariance Type:            nonrobust                                         \n",
       "==============================================================================\n",
       "                 coef    std err          t      P>|t|      [0.025      0.975]\n",
       "------------------------------------------------------------------------------\n",
       "const         -2.6851      0.345     -7.789      0.000      -3.362      -2.008\n",
       "umid_inst      0.0278      0.004      7.554      0.000       0.021       0.035\n",
       "==============================================================================\n",
       "Omnibus:                       68.672   Durbin-Watson:                   1.248\n",
       "Prob(Omnibus):                  0.000   Jarque-Bera (JB):               56.697\n",
       "Skew:                           0.552   Prob(JB):                     4.88e-13\n",
       "Kurtosis:                       2.367   Cond. No.                     1.62e+03\n",
       "==============================================================================\n",
       "\n",
       "Warnings:\n",
       "[1] Standard Errors assume that the covariance matrix of the errors is correctly specified.\n",
       "[2] The condition number is large, 1.62e+03. This might indicate that there are\n",
       "strong multicollinearity or other numerical problems.\n",
       "\"\"\""
      ]
     },
     "execution_count": 25,
     "metadata": {},
     "output_type": "execute_result"
    }
   ],
   "source": [
    "model = sm.OLS(np.log10(precipitacao1),sm.add_constant(umidade1))\n",
    "results = model.fit()\n",
    "results.summary()"
   ]
  },
  {
   "cell_type": "code",
   "execution_count": 26,
   "metadata": {},
   "outputs": [
    {
     "data": {
      "text/html": [
       "<table class=\"simpletable\">\n",
       "<caption>OLS Regression Results</caption>\n",
       "<tr>\n",
       "  <th>Dep. Variable:</th>      <td>precipitacao</td>   <th>  R-squared:         </th> <td>   0.018</td>\n",
       "</tr>\n",
       "<tr>\n",
       "  <th>Model:</th>                   <td>OLS</td>       <th>  Adj. R-squared:    </th> <td>   0.017</td>\n",
       "</tr>\n",
       "<tr>\n",
       "  <th>Method:</th>             <td>Least Squares</td>  <th>  F-statistic:       </th> <td>   15.18</td>\n",
       "</tr>\n",
       "<tr>\n",
       "  <th>Date:</th>             <td>Tue, 19 Nov 2019</td> <th>  Prob (F-statistic):</th> <td>0.000106</td>\n",
       "</tr>\n",
       "<tr>\n",
       "  <th>Time:</th>                 <td>15:51:39</td>     <th>  Log-Likelihood:    </th> <td> -2452.4</td>\n",
       "</tr>\n",
       "<tr>\n",
       "  <th>No. Observations:</th>      <td>   839</td>      <th>  AIC:               </th> <td>   4909.</td>\n",
       "</tr>\n",
       "<tr>\n",
       "  <th>Df Residuals:</th>          <td>   837</td>      <th>  BIC:               </th> <td>   4918.</td>\n",
       "</tr>\n",
       "<tr>\n",
       "  <th>Df Model:</th>              <td>     1</td>      <th>                     </th>     <td> </td>   \n",
       "</tr>\n",
       "<tr>\n",
       "  <th>Covariance Type:</th>      <td>nonrobust</td>    <th>                     </th>     <td> </td>   \n",
       "</tr>\n",
       "</table>\n",
       "<table class=\"simpletable\">\n",
       "<tr>\n",
       "      <td></td>         <th>coef</th>     <th>std err</th>      <th>t</th>      <th>P>|t|</th>  <th>[0.025</th>    <th>0.975]</th>  \n",
       "</tr>\n",
       "<tr>\n",
       "  <th>const</th>     <td>   -8.1628</td> <td>    2.691</td> <td>   -3.033</td> <td> 0.002</td> <td>  -13.445</td> <td>   -2.880</td>\n",
       "</tr>\n",
       "<tr>\n",
       "  <th>umid_inst</th> <td>    0.1120</td> <td>    0.029</td> <td>    3.896</td> <td> 0.000</td> <td>    0.056</td> <td>    0.168</td>\n",
       "</tr>\n",
       "</table>\n",
       "<table class=\"simpletable\">\n",
       "<tr>\n",
       "  <th>Omnibus:</th>       <td>921.911</td> <th>  Durbin-Watson:     </th> <td>   1.464</td> \n",
       "</tr>\n",
       "<tr>\n",
       "  <th>Prob(Omnibus):</th> <td> 0.000</td>  <th>  Jarque-Bera (JB):  </th> <td>65119.273</td>\n",
       "</tr>\n",
       "<tr>\n",
       "  <th>Skew:</th>          <td> 5.277</td>  <th>  Prob(JB):          </th> <td>    0.00</td> \n",
       "</tr>\n",
       "<tr>\n",
       "  <th>Kurtosis:</th>      <td>44.850</td>  <th>  Cond. No.          </th> <td>1.62e+03</td> \n",
       "</tr>\n",
       "</table><br/><br/>Warnings:<br/>[1] Standard Errors assume that the covariance matrix of the errors is correctly specified.<br/>[2] The condition number is large, 1.62e+03. This might indicate that there are<br/>strong multicollinearity or other numerical problems."
      ],
      "text/plain": [
       "<class 'statsmodels.iolib.summary.Summary'>\n",
       "\"\"\"\n",
       "                            OLS Regression Results                            \n",
       "==============================================================================\n",
       "Dep. Variable:           precipitacao   R-squared:                       0.018\n",
       "Model:                            OLS   Adj. R-squared:                  0.017\n",
       "Method:                 Least Squares   F-statistic:                     15.18\n",
       "Date:                Tue, 19 Nov 2019   Prob (F-statistic):           0.000106\n",
       "Time:                        15:51:39   Log-Likelihood:                -2452.4\n",
       "No. Observations:                 839   AIC:                             4909.\n",
       "Df Residuals:                     837   BIC:                             4918.\n",
       "Df Model:                           1                                         \n",
       "Covariance Type:            nonrobust                                         \n",
       "==============================================================================\n",
       "                 coef    std err          t      P>|t|      [0.025      0.975]\n",
       "------------------------------------------------------------------------------\n",
       "const         -8.1628      2.691     -3.033      0.002     -13.445      -2.880\n",
       "umid_inst      0.1120      0.029      3.896      0.000       0.056       0.168\n",
       "==============================================================================\n",
       "Omnibus:                      921.911   Durbin-Watson:                   1.464\n",
       "Prob(Omnibus):                  0.000   Jarque-Bera (JB):            65119.273\n",
       "Skew:                           5.277   Prob(JB):                         0.00\n",
       "Kurtosis:                      44.850   Cond. No.                     1.62e+03\n",
       "==============================================================================\n",
       "\n",
       "Warnings:\n",
       "[1] Standard Errors assume that the covariance matrix of the errors is correctly specified.\n",
       "[2] The condition number is large, 1.62e+03. This might indicate that there are\n",
       "strong multicollinearity or other numerical problems.\n",
       "\"\"\""
      ]
     },
     "execution_count": 26,
     "metadata": {},
     "output_type": "execute_result"
    }
   ],
   "source": [
    "model = sm.OLS(precipitacao1,sm.add_constant(umidade1))\n",
    "results = model.fit()\n",
    "results.summary()"
   ]
  },
  {
   "cell_type": "code",
   "execution_count": 27,
   "metadata": {},
   "outputs": [
    {
     "data": {
      "text/html": [
       "<table class=\"simpletable\">\n",
       "<caption>OLS Regression Results</caption>\n",
       "<tr>\n",
       "  <th>Dep. Variable:</th>      <td>precipitacao</td>   <th>  R-squared:         </th> <td>   0.016</td>\n",
       "</tr>\n",
       "<tr>\n",
       "  <th>Model:</th>                   <td>OLS</td>       <th>  Adj. R-squared:    </th> <td>   0.014</td>\n",
       "</tr>\n",
       "<tr>\n",
       "  <th>Method:</th>             <td>Least Squares</td>  <th>  F-statistic:       </th> <td>   13.21</td>\n",
       "</tr>\n",
       "<tr>\n",
       "  <th>Date:</th>             <td>Tue, 19 Nov 2019</td> <th>  Prob (F-statistic):</th> <td>0.000296</td>\n",
       "</tr>\n",
       "<tr>\n",
       "  <th>Time:</th>                 <td>15:51:39</td>     <th>  Log-Likelihood:    </th> <td> -2453.4</td>\n",
       "</tr>\n",
       "<tr>\n",
       "  <th>No. Observations:</th>      <td>   839</td>      <th>  AIC:               </th> <td>   4911.</td>\n",
       "</tr>\n",
       "<tr>\n",
       "  <th>Df Residuals:</th>          <td>   837</td>      <th>  BIC:               </th> <td>   4920.</td>\n",
       "</tr>\n",
       "<tr>\n",
       "  <th>Df Model:</th>              <td>     1</td>      <th>                     </th>     <td> </td>   \n",
       "</tr>\n",
       "<tr>\n",
       "  <th>Covariance Type:</th>      <td>nonrobust</td>    <th>                     </th>     <td> </td>   \n",
       "</tr>\n",
       "</table>\n",
       "<table class=\"simpletable\">\n",
       "<tr>\n",
       "      <td></td>         <th>coef</th>     <th>std err</th>      <th>t</th>      <th>P>|t|</th>  <th>[0.025</th>    <th>0.975]</th>  \n",
       "</tr>\n",
       "<tr>\n",
       "  <th>const</th>     <td>   -1.2215</td> <td>    0.983</td> <td>   -1.243</td> <td> 0.214</td> <td>   -3.151</td> <td>    0.708</td>\n",
       "</tr>\n",
       "<tr>\n",
       "  <th>temp_inst</th> <td>    0.1906</td> <td>    0.052</td> <td>    3.634</td> <td> 0.000</td> <td>    0.088</td> <td>    0.294</td>\n",
       "</tr>\n",
       "</table>\n",
       "<table class=\"simpletable\">\n",
       "<tr>\n",
       "  <th>Omnibus:</th>       <td>916.875</td> <th>  Durbin-Watson:     </th> <td>   1.503</td> \n",
       "</tr>\n",
       "<tr>\n",
       "  <th>Prob(Omnibus):</th> <td> 0.000</td>  <th>  Jarque-Bera (JB):  </th> <td>64599.242</td>\n",
       "</tr>\n",
       "<tr>\n",
       "  <th>Skew:</th>          <td> 5.226</td>  <th>  Prob(JB):          </th> <td>    0.00</td> \n",
       "</tr>\n",
       "<tr>\n",
       "  <th>Kurtosis:</th>      <td>44.697</td>  <th>  Cond. No.          </th> <td>    119.</td> \n",
       "</tr>\n",
       "</table><br/><br/>Warnings:<br/>[1] Standard Errors assume that the covariance matrix of the errors is correctly specified."
      ],
      "text/plain": [
       "<class 'statsmodels.iolib.summary.Summary'>\n",
       "\"\"\"\n",
       "                            OLS Regression Results                            \n",
       "==============================================================================\n",
       "Dep. Variable:           precipitacao   R-squared:                       0.016\n",
       "Model:                            OLS   Adj. R-squared:                  0.014\n",
       "Method:                 Least Squares   F-statistic:                     13.21\n",
       "Date:                Tue, 19 Nov 2019   Prob (F-statistic):           0.000296\n",
       "Time:                        15:51:39   Log-Likelihood:                -2453.4\n",
       "No. Observations:                 839   AIC:                             4911.\n",
       "Df Residuals:                     837   BIC:                             4920.\n",
       "Df Model:                           1                                         \n",
       "Covariance Type:            nonrobust                                         \n",
       "==============================================================================\n",
       "                 coef    std err          t      P>|t|      [0.025      0.975]\n",
       "------------------------------------------------------------------------------\n",
       "const         -1.2215      0.983     -1.243      0.214      -3.151       0.708\n",
       "temp_inst      0.1906      0.052      3.634      0.000       0.088       0.294\n",
       "==============================================================================\n",
       "Omnibus:                      916.875   Durbin-Watson:                   1.503\n",
       "Prob(Omnibus):                  0.000   Jarque-Bera (JB):            64599.242\n",
       "Skew:                           5.226   Prob(JB):                         0.00\n",
       "Kurtosis:                      44.697   Cond. No.                         119.\n",
       "==============================================================================\n",
       "\n",
       "Warnings:\n",
       "[1] Standard Errors assume that the covariance matrix of the errors is correctly specified.\n",
       "\"\"\""
      ]
     },
     "execution_count": 27,
     "metadata": {},
     "output_type": "execute_result"
    }
   ],
   "source": [
    "model = sm.OLS(precipitacao1,sm.add_constant(temperatura1))\n",
    "results = model.fit()\n",
    "results.summary()"
   ]
  },
  {
   "cell_type": "markdown",
   "metadata": {},
   "source": [
    "___\n",
    "## Analisando os dias que não tiveram chuvas"
   ]
  },
  {
   "cell_type": "markdown",
   "metadata": {},
   "source": [
    "##### Análise com log"
   ]
  },
  {
   "cell_type": "code",
   "execution_count": 28,
   "metadata": {},
   "outputs": [
    {
     "data": {
      "text/html": [
       "<div>\n",
       "<style scoped>\n",
       "    .dataframe tbody tr th:only-of-type {\n",
       "        vertical-align: middle;\n",
       "    }\n",
       "\n",
       "    .dataframe tbody tr th {\n",
       "        vertical-align: top;\n",
       "    }\n",
       "\n",
       "    .dataframe thead th {\n",
       "        text-align: right;\n",
       "    }\n",
       "</style>\n",
       "<table border=\"1\" class=\"dataframe\">\n",
       "  <thead>\n",
       "    <tr style=\"text-align: right;\">\n",
       "      <th></th>\n",
       "      <th>temp_inst</th>\n",
       "      <th>pressao</th>\n",
       "      <th>umid_inst</th>\n",
       "      <th>precipitacao</th>\n",
       "      <th>vento_vel</th>\n",
       "    </tr>\n",
       "    <tr>\n",
       "      <th>time</th>\n",
       "      <th></th>\n",
       "      <th></th>\n",
       "      <th></th>\n",
       "      <th></th>\n",
       "      <th></th>\n",
       "    </tr>\n",
       "  </thead>\n",
       "  <tbody>\n",
       "    <tr>\n",
       "      <th>2018-11-19 06:00:00</th>\n",
       "      <td>2.862201</td>\n",
       "      <td>6.829577</td>\n",
       "      <td>4.553877</td>\n",
       "      <td>0.0</td>\n",
       "      <td>5.164786</td>\n",
       "    </tr>\n",
       "    <tr>\n",
       "      <th>2018-11-23 22:00:00</th>\n",
       "      <td>2.975530</td>\n",
       "      <td>6.829469</td>\n",
       "      <td>4.564348</td>\n",
       "      <td>0.0</td>\n",
       "      <td>4.912655</td>\n",
       "    </tr>\n",
       "    <tr>\n",
       "      <th>2018-12-23 06:00:00</th>\n",
       "      <td>2.995732</td>\n",
       "      <td>6.829794</td>\n",
       "      <td>4.564348</td>\n",
       "      <td>0.0</td>\n",
       "      <td>5.736572</td>\n",
       "    </tr>\n",
       "    <tr>\n",
       "      <th>2019-01-06 01:00:00</th>\n",
       "      <td>3.030134</td>\n",
       "      <td>6.833247</td>\n",
       "      <td>4.564348</td>\n",
       "      <td>0.0</td>\n",
       "      <td>4.672829</td>\n",
       "    </tr>\n",
       "    <tr>\n",
       "      <th>2019-02-15 20:00:00</th>\n",
       "      <td>3.058707</td>\n",
       "      <td>6.824917</td>\n",
       "      <td>4.543295</td>\n",
       "      <td>0.0</td>\n",
       "      <td>4.691348</td>\n",
       "    </tr>\n",
       "  </tbody>\n",
       "</table>\n",
       "</div>"
      ],
      "text/plain": [
       "                     temp_inst   pressao  umid_inst  precipitacao  vento_vel\n",
       "time                                                                        \n",
       "2018-11-19 06:00:00   2.862201  6.829577   4.553877           0.0   5.164786\n",
       "2018-11-23 22:00:00   2.975530  6.829469   4.564348           0.0   4.912655\n",
       "2018-12-23 06:00:00   2.995732  6.829794   4.564348           0.0   5.736572\n",
       "2019-01-06 01:00:00   3.030134  6.833247   4.564348           0.0   4.672829\n",
       "2019-02-15 20:00:00   3.058707  6.824917   4.543295           0.0   4.691348"
      ]
     },
     "execution_count": 28,
     "metadata": {},
     "output_type": "execute_result"
    }
   ],
   "source": [
    "dados_log_sem_chuva = dados_log[dados_log['precipitacao']==0]\n",
    "dados_log_sem_chuva.head()"
   ]
  },
  {
   "cell_type": "code",
   "execution_count": 29,
   "metadata": {},
   "outputs": [],
   "source": [
    "temperatura2_log = dados_log_com_chuva['temp_inst']\n",
    "pressao2_log = dados_log_com_chuva['pressao']\n",
    "umidade2_log = dados_log_com_chuva['umid_inst']\n",
    "precipitacao2_log = dados_log_com_chuva['precipitacao']"
   ]
  },
  {
   "cell_type": "code",
   "execution_count": 30,
   "metadata": {},
   "outputs": [
    {
     "data": {
      "image/png": "[encoded data removed]",
      "text/plain": [
       "<Figure size 1440x360 with 3 Axes>"
      ]
     },
     "metadata": {
      "needs_background": "light"
     },
     "output_type": "display_data"
    }
   ],
   "source": [
    "fig, axs = plt.subplots(1, 3)\n",
    "fig.set_size_inches(20, 5) \n",
    "axs[0].scatter(temperatura2_log,pressao2_log, alpha=0.2);\n",
    "axs[0].set_title('Temperatura x Pressao');\n",
    "axs[1].scatter(temperatura2_log,umidade2_log, alpha=0.2);\n",
    "axs[1].set_title('Temperatura x Umidade');\n",
    "axs[2].scatter(pressao2_log,umidade2_log, alpha=0.2);\n",
    "axs[2].set_title('Pressao x Umidade');"
   ]
  },
  {
   "cell_type": "markdown",
   "metadata": {},
   "source": [
    "##### Análise sem log"
   ]
  },
  {
   "cell_type": "code",
   "execution_count": 31,
   "metadata": {},
   "outputs": [
    {
     "data": {
      "text/html": [
       "<div>\n",
       "<style scoped>\n",
       "    .dataframe tbody tr th:only-of-type {\n",
       "        vertical-align: middle;\n",
       "    }\n",
       "\n",
       "    .dataframe tbody tr th {\n",
       "        vertical-align: top;\n",
       "    }\n",
       "\n",
       "    .dataframe thead th {\n",
       "        text-align: right;\n",
       "    }\n",
       "</style>\n",
       "<table border=\"1\" class=\"dataframe\">\n",
       "  <thead>\n",
       "    <tr style=\"text-align: right;\">\n",
       "      <th></th>\n",
       "      <th>time</th>\n",
       "      <th>temp_inst</th>\n",
       "      <th>pressao</th>\n",
       "      <th>umid_inst</th>\n",
       "      <th>precipitacao</th>\n",
       "      <th>vento_vel</th>\n",
       "    </tr>\n",
       "  </thead>\n",
       "  <tbody>\n",
       "    <tr>\n",
       "      <th>0</th>\n",
       "      <td>2018-11-18 00:00:00</td>\n",
       "      <td>17.7</td>\n",
       "      <td>928.7</td>\n",
       "      <td>94</td>\n",
       "      <td>0</td>\n",
       "      <td>116</td>\n",
       "    </tr>\n",
       "    <tr>\n",
       "      <th>1</th>\n",
       "      <td>2018-11-18 01:00:00</td>\n",
       "      <td>17.5</td>\n",
       "      <td>928.6</td>\n",
       "      <td>94</td>\n",
       "      <td>0</td>\n",
       "      <td>120</td>\n",
       "    </tr>\n",
       "    <tr>\n",
       "      <th>2</th>\n",
       "      <td>2018-11-18 02:00:00</td>\n",
       "      <td>17.2</td>\n",
       "      <td>928</td>\n",
       "      <td>96</td>\n",
       "      <td>0</td>\n",
       "      <td>134</td>\n",
       "    </tr>\n",
       "    <tr>\n",
       "      <th>3</th>\n",
       "      <td>2018-11-18 03:00:00</td>\n",
       "      <td>18.5</td>\n",
       "      <td>927.5</td>\n",
       "      <td>93</td>\n",
       "      <td>0</td>\n",
       "      <td>34</td>\n",
       "    </tr>\n",
       "    <tr>\n",
       "      <th>4</th>\n",
       "      <td>2018-11-18 04:00:00</td>\n",
       "      <td>19.8</td>\n",
       "      <td>926.4</td>\n",
       "      <td>87</td>\n",
       "      <td>0</td>\n",
       "      <td>354</td>\n",
       "    </tr>\n",
       "  </tbody>\n",
       "</table>\n",
       "</div>"
      ],
      "text/plain": [
       "                  time temp_inst pressao umid_inst precipitacao vento_vel\n",
       "0  2018-11-18 00:00:00      17.7   928.7        94            0       116\n",
       "1  2018-11-18 01:00:00      17.5   928.6        94            0       120\n",
       "2  2018-11-18 02:00:00      17.2     928        96            0       134\n",
       "3  2018-11-18 03:00:00      18.5   927.5        93            0        34\n",
       "4  2018-11-18 04:00:00      19.8   926.4        87            0       354"
      ]
     },
     "execution_count": 31,
     "metadata": {},
     "output_type": "execute_result"
    }
   ],
   "source": [
    "dados_sem_chuva = dados5[dados5['precipitacao']==0]\n",
    "dados_sem_chuva.head()"
   ]
  },
  {
   "cell_type": "code",
   "execution_count": 32,
   "metadata": {},
   "outputs": [],
   "source": [
    "tempo2 = dados_sem_chuva['time']\n",
    "temperatura2 = dados_sem_chuva['temp_inst']\n",
    "pressao2 = dados_sem_chuva['pressao']\n",
    "umidade2 = dados_sem_chuva['umid_inst']\n",
    "precipitacao2 = dados_sem_chuva['precipitacao']"
   ]
  },
  {
   "cell_type": "code",
   "execution_count": 33,
   "metadata": {
    "scrolled": false
   },
   "outputs": [
    {
     "data": {
      "image/png": "[encoded data removed]",
      "text/plain": [
       "<Figure size 1440x360 with 3 Axes>"
      ]
     },
     "metadata": {
      "needs_background": "light"
     },
     "output_type": "display_data"
    }
   ],
   "source": [
    "fig, axs = plt.subplots(1, 3)\n",
    "fig.set_size_inches(20, 5) \n",
    "axs[0].scatter(temperatura2,pressao2, alpha=0.1);\n",
    "axs[0].set_title('Temperatura x Pressão');\n",
    "axs[1].scatter(temperatura2,umidade2, alpha=0.1);\n",
    "axs[1].set_title('Temperatura x Umidade');\n",
    "axs[2].scatter(pressao2,umidade2, alpha=0.1);\n",
    "axs[2].set_title('Pressão x Umidade');"
   ]
  },
  {
   "cell_type": "markdown",
   "metadata": {},
   "source": [
    "***Valores de correlação entre as variáveis***"
   ]
  },
  {
   "cell_type": "code",
   "execution_count": 34,
   "metadata": {},
   "outputs": [
    {
     "name": "stdout",
     "output_type": "stream",
     "text": [
      "Correlação entre temperatura e pressão: -0.4953857855829225\n",
      "Correlação entre temperatura e umidade: -0.7203896264385546\n",
      "Correlação entre pressão e umidade: 0.1461915872654267\n"
     ]
    }
   ],
   "source": [
    "temperatura2 = temperatura2.astype(float)\n",
    "umidade2 = umidade2.astype(float)\n",
    "pressao2 = pressao2.astype(float)\n",
    "print('Correlação entre temperatura e pressão:', temperatura2.corr(pressao2))\n",
    "print('Correlação entre temperatura e umidade:', temperatura2.corr(umidade2))\n",
    "print('Correlação entre pressão e umidade:',pressao2.corr(umidade2))"
   ]
  },
  {
   "cell_type": "markdown",
   "metadata": {},
   "source": [
    "## Esclarecendo a mudança de DataSet"
   ]
  },
  {
   "cell_type": "markdown",
   "metadata": {},
   "source": [
    "Com os dados anteriores, mesmo após muitas manipulações e iterações, as correlações das variáveis independentes com a variável dependente eram muito baixas. A partir dos estudos feitos, era certeza que temperatura, pressão, umidade e velocidade do vento tinham impacto no regime de chuvas, logo, a nossa escolha de variáveis independentes não estava equivocada."
   ]
  },
  {
   "cell_type": "markdown",
   "metadata": {},
   "source": [
    "Sabendo disso, foi feito um esforço para que se compreendesse o motivo do comportamento incoerente do nosso DataSet em comparação com as pesquisas feitas anteriormente. Ao fim, chegou-se à hipótese de que a própria estação de coleta de dados poderia ser um problema, dado que as mesmas se encontravam em cidades não tão relevantes dentro do país."
   ]
  },
  {
   "cell_type": "markdown",
   "metadata": {},
   "source": [
    "Dessa forma, para tentar solucionar o problema, uma estação em São Paulo, a maior e mais importante cidade do Brasil foi selecionada, com base na ideia de que sua relevância significaria dados de maior qualidade quando comparados com os anteriores. O resultado desta troca foi satisfátorio, dado como as correlações das variáveis independentes com a variável dependente aumentaram consideravelmente, tanto numéricamente por meio do cálculo ca correlação quanto visualmente, por meio dos Scatter Plots realizados "
   ]
  },
  {
   "cell_type": "markdown",
   "metadata": {},
   "source": [
    "____\n",
    "\n",
    "## Organização de DataFrames"
   ]
  },
  {
   "cell_type": "markdown",
   "metadata": {},
   "source": [
    "> Estes são feitos a fim de possibilitar a análise do evento a partir dos dados advindos das horas que o precedem e do instante em sí"
   ]
  },
  {
   "cell_type": "code",
   "execution_count": 39,
   "metadata": {},
   "outputs": [
    {
     "data": {
      "text/html": [
       "<div>\n",
       "<style scoped>\n",
       "    .dataframe tbody tr th:only-of-type {\n",
       "        vertical-align: middle;\n",
       "    }\n",
       "\n",
       "    .dataframe tbody tr th {\n",
       "        vertical-align: top;\n",
       "    }\n",
       "\n",
       "    .dataframe thead th {\n",
       "        text-align: right;\n",
       "    }\n",
       "</style>\n",
       "<table border=\"1\" class=\"dataframe\">\n",
       "  <thead>\n",
       "    <tr style=\"text-align: right;\">\n",
       "      <th></th>\n",
       "      <th>temp_inst</th>\n",
       "      <th>pressao</th>\n",
       "      <th>umid_inst</th>\n",
       "      <th>precipitacao</th>\n",
       "      <th>vento_vel</th>\n",
       "    </tr>\n",
       "    <tr>\n",
       "      <th>time</th>\n",
       "      <th></th>\n",
       "      <th></th>\n",
       "      <th></th>\n",
       "      <th></th>\n",
       "      <th></th>\n",
       "    </tr>\n",
       "  </thead>\n",
       "  <tbody>\n",
       "    <tr>\n",
       "      <th>2018-11-18 00:00:00</th>\n",
       "      <td>17.7</td>\n",
       "      <td>928.7</td>\n",
       "      <td>94.0</td>\n",
       "      <td>0.0</td>\n",
       "      <td>116.0</td>\n",
       "    </tr>\n",
       "    <tr>\n",
       "      <th>2018-11-18 01:00:00</th>\n",
       "      <td>17.5</td>\n",
       "      <td>928.6</td>\n",
       "      <td>94.0</td>\n",
       "      <td>0.0</td>\n",
       "      <td>120.0</td>\n",
       "    </tr>\n",
       "    <tr>\n",
       "      <th>2018-11-18 02:00:00</th>\n",
       "      <td>17.2</td>\n",
       "      <td>928.0</td>\n",
       "      <td>96.0</td>\n",
       "      <td>0.0</td>\n",
       "      <td>134.0</td>\n",
       "    </tr>\n",
       "    <tr>\n",
       "      <th>2018-11-18 03:00:00</th>\n",
       "      <td>18.5</td>\n",
       "      <td>927.5</td>\n",
       "      <td>93.0</td>\n",
       "      <td>0.0</td>\n",
       "      <td>34.0</td>\n",
       "    </tr>\n",
       "    <tr>\n",
       "      <th>2018-11-18 04:00:00</th>\n",
       "      <td>19.8</td>\n",
       "      <td>926.4</td>\n",
       "      <td>87.0</td>\n",
       "      <td>0.0</td>\n",
       "      <td>354.0</td>\n",
       "    </tr>\n",
       "  </tbody>\n",
       "</table>\n",
       "</div>"
      ],
      "text/plain": [
       "                     temp_inst  pressao  umid_inst  precipitacao  vento_vel\n",
       "time                                                                       \n",
       "2018-11-18 00:00:00       17.7    928.7       94.0           0.0      116.0\n",
       "2018-11-18 01:00:00       17.5    928.6       94.0           0.0      120.0\n",
       "2018-11-18 02:00:00       17.2    928.0       96.0           0.0      134.0\n",
       "2018-11-18 03:00:00       18.5    927.5       93.0           0.0       34.0\n",
       "2018-11-18 04:00:00       19.8    926.4       87.0           0.0      354.0"
      ]
     },
     "execution_count": 39,
     "metadata": {},
     "output_type": "execute_result"
    }
   ],
   "source": [
    "dados6 = d.set_index('time')\n",
    "dados7 = dados6[['temp_inst','pressao','umid_inst','precipitacao','vento_vel']]\n",
    "D = dados7.astype(float)\n",
    "D.head()"
   ]
  },
  {
   "cell_type": "code",
   "execution_count": 242,
   "metadata": {},
   "outputs": [],
   "source": [
    "D['hora'] = D.index.hour\n",
    "D['mes'] = D.index.month"
   ]
  },
  {
   "cell_type": "code",
   "execution_count": 243,
   "metadata": {},
   "outputs": [
    {
     "data": {
      "text/html": [
       "<div>\n",
       "<style scoped>\n",
       "    .dataframe tbody tr th:only-of-type {\n",
       "        vertical-align: middle;\n",
       "    }\n",
       "\n",
       "    .dataframe tbody tr th {\n",
       "        vertical-align: top;\n",
       "    }\n",
       "\n",
       "    .dataframe thead th {\n",
       "        text-align: right;\n",
       "    }\n",
       "</style>\n",
       "<table border=\"1\" class=\"dataframe\">\n",
       "  <thead>\n",
       "    <tr style=\"text-align: right;\">\n",
       "      <th></th>\n",
       "      <th>temp_inst</th>\n",
       "      <th>pressao</th>\n",
       "      <th>umid_inst</th>\n",
       "      <th>precipitacao</th>\n",
       "      <th>vento_vel</th>\n",
       "      <th>hora</th>\n",
       "      <th>mes</th>\n",
       "    </tr>\n",
       "    <tr>\n",
       "      <th>time</th>\n",
       "      <th></th>\n",
       "      <th></th>\n",
       "      <th></th>\n",
       "      <th></th>\n",
       "      <th></th>\n",
       "      <th></th>\n",
       "      <th></th>\n",
       "    </tr>\n",
       "  </thead>\n",
       "  <tbody>\n",
       "    <tr>\n",
       "      <th>2018-11-18 00:00:00</th>\n",
       "      <td>17.7</td>\n",
       "      <td>928.7</td>\n",
       "      <td>94.0</td>\n",
       "      <td>0.0</td>\n",
       "      <td>116.0</td>\n",
       "      <td>0</td>\n",
       "      <td>11</td>\n",
       "    </tr>\n",
       "    <tr>\n",
       "      <th>2018-11-18 01:00:00</th>\n",
       "      <td>17.5</td>\n",
       "      <td>928.6</td>\n",
       "      <td>94.0</td>\n",
       "      <td>0.0</td>\n",
       "      <td>120.0</td>\n",
       "      <td>1</td>\n",
       "      <td>11</td>\n",
       "    </tr>\n",
       "    <tr>\n",
       "      <th>2018-11-18 02:00:00</th>\n",
       "      <td>17.2</td>\n",
       "      <td>928.0</td>\n",
       "      <td>96.0</td>\n",
       "      <td>0.0</td>\n",
       "      <td>134.0</td>\n",
       "      <td>2</td>\n",
       "      <td>11</td>\n",
       "    </tr>\n",
       "    <tr>\n",
       "      <th>2018-11-18 03:00:00</th>\n",
       "      <td>18.5</td>\n",
       "      <td>927.5</td>\n",
       "      <td>93.0</td>\n",
       "      <td>0.0</td>\n",
       "      <td>34.0</td>\n",
       "      <td>3</td>\n",
       "      <td>11</td>\n",
       "    </tr>\n",
       "    <tr>\n",
       "      <th>2018-11-18 04:00:00</th>\n",
       "      <td>19.8</td>\n",
       "      <td>926.4</td>\n",
       "      <td>87.0</td>\n",
       "      <td>0.0</td>\n",
       "      <td>354.0</td>\n",
       "      <td>4</td>\n",
       "      <td>11</td>\n",
       "    </tr>\n",
       "    <tr>\n",
       "      <th>2018-11-18 05:00:00</th>\n",
       "      <td>19.6</td>\n",
       "      <td>926.0</td>\n",
       "      <td>87.0</td>\n",
       "      <td>0.0</td>\n",
       "      <td>17.0</td>\n",
       "      <td>5</td>\n",
       "      <td>11</td>\n",
       "    </tr>\n",
       "    <tr>\n",
       "      <th>2018-11-18 06:00:00</th>\n",
       "      <td>19.3</td>\n",
       "      <td>925.6</td>\n",
       "      <td>89.0</td>\n",
       "      <td>0.0</td>\n",
       "      <td>24.0</td>\n",
       "      <td>6</td>\n",
       "      <td>11</td>\n",
       "    </tr>\n",
       "    <tr>\n",
       "      <th>2018-11-18 07:00:00</th>\n",
       "      <td>19.0</td>\n",
       "      <td>925.5</td>\n",
       "      <td>90.0</td>\n",
       "      <td>0.0</td>\n",
       "      <td>9.0</td>\n",
       "      <td>7</td>\n",
       "      <td>11</td>\n",
       "    </tr>\n",
       "    <tr>\n",
       "      <th>2018-11-18 08:00:00</th>\n",
       "      <td>18.9</td>\n",
       "      <td>925.5</td>\n",
       "      <td>91.0</td>\n",
       "      <td>0.0</td>\n",
       "      <td>4.0</td>\n",
       "      <td>8</td>\n",
       "      <td>11</td>\n",
       "    </tr>\n",
       "    <tr>\n",
       "      <th>2018-11-18 09:00:00</th>\n",
       "      <td>19.1</td>\n",
       "      <td>925.8</td>\n",
       "      <td>91.0</td>\n",
       "      <td>0.0</td>\n",
       "      <td>9.0</td>\n",
       "      <td>9</td>\n",
       "      <td>11</td>\n",
       "    </tr>\n",
       "    <tr>\n",
       "      <th>2018-11-18 10:00:00</th>\n",
       "      <td>21.5</td>\n",
       "      <td>926.2</td>\n",
       "      <td>79.0</td>\n",
       "      <td>0.0</td>\n",
       "      <td>359.0</td>\n",
       "      <td>10</td>\n",
       "      <td>11</td>\n",
       "    </tr>\n",
       "    <tr>\n",
       "      <th>2018-11-18 11:00:00</th>\n",
       "      <td>24.4</td>\n",
       "      <td>926.0</td>\n",
       "      <td>67.0</td>\n",
       "      <td>0.0</td>\n",
       "      <td>358.0</td>\n",
       "      <td>11</td>\n",
       "      <td>11</td>\n",
       "    </tr>\n",
       "    <tr>\n",
       "      <th>2018-11-18 12:00:00</th>\n",
       "      <td>26.2</td>\n",
       "      <td>926.2</td>\n",
       "      <td>57.0</td>\n",
       "      <td>0.0</td>\n",
       "      <td>347.0</td>\n",
       "      <td>12</td>\n",
       "      <td>11</td>\n",
       "    </tr>\n",
       "    <tr>\n",
       "      <th>2018-11-18 13:00:00</th>\n",
       "      <td>26.8</td>\n",
       "      <td>926.0</td>\n",
       "      <td>55.0</td>\n",
       "      <td>0.0</td>\n",
       "      <td>327.0</td>\n",
       "      <td>13</td>\n",
       "      <td>11</td>\n",
       "    </tr>\n",
       "    <tr>\n",
       "      <th>2018-11-18 14:00:00</th>\n",
       "      <td>26.8</td>\n",
       "      <td>925.4</td>\n",
       "      <td>54.0</td>\n",
       "      <td>0.0</td>\n",
       "      <td>327.0</td>\n",
       "      <td>14</td>\n",
       "      <td>11</td>\n",
       "    </tr>\n",
       "    <tr>\n",
       "      <th>2018-11-18 15:00:00</th>\n",
       "      <td>27.4</td>\n",
       "      <td>925.1</td>\n",
       "      <td>55.0</td>\n",
       "      <td>0.0</td>\n",
       "      <td>326.0</td>\n",
       "      <td>15</td>\n",
       "      <td>11</td>\n",
       "    </tr>\n",
       "    <tr>\n",
       "      <th>2018-11-18 16:00:00</th>\n",
       "      <td>26.7</td>\n",
       "      <td>924.2</td>\n",
       "      <td>59.0</td>\n",
       "      <td>0.0</td>\n",
       "      <td>337.0</td>\n",
       "      <td>16</td>\n",
       "      <td>11</td>\n",
       "    </tr>\n",
       "    <tr>\n",
       "      <th>2018-11-18 17:00:00</th>\n",
       "      <td>27.1</td>\n",
       "      <td>923.4</td>\n",
       "      <td>57.0</td>\n",
       "      <td>0.0</td>\n",
       "      <td>341.0</td>\n",
       "      <td>17</td>\n",
       "      <td>11</td>\n",
       "    </tr>\n",
       "    <tr>\n",
       "      <th>2018-11-18 18:00:00</th>\n",
       "      <td>27.5</td>\n",
       "      <td>922.5</td>\n",
       "      <td>59.0</td>\n",
       "      <td>0.0</td>\n",
       "      <td>327.0</td>\n",
       "      <td>18</td>\n",
       "      <td>11</td>\n",
       "    </tr>\n",
       "    <tr>\n",
       "      <th>2018-11-18 19:00:00</th>\n",
       "      <td>27.4</td>\n",
       "      <td>922.4</td>\n",
       "      <td>59.0</td>\n",
       "      <td>0.0</td>\n",
       "      <td>325.0</td>\n",
       "      <td>19</td>\n",
       "      <td>11</td>\n",
       "    </tr>\n",
       "    <tr>\n",
       "      <th>2018-11-18 20:00:00</th>\n",
       "      <td>26.3</td>\n",
       "      <td>922.9</td>\n",
       "      <td>62.0</td>\n",
       "      <td>0.0</td>\n",
       "      <td>322.0</td>\n",
       "      <td>20</td>\n",
       "      <td>11</td>\n",
       "    </tr>\n",
       "    <tr>\n",
       "      <th>2018-11-18 21:00:00</th>\n",
       "      <td>24.1</td>\n",
       "      <td>923.9</td>\n",
       "      <td>79.0</td>\n",
       "      <td>0.0</td>\n",
       "      <td>281.0</td>\n",
       "      <td>21</td>\n",
       "      <td>11</td>\n",
       "    </tr>\n",
       "    <tr>\n",
       "      <th>2018-11-18 22:00:00</th>\n",
       "      <td>21.7</td>\n",
       "      <td>924.4</td>\n",
       "      <td>94.0</td>\n",
       "      <td>1.4</td>\n",
       "      <td>301.0</td>\n",
       "      <td>22</td>\n",
       "      <td>11</td>\n",
       "    </tr>\n",
       "    <tr>\n",
       "      <th>2018-11-18 23:00:00</th>\n",
       "      <td>22.0</td>\n",
       "      <td>925.4</td>\n",
       "      <td>95.0</td>\n",
       "      <td>0.4</td>\n",
       "      <td>200.0</td>\n",
       "      <td>23</td>\n",
       "      <td>11</td>\n",
       "    </tr>\n",
       "    <tr>\n",
       "      <th>2018-11-19 00:00:00</th>\n",
       "      <td>17.6</td>\n",
       "      <td>926.8</td>\n",
       "      <td>94.0</td>\n",
       "      <td>8.4</td>\n",
       "      <td>220.0</td>\n",
       "      <td>0</td>\n",
       "      <td>11</td>\n",
       "    </tr>\n",
       "    <tr>\n",
       "      <th>2018-11-19 01:00:00</th>\n",
       "      <td>17.5</td>\n",
       "      <td>927.2</td>\n",
       "      <td>95.0</td>\n",
       "      <td>6.8</td>\n",
       "      <td>157.0</td>\n",
       "      <td>1</td>\n",
       "      <td>11</td>\n",
       "    </tr>\n",
       "    <tr>\n",
       "      <th>2018-11-19 02:00:00</th>\n",
       "      <td>17.4</td>\n",
       "      <td>927.0</td>\n",
       "      <td>94.0</td>\n",
       "      <td>1.8</td>\n",
       "      <td>169.0</td>\n",
       "      <td>2</td>\n",
       "      <td>11</td>\n",
       "    </tr>\n",
       "    <tr>\n",
       "      <th>2018-11-19 03:00:00</th>\n",
       "      <td>17.3</td>\n",
       "      <td>926.1</td>\n",
       "      <td>96.0</td>\n",
       "      <td>0.0</td>\n",
       "      <td>45.0</td>\n",
       "      <td>3</td>\n",
       "      <td>11</td>\n",
       "    </tr>\n",
       "    <tr>\n",
       "      <th>2018-11-19 04:00:00</th>\n",
       "      <td>17.5</td>\n",
       "      <td>925.5</td>\n",
       "      <td>96.0</td>\n",
       "      <td>0.8</td>\n",
       "      <td>132.0</td>\n",
       "      <td>4</td>\n",
       "      <td>11</td>\n",
       "    </tr>\n",
       "    <tr>\n",
       "      <th>2018-11-19 05:00:00</th>\n",
       "      <td>17.6</td>\n",
       "      <td>924.9</td>\n",
       "      <td>97.0</td>\n",
       "      <td>2.2</td>\n",
       "      <td>127.0</td>\n",
       "      <td>5</td>\n",
       "      <td>11</td>\n",
       "    </tr>\n",
       "    <tr>\n",
       "      <th>...</th>\n",
       "      <td>...</td>\n",
       "      <td>...</td>\n",
       "      <td>...</td>\n",
       "      <td>...</td>\n",
       "      <td>...</td>\n",
       "      <td>...</td>\n",
       "      <td>...</td>\n",
       "    </tr>\n",
       "    <tr>\n",
       "      <th>2019-11-16 15:00:00</th>\n",
       "      <td>18.6</td>\n",
       "      <td>924.2</td>\n",
       "      <td>74.0</td>\n",
       "      <td>0.0</td>\n",
       "      <td>160.0</td>\n",
       "      <td>15</td>\n",
       "      <td>11</td>\n",
       "    </tr>\n",
       "    <tr>\n",
       "      <th>2019-11-16 16:00:00</th>\n",
       "      <td>19.9</td>\n",
       "      <td>923.7</td>\n",
       "      <td>70.0</td>\n",
       "      <td>0.0</td>\n",
       "      <td>117.0</td>\n",
       "      <td>16</td>\n",
       "      <td>11</td>\n",
       "    </tr>\n",
       "    <tr>\n",
       "      <th>2019-11-16 17:00:00</th>\n",
       "      <td>20.7</td>\n",
       "      <td>923.3</td>\n",
       "      <td>68.0</td>\n",
       "      <td>0.0</td>\n",
       "      <td>137.0</td>\n",
       "      <td>17</td>\n",
       "      <td>11</td>\n",
       "    </tr>\n",
       "    <tr>\n",
       "      <th>2019-11-16 18:00:00</th>\n",
       "      <td>19.6</td>\n",
       "      <td>923.0</td>\n",
       "      <td>78.0</td>\n",
       "      <td>0.0</td>\n",
       "      <td>143.0</td>\n",
       "      <td>18</td>\n",
       "      <td>11</td>\n",
       "    </tr>\n",
       "    <tr>\n",
       "      <th>2019-11-16 19:00:00</th>\n",
       "      <td>19.6</td>\n",
       "      <td>922.9</td>\n",
       "      <td>67.0</td>\n",
       "      <td>0.0</td>\n",
       "      <td>151.0</td>\n",
       "      <td>19</td>\n",
       "      <td>11</td>\n",
       "    </tr>\n",
       "    <tr>\n",
       "      <th>2019-11-16 20:00:00</th>\n",
       "      <td>19.1</td>\n",
       "      <td>922.9</td>\n",
       "      <td>71.0</td>\n",
       "      <td>0.0</td>\n",
       "      <td>153.0</td>\n",
       "      <td>20</td>\n",
       "      <td>11</td>\n",
       "    </tr>\n",
       "    <tr>\n",
       "      <th>2019-11-16 21:00:00</th>\n",
       "      <td>18.1</td>\n",
       "      <td>923.0</td>\n",
       "      <td>74.0</td>\n",
       "      <td>0.0</td>\n",
       "      <td>158.0</td>\n",
       "      <td>21</td>\n",
       "      <td>11</td>\n",
       "    </tr>\n",
       "    <tr>\n",
       "      <th>2019-11-16 22:00:00</th>\n",
       "      <td>16.8</td>\n",
       "      <td>923.5</td>\n",
       "      <td>76.0</td>\n",
       "      <td>0.0</td>\n",
       "      <td>158.0</td>\n",
       "      <td>22</td>\n",
       "      <td>11</td>\n",
       "    </tr>\n",
       "    <tr>\n",
       "      <th>2019-11-16 23:00:00</th>\n",
       "      <td>15.9</td>\n",
       "      <td>924.1</td>\n",
       "      <td>80.0</td>\n",
       "      <td>0.0</td>\n",
       "      <td>154.0</td>\n",
       "      <td>23</td>\n",
       "      <td>11</td>\n",
       "    </tr>\n",
       "    <tr>\n",
       "      <th>2019-11-17 00:00:00</th>\n",
       "      <td>15.4</td>\n",
       "      <td>924.8</td>\n",
       "      <td>91.0</td>\n",
       "      <td>0.0</td>\n",
       "      <td>155.0</td>\n",
       "      <td>0</td>\n",
       "      <td>11</td>\n",
       "    </tr>\n",
       "    <tr>\n",
       "      <th>2019-11-17 01:00:00</th>\n",
       "      <td>15.3</td>\n",
       "      <td>925.6</td>\n",
       "      <td>92.0</td>\n",
       "      <td>0.0</td>\n",
       "      <td>149.0</td>\n",
       "      <td>1</td>\n",
       "      <td>11</td>\n",
       "    </tr>\n",
       "    <tr>\n",
       "      <th>2019-11-17 02:00:00</th>\n",
       "      <td>15.3</td>\n",
       "      <td>925.7</td>\n",
       "      <td>93.0</td>\n",
       "      <td>0.0</td>\n",
       "      <td>168.0</td>\n",
       "      <td>2</td>\n",
       "      <td>11</td>\n",
       "    </tr>\n",
       "    <tr>\n",
       "      <th>2019-11-17 03:00:00</th>\n",
       "      <td>15.3</td>\n",
       "      <td>925.6</td>\n",
       "      <td>94.0</td>\n",
       "      <td>0.0</td>\n",
       "      <td>120.0</td>\n",
       "      <td>3</td>\n",
       "      <td>11</td>\n",
       "    </tr>\n",
       "    <tr>\n",
       "      <th>2019-11-17 04:00:00</th>\n",
       "      <td>14.9</td>\n",
       "      <td>925.2</td>\n",
       "      <td>93.0</td>\n",
       "      <td>0.0</td>\n",
       "      <td>115.0</td>\n",
       "      <td>4</td>\n",
       "      <td>11</td>\n",
       "    </tr>\n",
       "    <tr>\n",
       "      <th>2019-11-17 05:00:00</th>\n",
       "      <td>15.1</td>\n",
       "      <td>924.7</td>\n",
       "      <td>93.0</td>\n",
       "      <td>0.0</td>\n",
       "      <td>119.0</td>\n",
       "      <td>5</td>\n",
       "      <td>11</td>\n",
       "    </tr>\n",
       "    <tr>\n",
       "      <th>2019-11-17 06:00:00</th>\n",
       "      <td>15.0</td>\n",
       "      <td>924.3</td>\n",
       "      <td>90.0</td>\n",
       "      <td>0.0</td>\n",
       "      <td>118.0</td>\n",
       "      <td>6</td>\n",
       "      <td>11</td>\n",
       "    </tr>\n",
       "    <tr>\n",
       "      <th>2019-11-17 07:00:00</th>\n",
       "      <td>14.5</td>\n",
       "      <td>924.5</td>\n",
       "      <td>93.0</td>\n",
       "      <td>0.0</td>\n",
       "      <td>91.0</td>\n",
       "      <td>7</td>\n",
       "      <td>11</td>\n",
       "    </tr>\n",
       "    <tr>\n",
       "      <th>2019-11-17 08:00:00</th>\n",
       "      <td>14.1</td>\n",
       "      <td>924.9</td>\n",
       "      <td>94.0</td>\n",
       "      <td>0.0</td>\n",
       "      <td>118.0</td>\n",
       "      <td>8</td>\n",
       "      <td>11</td>\n",
       "    </tr>\n",
       "    <tr>\n",
       "      <th>2019-11-17 09:00:00</th>\n",
       "      <td>15.0</td>\n",
       "      <td>925.2</td>\n",
       "      <td>87.0</td>\n",
       "      <td>0.0</td>\n",
       "      <td>106.0</td>\n",
       "      <td>9</td>\n",
       "      <td>11</td>\n",
       "    </tr>\n",
       "    <tr>\n",
       "      <th>2019-11-17 10:00:00</th>\n",
       "      <td>17.2</td>\n",
       "      <td>925.4</td>\n",
       "      <td>78.0</td>\n",
       "      <td>0.0</td>\n",
       "      <td>73.0</td>\n",
       "      <td>10</td>\n",
       "      <td>11</td>\n",
       "    </tr>\n",
       "    <tr>\n",
       "      <th>2019-11-17 11:00:00</th>\n",
       "      <td>18.8</td>\n",
       "      <td>925.4</td>\n",
       "      <td>71.0</td>\n",
       "      <td>0.0</td>\n",
       "      <td>83.0</td>\n",
       "      <td>11</td>\n",
       "      <td>11</td>\n",
       "    </tr>\n",
       "    <tr>\n",
       "      <th>2019-11-17 12:00:00</th>\n",
       "      <td>19.4</td>\n",
       "      <td>926.0</td>\n",
       "      <td>68.0</td>\n",
       "      <td>0.0</td>\n",
       "      <td>148.0</td>\n",
       "      <td>12</td>\n",
       "      <td>11</td>\n",
       "    </tr>\n",
       "    <tr>\n",
       "      <th>2019-11-17 13:00:00</th>\n",
       "      <td>20.1</td>\n",
       "      <td>926.1</td>\n",
       "      <td>64.0</td>\n",
       "      <td>0.0</td>\n",
       "      <td>155.0</td>\n",
       "      <td>13</td>\n",
       "      <td>11</td>\n",
       "    </tr>\n",
       "    <tr>\n",
       "      <th>2019-11-17 14:00:00</th>\n",
       "      <td>21.0</td>\n",
       "      <td>926.0</td>\n",
       "      <td>66.0</td>\n",
       "      <td>0.0</td>\n",
       "      <td>136.0</td>\n",
       "      <td>14</td>\n",
       "      <td>11</td>\n",
       "    </tr>\n",
       "    <tr>\n",
       "      <th>2019-11-17 15:00:00</th>\n",
       "      <td>21.0</td>\n",
       "      <td>925.8</td>\n",
       "      <td>63.0</td>\n",
       "      <td>0.0</td>\n",
       "      <td>151.0</td>\n",
       "      <td>15</td>\n",
       "      <td>11</td>\n",
       "    </tr>\n",
       "    <tr>\n",
       "      <th>2019-11-17 16:00:00</th>\n",
       "      <td>20.4</td>\n",
       "      <td>925.6</td>\n",
       "      <td>63.0</td>\n",
       "      <td>0.0</td>\n",
       "      <td>121.0</td>\n",
       "      <td>16</td>\n",
       "      <td>11</td>\n",
       "    </tr>\n",
       "    <tr>\n",
       "      <th>2019-11-17 17:00:00</th>\n",
       "      <td>19.0</td>\n",
       "      <td>925.5</td>\n",
       "      <td>69.0</td>\n",
       "      <td>0.0</td>\n",
       "      <td>136.0</td>\n",
       "      <td>17</td>\n",
       "      <td>11</td>\n",
       "    </tr>\n",
       "    <tr>\n",
       "      <th>2019-11-17 18:00:00</th>\n",
       "      <td>19.6</td>\n",
       "      <td>924.9</td>\n",
       "      <td>69.0</td>\n",
       "      <td>0.0</td>\n",
       "      <td>134.0</td>\n",
       "      <td>18</td>\n",
       "      <td>11</td>\n",
       "    </tr>\n",
       "    <tr>\n",
       "      <th>2019-11-17 19:00:00</th>\n",
       "      <td>18.5</td>\n",
       "      <td>924.8</td>\n",
       "      <td>71.0</td>\n",
       "      <td>0.0</td>\n",
       "      <td>145.0</td>\n",
       "      <td>19</td>\n",
       "      <td>11</td>\n",
       "    </tr>\n",
       "    <tr>\n",
       "      <th>2019-11-17 20:00:00</th>\n",
       "      <td>17.4</td>\n",
       "      <td>925.1</td>\n",
       "      <td>76.0</td>\n",
       "      <td>0.0</td>\n",
       "      <td>128.0</td>\n",
       "      <td>20</td>\n",
       "      <td>11</td>\n",
       "    </tr>\n",
       "  </tbody>\n",
       "</table>\n",
       "<p>8748 rows × 7 columns</p>\n",
       "</div>"
      ],
      "text/plain": [
       "                     temp_inst  pressao  umid_inst  precipitacao  vento_vel  \\\n",
       "time                                                                          \n",
       "2018-11-18 00:00:00       17.7    928.7       94.0           0.0      116.0   \n",
       "2018-11-18 01:00:00       17.5    928.6       94.0           0.0      120.0   \n",
       "2018-11-18 02:00:00       17.2    928.0       96.0           0.0      134.0   \n",
       "2018-11-18 03:00:00       18.5    927.5       93.0           0.0       34.0   \n",
       "2018-11-18 04:00:00       19.8    926.4       87.0           0.0      354.0   \n",
       "2018-11-18 05:00:00       19.6    926.0       87.0           0.0       17.0   \n",
       "2018-11-18 06:00:00       19.3    925.6       89.0           0.0       24.0   \n",
       "2018-11-18 07:00:00       19.0    925.5       90.0           0.0        9.0   \n",
       "2018-11-18 08:00:00       18.9    925.5       91.0           0.0        4.0   \n",
       "2018-11-18 09:00:00       19.1    925.8       91.0           0.0        9.0   \n",
       "2018-11-18 10:00:00       21.5    926.2       79.0           0.0      359.0   \n",
       "2018-11-18 11:00:00       24.4    926.0       67.0           0.0      358.0   \n",
       "2018-11-18 12:00:00       26.2    926.2       57.0           0.0      347.0   \n",
       "2018-11-18 13:00:00       26.8    926.0       55.0           0.0      327.0   \n",
       "2018-11-18 14:00:00       26.8    925.4       54.0           0.0      327.0   \n",
       "2018-11-18 15:00:00       27.4    925.1       55.0           0.0      326.0   \n",
       "2018-11-18 16:00:00       26.7    924.2       59.0           0.0      337.0   \n",
       "2018-11-18 17:00:00       27.1    923.4       57.0           0.0      341.0   \n",
       "2018-11-18 18:00:00       27.5    922.5       59.0           0.0      327.0   \n",
       "2018-11-18 19:00:00       27.4    922.4       59.0           0.0      325.0   \n",
       "2018-11-18 20:00:00       26.3    922.9       62.0           0.0      322.0   \n",
       "2018-11-18 21:00:00       24.1    923.9       79.0           0.0      281.0   \n",
       "2018-11-18 22:00:00       21.7    924.4       94.0           1.4      301.0   \n",
       "2018-11-18 23:00:00       22.0    925.4       95.0           0.4      200.0   \n",
       "2018-11-19 00:00:00       17.6    926.8       94.0           8.4      220.0   \n",
       "2018-11-19 01:00:00       17.5    927.2       95.0           6.8      157.0   \n",
       "2018-11-19 02:00:00       17.4    927.0       94.0           1.8      169.0   \n",
       "2018-11-19 03:00:00       17.3    926.1       96.0           0.0       45.0   \n",
       "2018-11-19 04:00:00       17.5    925.5       96.0           0.8      132.0   \n",
       "2018-11-19 05:00:00       17.6    924.9       97.0           2.2      127.0   \n",
       "...                        ...      ...        ...           ...        ...   \n",
       "2019-11-16 15:00:00       18.6    924.2       74.0           0.0      160.0   \n",
       "2019-11-16 16:00:00       19.9    923.7       70.0           0.0      117.0   \n",
       "2019-11-16 17:00:00       20.7    923.3       68.0           0.0      137.0   \n",
       "2019-11-16 18:00:00       19.6    923.0       78.0           0.0      143.0   \n",
       "2019-11-16 19:00:00       19.6    922.9       67.0           0.0      151.0   \n",
       "2019-11-16 20:00:00       19.1    922.9       71.0           0.0      153.0   \n",
       "2019-11-16 21:00:00       18.1    923.0       74.0           0.0      158.0   \n",
       "2019-11-16 22:00:00       16.8    923.5       76.0           0.0      158.0   \n",
       "2019-11-16 23:00:00       15.9    924.1       80.0           0.0      154.0   \n",
       "2019-11-17 00:00:00       15.4    924.8       91.0           0.0      155.0   \n",
       "2019-11-17 01:00:00       15.3    925.6       92.0           0.0      149.0   \n",
       "2019-11-17 02:00:00       15.3    925.7       93.0           0.0      168.0   \n",
       "2019-11-17 03:00:00       15.3    925.6       94.0           0.0      120.0   \n",
       "2019-11-17 04:00:00       14.9    925.2       93.0           0.0      115.0   \n",
       "2019-11-17 05:00:00       15.1    924.7       93.0           0.0      119.0   \n",
       "2019-11-17 06:00:00       15.0    924.3       90.0           0.0      118.0   \n",
       "2019-11-17 07:00:00       14.5    924.5       93.0           0.0       91.0   \n",
       "2019-11-17 08:00:00       14.1    924.9       94.0           0.0      118.0   \n",
       "2019-11-17 09:00:00       15.0    925.2       87.0           0.0      106.0   \n",
       "2019-11-17 10:00:00       17.2    925.4       78.0           0.0       73.0   \n",
       "2019-11-17 11:00:00       18.8    925.4       71.0           0.0       83.0   \n",
       "2019-11-17 12:00:00       19.4    926.0       68.0           0.0      148.0   \n",
       "2019-11-17 13:00:00       20.1    926.1       64.0           0.0      155.0   \n",
       "2019-11-17 14:00:00       21.0    926.0       66.0           0.0      136.0   \n",
       "2019-11-17 15:00:00       21.0    925.8       63.0           0.0      151.0   \n",
       "2019-11-17 16:00:00       20.4    925.6       63.0           0.0      121.0   \n",
       "2019-11-17 17:00:00       19.0    925.5       69.0           0.0      136.0   \n",
       "2019-11-17 18:00:00       19.6    924.9       69.0           0.0      134.0   \n",
       "2019-11-17 19:00:00       18.5    924.8       71.0           0.0      145.0   \n",
       "2019-11-17 20:00:00       17.4    925.1       76.0           0.0      128.0   \n",
       "\n",
       "                     hora  mes  \n",
       "time                            \n",
       "2018-11-18 00:00:00     0   11  \n",
       "2018-11-18 01:00:00     1   11  \n",
       "2018-11-18 02:00:00     2   11  \n",
       "2018-11-18 03:00:00     3   11  \n",
       "2018-11-18 04:00:00     4   11  \n",
       "2018-11-18 05:00:00     5   11  \n",
       "2018-11-18 06:00:00     6   11  \n",
       "2018-11-18 07:00:00     7   11  \n",
       "2018-11-18 08:00:00     8   11  \n",
       "2018-11-18 09:00:00     9   11  \n",
       "2018-11-18 10:00:00    10   11  \n",
       "2018-11-18 11:00:00    11   11  \n",
       "2018-11-18 12:00:00    12   11  \n",
       "2018-11-18 13:00:00    13   11  \n",
       "2018-11-18 14:00:00    14   11  \n",
       "2018-11-18 15:00:00    15   11  \n",
       "2018-11-18 16:00:00    16   11  \n",
       "2018-11-18 17:00:00    17   11  \n",
       "2018-11-18 18:00:00    18   11  \n",
       "2018-11-18 19:00:00    19   11  \n",
       "2018-11-18 20:00:00    20   11  \n",
       "2018-11-18 21:00:00    21   11  \n",
       "2018-11-18 22:00:00    22   11  \n",
       "2018-11-18 23:00:00    23   11  \n",
       "2018-11-19 00:00:00     0   11  \n",
       "2018-11-19 01:00:00     1   11  \n",
       "2018-11-19 02:00:00     2   11  \n",
       "2018-11-19 03:00:00     3   11  \n",
       "2018-11-19 04:00:00     4   11  \n",
       "2018-11-19 05:00:00     5   11  \n",
       "...                   ...  ...  \n",
       "2019-11-16 15:00:00    15   11  \n",
       "2019-11-16 16:00:00    16   11  \n",
       "2019-11-16 17:00:00    17   11  \n",
       "2019-11-16 18:00:00    18   11  \n",
       "2019-11-16 19:00:00    19   11  \n",
       "2019-11-16 20:00:00    20   11  \n",
       "2019-11-16 21:00:00    21   11  \n",
       "2019-11-16 22:00:00    22   11  \n",
       "2019-11-16 23:00:00    23   11  \n",
       "2019-11-17 00:00:00     0   11  \n",
       "2019-11-17 01:00:00     1   11  \n",
       "2019-11-17 02:00:00     2   11  \n",
       "2019-11-17 03:00:00     3   11  \n",
       "2019-11-17 04:00:00     4   11  \n",
       "2019-11-17 05:00:00     5   11  \n",
       "2019-11-17 06:00:00     6   11  \n",
       "2019-11-17 07:00:00     7   11  \n",
       "2019-11-17 08:00:00     8   11  \n",
       "2019-11-17 09:00:00     9   11  \n",
       "2019-11-17 10:00:00    10   11  \n",
       "2019-11-17 11:00:00    11   11  \n",
       "2019-11-17 12:00:00    12   11  \n",
       "2019-11-17 13:00:00    13   11  \n",
       "2019-11-17 14:00:00    14   11  \n",
       "2019-11-17 15:00:00    15   11  \n",
       "2019-11-17 16:00:00    16   11  \n",
       "2019-11-17 17:00:00    17   11  \n",
       "2019-11-17 18:00:00    18   11  \n",
       "2019-11-17 19:00:00    19   11  \n",
       "2019-11-17 20:00:00    20   11  \n",
       "\n",
       "[8748 rows x 7 columns]"
      ]
     },
     "execution_count": 243,
     "metadata": {},
     "output_type": "execute_result"
    }
   ],
   "source": [
    "D"
   ]
  },
  {
   "cell_type": "code",
   "execution_count": 253,
   "metadata": {},
   "outputs": [],
   "source": [
    "## Codigo fornecido pelo professor.\n",
    "def gera_janela(D, n):\n",
    "    D_aux = D.drop('precipitacao', axis=1)\n",
    "    c_orig = D_aux.columns\n",
    "    X_orig = D_aux.values\n",
    "    y_orig = D['precipitacao'].values\n",
    "    \n",
    "    col_names = ['{}_0'.format(c) for c in c_orig]\n",
    "    X = X_orig[n:, :]    \n",
    "    X_old = X\n",
    "    for i in range(1,n):\n",
    "        col_names += ['{}_{}'.format(c, i) for c in c_orig]\n",
    "        X_new = X_orig[(n-i):(-i), :]\n",
    "        X = np.concatenate((X, (X_new - X_old)), axis=1)\n",
    "        \n",
    "    X = pd.DataFrame(X, columns=col_names)\n",
    "    y = y_orig[n:]\n",
    "    \n",
    "    return X, y\n",
    "        \n",
    "\n",
    "X, y = gera_janela(D[['pressao','hora', 'mes', 'precipitacao']], 12)"
   ]
  },
  {
   "cell_type": "code",
   "execution_count": 254,
   "metadata": {},
   "outputs": [],
   "source": [
    "# X = X[y > 0.5]\n",
    "# y = y[y > 0.5]\n",
    "# X.shape"
   ]
  },
  {
   "cell_type": "code",
   "execution_count": 255,
   "metadata": {},
   "outputs": [],
   "source": [
    "### Função utilitária para fazer a regressão com constante adicionada\n",
    "def regress(X,Y):\n",
    "    X_cp = sm.add_constant(X)\n",
    "    model = sm.OLS(Y,X_cp)\n",
    "    results = model.fit()\n",
    "    return results"
   ]
  },
  {
   "cell_type": "code",
   "execution_count": 256,
   "metadata": {
    "scrolled": false
   },
   "outputs": [
    {
     "data": {
      "text/html": [
       "<table class=\"simpletable\">\n",
       "<caption>OLS Regression Results</caption>\n",
       "<tr>\n",
       "  <th>Dep. Variable:</th>            <td>y</td>        <th>  R-squared:         </th> <td>   0.033</td> \n",
       "</tr>\n",
       "<tr>\n",
       "  <th>Model:</th>                   <td>OLS</td>       <th>  Adj. R-squared:    </th> <td>   0.029</td> \n",
       "</tr>\n",
       "<tr>\n",
       "  <th>Method:</th>             <td>Least Squares</td>  <th>  F-statistic:       </th> <td>   8.185</td> \n",
       "</tr>\n",
       "<tr>\n",
       "  <th>Date:</th>             <td>Tue, 19 Nov 2019</td> <th>  Prob (F-statistic):</th> <td>1.61e-41</td> \n",
       "</tr>\n",
       "<tr>\n",
       "  <th>Time:</th>                 <td>17:20:52</td>     <th>  Log-Likelihood:    </th> <td> -16150.</td> \n",
       "</tr>\n",
       "<tr>\n",
       "  <th>No. Observations:</th>      <td>  8736</td>      <th>  AIC:               </th> <td>3.237e+04</td>\n",
       "</tr>\n",
       "<tr>\n",
       "  <th>Df Residuals:</th>          <td>  8699</td>      <th>  BIC:               </th> <td>3.263e+04</td>\n",
       "</tr>\n",
       "<tr>\n",
       "  <th>Df Model:</th>              <td>    36</td>      <th>                     </th>     <td> </td>    \n",
       "</tr>\n",
       "<tr>\n",
       "  <th>Covariance Type:</th>      <td>nonrobust</td>    <th>                     </th>     <td> </td>    \n",
       "</tr>\n",
       "</table>\n",
       "<table class=\"simpletable\">\n",
       "<tr>\n",
       "       <td></td>         <th>coef</th>     <th>std err</th>      <th>t</th>      <th>P>|t|</th>  <th>[0.025</th>    <th>0.975]</th>  \n",
       "</tr>\n",
       "<tr>\n",
       "  <th>const</th>      <td>   35.2267</td> <td>    4.402</td> <td>    8.003</td> <td> 0.000</td> <td>   26.598</td> <td>   43.855</td>\n",
       "</tr>\n",
       "<tr>\n",
       "  <th>pressao_0</th>  <td>   -0.0378</td> <td>    0.005</td> <td>   -7.986</td> <td> 0.000</td> <td>   -0.047</td> <td>   -0.029</td>\n",
       "</tr>\n",
       "<tr>\n",
       "  <th>hora_0</th>     <td>    0.0283</td> <td>    0.007</td> <td>    3.874</td> <td> 0.000</td> <td>    0.014</td> <td>    0.043</td>\n",
       "</tr>\n",
       "<tr>\n",
       "  <th>mes_0</th>      <td>   -0.0301</td> <td>    0.005</td> <td>   -6.278</td> <td> 0.000</td> <td>   -0.040</td> <td>   -0.021</td>\n",
       "</tr>\n",
       "<tr>\n",
       "  <th>pressao_1</th>  <td>    0.5971</td> <td>    0.075</td> <td>    7.942</td> <td> 0.000</td> <td>    0.450</td> <td>    0.745</td>\n",
       "</tr>\n",
       "<tr>\n",
       "  <th>hora_1</th>     <td>    0.0033</td> <td>    0.005</td> <td>    0.676</td> <td> 0.499</td> <td>   -0.006</td> <td>    0.013</td>\n",
       "</tr>\n",
       "<tr>\n",
       "  <th>mes_1</th>      <td>    0.1651</td> <td>    0.190</td> <td>    0.871</td> <td> 0.384</td> <td>   -0.207</td> <td>    0.537</td>\n",
       "</tr>\n",
       "<tr>\n",
       "  <th>pressao_2</th>  <td>   -0.6927</td> <td>    0.076</td> <td>   -9.175</td> <td> 0.000</td> <td>   -0.841</td> <td>   -0.545</td>\n",
       "</tr>\n",
       "<tr>\n",
       "  <th>hora_2</th>     <td>    0.0041</td> <td>    0.005</td> <td>    0.851</td> <td> 0.395</td> <td>   -0.005</td> <td>    0.014</td>\n",
       "</tr>\n",
       "<tr>\n",
       "  <th>mes_2</th>      <td>   -0.1650</td> <td>    0.190</td> <td>   -0.870</td> <td> 0.384</td> <td>   -0.537</td> <td>    0.207</td>\n",
       "</tr>\n",
       "<tr>\n",
       "  <th>pressao_3</th>  <td>    0.0665</td> <td>    0.076</td> <td>    0.881</td> <td> 0.378</td> <td>   -0.081</td> <td>    0.215</td>\n",
       "</tr>\n",
       "<tr>\n",
       "  <th>hora_3</th>     <td>   -0.0019</td> <td>    0.005</td> <td>   -0.392</td> <td> 0.695</td> <td>   -0.011</td> <td>    0.008</td>\n",
       "</tr>\n",
       "<tr>\n",
       "  <th>mes_3</th>      <td>   -0.0467</td> <td>    0.190</td> <td>   -0.246</td> <td> 0.805</td> <td>   -0.418</td> <td>    0.325</td>\n",
       "</tr>\n",
       "<tr>\n",
       "  <th>pressao_4</th>  <td>    0.0288</td> <td>    0.076</td> <td>    0.381</td> <td> 0.704</td> <td>   -0.119</td> <td>    0.177</td>\n",
       "</tr>\n",
       "<tr>\n",
       "  <th>hora_4</th>     <td>   -0.0013</td> <td>    0.005</td> <td>   -0.267</td> <td> 0.790</td> <td>   -0.011</td> <td>    0.008</td>\n",
       "</tr>\n",
       "<tr>\n",
       "  <th>mes_4</th>      <td>    0.0072</td> <td>    0.190</td> <td>    0.038</td> <td> 0.970</td> <td>   -0.364</td> <td>    0.379</td>\n",
       "</tr>\n",
       "<tr>\n",
       "  <th>pressao_5</th>  <td>    0.0456</td> <td>    0.076</td> <td>    0.603</td> <td> 0.546</td> <td>   -0.103</td> <td>    0.194</td>\n",
       "</tr>\n",
       "<tr>\n",
       "  <th>hora_5</th>     <td>   -0.0014</td> <td>    0.005</td> <td>   -0.283</td> <td> 0.777</td> <td>   -0.011</td> <td>    0.008</td>\n",
       "</tr>\n",
       "<tr>\n",
       "  <th>mes_5</th>      <td>    0.0198</td> <td>    0.190</td> <td>    0.105</td> <td> 0.917</td> <td>   -0.352</td> <td>    0.391</td>\n",
       "</tr>\n",
       "<tr>\n",
       "  <th>pressao_6</th>  <td>    0.1114</td> <td>    0.076</td> <td>    1.474</td> <td> 0.141</td> <td>   -0.037</td> <td>    0.260</td>\n",
       "</tr>\n",
       "<tr>\n",
       "  <th>hora_6</th>     <td>    0.0068</td> <td>    0.005</td> <td>    1.412</td> <td> 0.158</td> <td>   -0.003</td> <td>    0.016</td>\n",
       "</tr>\n",
       "<tr>\n",
       "  <th>mes_6</th>      <td>   -0.0291</td> <td>    0.190</td> <td>   -0.153</td> <td> 0.878</td> <td>   -0.401</td> <td>    0.343</td>\n",
       "</tr>\n",
       "<tr>\n",
       "  <th>pressao_7</th>  <td>   -0.0371</td> <td>    0.076</td> <td>   -0.490</td> <td> 0.624</td> <td>   -0.186</td> <td>    0.111</td>\n",
       "</tr>\n",
       "<tr>\n",
       "  <th>hora_7</th>     <td>    0.0031</td> <td>    0.005</td> <td>    0.656</td> <td> 0.512</td> <td>   -0.006</td> <td>    0.013</td>\n",
       "</tr>\n",
       "<tr>\n",
       "  <th>mes_7</th>      <td>    0.0239</td> <td>    0.190</td> <td>    0.126</td> <td> 0.900</td> <td>   -0.348</td> <td>    0.396</td>\n",
       "</tr>\n",
       "<tr>\n",
       "  <th>pressao_8</th>  <td>   -0.0869</td> <td>    0.076</td> <td>   -1.148</td> <td> 0.251</td> <td>   -0.235</td> <td>    0.061</td>\n",
       "</tr>\n",
       "<tr>\n",
       "  <th>hora_8</th>     <td>    0.0046</td> <td>    0.005</td> <td>    0.954</td> <td> 0.340</td> <td>   -0.005</td> <td>    0.014</td>\n",
       "</tr>\n",
       "<tr>\n",
       "  <th>mes_8</th>      <td>   -0.0318</td> <td>    0.190</td> <td>   -0.168</td> <td> 0.867</td> <td>   -0.403</td> <td>    0.340</td>\n",
       "</tr>\n",
       "<tr>\n",
       "  <th>pressao_9</th>  <td>    0.0130</td> <td>    0.076</td> <td>    0.172</td> <td> 0.863</td> <td>   -0.135</td> <td>    0.161</td>\n",
       "</tr>\n",
       "<tr>\n",
       "  <th>hora_9</th>     <td>    0.0004</td> <td>    0.005</td> <td>    0.080</td> <td> 0.936</td> <td>   -0.009</td> <td>    0.010</td>\n",
       "</tr>\n",
       "<tr>\n",
       "  <th>mes_9</th>      <td>    0.0440</td> <td>    0.190</td> <td>    0.232</td> <td> 0.816</td> <td>   -0.328</td> <td>    0.416</td>\n",
       "</tr>\n",
       "<tr>\n",
       "  <th>pressao_10</th> <td>   -0.0292</td> <td>    0.075</td> <td>   -0.389</td> <td> 0.697</td> <td>   -0.177</td> <td>    0.118</td>\n",
       "</tr>\n",
       "<tr>\n",
       "  <th>hora_10</th>    <td>    0.0053</td> <td>    0.005</td> <td>    1.091</td> <td> 0.275</td> <td>   -0.004</td> <td>    0.015</td>\n",
       "</tr>\n",
       "<tr>\n",
       "  <th>mes_10</th>     <td>   -0.0505</td> <td>    0.190</td> <td>   -0.266</td> <td> 0.790</td> <td>   -0.422</td> <td>    0.321</td>\n",
       "</tr>\n",
       "<tr>\n",
       "  <th>pressao_11</th> <td>   -0.0053</td> <td>    0.048</td> <td>   -0.112</td> <td> 0.911</td> <td>   -0.099</td> <td>    0.088</td>\n",
       "</tr>\n",
       "<tr>\n",
       "  <th>hora_11</th>    <td>   -0.0032</td> <td>    0.004</td> <td>   -0.726</td> <td> 0.468</td> <td>   -0.012</td> <td>    0.005</td>\n",
       "</tr>\n",
       "<tr>\n",
       "  <th>mes_11</th>     <td>   -0.0360</td> <td>    0.134</td> <td>   -0.268</td> <td> 0.789</td> <td>   -0.299</td> <td>    0.227</td>\n",
       "</tr>\n",
       "</table>\n",
       "<table class=\"simpletable\">\n",
       "<tr>\n",
       "  <th>Omnibus:</th>       <td>17134.695</td> <th>  Durbin-Watson:     </th>   <td>   1.241</td>  \n",
       "</tr>\n",
       "<tr>\n",
       "  <th>Prob(Omnibus):</th>  <td> 0.000</td>   <th>  Jarque-Bera (JB):  </th> <td>50383183.509</td>\n",
       "</tr>\n",
       "<tr>\n",
       "  <th>Skew:</th>           <td>15.567</td>   <th>  Prob(JB):          </th>   <td>    0.00</td>  \n",
       "</tr>\n",
       "<tr>\n",
       "  <th>Kurtosis:</th>       <td>373.737</td>  <th>  Cond. No.          </th>   <td>2.48e+05</td>  \n",
       "</tr>\n",
       "</table><br/><br/>Warnings:<br/>[1] Standard Errors assume that the covariance matrix of the errors is correctly specified.<br/>[2] The condition number is large, 2.48e+05. This might indicate that there are<br/>strong multicollinearity or other numerical problems."
      ],
      "text/plain": [
       "<class 'statsmodels.iolib.summary.Summary'>\n",
       "\"\"\"\n",
       "                            OLS Regression Results                            \n",
       "==============================================================================\n",
       "Dep. Variable:                      y   R-squared:                       0.033\n",
       "Model:                            OLS   Adj. R-squared:                  0.029\n",
       "Method:                 Least Squares   F-statistic:                     8.185\n",
       "Date:                Tue, 19 Nov 2019   Prob (F-statistic):           1.61e-41\n",
       "Time:                        17:20:52   Log-Likelihood:                -16150.\n",
       "No. Observations:                8736   AIC:                         3.237e+04\n",
       "Df Residuals:                    8699   BIC:                         3.263e+04\n",
       "Df Model:                          36                                         \n",
       "Covariance Type:            nonrobust                                         \n",
       "==============================================================================\n",
       "                 coef    std err          t      P>|t|      [0.025      0.975]\n",
       "------------------------------------------------------------------------------\n",
       "const         35.2267      4.402      8.003      0.000      26.598      43.855\n",
       "pressao_0     -0.0378      0.005     -7.986      0.000      -0.047      -0.029\n",
       "hora_0         0.0283      0.007      3.874      0.000       0.014       0.043\n",
       "mes_0         -0.0301      0.005     -6.278      0.000      -0.040      -0.021\n",
       "pressao_1      0.5971      0.075      7.942      0.000       0.450       0.745\n",
       "hora_1         0.0033      0.005      0.676      0.499      -0.006       0.013\n",
       "mes_1          0.1651      0.190      0.871      0.384      -0.207       0.537\n",
       "pressao_2     -0.6927      0.076     -9.175      0.000      -0.841      -0.545\n",
       "hora_2         0.0041      0.005      0.851      0.395      -0.005       0.014\n",
       "mes_2         -0.1650      0.190     -0.870      0.384      -0.537       0.207\n",
       "pressao_3      0.0665      0.076      0.881      0.378      -0.081       0.215\n",
       "hora_3        -0.0019      0.005     -0.392      0.695      -0.011       0.008\n",
       "mes_3         -0.0467      0.190     -0.246      0.805      -0.418       0.325\n",
       "pressao_4      0.0288      0.076      0.381      0.704      -0.119       0.177\n",
       "hora_4        -0.0013      0.005     -0.267      0.790      -0.011       0.008\n",
       "mes_4          0.0072      0.190      0.038      0.970      -0.364       0.379\n",
       "pressao_5      0.0456      0.076      0.603      0.546      -0.103       0.194\n",
       "hora_5        -0.0014      0.005     -0.283      0.777      -0.011       0.008\n",
       "mes_5          0.0198      0.190      0.105      0.917      -0.352       0.391\n",
       "pressao_6      0.1114      0.076      1.474      0.141      -0.037       0.260\n",
       "hora_6         0.0068      0.005      1.412      0.158      -0.003       0.016\n",
       "mes_6         -0.0291      0.190     -0.153      0.878      -0.401       0.343\n",
       "pressao_7     -0.0371      0.076     -0.490      0.624      -0.186       0.111\n",
       "hora_7         0.0031      0.005      0.656      0.512      -0.006       0.013\n",
       "mes_7          0.0239      0.190      0.126      0.900      -0.348       0.396\n",
       "pressao_8     -0.0869      0.076     -1.148      0.251      -0.235       0.061\n",
       "hora_8         0.0046      0.005      0.954      0.340      -0.005       0.014\n",
       "mes_8         -0.0318      0.190     -0.168      0.867      -0.403       0.340\n",
       "pressao_9      0.0130      0.076      0.172      0.863      -0.135       0.161\n",
       "hora_9         0.0004      0.005      0.080      0.936      -0.009       0.010\n",
       "mes_9          0.0440      0.190      0.232      0.816      -0.328       0.416\n",
       "pressao_10    -0.0292      0.075     -0.389      0.697      -0.177       0.118\n",
       "hora_10        0.0053      0.005      1.091      0.275      -0.004       0.015\n",
       "mes_10        -0.0505      0.190     -0.266      0.790      -0.422       0.321\n",
       "pressao_11    -0.0053      0.048     -0.112      0.911      -0.099       0.088\n",
       "hora_11       -0.0032      0.004     -0.726      0.468      -0.012       0.005\n",
       "mes_11        -0.0360      0.134     -0.268      0.789      -0.299       0.227\n",
       "==============================================================================\n",
       "Omnibus:                    17134.695   Durbin-Watson:                   1.241\n",
       "Prob(Omnibus):                  0.000   Jarque-Bera (JB):         50383183.509\n",
       "Skew:                          15.567   Prob(JB):                         0.00\n",
       "Kurtosis:                     373.737   Cond. No.                     2.48e+05\n",
       "==============================================================================\n",
       "\n",
       "Warnings:\n",
       "[1] Standard Errors assume that the covariance matrix of the errors is correctly specified.\n",
       "[2] The condition number is large, 2.48e+05. This might indicate that there are\n",
       "strong multicollinearity or other numerical problems.\n",
       "\"\"\""
      ]
     },
     "execution_count": 256,
     "metadata": {},
     "output_type": "execute_result"
    }
   ],
   "source": [
    "results1 = regress(X, y)\n",
    "results1.summary()"
   ]
  },
  {
   "cell_type": "code",
   "execution_count": 257,
   "metadata": {},
   "outputs": [],
   "source": [
    "from sklearn.model_selection import train_test_split\n",
    "X_train, X_test, y_train, y_test = train_test_split(X, y, test_size=0.2)"
   ]
  },
  {
   "cell_type": "code",
   "execution_count": 258,
   "metadata": {},
   "outputs": [],
   "source": [
    "from sklearn.ensemble import RandomForestRegressor\n",
    "rf = RandomForestRegressor(n_estimators=100, random_state=42)\n",
    "rf.fit(X_train, y_train);"
   ]
  },
  {
   "cell_type": "code",
   "execution_count": 259,
   "metadata": {},
   "outputs": [
    {
     "data": {
      "text/plain": [
       "1.4382269356869481"
      ]
     },
     "execution_count": 259,
     "metadata": {},
     "output_type": "execute_result"
    }
   ],
   "source": [
    "from sklearn.metrics import mean_squared_error\n",
    "y_pred = rf.predict(X_test)\n",
    "np.sqrt(mean_squared_error(y_test, y_pred))"
   ]
  },
  {
   "cell_type": "code",
   "execution_count": 260,
   "metadata": {},
   "outputs": [
    {
     "data": {
      "text/html": [
       "\n",
       "    <div class=\"bk-root\">\n",
       "        <a href=\"https://bokeh.pydata.org\" target=\"_blank\" class=\"bk-logo bk-logo-small bk-logo-notebook\"></a>\n",
       "        <span id=\"10666\">Loading BokehJS ...</span>\n",
       "    </div>"
      ]
     },
     "metadata": {},
     "output_type": "display_data"
    },
    {
     "data": {
      "application/javascript": [
       "\n",
       "(function(root) {\n",
       "  function now() {\n",
       "    return new Date();\n",
       "  }\n",
       "\n",
       "  var force = true;\n",
       "\n",
       "  if (typeof (root._bokeh_onload_callbacks) === \"undefined\" || force === true) {\n",
       "    root._bokeh_onload_callbacks = [];\n",
       "    root._bokeh_is_loading = undefined;\n",
       "  }\n",
       "\n",
       "  var JS_MIME_TYPE = 'application/javascript';\n",
       "  var HTML_MIME_TYPE = 'text/html';\n",
       "  var EXEC_MIME_TYPE = 'application/vnd.bokehjs_exec.v0+json';\n",
       "  var CLASS_NAME = 'output_bokeh rendered_html';\n",
       "\n",
       "  /**\n",
       "   * Render data to the DOM node\n",
       "   */\n",
       "  function render(props, node) {\n",
       "    var script = document.createElement(\"script\");\n",
       "    node.appendChild(script);\n",
       "  }\n",
       "\n",
       "  /**\n",
       "   * Handle when an output is cleared or removed\n",
       "   */\n",
       "  function handleClearOutput(event, handle) {\n",
       "    var cell = handle.cell;\n",
       "\n",
       "    var id = cell.output_area._bokeh_element_id;\n",
       "    var server_id = cell.output_area._bokeh_server_id;\n",
       "    // Clean up Bokeh references\n",
       "    if (id != null && id in Bokeh.index) {\n",
       "      Bokeh.index[id].model.document.clear();\n",
       "      delete Bokeh.index[id];\n",
       "    }\n",
       "\n",
       "    if (server_id !== undefined) {\n",
       "      // Clean up Bokeh references\n",
       "      var cmd = \"from bokeh.io.state import curstate; print(curstate().uuid_to_server['\" + server_id + \"'].get_sessions()[0].document.roots[0]._id)\";\n",
       "      cell.notebook.kernel.execute(cmd, {\n",
       "        iopub: {\n",
       "          output: function(msg) {\n",
       "            var id = msg.content.text.trim();\n",
       "            if (id in Bokeh.index) {\n",
       "              Bokeh.index[id].model.document.clear();\n",
       "              delete Bokeh.index[id];\n",
       "            }\n",
       "          }\n",
       "        }\n",
       "      });\n",
       "      // Destroy server and session\n",
       "      var cmd = \"import bokeh.io.notebook as ion; ion.destroy_server('\" + server_id + \"')\";\n",
       "      cell.notebook.kernel.execute(cmd);\n",
       "    }\n",
       "  }\n",
       "\n",
       "  /**\n",
       "   * Handle when a new output is added\n",
       "   */\n",
       "  function handleAddOutput(event, handle) {\n",
       "    var output_area = handle.output_area;\n",
       "    var output = handle.output;\n",
       "\n",
       "    // limit handleAddOutput to display_data with EXEC_MIME_TYPE content only\n",
       "    if ((output.output_type != \"display_data\") || (!output.data.hasOwnProperty(EXEC_MIME_TYPE))) {\n",
       "      return\n",
       "    }\n",
       "\n",
       "    var toinsert = output_area.element.find(\".\" + CLASS_NAME.split(' ')[0]);\n",
       "\n",
       "    if (output.metadata[EXEC_MIME_TYPE][\"id\"] !== undefined) {\n",
       "      toinsert[toinsert.length - 1].firstChild.textContent = output.data[JS_MIME_TYPE];\n",
       "      // store reference to embed id on output_area\n",
       "      output_area._bokeh_element_id = output.metadata[EXEC_MIME_TYPE][\"id\"];\n",
       "    }\n",
       "    if (output.metadata[EXEC_MIME_TYPE][\"server_id\"] !== undefined) {\n",
       "      var bk_div = document.createElement(\"div\");\n",
       "      bk_div.innerHTML = output.data[HTML_MIME_TYPE];\n",
       "      var script_attrs = bk_div.children[0].attributes;\n",
       "      for (var i = 0; i < script_attrs.length; i++) {\n",
       "        toinsert[toinsert.length - 1].firstChild.setAttribute(script_attrs[i].name, script_attrs[i].value);\n",
       "      }\n",
       "      // store reference to server id on output_area\n",
       "      output_area._bokeh_server_id = output.metadata[EXEC_MIME_TYPE][\"server_id\"];\n",
       "    }\n",
       "  }\n",
       "\n",
       "  function register_renderer(events, OutputArea) {\n",
       "\n",
       "    function append_mime(data, metadata, element) {\n",
       "      // create a DOM node to render to\n",
       "      var toinsert = this.create_output_subarea(\n",
       "        metadata,\n",
       "        CLASS_NAME,\n",
       "        EXEC_MIME_TYPE\n",
       "      );\n",
       "      this.keyboard_manager.register_events(toinsert);\n",
       "      // Render to node\n",
       "      var props = {data: data, metadata: metadata[EXEC_MIME_TYPE]};\n",
       "      render(props, toinsert[toinsert.length - 1]);\n",
       "      element.append(toinsert);\n",
       "      return toinsert\n",
       "    }\n",
       "\n",
       "    /* Handle when an output is cleared or removed */\n",
       "    events.on('clear_output.CodeCell', handleClearOutput);\n",
       "    events.on('delete.Cell', handleClearOutput);\n",
       "\n",
       "    /* Handle when a new output is added */\n",
       "    events.on('output_added.OutputArea', handleAddOutput);\n",
       "\n",
       "    /**\n",
       "     * Register the mime type and append_mime function with output_area\n",
       "     */\n",
       "    OutputArea.prototype.register_mime_type(EXEC_MIME_TYPE, append_mime, {\n",
       "      /* Is output safe? */\n",
       "      safe: true,\n",
       "      /* Index of renderer in `output_area.display_order` */\n",
       "      index: 0\n",
       "    });\n",
       "  }\n",
       "\n",
       "  // register the mime type if in Jupyter Notebook environment and previously unregistered\n",
       "  if (root.Jupyter !== undefined) {\n",
       "    var events = require('base/js/events');\n",
       "    var OutputArea = require('notebook/js/outputarea').OutputArea;\n",
       "\n",
       "    if (OutputArea.prototype.mime_types().indexOf(EXEC_MIME_TYPE) == -1) {\n",
       "      register_renderer(events, OutputArea);\n",
       "    }\n",
       "  }\n",
       "\n",
       "  \n",
       "  if (typeof (root._bokeh_timeout) === \"undefined\" || force === true) {\n",
       "    root._bokeh_timeout = Date.now() + 5000;\n",
       "    root._bokeh_failed_load = false;\n",
       "  }\n",
       "\n",
       "  var NB_LOAD_WARNING = {'data': {'text/html':\n",
       "     \"<div style='background-color: #fdd'>\\n\"+\n",
       "     \"<p>\\n\"+\n",
       "     \"BokehJS does not appear to have successfully loaded. If loading BokehJS from CDN, this \\n\"+\n",
       "     \"may be due to a slow or bad network connection. Possible fixes:\\n\"+\n",
       "     \"</p>\\n\"+\n",
       "     \"<ul>\\n\"+\n",
       "     \"<li>re-rerun `output_notebook()` to attempt to load from CDN again, or</li>\\n\"+\n",
       "     \"<li>use INLINE resources instead, as so:</li>\\n\"+\n",
       "     \"</ul>\\n\"+\n",
       "     \"<code>\\n\"+\n",
       "     \"from bokeh.resources import INLINE\\n\"+\n",
       "     \"output_notebook(resources=INLINE)\\n\"+\n",
       "     \"</code>\\n\"+\n",
       "     \"</div>\"}};\n",
       "\n",
       "  function display_loaded() {\n",
       "    var el = document.getElementById(\"10666\");\n",
       "    if (el != null) {\n",
       "      el.textContent = \"BokehJS is loading...\";\n",
       "    }\n",
       "    if (root.Bokeh !== undefined) {\n",
       "      if (el != null) {\n",
       "        el.textContent = \"BokehJS \" + root.Bokeh.version + \" successfully loaded.\";\n",
       "      }\n",
       "    } else if (Date.now() < root._bokeh_timeout) {\n",
       "      setTimeout(display_loaded, 100)\n",
       "    }\n",
       "  }\n",
       "\n",
       "\n",
       "  function run_callbacks() {\n",
       "    try {\n",
       "      root._bokeh_onload_callbacks.forEach(function(callback) { callback() });\n",
       "    }\n",
       "    finally {\n",
       "      delete root._bokeh_onload_callbacks\n",
       "    }\n",
       "    console.info(\"Bokeh: all callbacks have finished\");\n",
       "  }\n",
       "\n",
       "  function load_libs(js_urls, callback) {\n",
       "    root._bokeh_onload_callbacks.push(callback);\n",
       "    if (root._bokeh_is_loading > 0) {\n",
       "      console.log(\"Bokeh: BokehJS is being loaded, scheduling callback at\", now());\n",
       "      return null;\n",
       "    }\n",
       "    if (js_urls == null || js_urls.length === 0) {\n",
       "      run_callbacks();\n",
       "      return null;\n",
       "    }\n",
       "    console.log(\"Bokeh: BokehJS not loaded, scheduling load and callback at\", now());\n",
       "    root._bokeh_is_loading = js_urls.length;\n",
       "    for (var i = 0; i < js_urls.length; i++) {\n",
       "      var url = js_urls[i];\n",
       "      var s = document.createElement('script');\n",
       "      s.src = url;\n",
       "      s.async = false;\n",
       "      s.onreadystatechange = s.onload = function() {\n",
       "        root._bokeh_is_loading--;\n",
       "        if (root._bokeh_is_loading === 0) {\n",
       "          console.log(\"Bokeh: all BokehJS libraries loaded\");\n",
       "          run_callbacks()\n",
       "        }\n",
       "      };\n",
       "      s.onerror = function() {\n",
       "        console.warn(\"failed to load library \" + url);\n",
       "      };\n",
       "      console.log(\"Bokeh: injecting script tag for BokehJS library: \", url);\n",
       "      document.getElementsByTagName(\"head\")[0].appendChild(s);\n",
       "    }\n",
       "  };var element = document.getElementById(\"10666\");\n",
       "  if (element == null) {\n",
       "    console.log(\"Bokeh: ERROR: autoload.js configured with elementid '10666' but no matching script tag was found. \")\n",
       "    return false;\n",
       "  }\n",
       "\n",
       "  var js_urls = [\"https://cdn.pydata.org/bokeh/release/bokeh-1.0.2.min.js\", \"https://cdn.pydata.org/bokeh/release/bokeh-widgets-1.0.2.min.js\", \"https://cdn.pydata.org/bokeh/release/bokeh-tables-1.0.2.min.js\", \"https://cdn.pydata.org/bokeh/release/bokeh-gl-1.0.2.min.js\"];\n",
       "\n",
       "  var inline_js = [\n",
       "    function(Bokeh) {\n",
       "      Bokeh.set_log_level(\"info\");\n",
       "    },\n",
       "    \n",
       "    function(Bokeh) {\n",
       "      \n",
       "    },\n",
       "    function(Bokeh) {\n",
       "      console.log(\"Bokeh: injecting CSS: https://cdn.pydata.org/bokeh/release/bokeh-1.0.2.min.css\");\n",
       "      Bokeh.embed.inject_css(\"https://cdn.pydata.org/bokeh/release/bokeh-1.0.2.min.css\");\n",
       "      console.log(\"Bokeh: injecting CSS: https://cdn.pydata.org/bokeh/release/bokeh-widgets-1.0.2.min.css\");\n",
       "      Bokeh.embed.inject_css(\"https://cdn.pydata.org/bokeh/release/bokeh-widgets-1.0.2.min.css\");\n",
       "      console.log(\"Bokeh: injecting CSS: https://cdn.pydata.org/bokeh/release/bokeh-tables-1.0.2.min.css\");\n",
       "      Bokeh.embed.inject_css(\"https://cdn.pydata.org/bokeh/release/bokeh-tables-1.0.2.min.css\");\n",
       "    }\n",
       "  ];\n",
       "\n",
       "  function run_inline_js() {\n",
       "    \n",
       "    if ((root.Bokeh !== undefined) || (force === true)) {\n",
       "      for (var i = 0; i < inline_js.length; i++) {\n",
       "        inline_js[i].call(root, root.Bokeh);\n",
       "      }if (force === true) {\n",
       "        display_loaded();\n",
       "      }} else if (Date.now() < root._bokeh_timeout) {\n",
       "      setTimeout(run_inline_js, 100);\n",
       "    } else if (!root._bokeh_failed_load) {\n",
       "      console.log(\"Bokeh: BokehJS failed to load within specified timeout.\");\n",
       "      root._bokeh_failed_load = true;\n",
       "    } else if (force !== true) {\n",
       "      var cell = $(document.getElementById(\"10666\")).parents('.cell').data().cell;\n",
       "      cell.output_area.append_execute_result(NB_LOAD_WARNING)\n",
       "    }\n",
       "\n",
       "  }\n",
       "\n",
       "  if (root._bokeh_is_loading === 0) {\n",
       "    console.log(\"Bokeh: BokehJS loaded, going straight to plotting\");\n",
       "    run_inline_js();\n",
       "  } else {\n",
       "    load_libs(js_urls, function() {\n",
       "      console.log(\"Bokeh: BokehJS plotting callback run at\", now());\n",
       "      run_inline_js();\n",
       "    });\n",
       "  }\n",
       "}(window));"
      ],
      "application/vnd.bokehjs_load.v0+json": "\n(function(root) {\n  function now() {\n    return new Date();\n  }\n\n  var force = true;\n\n  if (typeof (root._bokeh_onload_callbacks) === \"undefined\" || force === true) {\n    root._bokeh_onload_callbacks = [];\n    root._bokeh_is_loading = undefined;\n  }\n\n  \n\n  \n  if (typeof (root._bokeh_timeout) === \"undefined\" || force === true) {\n    root._bokeh_timeout = Date.now() + 5000;\n    root._bokeh_failed_load = false;\n  }\n\n  var NB_LOAD_WARNING = {'data': {'text/html':\n     \"<div style='background-color: #fdd'>\\n\"+\n     \"<p>\\n\"+\n     \"BokehJS does not appear to have successfully loaded. If loading BokehJS from CDN, this \\n\"+\n     \"may be due to a slow or bad network connection. Possible fixes:\\n\"+\n     \"</p>\\n\"+\n     \"<ul>\\n\"+\n     \"<li>re-rerun `output_notebook()` to attempt to load from CDN again, or</li>\\n\"+\n     \"<li>use INLINE resources instead, as so:</li>\\n\"+\n     \"</ul>\\n\"+\n     \"<code>\\n\"+\n     \"from bokeh.resources import INLINE\\n\"+\n     \"output_notebook(resources=INLINE)\\n\"+\n     \"</code>\\n\"+\n     \"</div>\"}};\n\n  function display_loaded() {\n    var el = document.getElementById(\"10666\");\n    if (el != null) {\n      el.textContent = \"BokehJS is loading...\";\n    }\n    if (root.Bokeh !== undefined) {\n      if (el != null) {\n        el.textContent = \"BokehJS \" + root.Bokeh.version + \" successfully loaded.\";\n      }\n    } else if (Date.now() < root._bokeh_timeout) {\n      setTimeout(display_loaded, 100)\n    }\n  }\n\n\n  function run_callbacks() {\n    try {\n      root._bokeh_onload_callbacks.forEach(function(callback) { callback() });\n    }\n    finally {\n      delete root._bokeh_onload_callbacks\n    }\n    console.info(\"Bokeh: all callbacks have finished\");\n  }\n\n  function load_libs(js_urls, callback) {\n    root._bokeh_onload_callbacks.push(callback);\n    if (root._bokeh_is_loading > 0) {\n      console.log(\"Bokeh: BokehJS is being loaded, scheduling callback at\", now());\n      return null;\n    }\n    if (js_urls == null || js_urls.length === 0) {\n      run_callbacks();\n      return null;\n    }\n    console.log(\"Bokeh: BokehJS not loaded, scheduling load and callback at\", now());\n    root._bokeh_is_loading = js_urls.length;\n    for (var i = 0; i < js_urls.length; i++) {\n      var url = js_urls[i];\n      var s = document.createElement('script');\n      s.src = url;\n      s.async = false;\n      s.onreadystatechange = s.onload = function() {\n        root._bokeh_is_loading--;\n        if (root._bokeh_is_loading === 0) {\n          console.log(\"Bokeh: all BokehJS libraries loaded\");\n          run_callbacks()\n        }\n      };\n      s.onerror = function() {\n        console.warn(\"failed to load library \" + url);\n      };\n      console.log(\"Bokeh: injecting script tag for BokehJS library: \", url);\n      document.getElementsByTagName(\"head\")[0].appendChild(s);\n    }\n  };var element = document.getElementById(\"10666\");\n  if (element == null) {\n    console.log(\"Bokeh: ERROR: autoload.js configured with elementid '10666' but no matching script tag was found. \")\n    return false;\n  }\n\n  var js_urls = [\"https://cdn.pydata.org/bokeh/release/bokeh-1.0.2.min.js\", \"https://cdn.pydata.org/bokeh/release/bokeh-widgets-1.0.2.min.js\", \"https://cdn.pydata.org/bokeh/release/bokeh-tables-1.0.2.min.js\", \"https://cdn.pydata.org/bokeh/release/bokeh-gl-1.0.2.min.js\"];\n\n  var inline_js = [\n    function(Bokeh) {\n      Bokeh.set_log_level(\"info\");\n    },\n    \n    function(Bokeh) {\n      \n    },\n    function(Bokeh) {\n      console.log(\"Bokeh: injecting CSS: https://cdn.pydata.org/bokeh/release/bokeh-1.0.2.min.css\");\n      Bokeh.embed.inject_css(\"https://cdn.pydata.org/bokeh/release/bokeh-1.0.2.min.css\");\n      console.log(\"Bokeh: injecting CSS: https://cdn.pydata.org/bokeh/release/bokeh-widgets-1.0.2.min.css\");\n      Bokeh.embed.inject_css(\"https://cdn.pydata.org/bokeh/release/bokeh-widgets-1.0.2.min.css\");\n      console.log(\"Bokeh: injecting CSS: https://cdn.pydata.org/bokeh/release/bokeh-tables-1.0.2.min.css\");\n      Bokeh.embed.inject_css(\"https://cdn.pydata.org/bokeh/release/bokeh-tables-1.0.2.min.css\");\n    }\n  ];\n\n  function run_inline_js() {\n    \n    if ((root.Bokeh !== undefined) || (force === true)) {\n      for (var i = 0; i < inline_js.length; i++) {\n        inline_js[i].call(root, root.Bokeh);\n      }if (force === true) {\n        display_loaded();\n      }} else if (Date.now() < root._bokeh_timeout) {\n      setTimeout(run_inline_js, 100);\n    } else if (!root._bokeh_failed_load) {\n      console.log(\"Bokeh: BokehJS failed to load within specified timeout.\");\n      root._bokeh_failed_load = true;\n    } else if (force !== true) {\n      var cell = $(document.getElementById(\"10666\")).parents('.cell').data().cell;\n      cell.output_area.append_execute_result(NB_LOAD_WARNING)\n    }\n\n  }\n\n  if (root._bokeh_is_loading === 0) {\n    console.log(\"Bokeh: BokehJS loaded, going straight to plotting\");\n    run_inline_js();\n  } else {\n    load_libs(js_urls, function() {\n      console.log(\"Bokeh: BokehJS plotting callback run at\", now());\n      run_inline_js();\n    });\n  }\n}(window));"
     },
     "metadata": {},
     "output_type": "display_data"
    }
   ],
   "source": [
    "from bokeh.io import output_notebook, show\n",
    "from bokeh.plotting import figure\n",
    "\n",
    "output_notebook()"
   ]
  },
  {
   "cell_type": "code",
   "execution_count": 261,
   "metadata": {},
   "outputs": [],
   "source": [
    "def plota_histograma(x, bins=20, title='Histograma'):\n",
    "    hist, edges = np.histogram(x, density=True, bins=bins)\n",
    "    p = figure(title=title, background_fill_color=\"#fafafa\")\n",
    "    p.quad(top=hist, bottom=0, left=edges[:-1], right=edges[1:], fill_color=\"navy\", line_color=\"white\", alpha=0.5)\n",
    "    show(p)"
   ]
  },
  {
   "cell_type": "code",
   "execution_count": 262,
   "metadata": {},
   "outputs": [
    {
     "data": {
      "text/html": [
       "\n",
       "\n",
       "\n",
       "\n",
       "\n",
       "\n",
       "  <div class=\"bk-root\" id=\"d2f635ab-139b-4536-ac8d-54439e505c35\"></div>\n"
      ]
     },
     "metadata": {},
     "output_type": "display_data"
    },
    {
     "data": {
      "application/javascript": [
       "(function(root) {\n",
       "  function embed_document(root) {\n",
       "    \n",
       "  var docs_json = {\"5f7c60a6-efb5-4f56-833e-7102a6dccab4\":{\"roots\":{\"references\":[{\"attributes\":{\"background_fill_color\":{\"value\":\"#fafafa\"},\"below\":[{\"id\":\"10678\",\"type\":\"LinearAxis\"}],\"left\":[{\"id\":\"10683\",\"type\":\"LinearAxis\"}],\"renderers\":[{\"id\":\"10678\",\"type\":\"LinearAxis\"},{\"id\":\"10682\",\"type\":\"Grid\"},{\"id\":\"10683\",\"type\":\"LinearAxis\"},{\"id\":\"10687\",\"type\":\"Grid\"},{\"id\":\"10696\",\"type\":\"BoxAnnotation\"},{\"id\":\"10706\",\"type\":\"GlyphRenderer\"}],\"title\":{\"id\":\"10667\",\"type\":\"Title\"},\"toolbar\":{\"id\":\"10694\",\"type\":\"Toolbar\"},\"x_range\":{\"id\":\"10670\",\"type\":\"DataRange1d\"},\"x_scale\":{\"id\":\"10674\",\"type\":\"LinearScale\"},\"y_range\":{\"id\":\"10672\",\"type\":\"DataRange1d\"},\"y_scale\":{\"id\":\"10676\",\"type\":\"LinearScale\"}},\"id\":\"10668\",\"subtype\":\"Figure\",\"type\":\"Plot\"},{\"attributes\":{},\"id\":\"10689\",\"type\":\"WheelZoomTool\"},{\"attributes\":{\"callback\":null},\"id\":\"10672\",\"type\":\"DataRange1d\"},{\"attributes\":{\"plot\":null,\"text\":\"Histograma\"},\"id\":\"10667\",\"type\":\"Title\"},{\"attributes\":{},\"id\":\"10693\",\"type\":\"HelpTool\"},{\"attributes\":{},\"id\":\"10692\",\"type\":\"ResetTool\"},{\"attributes\":{\"dimension\":1,\"plot\":{\"id\":\"10668\",\"subtype\":\"Figure\",\"type\":\"Plot\"},\"ticker\":{\"id\":\"10684\",\"type\":\"BasicTicker\"}},\"id\":\"10687\",\"type\":\"Grid\"},{\"attributes\":{},\"id\":\"10674\",\"type\":\"LinearScale\"},{\"attributes\":{},\"id\":\"11023\",\"type\":\"BasicTickFormatter\"},{\"attributes\":{\"callback\":null,\"data\":{\"left\":{\"__ndarray__\":\"AAAAAAAAAADdk4eFWtP0P92Th4Va0wRAzF1LyAc9D0Ddk4eFWtMUQNR46SYxCBpAzF1LyAc9H0BhodY07zgiQN2Th4Va0yRAWYY41sVtJ0DUeOkmMQgqQFBrmnecoixAzF1LyAc9L0AkKH6MueswQGGh1jTvODJAnxov3SSGM0Ddk4eFWtM0QBsN4C2QIDZAWYY41sVtN0CW/5B++7o4QA==\",\"dtype\":\"float64\",\"shape\":[20]},\"right\":{\"__ndarray__\":\"3ZOHhVrT9D/dk4eFWtMEQMxdS8gHPQ9A3ZOHhVrTFEDUeOkmMQgaQMxdS8gHPR9AYaHWNO84IkDdk4eFWtMkQFmGONbFbSdA1HjpJjEIKkBQa5p3nKIsQMxdS8gHPS9AJCh+jLnrMEBhodY07zgyQJ8aL90khjNA3ZOHhVrTNEAbDeAtkCA2QFmGONbFbTdAlv+Qfvu6OEDUeOkmMQg6QA==\",\"dtype\":\"float64\",\"shape\":[20]},\"top\":{\"__ndarray__\":\"VumMJ42S5z+eI/mosA2WP9hxipw3NGk/QsvCafbNXD9yGFLPeJpVPz7Lwmn2zUw/AAAAAAAAAAAAAAAAAAAAAD7Lwmn2zUw/SMvCafbNTD8+y8Jp9s1MPwAAAAAAAAAAAAAAAAAAAAAAAAAAAAAAAAAAAAAAAAAAAAAAAAAAAAAAAAAAAAAAAAAAAAAAAAAAAAAAAAAAAAA+y8Jp9s08Pw==\",\"dtype\":\"float64\",\"shape\":[20]}},\"selected\":{\"id\":\"11025\",\"type\":\"Selection\"},\"selection_policy\":{\"id\":\"11024\",\"type\":\"UnionRenderers\"}},\"id\":\"10703\",\"type\":\"ColumnDataSource\"},{\"attributes\":{},\"id\":\"11024\",\"type\":\"UnionRenderers\"},{\"attributes\":{},\"id\":\"10688\",\"type\":\"PanTool\"},{\"attributes\":{},\"id\":\"10691\",\"type\":\"SaveTool\"},{\"attributes\":{},\"id\":\"10676\",\"type\":\"LinearScale\"},{\"attributes\":{\"active_drag\":\"auto\",\"active_inspect\":\"auto\",\"active_multi\":null,\"active_scroll\":\"auto\",\"active_tap\":\"auto\",\"tools\":[{\"id\":\"10688\",\"type\":\"PanTool\"},{\"id\":\"10689\",\"type\":\"WheelZoomTool\"},{\"id\":\"10690\",\"type\":\"BoxZoomTool\"},{\"id\":\"10691\",\"type\":\"SaveTool\"},{\"id\":\"10692\",\"type\":\"ResetTool\"},{\"id\":\"10693\",\"type\":\"HelpTool\"}]},\"id\":\"10694\",\"type\":\"Toolbar\"},{\"attributes\":{},\"id\":\"11021\",\"type\":\"BasicTickFormatter\"},{\"attributes\":{\"bottom\":{\"value\":0},\"fill_alpha\":{\"value\":0.1},\"fill_color\":{\"value\":\"#1f77b4\"},\"left\":{\"field\":\"left\"},\"line_alpha\":{\"value\":0.1},\"line_color\":{\"value\":\"#1f77b4\"},\"right\":{\"field\":\"right\"},\"top\":{\"field\":\"top\"}},\"id\":\"10705\",\"type\":\"Quad\"},{\"attributes\":{\"data_source\":{\"id\":\"10703\",\"type\":\"ColumnDataSource\"},\"glyph\":{\"id\":\"10704\",\"type\":\"Quad\"},\"hover_glyph\":null,\"muted_glyph\":null,\"nonselection_glyph\":{\"id\":\"10705\",\"type\":\"Quad\"},\"selection_glyph\":null,\"view\":{\"id\":\"10707\",\"type\":\"CDSView\"}},\"id\":\"10706\",\"type\":\"GlyphRenderer\"},{\"attributes\":{\"bottom\":{\"value\":0},\"fill_alpha\":{\"value\":0.5},\"fill_color\":{\"value\":\"navy\"},\"left\":{\"field\":\"left\"},\"line_alpha\":{\"value\":0.5},\"line_color\":{\"value\":\"white\"},\"right\":{\"field\":\"right\"},\"top\":{\"field\":\"top\"}},\"id\":\"10704\",\"type\":\"Quad\"},{\"attributes\":{},\"id\":\"11025\",\"type\":\"Selection\"},{\"attributes\":{\"source\":{\"id\":\"10703\",\"type\":\"ColumnDataSource\"}},\"id\":\"10707\",\"type\":\"CDSView\"},{\"attributes\":{},\"id\":\"10684\",\"type\":\"BasicTicker\"},{\"attributes\":{\"formatter\":{\"id\":\"11021\",\"type\":\"BasicTickFormatter\"},\"plot\":{\"id\":\"10668\",\"subtype\":\"Figure\",\"type\":\"Plot\"},\"ticker\":{\"id\":\"10679\",\"type\":\"BasicTicker\"}},\"id\":\"10678\",\"type\":\"LinearAxis\"},{\"attributes\":{\"overlay\":{\"id\":\"10696\",\"type\":\"BoxAnnotation\"}},\"id\":\"10690\",\"type\":\"BoxZoomTool\"},{\"attributes\":{\"bottom_units\":\"screen\",\"fill_alpha\":{\"value\":0.5},\"fill_color\":{\"value\":\"lightgrey\"},\"left_units\":\"screen\",\"level\":\"overlay\",\"line_alpha\":{\"value\":1.0},\"line_color\":{\"value\":\"black\"},\"line_dash\":[4,4],\"line_width\":{\"value\":2},\"plot\":null,\"render_mode\":\"css\",\"right_units\":\"screen\",\"top_units\":\"screen\"},\"id\":\"10696\",\"type\":\"BoxAnnotation\"},{\"attributes\":{\"callback\":null},\"id\":\"10670\",\"type\":\"DataRange1d\"},{\"attributes\":{},\"id\":\"10679\",\"type\":\"BasicTicker\"},{\"attributes\":{\"plot\":{\"id\":\"10668\",\"subtype\":\"Figure\",\"type\":\"Plot\"},\"ticker\":{\"id\":\"10679\",\"type\":\"BasicTicker\"}},\"id\":\"10682\",\"type\":\"Grid\"},{\"attributes\":{\"formatter\":{\"id\":\"11023\",\"type\":\"BasicTickFormatter\"},\"plot\":{\"id\":\"10668\",\"subtype\":\"Figure\",\"type\":\"Plot\"},\"ticker\":{\"id\":\"10684\",\"type\":\"BasicTicker\"}},\"id\":\"10683\",\"type\":\"LinearAxis\"}],\"root_ids\":[\"10668\"]},\"title\":\"Bokeh Application\",\"version\":\"1.0.2\"}};\n",
       "  var render_items = [{\"docid\":\"5f7c60a6-efb5-4f56-833e-7102a6dccab4\",\"roots\":{\"10668\":\"d2f635ab-139b-4536-ac8d-54439e505c35\"}}];\n",
       "  root.Bokeh.embed.embed_items_notebook(docs_json, render_items);\n",
       "\n",
       "  }\n",
       "  if (root.Bokeh !== undefined) {\n",
       "    embed_document(root);\n",
       "  } else {\n",
       "    var attempts = 0;\n",
       "    var timer = setInterval(function(root) {\n",
       "      if (root.Bokeh !== undefined) {\n",
       "        embed_document(root);\n",
       "        clearInterval(timer);\n",
       "      }\n",
       "      attempts++;\n",
       "      if (attempts > 100) {\n",
       "        console.log(\"Bokeh: ERROR: Unable to run BokehJS code because BokehJS library is missing\");\n",
       "        clearInterval(timer);\n",
       "      }\n",
       "    }, 10, root)\n",
       "  }\n",
       "})(window);"
      ],
      "application/vnd.bokehjs_exec.v0+json": ""
     },
     "metadata": {
      "application/vnd.bokehjs_exec.v0+json": {
       "id": "10668"
      }
     },
     "output_type": "display_data"
    }
   ],
   "source": [
    "plota_histograma(y_pred)"
   ]
  },
  {
   "cell_type": "code",
   "execution_count": 263,
   "metadata": {
    "scrolled": false
   },
   "outputs": [
    {
     "data": {
      "text/html": [
       "\n",
       "\n",
       "\n",
       "\n",
       "\n",
       "\n",
       "  <div class=\"bk-root\" id=\"c966aa7e-3f5e-4a2c-95ba-1029a7b171bd\"></div>\n"
      ]
     },
     "metadata": {},
     "output_type": "display_data"
    },
    {
     "data": {
      "application/javascript": [
       "(function(root) {\n",
       "  function embed_document(root) {\n",
       "    \n",
       "  var docs_json = {\"6842fdde-35e9-4a36-9687-6419783725b5\":{\"roots\":{\"references\":[{\"attributes\":{\"background_fill_color\":{\"value\":\"#fafafa\"},\"below\":[{\"id\":\"11086\",\"type\":\"LinearAxis\"}],\"left\":[{\"id\":\"11091\",\"type\":\"LinearAxis\"}],\"renderers\":[{\"id\":\"11086\",\"type\":\"LinearAxis\"},{\"id\":\"11090\",\"type\":\"Grid\"},{\"id\":\"11091\",\"type\":\"LinearAxis\"},{\"id\":\"11095\",\"type\":\"Grid\"},{\"id\":\"11104\",\"type\":\"BoxAnnotation\"},{\"id\":\"11114\",\"type\":\"GlyphRenderer\"}],\"title\":{\"id\":\"11075\",\"type\":\"Title\"},\"toolbar\":{\"id\":\"11102\",\"type\":\"Toolbar\"},\"x_range\":{\"id\":\"11078\",\"type\":\"DataRange1d\"},\"x_scale\":{\"id\":\"11082\",\"type\":\"LinearScale\"},\"y_range\":{\"id\":\"11080\",\"type\":\"DataRange1d\"},\"y_scale\":{\"id\":\"11084\",\"type\":\"LinearScale\"}},\"id\":\"11076\",\"subtype\":\"Figure\",\"type\":\"Plot\"},{\"attributes\":{\"plot\":{\"id\":\"11076\",\"subtype\":\"Figure\",\"type\":\"Plot\"},\"ticker\":{\"id\":\"11087\",\"type\":\"BasicTicker\"}},\"id\":\"11090\",\"type\":\"Grid\"},{\"attributes\":{},\"id\":\"11437\",\"type\":\"BasicTickFormatter\"},{\"attributes\":{},\"id\":\"11439\",\"type\":\"BasicTickFormatter\"},{\"attributes\":{\"bottom_units\":\"screen\",\"fill_alpha\":{\"value\":0.5},\"fill_color\":{\"value\":\"lightgrey\"},\"left_units\":\"screen\",\"level\":\"overlay\",\"line_alpha\":{\"value\":1.0},\"line_color\":{\"value\":\"black\"},\"line_dash\":[4,4],\"line_width\":{\"value\":2},\"plot\":null,\"render_mode\":\"css\",\"right_units\":\"screen\",\"top_units\":\"screen\"},\"id\":\"11104\",\"type\":\"BoxAnnotation\"},{\"attributes\":{},\"id\":\"11097\",\"type\":\"WheelZoomTool\"},{\"attributes\":{},\"id\":\"11082\",\"type\":\"LinearScale\"},{\"attributes\":{},\"id\":\"11084\",\"type\":\"LinearScale\"},{\"attributes\":{\"formatter\":{\"id\":\"11437\",\"type\":\"BasicTickFormatter\"},\"plot\":{\"id\":\"11076\",\"subtype\":\"Figure\",\"type\":\"Plot\"},\"ticker\":{\"id\":\"11087\",\"type\":\"BasicTicker\"}},\"id\":\"11086\",\"type\":\"LinearAxis\"},{\"attributes\":{},\"id\":\"11096\",\"type\":\"PanTool\"},{\"attributes\":{},\"id\":\"11092\",\"type\":\"BasicTicker\"},{\"attributes\":{},\"id\":\"11441\",\"type\":\"Selection\"},{\"attributes\":{\"active_drag\":\"auto\",\"active_inspect\":\"auto\",\"active_multi\":null,\"active_scroll\":\"auto\",\"active_tap\":\"auto\",\"tools\":[{\"id\":\"11096\",\"type\":\"PanTool\"},{\"id\":\"11097\",\"type\":\"WheelZoomTool\"},{\"id\":\"11098\",\"type\":\"BoxZoomTool\"},{\"id\":\"11099\",\"type\":\"SaveTool\"},{\"id\":\"11100\",\"type\":\"ResetTool\"},{\"id\":\"11101\",\"type\":\"HelpTool\"}]},\"id\":\"11102\",\"type\":\"Toolbar\"},{\"attributes\":{\"data_source\":{\"id\":\"11111\",\"type\":\"ColumnDataSource\"},\"glyph\":{\"id\":\"11112\",\"type\":\"Quad\"},\"hover_glyph\":null,\"muted_glyph\":null,\"nonselection_glyph\":{\"id\":\"11113\",\"type\":\"Quad\"},\"selection_glyph\":null,\"view\":{\"id\":\"11115\",\"type\":\"CDSView\"}},\"id\":\"11114\",\"type\":\"GlyphRenderer\"},{\"attributes\":{\"formatter\":{\"id\":\"11439\",\"type\":\"BasicTickFormatter\"},\"plot\":{\"id\":\"11076\",\"subtype\":\"Figure\",\"type\":\"Plot\"},\"ticker\":{\"id\":\"11092\",\"type\":\"BasicTicker\"}},\"id\":\"11091\",\"type\":\"LinearAxis\"},{\"attributes\":{},\"id\":\"11101\",\"type\":\"HelpTool\"},{\"attributes\":{\"callback\":null},\"id\":\"11080\",\"type\":\"DataRange1d\"},{\"attributes\":{},\"id\":\"11100\",\"type\":\"ResetTool\"},{\"attributes\":{\"bottom\":{\"value\":0},\"fill_alpha\":{\"value\":0.5},\"fill_color\":{\"value\":\"navy\"},\"left\":{\"field\":\"left\"},\"line_alpha\":{\"value\":0.5},\"line_color\":{\"value\":\"white\"},\"right\":{\"field\":\"right\"},\"top\":{\"field\":\"top\"}},\"id\":\"11112\",\"type\":\"Quad\"},{\"attributes\":{\"bottom\":{\"value\":0},\"fill_alpha\":{\"value\":0.1},\"fill_color\":{\"value\":\"#1f77b4\"},\"left\":{\"field\":\"left\"},\"line_alpha\":{\"value\":0.1},\"line_color\":{\"value\":\"#1f77b4\"},\"right\":{\"field\":\"right\"},\"top\":{\"field\":\"top\"}},\"id\":\"11113\",\"type\":\"Quad\"},{\"attributes\":{},\"id\":\"11087\",\"type\":\"BasicTicker\"},{\"attributes\":{\"callback\":null},\"id\":\"11078\",\"type\":\"DataRange1d\"},{\"attributes\":{\"source\":{\"id\":\"11111\",\"type\":\"ColumnDataSource\"}},\"id\":\"11115\",\"type\":\"CDSView\"},{\"attributes\":{\"overlay\":{\"id\":\"11104\",\"type\":\"BoxAnnotation\"}},\"id\":\"11098\",\"type\":\"BoxZoomTool\"},{\"attributes\":{\"dimension\":1,\"plot\":{\"id\":\"11076\",\"subtype\":\"Figure\",\"type\":\"Plot\"},\"ticker\":{\"id\":\"11092\",\"type\":\"BasicTicker\"}},\"id\":\"11095\",\"type\":\"Grid\"},{\"attributes\":{\"plot\":null,\"text\":\"Histograma\"},\"id\":\"11075\",\"type\":\"Title\"},{\"attributes\":{},\"id\":\"11440\",\"type\":\"UnionRenderers\"},{\"attributes\":{\"callback\":null,\"data\":{\"left\":{\"__ndarray__\":\"AAAAAAAAAACamZmZmZnxP5qZmZmZmQFAZ2ZmZmZmCkCamZmZmZkRQAAAAAAAABZAZ2ZmZmZmGkDOzMzMzMweQJqZmZmZmSFAzczMzMzMI0AAAAAAAAAmQDQzMzMzMyhAZ2ZmZmZmKkCamZmZmZksQM7MzMzMzC5AAAAAAACAMECamZmZmZkxQDQzMzMzszJAzczMzMzMM0BnZmZmZuY0QA==\",\"dtype\":\"float64\",\"shape\":[20]},\"right\":{\"__ndarray__\":\"mpmZmZmZ8T+amZmZmZkBQGdmZmZmZgpAmpmZmZmZEUAAAAAAAAAWQGdmZmZmZhpAzszMzMzMHkCamZmZmZkhQM3MzMzMzCNAAAAAAAAAJkA0MzMzMzMoQGdmZmZmZipAmpmZmZmZLEDOzMzMzMwuQAAAAAAAgDBAmpmZmZmZMUA0MzMzM7MyQM3MzMzMzDNAZ2ZmZmbmNEAAAAAAAAA2QA==\",\"dtype\":\"float64\",\"shape\":[20]},\"top\":{\"__ndarray__\":\"c1wIhdL56z8HEJVnYU2FPwcQlWdhTYU/BxCVZ2FNZT8JEJVnYU1lP2qm3VK0CnE/n3lMfA6QWT9upt1StApRPwAAAAAAAAAAbqbdUrQKQT9npt1StApBPwAAAAAAAAAAAAAAAAAAAAAAAAAAAAAAAAAAAAAAAAAAAAAAAAAAAABnpt1StApBPwAAAAAAAAAAAAAAAAAAAAB2pt1StApBPw==\",\"dtype\":\"float64\",\"shape\":[20]}},\"selected\":{\"id\":\"11441\",\"type\":\"Selection\"},\"selection_policy\":{\"id\":\"11440\",\"type\":\"UnionRenderers\"}},\"id\":\"11111\",\"type\":\"ColumnDataSource\"},{\"attributes\":{},\"id\":\"11099\",\"type\":\"SaveTool\"}],\"root_ids\":[\"11076\"]},\"title\":\"Bokeh Application\",\"version\":\"1.0.2\"}};\n",
       "  var render_items = [{\"docid\":\"6842fdde-35e9-4a36-9687-6419783725b5\",\"roots\":{\"11076\":\"c966aa7e-3f5e-4a2c-95ba-1029a7b171bd\"}}];\n",
       "  root.Bokeh.embed.embed_items_notebook(docs_json, render_items);\n",
       "\n",
       "  }\n",
       "  if (root.Bokeh !== undefined) {\n",
       "    embed_document(root);\n",
       "  } else {\n",
       "    var attempts = 0;\n",
       "    var timer = setInterval(function(root) {\n",
       "      if (root.Bokeh !== undefined) {\n",
       "        embed_document(root);\n",
       "        clearInterval(timer);\n",
       "      }\n",
       "      attempts++;\n",
       "      if (attempts > 100) {\n",
       "        console.log(\"Bokeh: ERROR: Unable to run BokehJS code because BokehJS library is missing\");\n",
       "        clearInterval(timer);\n",
       "      }\n",
       "    }, 10, root)\n",
       "  }\n",
       "})(window);"
      ],
      "application/vnd.bokehjs_exec.v0+json": ""
     },
     "metadata": {
      "application/vnd.bokehjs_exec.v0+json": {
       "id": "11076"
      }
     },
     "output_type": "display_data"
    }
   ],
   "source": [
    "plota_histograma(y_test)"
   ]
  },
  {
   "cell_type": "code",
   "execution_count": 264,
   "metadata": {},
   "outputs": [
    {
     "data": {
      "text/html": [
       "\n",
       "\n",
       "\n",
       "\n",
       "\n",
       "\n",
       "  <div class=\"bk-root\" id=\"e20456cb-d216-4ae4-89af-de004d374f98\"></div>\n"
      ]
     },
     "metadata": {},
     "output_type": "display_data"
    },
    {
     "data": {
      "application/javascript": [
       "(function(root) {\n",
       "  function embed_document(root) {\n",
       "    \n",
       "  var docs_json = {\"28d0741d-39cd-487b-b86f-ed1973f80809\":{\"roots\":{\"references\":[{\"attributes\":{\"background_fill_color\":{\"value\":\"#fafafa\"},\"below\":[{\"id\":\"11502\",\"type\":\"LinearAxis\"}],\"left\":[{\"id\":\"11507\",\"type\":\"LinearAxis\"}],\"renderers\":[{\"id\":\"11502\",\"type\":\"LinearAxis\"},{\"id\":\"11506\",\"type\":\"Grid\"},{\"id\":\"11507\",\"type\":\"LinearAxis\"},{\"id\":\"11511\",\"type\":\"Grid\"},{\"id\":\"11520\",\"type\":\"BoxAnnotation\"},{\"id\":\"11530\",\"type\":\"GlyphRenderer\"}],\"title\":{\"id\":\"11491\",\"type\":\"Title\"},\"toolbar\":{\"id\":\"11518\",\"type\":\"Toolbar\"},\"x_range\":{\"id\":\"11494\",\"type\":\"DataRange1d\"},\"x_scale\":{\"id\":\"11498\",\"type\":\"LinearScale\"},\"y_range\":{\"id\":\"11496\",\"type\":\"DataRange1d\"},\"y_scale\":{\"id\":\"11500\",\"type\":\"LinearScale\"}},\"id\":\"11492\",\"subtype\":\"Figure\",\"type\":\"Plot\"},{\"attributes\":{\"dimension\":1,\"plot\":{\"id\":\"11492\",\"subtype\":\"Figure\",\"type\":\"Plot\"},\"ticker\":{\"id\":\"11508\",\"type\":\"BasicTicker\"}},\"id\":\"11511\",\"type\":\"Grid\"},{\"attributes\":{\"bottom\":{\"value\":0},\"fill_alpha\":{\"value\":0.1},\"fill_color\":{\"value\":\"#1f77b4\"},\"left\":{\"field\":\"left\"},\"line_alpha\":{\"value\":0.1},\"line_color\":{\"value\":\"#1f77b4\"},\"right\":{\"field\":\"right\"},\"top\":{\"field\":\"top\"}},\"id\":\"11529\",\"type\":\"Quad\"},{\"attributes\":{},\"id\":\"11864\",\"type\":\"UnionRenderers\"},{\"attributes\":{\"data_source\":{\"id\":\"11527\",\"type\":\"ColumnDataSource\"},\"glyph\":{\"id\":\"11528\",\"type\":\"Quad\"},\"hover_glyph\":null,\"muted_glyph\":null,\"nonselection_glyph\":{\"id\":\"11529\",\"type\":\"Quad\"},\"selection_glyph\":null,\"view\":{\"id\":\"11531\",\"type\":\"CDSView\"}},\"id\":\"11530\",\"type\":\"GlyphRenderer\"},{\"attributes\":{\"formatter\":{\"id\":\"11861\",\"type\":\"BasicTickFormatter\"},\"plot\":{\"id\":\"11492\",\"subtype\":\"Figure\",\"type\":\"Plot\"},\"ticker\":{\"id\":\"11503\",\"type\":\"BasicTicker\"}},\"id\":\"11502\",\"type\":\"LinearAxis\"},{\"attributes\":{},\"id\":\"11512\",\"type\":\"PanTool\"},{\"attributes\":{\"bottom\":{\"value\":0},\"fill_alpha\":{\"value\":0.5},\"fill_color\":{\"value\":\"navy\"},\"left\":{\"field\":\"left\"},\"line_alpha\":{\"value\":0.5},\"line_color\":{\"value\":\"white\"},\"right\":{\"field\":\"right\"},\"top\":{\"field\":\"top\"}},\"id\":\"11528\",\"type\":\"Quad\"},{\"attributes\":{},\"id\":\"11515\",\"type\":\"SaveTool\"},{\"attributes\":{\"plot\":{\"id\":\"11492\",\"subtype\":\"Figure\",\"type\":\"Plot\"},\"ticker\":{\"id\":\"11503\",\"type\":\"BasicTicker\"}},\"id\":\"11506\",\"type\":\"Grid\"},{\"attributes\":{\"callback\":null},\"id\":\"11494\",\"type\":\"DataRange1d\"},{\"attributes\":{},\"id\":\"11517\",\"type\":\"HelpTool\"},{\"attributes\":{},\"id\":\"11516\",\"type\":\"ResetTool\"},{\"attributes\":{\"callback\":null},\"id\":\"11496\",\"type\":\"DataRange1d\"},{\"attributes\":{},\"id\":\"11503\",\"type\":\"BasicTicker\"},{\"attributes\":{},\"id\":\"11508\",\"type\":\"BasicTicker\"},{\"attributes\":{\"overlay\":{\"id\":\"11520\",\"type\":\"BoxAnnotation\"}},\"id\":\"11514\",\"type\":\"BoxZoomTool\"},{\"attributes\":{},\"id\":\"11861\",\"type\":\"BasicTickFormatter\"},{\"attributes\":{\"source\":{\"id\":\"11527\",\"type\":\"ColumnDataSource\"}},\"id\":\"11531\",\"type\":\"CDSView\"},{\"attributes\":{},\"id\":\"11513\",\"type\":\"WheelZoomTool\"},{\"attributes\":{\"callback\":null,\"data\":{\"left\":{\"__ndarray__\":\"g8DKoUX2NcALJCh+jKkzwJSHhVrTXDHAONbFbTQgLsBJnYAmwoYpwFpkO99P7STAaiv2l91TIMD45GGh1nQXwDDmriXkgwzA4AQ0ETY89L+QwvUoXI/wPwjFjzF3rQpAZFRSJ6CJFkBAxty1hLwfQA6cM6K0dyRA/tR46SYRKUDuDb4wmaotQG+jAbwFIjFA5z+k375uM0Bd3EYDeLs1QA==\",\"dtype\":\"float64\",\"shape\":[20]},\"right\":{\"__ndarray__\":\"CyQofoypM8CUh4Va01wxwDjWxW00IC7ASZ2AJsKGKcBaZDvfT+0kwGor9pfdUyDA+ORhodZ0F8Aw5q4l5IMMwOAENBE2PPS/kML1KFyP8D8IxY8xd60KQGRUUiegiRZAQMbctYS8H0AOnDOitHckQP7UeOkmESlA7g2+MJmqLUBvowG8BSIxQOc/pN++bjNAXdxGA3i7NUDUeOkmMQg4QA==\",\"dtype\":\"float64\",\"shape\":[20]},\"top\":{\"__ndarray__\":\"22lI45BNMD8AAAAAAAAAANtpSOOQTTA/AAAAAAAAAADeaUjjkE0wP9tpSOOQTTA/4mlI45BNUD8/ub6NvYdsP2UlIWMyeXk/g4+RN7bK2T/baUjjkE2QPz+5vo29h1w/057sVFl0SD8AAAAAAAAAANtpSOOQTVA/22lI45BNQD8AAAAAAAAAAAAAAAAAAAAAAAAAAAAAAADiaUjjkE0wPw==\",\"dtype\":\"float64\",\"shape\":[20]}},\"selected\":{\"id\":\"11865\",\"type\":\"Selection\"},\"selection_policy\":{\"id\":\"11864\",\"type\":\"UnionRenderers\"}},\"id\":\"11527\",\"type\":\"ColumnDataSource\"},{\"attributes\":{\"active_drag\":\"auto\",\"active_inspect\":\"auto\",\"active_multi\":null,\"active_scroll\":\"auto\",\"active_tap\":\"auto\",\"tools\":[{\"id\":\"11512\",\"type\":\"PanTool\"},{\"id\":\"11513\",\"type\":\"WheelZoomTool\"},{\"id\":\"11514\",\"type\":\"BoxZoomTool\"},{\"id\":\"11515\",\"type\":\"SaveTool\"},{\"id\":\"11516\",\"type\":\"ResetTool\"},{\"id\":\"11517\",\"type\":\"HelpTool\"}]},\"id\":\"11518\",\"type\":\"Toolbar\"},{\"attributes\":{},\"id\":\"11498\",\"type\":\"LinearScale\"},{\"attributes\":{},\"id\":\"11500\",\"type\":\"LinearScale\"},{\"attributes\":{\"bottom_units\":\"screen\",\"fill_alpha\":{\"value\":0.5},\"fill_color\":{\"value\":\"lightgrey\"},\"left_units\":\"screen\",\"level\":\"overlay\",\"line_alpha\":{\"value\":1.0},\"line_color\":{\"value\":\"black\"},\"line_dash\":[4,4],\"line_width\":{\"value\":2},\"plot\":null,\"render_mode\":\"css\",\"right_units\":\"screen\",\"top_units\":\"screen\"},\"id\":\"11520\",\"type\":\"BoxAnnotation\"},{\"attributes\":{\"plot\":null,\"text\":\"Histograma\"},\"id\":\"11491\",\"type\":\"Title\"},{\"attributes\":{},\"id\":\"11863\",\"type\":\"BasicTickFormatter\"},{\"attributes\":{},\"id\":\"11865\",\"type\":\"Selection\"},{\"attributes\":{\"formatter\":{\"id\":\"11863\",\"type\":\"BasicTickFormatter\"},\"plot\":{\"id\":\"11492\",\"subtype\":\"Figure\",\"type\":\"Plot\"},\"ticker\":{\"id\":\"11508\",\"type\":\"BasicTicker\"}},\"id\":\"11507\",\"type\":\"LinearAxis\"}],\"root_ids\":[\"11492\"]},\"title\":\"Bokeh Application\",\"version\":\"1.0.2\"}};\n",
       "  var render_items = [{\"docid\":\"28d0741d-39cd-487b-b86f-ed1973f80809\",\"roots\":{\"11492\":\"e20456cb-d216-4ae4-89af-de004d374f98\"}}];\n",
       "  root.Bokeh.embed.embed_items_notebook(docs_json, render_items);\n",
       "\n",
       "  }\n",
       "  if (root.Bokeh !== undefined) {\n",
       "    embed_document(root);\n",
       "  } else {\n",
       "    var attempts = 0;\n",
       "    var timer = setInterval(function(root) {\n",
       "      if (root.Bokeh !== undefined) {\n",
       "        embed_document(root);\n",
       "        clearInterval(timer);\n",
       "      }\n",
       "      attempts++;\n",
       "      if (attempts > 100) {\n",
       "        console.log(\"Bokeh: ERROR: Unable to run BokehJS code because BokehJS library is missing\");\n",
       "        clearInterval(timer);\n",
       "      }\n",
       "    }, 10, root)\n",
       "  }\n",
       "})(window);"
      ],
      "application/vnd.bokehjs_exec.v0+json": ""
     },
     "metadata": {
      "application/vnd.bokehjs_exec.v0+json": {
       "id": "11492"
      }
     },
     "output_type": "display_data"
    }
   ],
   "source": [
    "plota_histograma((y_pred - y_test))"
   ]
  },
  {
   "cell_type": "code",
   "execution_count": 175,
   "metadata": {},
   "outputs": [],
   "source": [
    "t = [] #hora de chuva\n",
    "t1 = [] #uma hora anterior\n",
    "t2 = [] #duas horas anteriores\n",
    "t3 = [] #tres horas anteriores\n",
    "t4 = [] #quatro horas anteriores\n",
    "t5 = [] #cinco horas anteriores\n",
    "t6 = [] #seis horas anteriores\n",
    "t7 = [] #sete horas anteriores\n",
    "t8 = [] #oito horas anteriores\n",
    "t9 = [] #nove horas anteriores\n",
    "t10 = [] #dez horas anteriores\n",
    "t11 = [] #onze horas anteriores\n",
    "t12 = [] #doze horas anteriores\n",
    "\n",
    "\n",
    "for e in range(len(D)):\n",
    "    \n",
    "    if D['precipitacao'][e]>0:\n",
    "        t.append(D.iloc[e])\n",
    "        t1.append(D.iloc[e-1])\n",
    "        t2.append(D.iloc[e-2])\n",
    "        t3.append(D.iloc[e-3])\n",
    "        t4.append(D.iloc[e-4])\n",
    "        t5.append(D.iloc[e-5]) \n",
    "        t6.append(D.iloc[e-6]) \n",
    "        t7.append(D.iloc[e-7]) \n",
    "        t8.append(D.iloc[e-8]) \n",
    "        t9.append(D.iloc[e-9]) \n",
    "        t10.append(D.iloc[e-10])\n",
    "        t11.append(D.iloc[e-11]) \n",
    "        t12.append(D.iloc[e-12])       \n",
    "\n",
    "# Guardando as listas como DataFrames\n",
    "T = pd.DataFrame(t)\n",
    "T1 = pd.DataFrame(t1)\n",
    "T2 = pd.DataFrame(t2)\n",
    "T3 = pd.DataFrame(t3)\n",
    "T4 = pd.DataFrame(t4)\n",
    "T5 = pd.DataFrame(t5)\n",
    "T6 = pd.DataFrame(t6)\n",
    "T7 = pd.DataFrame(t7)\n",
    "T8 = pd.DataFrame(t8)\n",
    "T9 = pd.DataFrame(t9)\n",
    "T10 = pd.DataFrame(t10)\n",
    "T11 = pd.DataFrame(t11)\n",
    "T12 = pd.DataFrame(t12)\n",
    "\n",
    "# Renomeando as colunas de todos estes DataFrames -  0 Horas\n",
    "T.rename(columns={'temp_inst':'temperatura_t'}, inplace=True)\n",
    "T.rename(columns={'pressao':'pressao_t'}, inplace=True)\n",
    "T.rename(columns={'umid_inst':'umidade_t'}, inplace=True)\n",
    "T.rename(columns={'precipitacao':'precipitacao_t'}, inplace=True)\n",
    "T.rename(columns={'vento_vel':'vento_t'}, inplace=True)\n",
    "T[['temperatura_t', 'pressao_t', 'umidade_t','precipitacao_t','vento_t']].astype(float);\n",
    "\n",
    "# Renomeando as colunas de todos estes DataFrames -  1 Hora atrás\n",
    "T1.rename(columns={'temp_inst':'temperatura_t1'}, inplace=True)\n",
    "T1.rename(columns={'pressao':'pressao_t1'}, inplace=True)\n",
    "T1.rename(columns={'umid_inst':'umidade_t1'}, inplace=True)\n",
    "T1.rename(columns={'precipitacao':'precipitacao_t1'}, inplace=True)\n",
    "T1.rename(columns={'vento_vel':'vento_t1'}, inplace=True)\n",
    "T1[['temperatura_t1', 'pressao_t1', 'umidade_t1','precipitacao_t1','vento_t1']].astype(float);\n",
    "\n",
    "# Renomeando as colunas de todos estes DataFrames -  2 Horas atrás\n",
    "T2.rename(columns={'temp_inst':'temperatura_t2'}, inplace=True)\n",
    "T2.rename(columns={'pressao':'pressao_t2'}, inplace=True)\n",
    "T2.rename(columns={'umid_inst':'umidade_t2'}, inplace=True)\n",
    "T2.rename(columns={'precipitacao':'precipitacao_t2'}, inplace=True)\n",
    "T2.rename(columns={'vento_vel':'vento_t2'}, inplace=True)\n",
    "T2[['temperatura_t2', 'pressao_t2', 'umidade_t2','precipitacao_t2','vento_t2']].astype(float);\n",
    "\n",
    "# Renomeando as colunas de todos estes DataFrames -  3 Horas atrás\n",
    "T3.rename(columns={'temp_inst':'temperatura_t3'}, inplace=True)\n",
    "T3.rename(columns={'pressao':'pressao_t3'}, inplace=True)\n",
    "T3.rename(columns={'umid_inst':'umidade_t3'}, inplace=True)\n",
    "T3.rename(columns={'precipitacao':'precipitacao_t3'}, inplace=True)\n",
    "T3.rename(columns={'vento_vel':'vento_t3'}, inplace=True)\n",
    "T3[['temperatura_t3', 'pressao_t3', 'umidade_t3','precipitacao_t3','vento_t3']].astype(float);\n",
    "\n",
    "# Renomeando as colunas de todos estes DataFrames -  4 Horas atrás\n",
    "T4.rename(columns={'temp_inst':'temperatura_t4'}, inplace=True)\n",
    "T4.rename(columns={'pressao':'pressao_t4'}, inplace=True)\n",
    "T4.rename(columns={'umid_inst':'umidade_t4'}, inplace=True)\n",
    "T4.rename(columns={'precipitacao':'precipitacao_t4'}, inplace=True)\n",
    "T4.rename(columns={'vento_vel':'vento_t4'}, inplace=True)\n",
    "T4[['temperatura_t4', 'pressao_t4', 'umidade_t4','precipitacao_t4','vento_t4']].astype(float);\n",
    "\n",
    "# Renomeando as colunas de todos estes DataFrames -  5 Horas\n",
    "T5.rename(columns={'temp_inst':'temperatura_t5'}, inplace=True)\n",
    "T5.rename(columns={'pressao':'pressao_t5'}, inplace=True)\n",
    "T5.rename(columns={'umid_inst':'umidade_t5'}, inplace=True)\n",
    "T5.rename(columns={'precipitacao':'precipitacao_t5'}, inplace=True)\n",
    "T5.rename(columns={'vento_vel':'vento_t5'}, inplace=True)\n",
    "T5[['temperatura_t5', 'pressao_t5', 'umidade_t5','precipitacao_t5','vento_t5']].astype(float);\n",
    "\n",
    "# Renomeando as colunas de todos estes DataFrames -  6 Hora atrás\n",
    "T6.rename(columns={'temp_inst':'temperatura_t6'}, inplace=True)\n",
    "T6.rename(columns={'pressao':'pressao_t6'}, inplace=True)\n",
    "T6.rename(columns={'umid_inst':'umidade_t6'}, inplace=True)\n",
    "T6.rename(columns={'precipitacao':'precipitacao_t6'}, inplace=True)\n",
    "T6.rename(columns={'vento_vel':'vento_t6'}, inplace=True)\n",
    "T6[['temperatura_t6', 'pressao_t6', 'umidade_t6','precipitacao_t6','vento_t6']].astype(float);\n",
    "\n",
    "# Renomeando as colunas de todos estes DataFrames -  7 Horas atrás\n",
    "T7.rename(columns={'temp_inst':'temperatura_t7'}, inplace=True)\n",
    "T7.rename(columns={'pressao':'pressao_t7'}, inplace=True)\n",
    "T7.rename(columns={'umid_inst':'umidade_t7'}, inplace=True)\n",
    "T7.rename(columns={'precipitacao':'precipitacao_t7'}, inplace=True)\n",
    "T7.rename(columns={'vento_vel':'vento_t7'}, inplace=True)\n",
    "T7[['temperatura_t7', 'pressao_t7', 'umidade_t7','precipitacao_t7','vento_t7']].astype(float);\n",
    "\n",
    "# Renomeando as colunas de todos estes DataFrames -  8 Horas atrás\n",
    "T8.rename(columns={'temp_inst':'temperatura_t8'}, inplace=True)\n",
    "T8.rename(columns={'pressao':'pressao_t8'}, inplace=True)\n",
    "T8.rename(columns={'umid_inst':'umidade_t8'}, inplace=True)\n",
    "T8.rename(columns={'precipitacao':'precipitacao_t8'}, inplace=True)\n",
    "T8.rename(columns={'vento_vel':'vento_t8'}, inplace=True)\n",
    "T8[['temperatura_t8', 'pressao_t8', 'umidade_t8','precipitacao_t8','vento_t8']].astype(float);\n",
    "\n",
    "# Renomeando as colunas de todos estes DataFrames -  9 Horas atrás\n",
    "T9.rename(columns={'temp_inst':'temperatura_t9'}, inplace=True)\n",
    "T9.rename(columns={'pressao':'pressao_t9'}, inplace=True)\n",
    "T9.rename(columns={'umid_inst':'umidade_t9'}, inplace=True)\n",
    "T9.rename(columns={'precipitacao':'precipitacao_t9'}, inplace=True)\n",
    "T9.rename(columns={'vento_vel':'vento_t9'}, inplace=True)\n",
    "T9[['temperatura_t9', 'pressao_t9', 'umidade_t9','precipitacao_t9','vento_t9']].astype(float);\n",
    "\n",
    "# Renomeando as colunas de todos estes DataFrames -  10 Horas\n",
    "T10.rename(columns={'temp_inst':'temperatura_t10'}, inplace=True)\n",
    "T10.rename(columns={'pressao':'pressao_t10'}, inplace=True)\n",
    "T10.rename(columns={'umid_inst':'umidade_t10'}, inplace=True)\n",
    "T10.rename(columns={'precipitacao':'precipitacao_t10'}, inplace=True)\n",
    "T10.rename(columns={'vento_vel':'vento_t10'}, inplace=True)\n",
    "T10[['temperatura_t10', 'pressao_t10', 'umidade_t10','precipitacao_t10','vento_t10']].astype(float);\n",
    "\n",
    "# Renomeando as colunas de todos estes DataFrames -  11 Hora atrás\n",
    "T11.rename(columns={'temp_inst':'temperatura_t12'}, inplace=True)\n",
    "T11.rename(columns={'pressao':'pressao_t12'}, inplace=True)\n",
    "T11.rename(columns={'umid_inst':'umidade_t12'}, inplace=True)\n",
    "T11.rename(columns={'precipitacao':'precipitacao_t12'}, inplace=True)\n",
    "T11.rename(columns={'vento_vel':'vento_t12'}, inplace=True)\n",
    "T11[['temperatura_t12', 'pressao_t12', 'umidade_t12','precipitacao_t12','vento_t12']].astype(float);\n",
    "\n",
    "# Renomeando as colunas de todos estes DataFrames -  12 Horas atrás\n",
    "T12.rename(columns={'temp_inst':'temperatura_t12'}, inplace=True)\n",
    "T12.rename(columns={'pressao':'pressao_t12'}, inplace=True)\n",
    "T12.rename(columns={'umid_inst':'umidade_t12'}, inplace=True)\n",
    "T12.rename(columns={'precipitacao':'precipitacao_t12'}, inplace=True)\n",
    "T12.rename(columns={'vento_vel':'vento_t12'}, inplace=True)\n",
    "T12[['temperatura_t12', 'pressao_t12', 'umidade_t12','precipitacao_t12','vento_t12']].astype(float);"
   ]
  },
  {
   "cell_type": "markdown",
   "metadata": {},
   "source": [
    "## Selecionando a variação das variáveis"
   ]
  },
  {
   "cell_type": "markdown",
   "metadata": {},
   "source": [
    "É válido que se preste devida atenção à variação nas variáveis além de seus valores em sí. Um exemplo desta mudança na forma de análise explica como uma temperatura baixa no verâo, provavelmente causada por uma frente fria, geralmente acompanha chuva, enquanto temperaturas baixas no inverno não fornecem um indicativo tão convincente. Na mesma lógica, uma queda ou aumento na pressão significam muito mais que seus valores por se só."
   ]
  },
  {
   "cell_type": "code",
   "execution_count": null,
   "metadata": {},
   "outputs": [],
   "source": []
  },
  {
   "cell_type": "code",
   "execution_count": 120,
   "metadata": {},
   "outputs": [],
   "source": [
    "temp = []\n",
    "umid = []\n",
    "pres = []\n",
    "vel = []\n",
    "preci = []\n",
    "\n",
    "for e in range(len(T)):\n",
    "    \n",
    "    temp.append(abs((T['temperatura_t'][e])-(T3['temperatura_t3'][e])))\n",
    "    umid.append(abs((T['umidade_t'][e])-(T3['umidade_t3'][e])))\n",
    "    pres.append(T3['pressao_t3'][e])\n",
    "    vel.append(T3['vento_t3'][e])\n",
    "    preci.append(T['precipitacao_t'][e])    \n",
    "       \n",
    "Temp = pd.DataFrame(temp)\n",
    "Umid = pd.DataFrame(umid)\n",
    "Pres = pd.DataFrame(pres)\n",
    "Vel = pd.DataFrame(vel)\n",
    "Preci = pd.DataFrame(preci)\n",
    "\n",
    "Temp.rename(columns={0:'temperatura_t'}, inplace=True)\n",
    "Umid.rename(columns={0:'umidade_t'}, inplace=True)\n",
    "Pres.rename(columns={0:'pressao_t'}, inplace=True)\n",
    "Vel.rename(columns={0:'vento_t'}, inplace=True)\n",
    "Preci.rename(columns={0:'precipitacao_t'}, inplace=True)\n",
    "precipita = Preci['precipitacao_t'].astype(float)\n",
    "\n",
    "a = Temp.join(Umid)\n",
    "b = Vel.join(Pres)\n",
    "c = b.join(precipita)\n",
    "variacao = a.join(c)\n",
    "variacao.dropna();"
   ]
  },
  {
   "cell_type": "markdown",
   "metadata": {},
   "source": [
    "#### Correlação entre a variação das VI (variáveis independentes) e a VD (variável dependente)"
   ]
  },
  {
   "cell_type": "code",
   "execution_count": 121,
   "metadata": {},
   "outputs": [
    {
     "data": {
      "text/plain": [
       "0.2809160013982803"
      ]
     },
     "execution_count": 121,
     "metadata": {},
     "output_type": "execute_result"
    }
   ],
   "source": [
    "np.log10(variacao['precipitacao_t']).corr((variacao['umidade_t']))"
   ]
  },
  {
   "cell_type": "code",
   "execution_count": 122,
   "metadata": {},
   "outputs": [
    {
     "data": {
      "text/plain": [
       "0.3263632682418508"
      ]
     },
     "execution_count": 122,
     "metadata": {},
     "output_type": "execute_result"
    }
   ],
   "source": [
    "np.log10(variacao['precipitacao_t']).corr((variacao['temperatura_t']))"
   ]
  },
  {
   "cell_type": "code",
   "execution_count": 123,
   "metadata": {},
   "outputs": [
    {
     "data": {
      "text/plain": [
       "-0.2817090263941369"
      ]
     },
     "execution_count": 123,
     "metadata": {},
     "output_type": "execute_result"
    }
   ],
   "source": [
    "np.log10(variacao['precipitacao_t']).corr((variacao['pressao_t']))"
   ]
  },
  {
   "cell_type": "code",
   "execution_count": 124,
   "metadata": {},
   "outputs": [
    {
     "data": {
      "text/plain": [
       "0.08200292706549529"
      ]
     },
     "execution_count": 124,
     "metadata": {},
     "output_type": "execute_result"
    }
   ],
   "source": [
    "np.log10(variacao['precipitacao_t']).corr((variacao['vento_t']))"
   ]
  },
  {
   "cell_type": "markdown",
   "metadata": {},
   "source": [
    "### Análise para que se possa escolher a melhor hora a ser usada para que se faça a previsão"
   ]
  },
  {
   "cell_type": "markdown",
   "metadata": {},
   "source": [
    "Obs: o valor de t é referente ao tempo no qual os dados foram obtidos em relação ao horário de precipitação; \n",
    "\n",
    "t, t1, t2, t3, t4 representam 0, 1, 2, 3 e 4 horas atrás, respectivamente"
   ]
  },
  {
   "cell_type": "markdown",
   "metadata": {},
   "source": [
    "> Correlação entre os dados de umidade nas horas anteriores com os dados de precipitação"
   ]
  },
  {
   "cell_type": "code",
   "execution_count": 125,
   "metadata": {
    "scrolled": true
   },
   "outputs": [
    {
     "name": "stdout",
     "output_type": "stream",
     "text": [
      "Correlação entre precipitação e umidade na hora exata: 0.2526373920276481\n"
     ]
    }
   ],
   "source": [
    "print('Correlação entre precipitação e umidade na hora exata:',np.log10(T['precipitacao_t']).corr(T['umidade_t']))"
   ]
  },
  {
   "cell_type": "code",
   "execution_count": 126,
   "metadata": {},
   "outputs": [
    {
     "name": "stdout",
     "output_type": "stream",
     "text": [
      "Correlação entre precipitação e umidade uma hora antes: 0.18268793041976705\n"
     ]
    }
   ],
   "source": [
    "print('Correlação entre precipitação e umidade uma hora antes:',np.log10(T['precipitacao_t']).corr(T1['umidade_t1']))"
   ]
  },
  {
   "cell_type": "code",
   "execution_count": 127,
   "metadata": {
    "scrolled": true
   },
   "outputs": [
    {
     "name": "stdout",
     "output_type": "stream",
     "text": [
      "Correlação entre precipitação e umidade duas horas antes: 0.24269089781532044\n"
     ]
    }
   ],
   "source": [
    "print('Correlação entre precipitação e umidade duas horas antes:',np.log10(T['precipitacao_t']).corr(T2['umidade_t2']))"
   ]
  },
  {
   "cell_type": "code",
   "execution_count": 128,
   "metadata": {},
   "outputs": [
    {
     "name": "stdout",
     "output_type": "stream",
     "text": [
      "Correlação entre precipitação e umidade três horas antes: 0.26341116133309256\n"
     ]
    }
   ],
   "source": [
    "print('Correlação entre precipitação e umidade três horas antes:',np.log10(T['precipitacao_t']).corr(T3['umidade_t3']))"
   ]
  },
  {
   "cell_type": "code",
   "execution_count": 129,
   "metadata": {
    "scrolled": true
   },
   "outputs": [
    {
     "name": "stdout",
     "output_type": "stream",
     "text": [
      "Correlação entre precipitação e umidade quatro horas antes: 0.30615306537998654\n"
     ]
    }
   ],
   "source": [
    "print('Correlação entre precipitação e umidade quatro horas antes:',np.log10(T['precipitacao_t']).corr(T4['umidade_t4']))"
   ]
  },
  {
   "cell_type": "markdown",
   "metadata": {},
   "source": [
    "> Correlação entre os dados de temperatura nas horas anteriores com os dados de precipitação"
   ]
  },
  {
   "cell_type": "code",
   "execution_count": 130,
   "metadata": {
    "scrolled": true
   },
   "outputs": [
    {
     "name": "stdout",
     "output_type": "stream",
     "text": [
      "Correlação entre precipitação e temperatura na hora exata: 0.13454309530266464\n"
     ]
    }
   ],
   "source": [
    "print('Correlação entre precipitação e temperatura na hora exata:',np.log10(T['precipitacao_t']).corr(T['temperatura_t']))"
   ]
  },
  {
   "cell_type": "code",
   "execution_count": 131,
   "metadata": {},
   "outputs": [
    {
     "name": "stdout",
     "output_type": "stream",
     "text": [
      "Correlação entre precipitação e temperatura uma hora antes: 0.17128733959544887\n"
     ]
    }
   ],
   "source": [
    "print('Correlação entre precipitação e temperatura uma hora antes:',np.log10(T['precipitacao_t']).corr(T1['temperatura_t1']))"
   ]
  },
  {
   "cell_type": "code",
   "execution_count": 132,
   "metadata": {},
   "outputs": [
    {
     "name": "stdout",
     "output_type": "stream",
     "text": [
      "Correlação entre precipitação e temperatura duas horas antes: 0.11610086031557657\n"
     ]
    }
   ],
   "source": [
    "print('Correlação entre precipitação e temperatura duas horas antes:',np.log10(T['precipitacao_t']).corr(T2['temperatura_t2']))"
   ]
  },
  {
   "cell_type": "code",
   "execution_count": 133,
   "metadata": {
    "scrolled": true
   },
   "outputs": [
    {
     "name": "stdout",
     "output_type": "stream",
     "text": [
      "Correlação entre precipitação e temperatura três horas antes: 0.10136640361042999\n"
     ]
    }
   ],
   "source": [
    "print('Correlação entre precipitação e temperatura três horas antes:',np.log10(T['precipitacao_t']).corr(T3['temperatura_t3']))"
   ]
  },
  {
   "cell_type": "code",
   "execution_count": 134,
   "metadata": {},
   "outputs": [
    {
     "name": "stdout",
     "output_type": "stream",
     "text": [
      "Correlação entre precipitação e temperatura quatro horas antes: 0.06663318777891832\n"
     ]
    }
   ],
   "source": [
    "print('Correlação entre precipitação e temperatura quatro horas antes:',np.log10(T['precipitacao_t']).corr(T4['temperatura_t4']))"
   ]
  },
  {
   "cell_type": "markdown",
   "metadata": {},
   "source": [
    "> Correlação entre os dados de pressão atmosférica nas horas anteriores com os dados de precipitação"
   ]
  },
  {
   "cell_type": "code",
   "execution_count": 135,
   "metadata": {},
   "outputs": [
    {
     "name": "stdout",
     "output_type": "stream",
     "text": [
      "Correlação entre precipitação e pressão atmosférica na hora exata: -0.2602460154313453\n"
     ]
    }
   ],
   "source": [
    "print('Correlação entre precipitação e pressão atmosférica na hora exata:',np.log10(T['precipitacao_t']).corr(T['pressao_t']))"
   ]
  },
  {
   "cell_type": "code",
   "execution_count": 136,
   "metadata": {},
   "outputs": [
    {
     "name": "stdout",
     "output_type": "stream",
     "text": [
      "Correlação entre precipitação e pressão atmosférica uma hora antes: -0.23383006931550132\n"
     ]
    }
   ],
   "source": [
    "print('Correlação entre precipitação e pressão atmosférica uma hora antes:',np.log10(T['precipitacao_t']).corr(T1['pressao_t1']))"
   ]
  },
  {
   "cell_type": "code",
   "execution_count": 137,
   "metadata": {},
   "outputs": [
    {
     "name": "stdout",
     "output_type": "stream",
     "text": [
      "Correlação entre precipitação e pressão atmosférica duas horas antes: -0.20404468173838278\n"
     ]
    }
   ],
   "source": [
    "print('Correlação entre precipitação e pressão atmosférica duas horas antes:',np.log10(T['precipitacao_t']).corr(T2['pressao_t2']))"
   ]
  },
  {
   "cell_type": "code",
   "execution_count": 138,
   "metadata": {},
   "outputs": [
    {
     "name": "stdout",
     "output_type": "stream",
     "text": [
      "Correlação entre precipitação e pressão atmosférica três horas antes: -0.20052608100646716\n"
     ]
    }
   ],
   "source": [
    "print('Correlação entre precipitação e pressão atmosférica três horas antes:',np.log10(T['precipitacao_t']).corr(T3['pressao_t3']))"
   ]
  },
  {
   "cell_type": "code",
   "execution_count": 139,
   "metadata": {
    "scrolled": true
   },
   "outputs": [
    {
     "name": "stdout",
     "output_type": "stream",
     "text": [
      "Correlação entre precipitação e pressão atmosférica quatro horas antes: -0.20612734298589197\n"
     ]
    }
   ],
   "source": [
    "print('Correlação entre precipitação e pressão atmosférica quatro horas antes:',np.log10(T['precipitacao_t']).corr(T4['pressao_t4']))"
   ]
  },
  {
   "cell_type": "markdown",
   "metadata": {},
   "source": [
    "> Correlação entre os dados de velocidade do vento nas horas anteriores com os dados de precipitação"
   ]
  },
  {
   "cell_type": "code",
   "execution_count": 140,
   "metadata": {},
   "outputs": [
    {
     "name": "stdout",
     "output_type": "stream",
     "text": [
      "Correlação entre pressão e velocidade do vento na hora exata: 0.06256408232232244\n"
     ]
    }
   ],
   "source": [
    "print('Correlação entre pressão e velocidade do vento na hora exata:',np.log10((T['precipitacao_t'])).corr(T['vento_t']))"
   ]
  },
  {
   "cell_type": "code",
   "execution_count": 141,
   "metadata": {},
   "outputs": [
    {
     "name": "stdout",
     "output_type": "stream",
     "text": [
      "Correlação entre pressão e velocidade do vento uma hora antes: 0.07198243143487182\n"
     ]
    }
   ],
   "source": [
    "print('Correlação entre pressão e velocidade do vento uma hora antes:',np.log10((T['precipitacao_t'])).corr(T1['vento_t1']))"
   ]
  },
  {
   "cell_type": "code",
   "execution_count": 142,
   "metadata": {},
   "outputs": [
    {
     "name": "stdout",
     "output_type": "stream",
     "text": [
      "Correlação entre pressão e velocidade do vento duas horas antes: -0.0003009100705251655\n"
     ]
    }
   ],
   "source": [
    "print('Correlação entre pressão e velocidade do vento duas horas antes:',np.log10((T['precipitacao_t'])).corr(T2['vento_t2']))"
   ]
  },
  {
   "cell_type": "code",
   "execution_count": 143,
   "metadata": {},
   "outputs": [
    {
     "name": "stdout",
     "output_type": "stream",
     "text": [
      "Correlação entre pressão e velocidade do vento três horas antes: 0.061850849522966295\n"
     ]
    }
   ],
   "source": [
    "print('Correlação entre pressão e velocidade do vento três horas antes:',np.log10((T['precipitacao_t'])).corr(T3['vento_t3']))"
   ]
  },
  {
   "cell_type": "code",
   "execution_count": 144,
   "metadata": {
    "scrolled": true
   },
   "outputs": [
    {
     "name": "stdout",
     "output_type": "stream",
     "text": [
      "Correlação entre pressão e velocidade do vento quatro horas antes: 0.0949968634091551\n"
     ]
    }
   ],
   "source": [
    "print('Correlação entre pressão e velocidade do vento quatro horas antes:',np.log10((T['precipitacao_t'])).corr(T4['vento_t4']))"
   ]
  },
  {
   "cell_type": "markdown",
   "metadata": {},
   "source": [
    " A partir das análises feitas nessas células pode-se concluir que a hora t3, ou seja, 3 horas antes do ocorrido, mostra uma correlação consistentemente maior que as outras faixas de tempo"
   ]
  },
  {
   "cell_type": "markdown",
   "metadata": {},
   "source": [
    "____\n",
    "## Realizando as regressões"
   ]
  },
  {
   "cell_type": "code",
   "execution_count": 145,
   "metadata": {},
   "outputs": [],
   "source": [
    "### Função utilitária para fazer a regressão com constante adicionada\n",
    "def regress(X,Y):\n",
    "    X_cp = sm.add_constant(X)\n",
    "    model = sm.OLS(Y,X_cp)\n",
    "    results = model.fit()\n",
    "    return results"
   ]
  },
  {
   "cell_type": "code",
   "execution_count": 146,
   "metadata": {},
   "outputs": [],
   "source": [
    "Y = variacao['precipitacao_t']\n",
    "X3 = variacao[['temperatura_t', 'pressao_t', 'umidade_t','vento_t']]"
   ]
  },
  {
   "cell_type": "code",
   "execution_count": 147,
   "metadata": {
    "scrolled": false
   },
   "outputs": [
    {
     "data": {
      "text/html": [
       "<table class=\"simpletable\">\n",
       "<caption>OLS Regression Results</caption>\n",
       "<tr>\n",
       "  <th>Dep. Variable:</th>            <td>y</td>        <th>  R-squared:         </th> <td>   0.153</td>\n",
       "</tr>\n",
       "<tr>\n",
       "  <th>Model:</th>                   <td>OLS</td>       <th>  Adj. R-squared:    </th> <td>   0.149</td>\n",
       "</tr>\n",
       "<tr>\n",
       "  <th>Method:</th>             <td>Least Squares</td>  <th>  F-statistic:       </th> <td>   37.78</td>\n",
       "</tr>\n",
       "<tr>\n",
       "  <th>Date:</th>             <td>Tue, 19 Nov 2019</td> <th>  Prob (F-statistic):</th> <td>4.50e-29</td>\n",
       "</tr>\n",
       "<tr>\n",
       "  <th>Time:</th>                 <td>15:34:06</td>     <th>  Log-Likelihood:    </th> <td> -2390.1</td>\n",
       "</tr>\n",
       "<tr>\n",
       "  <th>No. Observations:</th>      <td>   839</td>      <th>  AIC:               </th> <td>   4790.</td>\n",
       "</tr>\n",
       "<tr>\n",
       "  <th>Df Residuals:</th>          <td>   834</td>      <th>  BIC:               </th> <td>   4814.</td>\n",
       "</tr>\n",
       "<tr>\n",
       "  <th>Df Model:</th>              <td>     4</td>      <th>                     </th>     <td> </td>   \n",
       "</tr>\n",
       "<tr>\n",
       "  <th>Covariance Type:</th>      <td>nonrobust</td>    <th>                     </th>     <td> </td>   \n",
       "</tr>\n",
       "</table>\n",
       "<table class=\"simpletable\">\n",
       "<tr>\n",
       "    <td></td>       <th>coef</th>     <th>std err</th>      <th>t</th>      <th>P>|t|</th>  <th>[0.025</th>    <th>0.975]</th>  \n",
       "</tr>\n",
       "<tr>\n",
       "  <th>const</th> <td>  103.8155</td> <td>   39.954</td> <td>    2.598</td> <td> 0.010</td> <td>   25.393</td> <td>  182.239</td>\n",
       "</tr>\n",
       "<tr>\n",
       "  <th>x1</th>    <td>    0.7920</td> <td>    0.153</td> <td>    5.163</td> <td> 0.000</td> <td>    0.491</td> <td>    1.093</td>\n",
       "</tr>\n",
       "<tr>\n",
       "  <th>x2</th>    <td>   -0.1107</td> <td>    0.043</td> <td>   -2.574</td> <td> 0.010</td> <td>   -0.195</td> <td>   -0.026</td>\n",
       "</tr>\n",
       "<tr>\n",
       "  <th>x3</th>    <td>   -0.0122</td> <td>    0.034</td> <td>   -0.364</td> <td> 0.716</td> <td>   -0.078</td> <td>    0.054</td>\n",
       "</tr>\n",
       "<tr>\n",
       "  <th>x4</th>    <td>   -0.0001</td> <td>    0.002</td> <td>   -0.068</td> <td> 0.946</td> <td>   -0.004</td> <td>    0.003</td>\n",
       "</tr>\n",
       "</table>\n",
       "<table class=\"simpletable\">\n",
       "<tr>\n",
       "  <th>Omnibus:</th>       <td>908.261</td> <th>  Durbin-Watson:     </th> <td>   1.523</td> \n",
       "</tr>\n",
       "<tr>\n",
       "  <th>Prob(Omnibus):</th> <td> 0.000</td>  <th>  Jarque-Bera (JB):  </th> <td>74083.795</td>\n",
       "</tr>\n",
       "<tr>\n",
       "  <th>Skew:</th>          <td> 5.068</td>  <th>  Prob(JB):          </th> <td>    0.00</td> \n",
       "</tr>\n",
       "<tr>\n",
       "  <th>Kurtosis:</th>      <td>47.905</td>  <th>  Cond. No.          </th> <td>2.61e+05</td> \n",
       "</tr>\n",
       "</table><br/><br/>Warnings:<br/>[1] Standard Errors assume that the covariance matrix of the errors is correctly specified.<br/>[2] The condition number is large, 2.61e+05. This might indicate that there are<br/>strong multicollinearity or other numerical problems."
      ],
      "text/plain": [
       "<class 'statsmodels.iolib.summary.Summary'>\n",
       "\"\"\"\n",
       "                            OLS Regression Results                            \n",
       "==============================================================================\n",
       "Dep. Variable:                      y   R-squared:                       0.153\n",
       "Model:                            OLS   Adj. R-squared:                  0.149\n",
       "Method:                 Least Squares   F-statistic:                     37.78\n",
       "Date:                Tue, 19 Nov 2019   Prob (F-statistic):           4.50e-29\n",
       "Time:                        15:34:06   Log-Likelihood:                -2390.1\n",
       "No. Observations:                 839   AIC:                             4790.\n",
       "Df Residuals:                     834   BIC:                             4814.\n",
       "Df Model:                           4                                         \n",
       "Covariance Type:            nonrobust                                         \n",
       "==============================================================================\n",
       "                 coef    std err          t      P>|t|      [0.025      0.975]\n",
       "------------------------------------------------------------------------------\n",
       "const        103.8155     39.954      2.598      0.010      25.393     182.239\n",
       "x1             0.7920      0.153      5.163      0.000       0.491       1.093\n",
       "x2            -0.1107      0.043     -2.574      0.010      -0.195      -0.026\n",
       "x3            -0.0122      0.034     -0.364      0.716      -0.078       0.054\n",
       "x4            -0.0001      0.002     -0.068      0.946      -0.004       0.003\n",
       "==============================================================================\n",
       "Omnibus:                      908.261   Durbin-Watson:                   1.523\n",
       "Prob(Omnibus):                  0.000   Jarque-Bera (JB):            74083.795\n",
       "Skew:                           5.068   Prob(JB):                         0.00\n",
       "Kurtosis:                      47.905   Cond. No.                     2.61e+05\n",
       "==============================================================================\n",
       "\n",
       "Warnings:\n",
       "[1] Standard Errors assume that the covariance matrix of the errors is correctly specified.\n",
       "[2] The condition number is large, 2.61e+05. This might indicate that there are\n",
       "strong multicollinearity or other numerical problems.\n",
       "\"\"\""
      ]
     },
     "execution_count": 147,
     "metadata": {},
     "output_type": "execute_result"
    }
   ],
   "source": [
    "results1 = regress(X3.values, Y.values)\n",
    "results1.summary()"
   ]
  },
  {
   "cell_type": "code",
   "execution_count": 148,
   "metadata": {},
   "outputs": [],
   "source": [
    "from sklearn.model_selection import train_test_split \n",
    "from sklearn.linear_model import LinearRegression\n",
    "from sklearn import metrics"
   ]
  },
  {
   "cell_type": "code",
   "execution_count": 149,
   "metadata": {},
   "outputs": [],
   "source": [
    "X_train, X_test, y_train, y_test = train_test_split(X3.values, Y.values, test_size=0.2, random_state=0)"
   ]
  },
  {
   "cell_type": "code",
   "execution_count": 150,
   "metadata": {
    "scrolled": false
   },
   "outputs": [
    {
     "data": {
      "text/html": [
       "<table class=\"simpletable\">\n",
       "<caption>OLS Regression Results</caption>\n",
       "<tr>\n",
       "  <th>Dep. Variable:</th>            <td>y</td>        <th>  R-squared:         </th> <td>   0.146</td>\n",
       "</tr>\n",
       "<tr>\n",
       "  <th>Model:</th>                   <td>OLS</td>       <th>  Adj. R-squared:    </th> <td>   0.141</td>\n",
       "</tr>\n",
       "<tr>\n",
       "  <th>Method:</th>             <td>Least Squares</td>  <th>  F-statistic:       </th> <td>   28.48</td>\n",
       "</tr>\n",
       "<tr>\n",
       "  <th>Date:</th>             <td>Tue, 19 Nov 2019</td> <th>  Prob (F-statistic):</th> <td>7.28e-22</td>\n",
       "</tr>\n",
       "<tr>\n",
       "  <th>Time:</th>                 <td>15:34:13</td>     <th>  Log-Likelihood:    </th> <td> -1931.8</td>\n",
       "</tr>\n",
       "<tr>\n",
       "  <th>No. Observations:</th>      <td>   671</td>      <th>  AIC:               </th> <td>   3874.</td>\n",
       "</tr>\n",
       "<tr>\n",
       "  <th>Df Residuals:</th>          <td>   666</td>      <th>  BIC:               </th> <td>   3896.</td>\n",
       "</tr>\n",
       "<tr>\n",
       "  <th>Df Model:</th>              <td>     4</td>      <th>                     </th>     <td> </td>   \n",
       "</tr>\n",
       "<tr>\n",
       "  <th>Covariance Type:</th>      <td>nonrobust</td>    <th>                     </th>     <td> </td>   \n",
       "</tr>\n",
       "</table>\n",
       "<table class=\"simpletable\">\n",
       "<tr>\n",
       "    <td></td>       <th>coef</th>     <th>std err</th>      <th>t</th>      <th>P>|t|</th>  <th>[0.025</th>    <th>0.975]</th>  \n",
       "</tr>\n",
       "<tr>\n",
       "  <th>const</th> <td>   87.6985</td> <td>   46.111</td> <td>    1.902</td> <td> 0.058</td> <td>   -2.842</td> <td>  178.239</td>\n",
       "</tr>\n",
       "<tr>\n",
       "  <th>x1</th>    <td>    0.8247</td> <td>    0.176</td> <td>    4.688</td> <td> 0.000</td> <td>    0.479</td> <td>    1.170</td>\n",
       "</tr>\n",
       "<tr>\n",
       "  <th>x2</th>    <td>   -0.0933</td> <td>    0.050</td> <td>   -1.879</td> <td> 0.061</td> <td>   -0.191</td> <td>    0.004</td>\n",
       "</tr>\n",
       "<tr>\n",
       "  <th>x3</th>    <td>   -0.0129</td> <td>    0.038</td> <td>   -0.337</td> <td> 0.737</td> <td>   -0.088</td> <td>    0.063</td>\n",
       "</tr>\n",
       "<tr>\n",
       "  <th>x4</th>    <td>   -0.0007</td> <td>    0.002</td> <td>   -0.326</td> <td> 0.744</td> <td>   -0.005</td> <td>    0.003</td>\n",
       "</tr>\n",
       "</table>\n",
       "<table class=\"simpletable\">\n",
       "<tr>\n",
       "  <th>Omnibus:</th>       <td>757.110</td> <th>  Durbin-Watson:     </th> <td>   2.136</td> \n",
       "</tr>\n",
       "<tr>\n",
       "  <th>Prob(Omnibus):</th> <td> 0.000</td>  <th>  Jarque-Bera (JB):  </th> <td>66772.937</td>\n",
       "</tr>\n",
       "<tr>\n",
       "  <th>Skew:</th>          <td> 5.300</td>  <th>  Prob(JB):          </th> <td>    0.00</td> \n",
       "</tr>\n",
       "<tr>\n",
       "  <th>Kurtosis:</th>      <td>50.707</td>  <th>  Cond. No.          </th> <td>2.61e+05</td> \n",
       "</tr>\n",
       "</table><br/><br/>Warnings:<br/>[1] Standard Errors assume that the covariance matrix of the errors is correctly specified.<br/>[2] The condition number is large, 2.61e+05. This might indicate that there are<br/>strong multicollinearity or other numerical problems."
      ],
      "text/plain": [
       "<class 'statsmodels.iolib.summary.Summary'>\n",
       "\"\"\"\n",
       "                            OLS Regression Results                            \n",
       "==============================================================================\n",
       "Dep. Variable:                      y   R-squared:                       0.146\n",
       "Model:                            OLS   Adj. R-squared:                  0.141\n",
       "Method:                 Least Squares   F-statistic:                     28.48\n",
       "Date:                Tue, 19 Nov 2019   Prob (F-statistic):           7.28e-22\n",
       "Time:                        15:34:13   Log-Likelihood:                -1931.8\n",
       "No. Observations:                 671   AIC:                             3874.\n",
       "Df Residuals:                     666   BIC:                             3896.\n",
       "Df Model:                           4                                         \n",
       "Covariance Type:            nonrobust                                         \n",
       "==============================================================================\n",
       "                 coef    std err          t      P>|t|      [0.025      0.975]\n",
       "------------------------------------------------------------------------------\n",
       "const         87.6985     46.111      1.902      0.058      -2.842     178.239\n",
       "x1             0.8247      0.176      4.688      0.000       0.479       1.170\n",
       "x2            -0.0933      0.050     -1.879      0.061      -0.191       0.004\n",
       "x3            -0.0129      0.038     -0.337      0.737      -0.088       0.063\n",
       "x4            -0.0007      0.002     -0.326      0.744      -0.005       0.003\n",
       "==============================================================================\n",
       "Omnibus:                      757.110   Durbin-Watson:                   2.136\n",
       "Prob(Omnibus):                  0.000   Jarque-Bera (JB):            66772.937\n",
       "Skew:                           5.300   Prob(JB):                         0.00\n",
       "Kurtosis:                      50.707   Cond. No.                     2.61e+05\n",
       "==============================================================================\n",
       "\n",
       "Warnings:\n",
       "[1] Standard Errors assume that the covariance matrix of the errors is correctly specified.\n",
       "[2] The condition number is large, 2.61e+05. This might indicate that there are\n",
       "strong multicollinearity or other numerical problems.\n",
       "\"\"\""
      ]
     },
     "execution_count": 150,
     "metadata": {},
     "output_type": "execute_result"
    }
   ],
   "source": [
    "results2 = regress(X_train, y_train)\n",
    "results2.summary()"
   ]
  },
  {
   "cell_type": "markdown",
   "metadata": {},
   "source": [
    "**Regressão usando Regressão Linear Múltipla**"
   ]
  },
  {
   "cell_type": "code",
   "execution_count": 151,
   "metadata": {},
   "outputs": [],
   "source": [
    "regressor = LinearRegression()  \n",
    "regressor.fit(X_train, y_train)\n",
    "y_pred = regressor.predict(X_test)\n",
    "df = pd.DataFrame({'Actual': y_test, 'Predicted': y_pred})"
   ]
  },
  {
   "cell_type": "code",
   "execution_count": 152,
   "metadata": {},
   "outputs": [],
   "source": [
    "p = 0\n",
    "while p < len(df['Predicted']):\n",
    "    if df['Predicted'][p] < 0:\n",
    "        df['Predicted'][p] = 0\n",
    "    \n",
    "    p += 1"
   ]
  },
  {
   "cell_type": "code",
   "execution_count": 153,
   "metadata": {},
   "outputs": [],
   "source": [
    "df.head(10);"
   ]
  },
  {
   "cell_type": "code",
   "execution_count": 154,
   "metadata": {
    "scrolled": true
   },
   "outputs": [
    {
     "name": "stdout",
     "output_type": "stream",
     "text": [
      "O erro médio é: 2.2115602892815964\n",
      "O desvio padrão do erro é: 2.8741296491039483\n"
     ]
    }
   ],
   "source": [
    "lista_actual = list(df['Actual'])\n",
    "lista_predicted = list(df['Predicted'])\n",
    "\n",
    "erros = []\n",
    "k = 0\n",
    "while k < len(lista_actual):\n",
    "    erros.append(abs(lista_actual[k] - lista_predicted[k]))\n",
    "    k += 1\n",
    "    \n",
    "print('O erro médio é:',np.mean(erros))\n",
    "print('O desvio padrão do erro é:', np.std(erros))"
   ]
  },
  {
   "cell_type": "code",
   "execution_count": 163,
   "metadata": {},
   "outputs": [
    {
     "data": {
      "image/png": "[encoded data removed]",
      "text/plain": [
       "<Figure size 432x288 with 1 Axes>"
      ]
     },
     "metadata": {
      "needs_background": "light"
     },
     "output_type": "display_data"
    }
   ],
   "source": [
    "a = np.arange(0,168,1)\n",
    "plt.plot(a, df['Actual'], 'bo')\n",
    "plt.plot(a, df['Predicted'], 'ro')\n",
    "plt.show()"
   ]
  },
  {
   "cell_type": "code",
   "execution_count": 164,
   "metadata": {
    "scrolled": true
   },
   "outputs": [
    {
     "data": {
      "image/png": "[encoded data removed]",
      "text/plain": [
       "<Figure size 432x288 with 1 Axes>"
      ]
     },
     "metadata": {
      "needs_background": "light"
     },
     "output_type": "display_data"
    }
   ],
   "source": [
    "df.iloc[:20,:].plot(kind='bar', color=('blue', 'red'), legend=True );"
   ]
  },
  {
   "cell_type": "markdown",
   "metadata": {},
   "source": [
    "**Regressão usando Random Forrest Regressor**"
   ]
  },
  {
   "cell_type": "code",
   "execution_count": 165,
   "metadata": {},
   "outputs": [],
   "source": [
    "from sklearn.ensemble import RandomForestRegressor\n",
    "\n",
    "# Setando 100 árvores de decisão\n",
    "rf = RandomForestRegressor(n_estimators = 100, random_state = 42)\n",
    "\n",
    "# Treinando o modelo\n",
    "rf.fit(X_train, y_train);"
   ]
  },
  {
   "cell_type": "code",
   "execution_count": 166,
   "metadata": {},
   "outputs": [],
   "source": [
    "# Fazendo as predições\n",
    "predictions = rf.predict(X_test)"
   ]
  },
  {
   "cell_type": "code",
   "execution_count": 167,
   "metadata": {},
   "outputs": [],
   "source": [
    "df2 = pd.DataFrame({'Actual': y_test, 'Predicted': predictions})"
   ]
  },
  {
   "cell_type": "code",
   "execution_count": 168,
   "metadata": {},
   "outputs": [],
   "source": [
    "p = 0\n",
    "while p < len(df2['Predicted']):\n",
    "    if df2['Predicted'][p] < 0:\n",
    "        df2['Predicted'][p] = 0\n",
    "    \n",
    "    p += 1"
   ]
  },
  {
   "cell_type": "code",
   "execution_count": 169,
   "metadata": {},
   "outputs": [],
   "source": [
    "df2.head(10);"
   ]
  },
  {
   "cell_type": "code",
   "execution_count": 170,
   "metadata": {},
   "outputs": [
    {
     "name": "stdout",
     "output_type": "stream",
     "text": [
      "O erro médio é: 2.3071666666666664\n",
      "O desvio padrão do erro é: 3.0736175399268584\n"
     ]
    }
   ],
   "source": [
    "lista_actual2 = list(df2['Actual'])\n",
    "lista_predicted2 = list(df2['Predicted'])\n",
    "\n",
    "erros2 = []\n",
    "k = 0\n",
    "while k < len(lista_actual2):\n",
    "    erros2.append(abs(lista_actual2[k] - lista_predicted2[k]))\n",
    "    k += 1\n",
    "    \n",
    "print('O erro médio é:',np.mean(erros2))\n",
    "print('O desvio padrão do erro é:', np.std(erros2))"
   ]
  },
  {
   "cell_type": "code",
   "execution_count": 171,
   "metadata": {},
   "outputs": [
    {
     "name": "stderr",
     "output_type": "stream",
     "text": [
      "No handles with labels found to put in legend.\n"
     ]
    },
    {
     "data": {
      "image/png": "[encoded data removed]",
      "text/plain": [
       "<Figure size 432x288 with 1 Axes>"
      ]
     },
     "metadata": {
      "needs_background": "light"
     },
     "output_type": "display_data"
    }
   ],
   "source": [
    "plt.plot(a, df2['Actual'], 'bo')\n",
    "plt.plot(a, df2['Predicted'], 'ro')\n",
    "plt.legend()\n",
    "plt.show()"
   ]
  },
  {
   "cell_type": "code",
   "execution_count": 172,
   "metadata": {},
   "outputs": [
    {
     "data": {
      "image/png": "[encoded data removed]",
      "text/plain": [
       "<Figure size 432x288 with 1 Axes>"
      ]
     },
     "metadata": {
      "needs_background": "light"
     },
     "output_type": "display_data"
    }
   ],
   "source": [
    "df2.iloc[:20,:].plot(kind='bar', color=('blue', 'red'), legend=True );"
   ]
  },
  {
   "cell_type": "code",
   "execution_count": null,
   "metadata": {},
   "outputs": [],
   "source": []
  },
  {
   "cell_type": "code",
   "execution_count": null,
   "metadata": {},
   "outputs": [],
   "source": []
  },
  {
   "cell_type": "code",
   "execution_count": null,
   "metadata": {},
   "outputs": [],
   "source": []
  }
 ],
 "metadata": {
  "kernelspec": {
   "display_name": "Python 3",
   "language": "python",
   "name": "python3"
  },
  "language_info": {
   "codemirror_mode": {
    "name": "ipython",
    "version": 3
   },
   "file_extension": ".py",
   "mimetype": "text/x-python",
   "name": "python",
   "nbconvert_exporter": "python",
   "pygments_lexer": "ipython3",
   "version": "3.7.1"
  }
 },
 "nbformat": 4,
 "nbformat_minor": 2
}
